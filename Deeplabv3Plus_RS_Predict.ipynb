{
 "nbformat": 4,
 "nbformat_minor": 0,
 "metadata": {
  "colab": {
   "provenance": [],
   "machine_shape": "hm",
   "gpuType": "A100",
   "authorship_tag": "ABX9TyOrEAqaxpMTNpaD1z9y86Bv"
  },
  "kernelspec": {
   "name": "python3",
   "display_name": "Python 3"
  },
  "language_info": {
   "name": "python"
  },
  "accelerator": "GPU"
 },
 "cells": [
  {
   "cell_type": "code",
   "source": [
    "import os\n",
    "import numpy as np\n",
    "import torch\n",
    "import matplotlib.pyplot as plt\n",
    "from PIL import Image\n",
    "from torchvision import transforms\n",
    "from torchvision.models.segmentation import deeplabv3_resnet50"
   ],
   "metadata": {
    "id": "0fgYf485ioL7",
    "executionInfo": {
     "status": "ok",
     "timestamp": 1736987859829,
     "user_tz": 480,
     "elapsed": 9466,
     "user": {
      "displayName": "Zongrong Li",
      "userId": "01886082322528664220"
     }
    }
   },
   "execution_count": 1,
   "outputs": []
  },
  {
   "cell_type": "code",
   "source": [
    "# =============== 1. Preparation of Device, Model, and Transform ===============\n",
    "device = torch.device(\"cuda\" if torch.cuda.is_available() else \"cpu\")\n",
    "\n",
    "# Assume the number of output classes during training was 9 (including background)\n",
    "num_classes = 9\n",
    "\n",
    "# 1.1 Define the network and load local weights\n",
    "model = deeplabv3_resnet50(num_classes=num_classes)\n",
    "# If you saved only the state_dict, use load_state_dict\n",
    "# If you encounter an error, it may mean the entire model was saved, and you need to use torch.load() instead\n",
    "model.load_state_dict(\n",
    "    torch.load(\"/content/deeplabv3_finetuned_RS_openearthmap_v2.pth\", map_location=device),\n",
    "    strict=False\n",
    ")\n",
    "\n",
    "model.to(device)\n",
    "model.eval()  # Switch to evaluation mode\n",
    "\n",
    "# 1.2 Define the image transformation for inference (consistent with training)\n",
    "transform = transforms.Compose([\n",
    "    # This is just an example: only converting the image to a Tensor.\n",
    "    # If you performed Resize/Crop/Normalize during training, ensure consistency here\n",
    "    transforms.ToTensor()\n",
    "])"
   ],
   "metadata": {
    "colab": {
     "base_uri": "https://localhost:8080/"
    },
    "id": "_XaEJVYrk3w-",
    "executionInfo": {
     "status": "ok",
     "timestamp": 1736988405233,
     "user_tz": 480,
     "elapsed": 1256,
     "user": {
      "displayName": "Zongrong Li",
      "userId": "01886082322528664220"
     }
    },
    "outputId": "f0f11565-9799-4c4a-d730-d9e72e53af0f"
   },
   "execution_count": 3,
   "outputs": [
    {
     "output_type": "stream",
     "name": "stderr",
     "text": [
      "<ipython-input-3-2ae5645cc312>:12: FutureWarning: You are using `torch.load` with `weights_only=False` (the current default value), which uses the default pickle module implicitly. It is possible to construct malicious pickle data which will execute arbitrary code during unpickling (See https://github.com/pytorch/pytorch/blob/main/SECURITY.md#untrusted-models for more details). In a future release, the default value for `weights_only` will be flipped to `True`. This limits the functions that could be executed during unpickling. Arbitrary objects will no longer be allowed to be loaded via this mode unless they are explicitly allowlisted by the user via `torch.serialization.add_safe_globals`. We recommend you start setting `weights_only=True` for any use case where you don't have full control of the loaded file. Please open an issue on GitHub for any issues related to this experimental feature.\n",
      "  torch.load(\"/content/deeplabv3_finetuned_RS_openearthmap_v2.pth\", map_location=device),\n"
     ]
    }
   ]
  },
  {
   "cell_type": "code",
   "source": [
    "# =============== 2. Specify Input and Output Directories ===============\n",
    "input_dir = \"./House_price/satellite_images/SanJose\"  # Folder containing images for inference\n",
    "#output_dir = \"./out\"\n",
    "output_dir = \"./SanJose\"\n",
    "os.makedirs(output_dir, exist_ok=True)\n",
    "\n",
    "# =============== 3. Define the Color Palette idx2color Corresponding to Your Training ===============\n",
    "# Example: 0=background, 1=Bareland, 2=Rangeland, 3=Developed space, 4=Road,\n",
    "# 5=Tree, 6=Water, 7=Agriculture land, 8=Building\n",
    "idx2color = np.array([\n",
    "    [0,   0,   0  ],  # 0: background\n",
    "    [128, 0,   0  ],  # 1=Bareland\n",
    "    [0,   255, 36 ],  # 2=Rangeland\n",
    "    [148, 148, 148],  # 3=Developed space\n",
    "    [255, 255, 255],  # 4=Road\n",
    "    [34,  97,  38 ],  # 5=Tree\n",
    "    [0,   69,  255],  # 6=Water\n",
    "    [75,  181, 73 ],  # 7=Agriculture land\n",
    "    [222, 31,  7  ],  # 8=Building\n",
    "], dtype=np.uint8)\n",
    "\n",
    "# (Optional) If you need to visualize the legend, you can keep this dictionary:\n",
    "color_mapping = {\n",
    "    \"Bareland\":        [128, 0,   0],\n",
    "    \"Rangeland\":       [0,   255, 36],\n",
    "    \"Developed space\": [148, 148, 148],\n",
    "    \"Road\":            [255, 255, 255],\n",
    "    \"Tree\":            [34,  97,  38],\n",
    "    \"Water\":           [0,   69,  255],\n",
    "    \"Agriculture\":     [75,  181, 73],\n",
    "    \"Building\":        [222, 31,  7],\n",
    "}"
   ],
   "metadata": {
    "id": "VJwDD8fFisUn",
    "executionInfo": {
     "status": "ok",
     "timestamp": 1736990494337,
     "user_tz": 480,
     "elapsed": 549,
     "user": {
      "displayName": "Zongrong Li",
      "userId": "01886082322528664220"
     }
    }
   },
   "execution_count": 25,
   "outputs": []
  },
  {
   "cell_type": "code",
   "source": [
    "from tqdm import tqdm\n",
    "# =============== 4. Batch Process All Images in the Specified Folder ===============\n",
    "valid_exts = {\".jpg\", \".png\", \".jpeg\"}\n",
    "\n",
    "# Get a list of valid image files in the input directory\n",
    "image_files = [file_name for file_name in os.listdir(input_dir) if os.path.splitext(file_name)[1].lower() in valid_exts]\n",
    "\n",
    "# Create a progress bar for the list of images\n",
    "for file_name in tqdm(image_files, desc=\"Processing Images\", unit=\"image\"):\n",
    "    img_path = os.path.join(input_dir, file_name)\n",
    "    print(f\"Inferencing on: {img_path}\")\n",
    "\n",
    "    # ============== 4.1. Read and Transform ==============\n",
    "    input_image = Image.open(img_path).convert(\"RGB\")\n",
    "    input_tensor = transform(input_image).unsqueeze(0).to(device)  # shape: [1, 3, H, W]\n",
    "\n",
    "    # ============== 4.2. Forward Inference ==============\n",
    "    with torch.no_grad():\n",
    "        outputs = model(input_tensor)          # dict: {\"out\": logits, ...}\n",
    "        logits = outputs[\"out\"]               # shape: [1, num_classes, H, W]\n",
    "        pred = logits.argmax(dim=1)           # [1, H, W]\n",
    "        pred = pred.squeeze(0).cpu().numpy()  # (H, W)\n",
    "\n",
    "    # ============== 4.3. Map Prediction to a Colored Image ==============\n",
    "    # Classes outside the defined range are treated as background\n",
    "    pred[pred >= len(idx2color)] = 0\n",
    "    pred_color = idx2color[pred]  # (H, W, 3)\n",
    "    pred_image = Image.fromarray(pred_color)\n",
    "\n",
    "    # ============== 4.4. Save Inference Results to output_dir ==============\n",
    "    save_path = os.path.join(output_dir, file_name)\n",
    "    pred_image.save(save_path)\n",
    "    print(f\"Saved predicted segmentation to: {save_path}\")"
   ],
   "metadata": {
    "colab": {
     "base_uri": "https://localhost:8080/"
    },
    "id": "VrWOz8QaqfGJ",
    "executionInfo": {
     "status": "ok",
     "timestamp": 1736990581465,
     "user_tz": 480,
     "elapsed": 84292,
     "user": {
      "displayName": "Zongrong Li",
      "userId": "01886082322528664220"
     }
    },
    "outputId": "c4856407-7ef6-425b-cab9-0b8d1e57ab5f"
   },
   "execution_count": 26,
   "outputs": [
    {
     "output_type": "stream",
     "name": "stderr",
     "text": [
      "Processing Images:   0%|          | 4/2837 [00:00<01:24, 33.34image/s]"
     ]
    },
    {
     "output_type": "stream",
     "name": "stdout",
     "text": [
      "Inferencing on: /content/House_price/satellite_images/SanJose/satellite_37.225352_-121.874203.jpg\n",
      "Saved predicted segmentation to: /content/SanJose/satellite_37.225352_-121.874203.jpg\n",
      "Inferencing on: /content/House_price/satellite_images/SanJose/satellite_37.351505_-121.834935.jpg\n",
      "Saved predicted segmentation to: /content/SanJose/satellite_37.351505_-121.834935.jpg\n",
      "Inferencing on: /content/House_price/satellite_images/SanJose/satellite_37.284913_-121.8174.jpg\n",
      "Saved predicted segmentation to: /content/SanJose/satellite_37.284913_-121.8174.jpg\n",
      "Inferencing on: /content/House_price/satellite_images/SanJose/satellite_37.302256_-121.952355.jpg\n",
      "Saved predicted segmentation to: /content/SanJose/satellite_37.302256_-121.952355.jpg\n",
      "Inferencing on: /content/House_price/satellite_images/SanJose/satellite_37.322176_-121.904552.jpg\n",
      "Saved predicted segmentation to: /content/SanJose/satellite_37.322176_-121.904552.jpg\n",
      "Inferencing on: /content/House_price/satellite_images/SanJose/satellite_37.235347_-121.802036.jpg\n",
      "Saved predicted segmentation to: /content/SanJose/satellite_37.235347_-121.802036.jpg\n",
      "Inferencing on: /content/House_price/satellite_images/SanJose/satellite_37.388802_-121.822809.jpg\n"
     ]
    },
    {
     "output_type": "stream",
     "name": "stderr",
     "text": [
      "Processing Images:   0%|          | 12/2837 [00:00<01:24, 33.62image/s]"
     ]
    },
    {
     "output_type": "stream",
     "name": "stdout",
     "text": [
      "Saved predicted segmentation to: /content/SanJose/satellite_37.388802_-121.822809.jpg\n",
      "Inferencing on: /content/House_price/satellite_images/SanJose/satellite_37.409723_-121.862903.jpg\n",
      "Saved predicted segmentation to: /content/SanJose/satellite_37.409723_-121.862903.jpg\n",
      "Inferencing on: /content/House_price/satellite_images/SanJose/satellite_37.264275_-121.810606.jpg\n",
      "Saved predicted segmentation to: /content/SanJose/satellite_37.264275_-121.810606.jpg\n",
      "Inferencing on: /content/House_price/satellite_images/SanJose/satellite_37.231185_-121.882442.jpg\n",
      "Saved predicted segmentation to: /content/SanJose/satellite_37.231185_-121.882442.jpg\n",
      "Inferencing on: /content/House_price/satellite_images/SanJose/satellite_37.303498_-121.936117.jpg\n",
      "Saved predicted segmentation to: /content/SanJose/satellite_37.303498_-121.936117.jpg\n",
      "Inferencing on: /content/House_price/satellite_images/SanJose/satellite_37.287952_-121.759085.jpg\n",
      "Saved predicted segmentation to: /content/SanJose/satellite_37.287952_-121.759085.jpg\n",
      "Inferencing on: /content/House_price/satellite_images/SanJose/satellite_37.293861_-121.879751.jpg\n",
      "Saved predicted segmentation to: /content/SanJose/satellite_37.293861_-121.879751.jpg\n",
      "Inferencing on: /content/House_price/satellite_images/SanJose/satellite_37.379357_-121.876433.jpg\n"
     ]
    },
    {
     "output_type": "stream",
     "name": "stderr",
     "text": [
      "Processing Images:   1%|          | 20/2837 [00:00<01:22, 33.96image/s]"
     ]
    },
    {
     "output_type": "stream",
     "name": "stdout",
     "text": [
      "Saved predicted segmentation to: /content/SanJose/satellite_37.379357_-121.876433.jpg\n",
      "Inferencing on: /content/House_price/satellite_images/SanJose/satellite_37.228157_-121.834386.jpg\n",
      "Saved predicted segmentation to: /content/SanJose/satellite_37.228157_-121.834386.jpg\n",
      "Inferencing on: /content/House_price/satellite_images/SanJose/satellite_37.197907_-121.846093.jpg\n",
      "Saved predicted segmentation to: /content/SanJose/satellite_37.197907_-121.846093.jpg\n",
      "Inferencing on: /content/House_price/satellite_images/SanJose/satellite_37.234111_-121.830943.jpg\n",
      "Saved predicted segmentation to: /content/SanJose/satellite_37.234111_-121.830943.jpg\n",
      "Inferencing on: /content/House_price/satellite_images/SanJose/satellite_37.34944_-121.890669.jpg\n",
      "Saved predicted segmentation to: /content/SanJose/satellite_37.34944_-121.890669.jpg\n",
      "Inferencing on: /content/House_price/satellite_images/SanJose/satellite_37.302106_-121.916096.jpg\n",
      "Saved predicted segmentation to: /content/SanJose/satellite_37.302106_-121.916096.jpg\n",
      "Inferencing on: /content/House_price/satellite_images/SanJose/satellite_37.332788_-121.933023.jpg\n",
      "Saved predicted segmentation to: /content/SanJose/satellite_37.332788_-121.933023.jpg\n",
      "Inferencing on: /content/House_price/satellite_images/SanJose/satellite_37.282855_-121.768778.jpg\n"
     ]
    },
    {
     "output_type": "stream",
     "name": "stderr",
     "text": [
      "\rProcessing Images:   1%|          | 24/2837 [00:00<01:22, 34.01image/s]"
     ]
    },
    {
     "output_type": "stream",
     "name": "stdout",
     "text": [
      "Saved predicted segmentation to: /content/SanJose/satellite_37.282855_-121.768778.jpg\n",
      "Inferencing on: /content/House_price/satellite_images/SanJose/satellite_37.326685_-121.784257.jpg\n",
      "Saved predicted segmentation to: /content/SanJose/satellite_37.326685_-121.784257.jpg\n",
      "Inferencing on: /content/House_price/satellite_images/SanJose/satellite_37.367829_-121.828283.jpg\n",
      "Saved predicted segmentation to: /content/SanJose/satellite_37.367829_-121.828283.jpg\n",
      "Inferencing on: /content/House_price/satellite_images/SanJose/satellite_37.334769_-121.89583.jpg\n",
      "Saved predicted segmentation to: /content/SanJose/satellite_37.334769_-121.89583.jpg\n",
      "Inferencing on: /content/House_price/satellite_images/SanJose/satellite_37.372877_-121.815638.jpg\n",
      "Saved predicted segmentation to: /content/SanJose/satellite_37.372877_-121.815638.jpg\n",
      "Inferencing on: /content/House_price/satellite_images/SanJose/satellite_37.36983_-121.862634.jpg\n",
      "Saved predicted segmentation to: /content/SanJose/satellite_37.36983_-121.862634.jpg\n",
      "Inferencing on: /content/House_price/satellite_images/SanJose/satellite_37.264234_-121.867267.jpg\n",
      "Saved predicted segmentation to: /content/SanJose/satellite_37.264234_-121.867267.jpg\n",
      "Inferencing on: /content/House_price/satellite_images/SanJose/satellite_37.373926_-121.848206.jpg\n"
     ]
    },
    {
     "output_type": "stream",
     "name": "stderr",
     "text": [
      "Processing Images:   1%|          | 32/2837 [00:00<01:22, 34.16image/s]"
     ]
    },
    {
     "output_type": "stream",
     "name": "stdout",
     "text": [
      "Saved predicted segmentation to: /content/SanJose/satellite_37.373926_-121.848206.jpg\n",
      "Inferencing on: /content/House_price/satellite_images/SanJose/satellite_37.379155_-121.883249.jpg\n",
      "Saved predicted segmentation to: /content/SanJose/satellite_37.379155_-121.883249.jpg\n",
      "Inferencing on: /content/House_price/satellite_images/SanJose/satellite_37.319276_-121.854558.jpg\n",
      "Saved predicted segmentation to: /content/SanJose/satellite_37.319276_-121.854558.jpg\n",
      "Inferencing on: /content/House_price/satellite_images/SanJose/satellite_37.301649_-121.982783.jpg\n",
      "Saved predicted segmentation to: /content/SanJose/satellite_37.301649_-121.982783.jpg\n",
      "Inferencing on: /content/House_price/satellite_images/SanJose/satellite_37.301045_-121.869292.jpg\n",
      "Saved predicted segmentation to: /content/SanJose/satellite_37.301045_-121.869292.jpg\n",
      "Inferencing on: /content/House_price/satellite_images/SanJose/satellite_37.325842_-121.852905.jpg\n",
      "Saved predicted segmentation to: /content/SanJose/satellite_37.325842_-121.852905.jpg\n",
      "Inferencing on: /content/House_price/satellite_images/SanJose/satellite_37.339854_-121.895677.jpg\n",
      "Saved predicted segmentation to: /content/SanJose/satellite_37.339854_-121.895677.jpg\n",
      "Inferencing on: /content/House_price/satellite_images/SanJose/satellite_37.24235_-121.867539.jpg\n"
     ]
    },
    {
     "output_type": "stream",
     "name": "stderr",
     "text": [
      "Processing Images:   1%|▏         | 40/2837 [00:01<01:22, 33.96image/s]"
     ]
    },
    {
     "output_type": "stream",
     "name": "stdout",
     "text": [
      "Saved predicted segmentation to: /content/SanJose/satellite_37.24235_-121.867539.jpg\n",
      "Inferencing on: /content/House_price/satellite_images/SanJose/satellite_37.337938_-121.895622.jpg\n",
      "Saved predicted segmentation to: /content/SanJose/satellite_37.337938_-121.895622.jpg\n",
      "Inferencing on: /content/House_price/satellite_images/SanJose/satellite_37.278811_-121.885912.jpg\n",
      "Saved predicted segmentation to: /content/SanJose/satellite_37.278811_-121.885912.jpg\n",
      "Inferencing on: /content/House_price/satellite_images/SanJose/satellite_37.262502_-121.890529.jpg\n",
      "Saved predicted segmentation to: /content/SanJose/satellite_37.262502_-121.890529.jpg\n",
      "Inferencing on: /content/House_price/satellite_images/SanJose/satellite_37.300939_-121.889484.jpg\n",
      "Saved predicted segmentation to: /content/SanJose/satellite_37.300939_-121.889484.jpg\n",
      "Inferencing on: /content/House_price/satellite_images/SanJose/satellite_37.253821_-121.882724.jpg\n",
      "Saved predicted segmentation to: /content/SanJose/satellite_37.253821_-121.882724.jpg\n",
      "Inferencing on: /content/House_price/satellite_images/SanJose/satellite_37.289963_-121.873421.jpg\n",
      "Saved predicted segmentation to: /content/SanJose/satellite_37.289963_-121.873421.jpg\n",
      "Inferencing on: /content/House_price/satellite_images/SanJose/satellite_37.33616_-121.782868.jpg\n"
     ]
    },
    {
     "output_type": "stream",
     "name": "stderr",
     "text": [
      "Processing Images:   2%|▏         | 48/2837 [00:01<01:22, 33.85image/s]"
     ]
    },
    {
     "output_type": "stream",
     "name": "stdout",
     "text": [
      "Saved predicted segmentation to: /content/SanJose/satellite_37.33616_-121.782868.jpg\n",
      "Inferencing on: /content/House_price/satellite_images/SanJose/satellite_37.313027_-121.882643.jpg\n",
      "Saved predicted segmentation to: /content/SanJose/satellite_37.313027_-121.882643.jpg\n",
      "Inferencing on: /content/House_price/satellite_images/SanJose/satellite_37.37448_-121.891995.jpg\n",
      "Saved predicted segmentation to: /content/SanJose/satellite_37.37448_-121.891995.jpg\n",
      "Inferencing on: /content/House_price/satellite_images/SanJose/satellite_37.318192_-121.953117.jpg\n",
      "Saved predicted segmentation to: /content/SanJose/satellite_37.318192_-121.953117.jpg\n",
      "Inferencing on: /content/House_price/satellite_images/SanJose/satellite_37.297458_-121.974433.jpg\n",
      "Saved predicted segmentation to: /content/SanJose/satellite_37.297458_-121.974433.jpg\n",
      "Inferencing on: /content/House_price/satellite_images/SanJose/satellite_37.279907_-121.845302.jpg\n",
      "Saved predicted segmentation to: /content/SanJose/satellite_37.279907_-121.845302.jpg\n",
      "Inferencing on: /content/House_price/satellite_images/SanJose/satellite_37.329411_-121.873076.jpg\n",
      "Saved predicted segmentation to: /content/SanJose/satellite_37.329411_-121.873076.jpg\n",
      "Inferencing on: /content/House_price/satellite_images/SanJose/satellite_37.327767_-121.794279.jpg\n"
     ]
    },
    {
     "output_type": "stream",
     "name": "stderr",
     "text": [
      "\rProcessing Images:   2%|▏         | 52/2837 [00:01<01:22, 33.84image/s]"
     ]
    },
    {
     "output_type": "stream",
     "name": "stdout",
     "text": [
      "Saved predicted segmentation to: /content/SanJose/satellite_37.327767_-121.794279.jpg\n",
      "Inferencing on: /content/House_price/satellite_images/SanJose/satellite_37.249009_-121.80513.jpg\n",
      "Saved predicted segmentation to: /content/SanJose/satellite_37.249009_-121.80513.jpg\n",
      "Inferencing on: /content/House_price/satellite_images/SanJose/satellite_37.336914_-121.873869.jpg\n",
      "Saved predicted segmentation to: /content/SanJose/satellite_37.336914_-121.873869.jpg\n",
      "Inferencing on: /content/House_price/satellite_images/SanJose/satellite_37.360249_-121.850115.jpg\n",
      "Saved predicted segmentation to: /content/SanJose/satellite_37.360249_-121.850115.jpg\n",
      "Inferencing on: /content/House_price/satellite_images/SanJose/satellite_37.312078_-121.879645.jpg\n",
      "Saved predicted segmentation to: /content/SanJose/satellite_37.312078_-121.879645.jpg\n",
      "Inferencing on: /content/House_price/satellite_images/SanJose/satellite_37.287607_-121.885704.jpg\n",
      "Saved predicted segmentation to: /content/SanJose/satellite_37.287607_-121.885704.jpg\n",
      "Inferencing on: /content/House_price/satellite_images/SanJose/satellite_37.272153_-121.835376.jpg\n",
      "Saved predicted segmentation to: /content/SanJose/satellite_37.272153_-121.835376.jpg\n",
      "Inferencing on: /content/House_price/satellite_images/SanJose/satellite_37.170763_-121.819489.jpg\n"
     ]
    },
    {
     "output_type": "stream",
     "name": "stderr",
     "text": [
      "Processing Images:   2%|▏         | 60/2837 [00:01<01:21, 34.10image/s]"
     ]
    },
    {
     "output_type": "stream",
     "name": "stdout",
     "text": [
      "Saved predicted segmentation to: /content/SanJose/satellite_37.170763_-121.819489.jpg\n",
      "Inferencing on: /content/House_price/satellite_images/SanJose/satellite_37.34671_-121.928281.jpg\n",
      "Saved predicted segmentation to: /content/SanJose/satellite_37.34671_-121.928281.jpg\n",
      "Inferencing on: /content/House_price/satellite_images/SanJose/satellite_37.38124_-121.884174.jpg\n",
      "Saved predicted segmentation to: /content/SanJose/satellite_37.38124_-121.884174.jpg\n",
      "Inferencing on: /content/House_price/satellite_images/SanJose/satellite_37.347281_-121.876525.jpg\n",
      "Saved predicted segmentation to: /content/SanJose/satellite_37.347281_-121.876525.jpg\n",
      "Inferencing on: /content/House_price/satellite_images/SanJose/satellite_37.302647_-121.822654.jpg\n",
      "Saved predicted segmentation to: /content/SanJose/satellite_37.302647_-121.822654.jpg\n",
      "Inferencing on: /content/House_price/satellite_images/SanJose/satellite_37.331524_-121.826033.jpg\n",
      "Saved predicted segmentation to: /content/SanJose/satellite_37.331524_-121.826033.jpg\n",
      "Inferencing on: /content/House_price/satellite_images/SanJose/satellite_37.244687_-121.843786.jpg\n",
      "Saved predicted segmentation to: /content/SanJose/satellite_37.244687_-121.843786.jpg\n",
      "Inferencing on: /content/House_price/satellite_images/SanJose/satellite_37.370481_-121.83253.jpg\n"
     ]
    },
    {
     "output_type": "stream",
     "name": "stderr",
     "text": [
      "Processing Images:   2%|▏         | 68/2837 [00:02<01:21, 33.91image/s]"
     ]
    },
    {
     "output_type": "stream",
     "name": "stdout",
     "text": [
      "Saved predicted segmentation to: /content/SanJose/satellite_37.370481_-121.83253.jpg\n",
      "Inferencing on: /content/House_price/satellite_images/SanJose/satellite_37.294693_-121.756633.jpg\n",
      "Saved predicted segmentation to: /content/SanJose/satellite_37.294693_-121.756633.jpg\n",
      "Inferencing on: /content/House_price/satellite_images/SanJose/satellite_37.258252_-121.819503.jpg\n",
      "Saved predicted segmentation to: /content/SanJose/satellite_37.258252_-121.819503.jpg\n",
      "Inferencing on: /content/House_price/satellite_images/SanJose/satellite_37.389166_-121.895677.jpg\n",
      "Saved predicted segmentation to: /content/SanJose/satellite_37.389166_-121.895677.jpg\n",
      "Inferencing on: /content/House_price/satellite_images/SanJose/satellite_37.350078_-121.816939.jpg\n",
      "Saved predicted segmentation to: /content/SanJose/satellite_37.350078_-121.816939.jpg\n",
      "Inferencing on: /content/House_price/satellite_images/SanJose/satellite_37.393181_-121.904434.jpg\n",
      "Saved predicted segmentation to: /content/SanJose/satellite_37.393181_-121.904434.jpg\n",
      "Inferencing on: /content/House_price/satellite_images/SanJose/satellite_37.316353_-121.818091.jpg\n",
      "Saved predicted segmentation to: /content/SanJose/satellite_37.316353_-121.818091.jpg\n",
      "Inferencing on: /content/House_price/satellite_images/SanJose/satellite_37.269777_-121.851052.jpg\n"
     ]
    },
    {
     "output_type": "stream",
     "name": "stderr",
     "text": [
      "Processing Images:   3%|▎         | 76/2837 [00:02<01:20, 34.17image/s]"
     ]
    },
    {
     "output_type": "stream",
     "name": "stdout",
     "text": [
      "Saved predicted segmentation to: /content/SanJose/satellite_37.269777_-121.851052.jpg\n",
      "Inferencing on: /content/House_price/satellite_images/SanJose/satellite_37.217212_-121.836615.jpg\n",
      "Saved predicted segmentation to: /content/SanJose/satellite_37.217212_-121.836615.jpg\n",
      "Inferencing on: /content/House_price/satellite_images/SanJose/satellite_37.279175_-121.853965.jpg\n",
      "Saved predicted segmentation to: /content/SanJose/satellite_37.279175_-121.853965.jpg\n",
      "Inferencing on: /content/House_price/satellite_images/SanJose/satellite_37.359458_-121.849271.jpg\n",
      "Saved predicted segmentation to: /content/SanJose/satellite_37.359458_-121.849271.jpg\n",
      "Inferencing on: /content/House_price/satellite_images/SanJose/satellite_37.206703_-121.859202.jpg\n",
      "Saved predicted segmentation to: /content/SanJose/satellite_37.206703_-121.859202.jpg\n",
      "Inferencing on: /content/House_price/satellite_images/SanJose/satellite_37.245896_-121.883742.jpg\n",
      "Saved predicted segmentation to: /content/SanJose/satellite_37.245896_-121.883742.jpg\n",
      "Inferencing on: /content/House_price/satellite_images/SanJose/satellite_37.41913_-121.866068.jpg\n",
      "Saved predicted segmentation to: /content/SanJose/satellite_37.41913_-121.866068.jpg\n",
      "Inferencing on: /content/House_price/satellite_images/SanJose/satellite_37.393732_-121.846046.jpg\n"
     ]
    },
    {
     "output_type": "stream",
     "name": "stderr",
     "text": [
      "\rProcessing Images:   3%|▎         | 80/2837 [00:02<01:20, 34.08image/s]"
     ]
    },
    {
     "output_type": "stream",
     "name": "stdout",
     "text": [
      "Saved predicted segmentation to: /content/SanJose/satellite_37.393732_-121.846046.jpg\n",
      "Inferencing on: /content/House_price/satellite_images/SanJose/satellite_37.320463_-121.944508.jpg\n",
      "Saved predicted segmentation to: /content/SanJose/satellite_37.320463_-121.944508.jpg\n",
      "Inferencing on: /content/House_price/satellite_images/SanJose/satellite_37.322688_-121.985073.jpg\n",
      "Saved predicted segmentation to: /content/SanJose/satellite_37.322688_-121.985073.jpg\n",
      "Inferencing on: /content/House_price/satellite_images/SanJose/satellite_37.366538_-121.823988.jpg\n",
      "Saved predicted segmentation to: /content/SanJose/satellite_37.366538_-121.823988.jpg\n",
      "Inferencing on: /content/House_price/satellite_images/SanJose/satellite_37.34279_-121.830359.jpg\n",
      "Saved predicted segmentation to: /content/SanJose/satellite_37.34279_-121.830359.jpg\n",
      "Inferencing on: /content/House_price/satellite_images/SanJose/satellite_37.296244_-121.845723.jpg\n",
      "Saved predicted segmentation to: /content/SanJose/satellite_37.296244_-121.845723.jpg\n",
      "Inferencing on: /content/House_price/satellite_images/SanJose/satellite_37.380717_-121.896866.jpg\n",
      "Saved predicted segmentation to: /content/SanJose/satellite_37.380717_-121.896866.jpg\n",
      "Inferencing on: /content/House_price/satellite_images/SanJose/satellite_37.336373_-121.837669.jpg\n"
     ]
    },
    {
     "output_type": "stream",
     "name": "stderr",
     "text": [
      "Processing Images:   3%|▎         | 88/2837 [00:02<01:20, 34.20image/s]"
     ]
    },
    {
     "output_type": "stream",
     "name": "stdout",
     "text": [
      "Saved predicted segmentation to: /content/SanJose/satellite_37.336373_-121.837669.jpg\n",
      "Inferencing on: /content/House_price/satellite_images/SanJose/satellite_37.318005_-121.955521.jpg\n",
      "Saved predicted segmentation to: /content/SanJose/satellite_37.318005_-121.955521.jpg\n",
      "Inferencing on: /content/House_price/satellite_images/SanJose/satellite_37.27284_-121.990506.jpg\n",
      "Saved predicted segmentation to: /content/SanJose/satellite_37.27284_-121.990506.jpg\n",
      "Inferencing on: /content/House_price/satellite_images/SanJose/satellite_37.312755_-121.780339.jpg\n",
      "Saved predicted segmentation to: /content/SanJose/satellite_37.312755_-121.780339.jpg\n",
      "Inferencing on: /content/House_price/satellite_images/SanJose/satellite_37.240616_-121.805469.jpg\n",
      "Saved predicted segmentation to: /content/SanJose/satellite_37.240616_-121.805469.jpg\n",
      "Inferencing on: /content/House_price/satellite_images/SanJose/satellite_37.243713_-121.815928.jpg\n",
      "Saved predicted segmentation to: /content/SanJose/satellite_37.243713_-121.815928.jpg\n",
      "Inferencing on: /content/House_price/satellite_images/SanJose/satellite_37.319003_-121.894889.jpg\n",
      "Saved predicted segmentation to: /content/SanJose/satellite_37.319003_-121.894889.jpg\n",
      "Inferencing on: /content/House_price/satellite_images/SanJose/satellite_37.202721_-121.849848.jpg\n"
     ]
    },
    {
     "output_type": "stream",
     "name": "stderr",
     "text": [
      "Processing Images:   3%|▎         | 96/2837 [00:02<01:20, 34.07image/s]"
     ]
    },
    {
     "output_type": "stream",
     "name": "stdout",
     "text": [
      "Saved predicted segmentation to: /content/SanJose/satellite_37.202721_-121.849848.jpg\n",
      "Inferencing on: /content/House_price/satellite_images/SanJose/satellite_37.26838_-121.932007.jpg\n",
      "Saved predicted segmentation to: /content/SanJose/satellite_37.26838_-121.932007.jpg\n",
      "Inferencing on: /content/House_price/satellite_images/SanJose/satellite_37.240448_-121.785826.jpg\n",
      "Saved predicted segmentation to: /content/SanJose/satellite_37.240448_-121.785826.jpg\n",
      "Inferencing on: /content/House_price/satellite_images/SanJose/satellite_37.311573_-121.90786.jpg\n",
      "Saved predicted segmentation to: /content/SanJose/satellite_37.311573_-121.90786.jpg\n",
      "Inferencing on: /content/House_price/satellite_images/SanJose/satellite_37.249248_-121.948283.jpg\n",
      "Saved predicted segmentation to: /content/SanJose/satellite_37.249248_-121.948283.jpg\n",
      "Inferencing on: /content/House_price/satellite_images/SanJose/satellite_37.236521_-121.885112.jpg\n",
      "Saved predicted segmentation to: /content/SanJose/satellite_37.236521_-121.885112.jpg\n",
      "Inferencing on: /content/House_price/satellite_images/SanJose/satellite_37.285178_-121.853595.jpg\n",
      "Saved predicted segmentation to: /content/SanJose/satellite_37.285178_-121.853595.jpg\n",
      "Inferencing on: /content/House_price/satellite_images/SanJose/satellite_37.278879_-121.900554.jpg\n"
     ]
    },
    {
     "output_type": "stream",
     "name": "stderr",
     "text": [
      "Processing Images:   4%|▎         | 104/2837 [00:03<01:20, 34.14image/s]"
     ]
    },
    {
     "output_type": "stream",
     "name": "stdout",
     "text": [
      "Saved predicted segmentation to: /content/SanJose/satellite_37.278879_-121.900554.jpg\n",
      "Inferencing on: /content/House_price/satellite_images/SanJose/satellite_37.240479_-121.786124.jpg\n",
      "Saved predicted segmentation to: /content/SanJose/satellite_37.240479_-121.786124.jpg\n",
      "Inferencing on: /content/House_price/satellite_images/SanJose/satellite_37.282131_-121.836872.jpg\n",
      "Saved predicted segmentation to: /content/SanJose/satellite_37.282131_-121.836872.jpg\n",
      "Inferencing on: /content/House_price/satellite_images/SanJose/satellite_37.292713_-121.906938.jpg\n",
      "Saved predicted segmentation to: /content/SanJose/satellite_37.292713_-121.906938.jpg\n",
      "Inferencing on: /content/House_price/satellite_images/SanJose/satellite_37.283353_-121.857986.jpg\n",
      "Saved predicted segmentation to: /content/SanJose/satellite_37.283353_-121.857986.jpg\n",
      "Inferencing on: /content/House_price/satellite_images/SanJose/satellite_37.343707_-121.900125.jpg\n",
      "Saved predicted segmentation to: /content/SanJose/satellite_37.343707_-121.900125.jpg\n",
      "Inferencing on: /content/House_price/satellite_images/SanJose/satellite_37.247787_-121.855039.jpg\n",
      "Saved predicted segmentation to: /content/SanJose/satellite_37.247787_-121.855039.jpg\n",
      "Inferencing on: /content/House_price/satellite_images/SanJose/satellite_37.300556_-121.81126.jpg\n"
     ]
    },
    {
     "output_type": "stream",
     "name": "stderr",
     "text": [
      "\rProcessing Images:   4%|▍         | 108/2837 [00:03<01:20, 33.96image/s]"
     ]
    },
    {
     "output_type": "stream",
     "name": "stdout",
     "text": [
      "Saved predicted segmentation to: /content/SanJose/satellite_37.300556_-121.81126.jpg\n",
      "Inferencing on: /content/House_price/satellite_images/SanJose/satellite_37.397364_-121.84748.jpg\n",
      "Saved predicted segmentation to: /content/SanJose/satellite_37.397364_-121.84748.jpg\n",
      "Inferencing on: /content/House_price/satellite_images/SanJose/satellite_37.294691_-121.891971.jpg\n",
      "Saved predicted segmentation to: /content/SanJose/satellite_37.294691_-121.891971.jpg\n",
      "Inferencing on: /content/House_price/satellite_images/SanJose/satellite_37.261464_-121.87121.jpg\n",
      "Saved predicted segmentation to: /content/SanJose/satellite_37.261464_-121.87121.jpg\n",
      "Inferencing on: /content/House_price/satellite_images/SanJose/satellite_37.304364_-121.899492.jpg\n",
      "Saved predicted segmentation to: /content/SanJose/satellite_37.304364_-121.899492.jpg\n",
      "Inferencing on: /content/House_price/satellite_images/SanJose/satellite_37.335813_-121.942342.jpg\n",
      "Saved predicted segmentation to: /content/SanJose/satellite_37.335813_-121.942342.jpg\n",
      "Inferencing on: /content/House_price/satellite_images/SanJose/satellite_37.251764_-121.823489.jpg\n",
      "Saved predicted segmentation to: /content/SanJose/satellite_37.251764_-121.823489.jpg\n",
      "Inferencing on: /content/House_price/satellite_images/SanJose/satellite_37.265101_-121.82322.jpg\n"
     ]
    },
    {
     "output_type": "stream",
     "name": "stderr",
     "text": [
      "Processing Images:   4%|▍         | 116/2837 [00:03<01:20, 34.00image/s]"
     ]
    },
    {
     "output_type": "stream",
     "name": "stdout",
     "text": [
      "Saved predicted segmentation to: /content/SanJose/satellite_37.265101_-121.82322.jpg\n",
      "Inferencing on: /content/House_price/satellite_images/SanJose/satellite_37.342532_-121.793788.jpg\n",
      "Saved predicted segmentation to: /content/SanJose/satellite_37.342532_-121.793788.jpg\n",
      "Inferencing on: /content/House_price/satellite_images/SanJose/satellite_37.253983_-121.885794.jpg\n",
      "Saved predicted segmentation to: /content/SanJose/satellite_37.253983_-121.885794.jpg\n",
      "Inferencing on: /content/House_price/satellite_images/SanJose/satellite_37.286248_-121.736961.jpg\n",
      "Saved predicted segmentation to: /content/SanJose/satellite_37.286248_-121.736961.jpg\n",
      "Inferencing on: /content/House_price/satellite_images/SanJose/satellite_37.291539_-121.890296.jpg\n",
      "Saved predicted segmentation to: /content/SanJose/satellite_37.291539_-121.890296.jpg\n",
      "Inferencing on: /content/House_price/satellite_images/SanJose/satellite_37.34778_-121.862152.jpg\n",
      "Saved predicted segmentation to: /content/SanJose/satellite_37.34778_-121.862152.jpg\n",
      "Inferencing on: /content/House_price/satellite_images/SanJose/satellite_37.314951_-121.939084.jpg\n",
      "Saved predicted segmentation to: /content/SanJose/satellite_37.314951_-121.939084.jpg\n",
      "Inferencing on: /content/House_price/satellite_images/SanJose/satellite_37.30114_-121.839715.jpg\n"
     ]
    },
    {
     "output_type": "stream",
     "name": "stderr",
     "text": [
      "Processing Images:   4%|▍         | 124/2837 [00:03<01:19, 34.05image/s]"
     ]
    },
    {
     "output_type": "stream",
     "name": "stdout",
     "text": [
      "Saved predicted segmentation to: /content/SanJose/satellite_37.30114_-121.839715.jpg\n",
      "Inferencing on: /content/House_price/satellite_images/SanJose/satellite_37.314289_-121.939411.jpg\n",
      "Saved predicted segmentation to: /content/SanJose/satellite_37.314289_-121.939411.jpg\n",
      "Inferencing on: /content/House_price/satellite_images/SanJose/satellite_37.300895_-121.840367.jpg\n",
      "Saved predicted segmentation to: /content/SanJose/satellite_37.300895_-121.840367.jpg\n",
      "Inferencing on: /content/House_price/satellite_images/SanJose/satellite_37.238315_-121.907141.jpg\n",
      "Saved predicted segmentation to: /content/SanJose/satellite_37.238315_-121.907141.jpg\n",
      "Inferencing on: /content/House_price/satellite_images/SanJose/satellite_37.341001_-121.854681.jpg\n",
      "Saved predicted segmentation to: /content/SanJose/satellite_37.341001_-121.854681.jpg\n",
      "Inferencing on: /content/House_price/satellite_images/SanJose/satellite_37.265218_-121.869395.jpg\n",
      "Saved predicted segmentation to: /content/SanJose/satellite_37.265218_-121.869395.jpg\n",
      "Inferencing on: /content/House_price/satellite_images/SanJose/satellite_37.224586_-121.773666.jpg\n",
      "Saved predicted segmentation to: /content/SanJose/satellite_37.224586_-121.773666.jpg\n",
      "Inferencing on: /content/House_price/satellite_images/SanJose/satellite_37.263445_-121.939378.jpg\n"
     ]
    },
    {
     "output_type": "stream",
     "name": "stderr",
     "text": [
      "Processing Images:   5%|▍         | 132/2837 [00:03<01:18, 34.30image/s]"
     ]
    },
    {
     "output_type": "stream",
     "name": "stdout",
     "text": [
      "Saved predicted segmentation to: /content/SanJose/satellite_37.263445_-121.939378.jpg\n",
      "Inferencing on: /content/House_price/satellite_images/SanJose/satellite_37.29977_-121.821127.jpg\n",
      "Saved predicted segmentation to: /content/SanJose/satellite_37.29977_-121.821127.jpg\n",
      "Inferencing on: /content/House_price/satellite_images/SanJose/satellite_37.333996_-121.774331.jpg\n",
      "Saved predicted segmentation to: /content/SanJose/satellite_37.333996_-121.774331.jpg\n",
      "Inferencing on: /content/House_price/satellite_images/SanJose/satellite_37.202845_-121.849971.jpg\n",
      "Saved predicted segmentation to: /content/SanJose/satellite_37.202845_-121.849971.jpg\n",
      "Inferencing on: /content/House_price/satellite_images/SanJose/satellite_37.317814_-121.955254.jpg\n",
      "Saved predicted segmentation to: /content/SanJose/satellite_37.317814_-121.955254.jpg\n",
      "Inferencing on: /content/House_price/satellite_images/SanJose/satellite_37.282712_-121.909592.jpg\n",
      "Saved predicted segmentation to: /content/SanJose/satellite_37.282712_-121.909592.jpg\n",
      "Inferencing on: /content/House_price/satellite_images/SanJose/satellite_37.240109_-121.857829.jpg\n",
      "Saved predicted segmentation to: /content/SanJose/satellite_37.240109_-121.857829.jpg\n",
      "Inferencing on: /content/House_price/satellite_images/SanJose/satellite_37.338715_-121.931535.jpg\n"
     ]
    },
    {
     "output_type": "stream",
     "name": "stderr",
     "text": [
      "\rProcessing Images:   5%|▍         | 136/2837 [00:03<01:18, 34.21image/s]"
     ]
    },
    {
     "output_type": "stream",
     "name": "stdout",
     "text": [
      "Saved predicted segmentation to: /content/SanJose/satellite_37.338715_-121.931535.jpg\n",
      "Inferencing on: /content/House_price/satellite_images/SanJose/satellite_37.292595_-121.887135.jpg\n",
      "Saved predicted segmentation to: /content/SanJose/satellite_37.292595_-121.887135.jpg\n",
      "Inferencing on: /content/House_price/satellite_images/SanJose/satellite_37.318691_-121.936304.jpg\n",
      "Saved predicted segmentation to: /content/SanJose/satellite_37.318691_-121.936304.jpg\n",
      "Inferencing on: /content/House_price/satellite_images/SanJose/satellite_37.231782_-121.909704.jpg\n",
      "Saved predicted segmentation to: /content/SanJose/satellite_37.231782_-121.909704.jpg\n",
      "Inferencing on: /content/House_price/satellite_images/SanJose/satellite_37.281091_-121.767995.jpg\n",
      "Saved predicted segmentation to: /content/SanJose/satellite_37.281091_-121.767995.jpg\n",
      "Inferencing on: /content/House_price/satellite_images/SanJose/satellite_37.28463_-121.826735.jpg\n",
      "Saved predicted segmentation to: /content/SanJose/satellite_37.28463_-121.826735.jpg\n",
      "Inferencing on: /content/House_price/satellite_images/SanJose/satellite_37.340426_-121.869308.jpg\n",
      "Saved predicted segmentation to: /content/SanJose/satellite_37.340426_-121.869308.jpg\n",
      "Inferencing on: /content/House_price/satellite_images/SanJose/satellite_37.342765_-121.845569.jpg\n"
     ]
    },
    {
     "output_type": "stream",
     "name": "stderr",
     "text": [
      "Processing Images:   5%|▌         | 144/2837 [00:04<01:19, 34.08image/s]"
     ]
    },
    {
     "output_type": "stream",
     "name": "stdout",
     "text": [
      "Saved predicted segmentation to: /content/SanJose/satellite_37.342765_-121.845569.jpg\n",
      "Inferencing on: /content/House_price/satellite_images/SanJose/satellite_37.353178_-121.795945.jpg\n",
      "Saved predicted segmentation to: /content/SanJose/satellite_37.353178_-121.795945.jpg\n",
      "Inferencing on: /content/House_price/satellite_images/SanJose/satellite_37.223699_-121.863852.jpg\n",
      "Saved predicted segmentation to: /content/SanJose/satellite_37.223699_-121.863852.jpg\n",
      "Inferencing on: /content/House_price/satellite_images/SanJose/satellite_37.316504_-121.766718.jpg\n",
      "Saved predicted segmentation to: /content/SanJose/satellite_37.316504_-121.766718.jpg\n",
      "Inferencing on: /content/House_price/satellite_images/SanJose/satellite_37.387396_-121.835315.jpg\n",
      "Saved predicted segmentation to: /content/SanJose/satellite_37.387396_-121.835315.jpg\n",
      "Inferencing on: /content/House_price/satellite_images/SanJose/satellite_37.28769_-121.861961.jpg\n",
      "Saved predicted segmentation to: /content/SanJose/satellite_37.28769_-121.861961.jpg\n",
      "Inferencing on: /content/House_price/satellite_images/SanJose/satellite_37.292055_-121.98335.jpg\n",
      "Saved predicted segmentation to: /content/SanJose/satellite_37.292055_-121.98335.jpg\n",
      "Inferencing on: /content/House_price/satellite_images/SanJose/satellite_37.328805_-121.829929.jpg\n"
     ]
    },
    {
     "output_type": "stream",
     "name": "stderr",
     "text": [
      "Processing Images:   5%|▌         | 152/2837 [00:04<01:18, 34.13image/s]"
     ]
    },
    {
     "output_type": "stream",
     "name": "stdout",
     "text": [
      "Saved predicted segmentation to: /content/SanJose/satellite_37.328805_-121.829929.jpg\n",
      "Inferencing on: /content/House_price/satellite_images/SanJose/satellite_37.256814_-121.833885.jpg\n",
      "Saved predicted segmentation to: /content/SanJose/satellite_37.256814_-121.833885.jpg\n",
      "Inferencing on: /content/House_price/satellite_images/SanJose/satellite_37.32587_-121.917379.jpg\n",
      "Saved predicted segmentation to: /content/SanJose/satellite_37.32587_-121.917379.jpg\n",
      "Inferencing on: /content/House_price/satellite_images/SanJose/satellite_37.30389_-121.811301.jpg\n",
      "Saved predicted segmentation to: /content/SanJose/satellite_37.30389_-121.811301.jpg\n",
      "Inferencing on: /content/House_price/satellite_images/SanJose/satellite_37.225603_-121.777528.jpg\n",
      "Saved predicted segmentation to: /content/SanJose/satellite_37.225603_-121.777528.jpg\n",
      "Inferencing on: /content/House_price/satellite_images/SanJose/satellite_37.310906_-121.915864.jpg\n",
      "Saved predicted segmentation to: /content/SanJose/satellite_37.310906_-121.915864.jpg\n",
      "Inferencing on: /content/House_price/satellite_images/SanJose/satellite_37.271999_-121.888388.jpg\n",
      "Saved predicted segmentation to: /content/SanJose/satellite_37.271999_-121.888388.jpg\n",
      "Inferencing on: /content/House_price/satellite_images/SanJose/satellite_37.2758_-121.861618.jpg\n"
     ]
    },
    {
     "output_type": "stream",
     "name": "stderr",
     "text": [
      "Processing Images:   6%|▌         | 160/2837 [00:04<01:17, 34.37image/s]"
     ]
    },
    {
     "output_type": "stream",
     "name": "stdout",
     "text": [
      "Saved predicted segmentation to: /content/SanJose/satellite_37.2758_-121.861618.jpg\n",
      "Inferencing on: /content/House_price/satellite_images/SanJose/satellite_37.32741_-121.955819.jpg\n",
      "Saved predicted segmentation to: /content/SanJose/satellite_37.32741_-121.955819.jpg\n",
      "Inferencing on: /content/House_price/satellite_images/SanJose/satellite_37.281901_-121.752168.jpg\n",
      "Saved predicted segmentation to: /content/SanJose/satellite_37.281901_-121.752168.jpg\n",
      "Inferencing on: /content/House_price/satellite_images/SanJose/satellite_37.275959_-121.88878.jpg\n",
      "Saved predicted segmentation to: /content/SanJose/satellite_37.275959_-121.88878.jpg\n",
      "Inferencing on: /content/House_price/satellite_images/SanJose/satellite_37.379601_-121.870848.jpg\n",
      "Saved predicted segmentation to: /content/SanJose/satellite_37.379601_-121.870848.jpg\n",
      "Inferencing on: /content/House_price/satellite_images/SanJose/satellite_37.342972_-121.803909.jpg\n",
      "Saved predicted segmentation to: /content/SanJose/satellite_37.342972_-121.803909.jpg\n",
      "Inferencing on: /content/House_price/satellite_images/SanJose/satellite_37.239572_-121.844025.jpg\n",
      "Saved predicted segmentation to: /content/SanJose/satellite_37.239572_-121.844025.jpg\n",
      "Inferencing on: /content/House_price/satellite_images/SanJose/satellite_37.266825_-121.836278.jpg\n"
     ]
    },
    {
     "output_type": "stream",
     "name": "stderr",
     "text": [
      "\rProcessing Images:   6%|▌         | 164/2837 [00:04<01:18, 34.20image/s]"
     ]
    },
    {
     "output_type": "stream",
     "name": "stdout",
     "text": [
      "Saved predicted segmentation to: /content/SanJose/satellite_37.266825_-121.836278.jpg\n",
      "Inferencing on: /content/House_price/satellite_images/SanJose/satellite_37.331023_-121.785498.jpg\n",
      "Saved predicted segmentation to: /content/SanJose/satellite_37.331023_-121.785498.jpg\n",
      "Inferencing on: /content/House_price/satellite_images/SanJose/satellite_37.373296_-121.869047.jpg\n",
      "Saved predicted segmentation to: /content/SanJose/satellite_37.373296_-121.869047.jpg\n",
      "Inferencing on: /content/House_price/satellite_images/SanJose/satellite_37.357248_-121.877837.jpg\n",
      "Saved predicted segmentation to: /content/SanJose/satellite_37.357248_-121.877837.jpg\n",
      "Inferencing on: /content/House_price/satellite_images/SanJose/satellite_37.243399_-121.856195.jpg\n",
      "Saved predicted segmentation to: /content/SanJose/satellite_37.243399_-121.856195.jpg\n",
      "Inferencing on: /content/House_price/satellite_images/SanJose/satellite_37.311275_-121.916363.jpg\n",
      "Saved predicted segmentation to: /content/SanJose/satellite_37.311275_-121.916363.jpg\n",
      "Inferencing on: /content/House_price/satellite_images/SanJose/satellite_37.407465_-121.865889.jpg\n",
      "Saved predicted segmentation to: /content/SanJose/satellite_37.407465_-121.865889.jpg\n",
      "Inferencing on: /content/House_price/satellite_images/SanJose/satellite_37.26545_-121.823044.jpg\n"
     ]
    },
    {
     "output_type": "stream",
     "name": "stderr",
     "text": [
      "Processing Images:   6%|▌         | 172/2837 [00:05<01:17, 34.29image/s]"
     ]
    },
    {
     "output_type": "stream",
     "name": "stdout",
     "text": [
      "Saved predicted segmentation to: /content/SanJose/satellite_37.26545_-121.823044.jpg\n",
      "Inferencing on: /content/House_price/satellite_images/SanJose/satellite_37.266618_-121.931137.jpg\n",
      "Saved predicted segmentation to: /content/SanJose/satellite_37.266618_-121.931137.jpg\n",
      "Inferencing on: /content/House_price/satellite_images/SanJose/satellite_37.317773_-121.899544.jpg\n",
      "Saved predicted segmentation to: /content/SanJose/satellite_37.317773_-121.899544.jpg\n",
      "Inferencing on: /content/House_price/satellite_images/SanJose/satellite_37.231931_-121.832209.jpg\n",
      "Saved predicted segmentation to: /content/SanJose/satellite_37.231931_-121.832209.jpg\n",
      "Inferencing on: /content/House_price/satellite_images/SanJose/satellite_37.309752_-122.008937.jpg\n",
      "Saved predicted segmentation to: /content/SanJose/satellite_37.309752_-122.008937.jpg\n",
      "Inferencing on: /content/House_price/satellite_images/SanJose/satellite_37.333322_-121.797276.jpg\n",
      "Saved predicted segmentation to: /content/SanJose/satellite_37.333322_-121.797276.jpg\n",
      "Inferencing on: /content/House_price/satellite_images/SanJose/satellite_37.312244_-121.880804.jpg\n",
      "Saved predicted segmentation to: /content/SanJose/satellite_37.312244_-121.880804.jpg\n",
      "Inferencing on: /content/House_price/satellite_images/SanJose/satellite_37.287119_-121.863199.jpg\n"
     ]
    },
    {
     "output_type": "stream",
     "name": "stderr",
     "text": [
      "Processing Images:   6%|▋         | 180/2837 [00:05<01:17, 34.40image/s]"
     ]
    },
    {
     "output_type": "stream",
     "name": "stdout",
     "text": [
      "Saved predicted segmentation to: /content/SanJose/satellite_37.287119_-121.863199.jpg\n",
      "Inferencing on: /content/House_price/satellite_images/SanJose/satellite_37.289113_-121.912998.jpg\n",
      "Saved predicted segmentation to: /content/SanJose/satellite_37.289113_-121.912998.jpg\n",
      "Inferencing on: /content/House_price/satellite_images/SanJose/satellite_37.393963_-121.867454.jpg\n",
      "Saved predicted segmentation to: /content/SanJose/satellite_37.393963_-121.867454.jpg\n",
      "Inferencing on: /content/House_price/satellite_images/SanJose/satellite_37.278797_-121.910473.jpg\n",
      "Saved predicted segmentation to: /content/SanJose/satellite_37.278797_-121.910473.jpg\n",
      "Inferencing on: /content/House_price/satellite_images/SanJose/satellite_37.335222_-121.886564.jpg\n",
      "Saved predicted segmentation to: /content/SanJose/satellite_37.335222_-121.886564.jpg\n",
      "Inferencing on: /content/House_price/satellite_images/SanJose/satellite_37.241702_-121.90106.jpg\n",
      "Saved predicted segmentation to: /content/SanJose/satellite_37.241702_-121.90106.jpg\n",
      "Inferencing on: /content/House_price/satellite_images/SanJose/satellite_37.225267_-121.787911.jpg\n",
      "Saved predicted segmentation to: /content/SanJose/satellite_37.225267_-121.787911.jpg\n",
      "Inferencing on: /content/House_price/satellite_images/SanJose/satellite_37.330046_-121.84519.jpg\n"
     ]
    },
    {
     "output_type": "stream",
     "name": "stderr",
     "text": [
      "Processing Images:   7%|▋         | 188/2837 [00:05<01:16, 34.60image/s]"
     ]
    },
    {
     "output_type": "stream",
     "name": "stdout",
     "text": [
      "Saved predicted segmentation to: /content/SanJose/satellite_37.330046_-121.84519.jpg\n",
      "Inferencing on: /content/House_price/satellite_images/SanJose/satellite_37.292055_-121.871219.jpg\n",
      "Saved predicted segmentation to: /content/SanJose/satellite_37.292055_-121.871219.jpg\n",
      "Inferencing on: /content/House_price/satellite_images/SanJose/satellite_37.302686_-121.951634.jpg\n",
      "Saved predicted segmentation to: /content/SanJose/satellite_37.302686_-121.951634.jpg\n",
      "Inferencing on: /content/House_price/satellite_images/SanJose/satellite_37.290681_-121.854658.jpg\n",
      "Saved predicted segmentation to: /content/SanJose/satellite_37.290681_-121.854658.jpg\n",
      "Inferencing on: /content/House_price/satellite_images/SanJose/satellite_37.338244_-121.895647.jpg\n",
      "Saved predicted segmentation to: /content/SanJose/satellite_37.338244_-121.895647.jpg\n",
      "Inferencing on: /content/House_price/satellite_images/SanJose/satellite_37.242862_-121.856314.jpg\n",
      "Saved predicted segmentation to: /content/SanJose/satellite_37.242862_-121.856314.jpg\n",
      "Inferencing on: /content/House_price/satellite_images/SanJose/satellite_37.269927_-121.92482.jpg\n",
      "Saved predicted segmentation to: /content/SanJose/satellite_37.269927_-121.92482.jpg\n",
      "Inferencing on: /content/House_price/satellite_images/SanJose/satellite_37.223141_-121.872138.jpg\n"
     ]
    },
    {
     "output_type": "stream",
     "name": "stderr",
     "text": [
      "Processing Images:   7%|▋         | 196/2837 [00:05<01:16, 34.65image/s]"
     ]
    },
    {
     "output_type": "stream",
     "name": "stdout",
     "text": [
      "Saved predicted segmentation to: /content/SanJose/satellite_37.223141_-121.872138.jpg\n",
      "Inferencing on: /content/House_price/satellite_images/SanJose/satellite_37.352167_-121.837079.jpg\n",
      "Saved predicted segmentation to: /content/SanJose/satellite_37.352167_-121.837079.jpg\n",
      "Inferencing on: /content/House_price/satellite_images/SanJose/satellite_37.323308_-121.847025.jpg\n",
      "Saved predicted segmentation to: /content/SanJose/satellite_37.323308_-121.847025.jpg\n",
      "Inferencing on: /content/House_price/satellite_images/SanJose/satellite_37.295263_-121.887298.jpg\n",
      "Saved predicted segmentation to: /content/SanJose/satellite_37.295263_-121.887298.jpg\n",
      "Inferencing on: /content/House_price/satellite_images/SanJose/satellite_37.312216_-121.893381.jpg\n",
      "Saved predicted segmentation to: /content/SanJose/satellite_37.312216_-121.893381.jpg\n",
      "Inferencing on: /content/House_price/satellite_images/SanJose/satellite_37.315453_-121.938043.jpg\n",
      "Saved predicted segmentation to: /content/SanJose/satellite_37.315453_-121.938043.jpg\n",
      "Inferencing on: /content/House_price/satellite_images/SanJose/satellite_37.415994_-121.863302.jpg\n",
      "Saved predicted segmentation to: /content/SanJose/satellite_37.415994_-121.863302.jpg\n",
      "Inferencing on: /content/House_price/satellite_images/SanJose/satellite_37.36004_-121.887396.jpg\n",
      "Saved predicted segmentation to: /content/SanJose/satellite_37.36004_-121.887396.jpg\n"
     ]
    },
    {
     "output_type": "stream",
     "name": "stderr",
     "text": [
      "\rProcessing Images:   7%|▋         | 200/2837 [00:05<01:16, 34.59image/s]"
     ]
    },
    {
     "output_type": "stream",
     "name": "stdout",
     "text": [
      "Inferencing on: /content/House_price/satellite_images/SanJose/satellite_37.382576_-121.820785.jpg\n",
      "Saved predicted segmentation to: /content/SanJose/satellite_37.382576_-121.820785.jpg\n",
      "Inferencing on: /content/House_price/satellite_images/SanJose/satellite_37.379654_-121.833168.jpg\n",
      "Saved predicted segmentation to: /content/SanJose/satellite_37.379654_-121.833168.jpg\n",
      "Inferencing on: /content/House_price/satellite_images/SanJose/satellite_37.320431_-121.912253.jpg\n",
      "Saved predicted segmentation to: /content/SanJose/satellite_37.320431_-121.912253.jpg\n",
      "Inferencing on: /content/House_price/satellite_images/SanJose/satellite_37.293458_-121.978157.jpg\n",
      "Saved predicted segmentation to: /content/SanJose/satellite_37.293458_-121.978157.jpg\n",
      "Inferencing on: /content/House_price/satellite_images/SanJose/satellite_37.400166_-121.92201.jpg\n",
      "Saved predicted segmentation to: /content/SanJose/satellite_37.400166_-121.92201.jpg\n",
      "Inferencing on: /content/House_price/satellite_images/SanJose/satellite_37.266736_-121.811545.jpg\n",
      "Saved predicted segmentation to: /content/SanJose/satellite_37.266736_-121.811545.jpg\n",
      "Inferencing on: /content/House_price/satellite_images/SanJose/satellite_37.310763_-121.957961.jpg\n"
     ]
    },
    {
     "output_type": "stream",
     "name": "stderr",
     "text": [
      "Processing Images:   7%|▋         | 208/2837 [00:06<01:15, 34.60image/s]"
     ]
    },
    {
     "output_type": "stream",
     "name": "stdout",
     "text": [
      "Saved predicted segmentation to: /content/SanJose/satellite_37.310763_-121.957961.jpg\n",
      "Inferencing on: /content/House_price/satellite_images/SanJose/satellite_37.352067_-121.871333.jpg\n",
      "Saved predicted segmentation to: /content/SanJose/satellite_37.352067_-121.871333.jpg\n",
      "Inferencing on: /content/House_price/satellite_images/SanJose/satellite_37.33493_-121.886369.jpg\n",
      "Saved predicted segmentation to: /content/SanJose/satellite_37.33493_-121.886369.jpg\n",
      "Inferencing on: /content/House_price/satellite_images/SanJose/satellite_37.289325_-121.742669.jpg\n",
      "Saved predicted segmentation to: /content/SanJose/satellite_37.289325_-121.742669.jpg\n",
      "Inferencing on: /content/House_price/satellite_images/SanJose/satellite_37.284349_-121.856405.jpg\n",
      "Saved predicted segmentation to: /content/SanJose/satellite_37.284349_-121.856405.jpg\n",
      "Inferencing on: /content/House_price/satellite_images/SanJose/satellite_37.268727_-121.903385.jpg\n",
      "Saved predicted segmentation to: /content/SanJose/satellite_37.268727_-121.903385.jpg\n",
      "Inferencing on: /content/House_price/satellite_images/SanJose/satellite_37.254156_-121.835352.jpg\n",
      "Saved predicted segmentation to: /content/SanJose/satellite_37.254156_-121.835352.jpg\n",
      "Inferencing on: /content/House_price/satellite_images/SanJose/satellite_37.41279_-121.866997.jpg\n"
     ]
    },
    {
     "output_type": "stream",
     "name": "stderr",
     "text": [
      "Processing Images:   8%|▊         | 216/2837 [00:06<01:15, 34.69image/s]"
     ]
    },
    {
     "output_type": "stream",
     "name": "stdout",
     "text": [
      "Saved predicted segmentation to: /content/SanJose/satellite_37.41279_-121.866997.jpg\n",
      "Inferencing on: /content/House_price/satellite_images/SanJose/satellite_37.330716_-121.833729.jpg\n",
      "Saved predicted segmentation to: /content/SanJose/satellite_37.330716_-121.833729.jpg\n",
      "Inferencing on: /content/House_price/satellite_images/SanJose/satellite_37.216041_-121.851902.jpg\n",
      "Saved predicted segmentation to: /content/SanJose/satellite_37.216041_-121.851902.jpg\n",
      "Inferencing on: /content/House_price/satellite_images/SanJose/satellite_37.25142_-121.913925.jpg\n",
      "Saved predicted segmentation to: /content/SanJose/satellite_37.25142_-121.913925.jpg\n",
      "Inferencing on: /content/House_price/satellite_images/SanJose/satellite_37.356936_-121.811012.jpg\n",
      "Saved predicted segmentation to: /content/SanJose/satellite_37.356936_-121.811012.jpg\n",
      "Inferencing on: /content/House_price/satellite_images/SanJose/satellite_37.313324_-121.980577.jpg\n",
      "Saved predicted segmentation to: /content/SanJose/satellite_37.313324_-121.980577.jpg\n",
      "Inferencing on: /content/House_price/satellite_images/SanJose/satellite_37.236159_-121.902589.jpg\n",
      "Saved predicted segmentation to: /content/SanJose/satellite_37.236159_-121.902589.jpg\n",
      "Inferencing on: /content/House_price/satellite_images/SanJose/satellite_37.415269_-121.941979.jpg\n"
     ]
    },
    {
     "output_type": "stream",
     "name": "stderr",
     "text": [
      "Processing Images:   8%|▊         | 224/2837 [00:06<01:15, 34.83image/s]"
     ]
    },
    {
     "output_type": "stream",
     "name": "stdout",
     "text": [
      "Saved predicted segmentation to: /content/SanJose/satellite_37.415269_-121.941979.jpg\n",
      "Inferencing on: /content/House_price/satellite_images/SanJose/satellite_37.36487_-121.813991.jpg\n",
      "Saved predicted segmentation to: /content/SanJose/satellite_37.36487_-121.813991.jpg\n",
      "Inferencing on: /content/House_price/satellite_images/SanJose/satellite_37.393727_-121.82946.jpg\n",
      "Saved predicted segmentation to: /content/SanJose/satellite_37.393727_-121.82946.jpg\n",
      "Inferencing on: /content/House_price/satellite_images/SanJose/satellite_37.327703_-121.904906.jpg\n",
      "Saved predicted segmentation to: /content/SanJose/satellite_37.327703_-121.904906.jpg\n",
      "Inferencing on: /content/House_price/satellite_images/SanJose/satellite_37.274067_-121.86499.jpg\n",
      "Saved predicted segmentation to: /content/SanJose/satellite_37.274067_-121.86499.jpg\n",
      "Inferencing on: /content/House_price/satellite_images/SanJose/satellite_37.344764_-121.927888.jpg\n",
      "Saved predicted segmentation to: /content/SanJose/satellite_37.344764_-121.927888.jpg\n",
      "Inferencing on: /content/House_price/satellite_images/SanJose/satellite_37.302433_-121.944328.jpg\n",
      "Saved predicted segmentation to: /content/SanJose/satellite_37.302433_-121.944328.jpg\n",
      "Inferencing on: /content/House_price/satellite_images/SanJose/satellite_37.235714_-121.818391.jpg\n",
      "Saved predicted segmentation to: /content/SanJose/satellite_37.235714_-121.818391.jpg\n",
      "Inferencing on: /content/House_price/satellite_images/SanJose/satellite_37.328947_-121.799539.jpg\n"
     ]
    },
    {
     "output_type": "stream",
     "name": "stderr",
     "text": [
      "\rProcessing Images:   8%|▊         | 228/2837 [00:06<01:15, 34.43image/s]"
     ]
    },
    {
     "output_type": "stream",
     "name": "stdout",
     "text": [
      "Saved predicted segmentation to: /content/SanJose/satellite_37.328947_-121.799539.jpg\n",
      "Inferencing on: /content/House_price/satellite_images/SanJose/satellite_37.312084_-121.823244.jpg\n",
      "Saved predicted segmentation to: /content/SanJose/satellite_37.312084_-121.823244.jpg\n",
      "Inferencing on: /content/House_price/satellite_images/SanJose/satellite_37.352276_-121.822286.jpg\n",
      "Saved predicted segmentation to: /content/SanJose/satellite_37.352276_-121.822286.jpg\n",
      "Inferencing on: /content/House_price/satellite_images/SanJose/satellite_37.22704_-121.895991.jpg\n",
      "Saved predicted segmentation to: /content/SanJose/satellite_37.22704_-121.895991.jpg\n",
      "Inferencing on: /content/House_price/satellite_images/SanJose/satellite_37.388282_-121.851882.jpg\n",
      "Saved predicted segmentation to: /content/SanJose/satellite_37.388282_-121.851882.jpg\n",
      "Inferencing on: /content/House_price/satellite_images/SanJose/satellite_37.342316_-121.856834.jpg\n",
      "Saved predicted segmentation to: /content/SanJose/satellite_37.342316_-121.856834.jpg\n",
      "Inferencing on: /content/House_price/satellite_images/SanJose/satellite_37.295046_-121.904539.jpg\n",
      "Saved predicted segmentation to: /content/SanJose/satellite_37.295046_-121.904539.jpg\n",
      "Inferencing on: /content/House_price/satellite_images/SanJose/satellite_37.251928_-121.905018.jpg\n"
     ]
    },
    {
     "output_type": "stream",
     "name": "stderr",
     "text": [
      "Processing Images:   8%|▊         | 236/2837 [00:06<01:15, 34.44image/s]"
     ]
    },
    {
     "output_type": "stream",
     "name": "stdout",
     "text": [
      "Saved predicted segmentation to: /content/SanJose/satellite_37.251928_-121.905018.jpg\n",
      "Inferencing on: /content/House_price/satellite_images/SanJose/satellite_37.274249_-121.8923.jpg\n",
      "Saved predicted segmentation to: /content/SanJose/satellite_37.274249_-121.8923.jpg\n",
      "Inferencing on: /content/House_price/satellite_images/SanJose/satellite_37.224745_-121.776586.jpg\n",
      "Saved predicted segmentation to: /content/SanJose/satellite_37.224745_-121.776586.jpg\n",
      "Inferencing on: /content/House_price/satellite_images/SanJose/satellite_37.332337_-121.871181.jpg\n",
      "Saved predicted segmentation to: /content/SanJose/satellite_37.332337_-121.871181.jpg\n",
      "Inferencing on: /content/House_price/satellite_images/SanJose/satellite_37.299922_-122.027955.jpg\n",
      "Saved predicted segmentation to: /content/SanJose/satellite_37.299922_-122.027955.jpg\n",
      "Inferencing on: /content/House_price/satellite_images/SanJose/satellite_37.329078_-121.906689.jpg\n",
      "Saved predicted segmentation to: /content/SanJose/satellite_37.329078_-121.906689.jpg\n",
      "Inferencing on: /content/House_price/satellite_images/SanJose/satellite_37.363945_-121.913732.jpg\n",
      "Saved predicted segmentation to: /content/SanJose/satellite_37.363945_-121.913732.jpg\n",
      "Inferencing on: /content/House_price/satellite_images/SanJose/satellite_37.281726_-121.897956.jpg\n"
     ]
    },
    {
     "output_type": "stream",
     "name": "stderr",
     "text": [
      "Processing Images:   9%|▊         | 244/2837 [00:07<01:15, 34.42image/s]"
     ]
    },
    {
     "output_type": "stream",
     "name": "stdout",
     "text": [
      "Saved predicted segmentation to: /content/SanJose/satellite_37.281726_-121.897956.jpg\n",
      "Inferencing on: /content/House_price/satellite_images/SanJose/satellite_37.363591_-121.914053.jpg\n",
      "Saved predicted segmentation to: /content/SanJose/satellite_37.363591_-121.914053.jpg\n",
      "Inferencing on: /content/House_price/satellite_images/SanJose/satellite_37.320068_-121.981553.jpg\n",
      "Saved predicted segmentation to: /content/SanJose/satellite_37.320068_-121.981553.jpg\n",
      "Inferencing on: /content/House_price/satellite_images/SanJose/satellite_37.317661_-121.955246.jpg\n",
      "Saved predicted segmentation to: /content/SanJose/satellite_37.317661_-121.955246.jpg\n",
      "Inferencing on: /content/House_price/satellite_images/SanJose/satellite_37.258004_-121.802237.jpg\n",
      "Saved predicted segmentation to: /content/SanJose/satellite_37.258004_-121.802237.jpg\n",
      "Inferencing on: /content/House_price/satellite_images/SanJose/satellite_37.217031_-121.879806.jpg\n",
      "Saved predicted segmentation to: /content/SanJose/satellite_37.217031_-121.879806.jpg\n",
      "Inferencing on: /content/House_price/satellite_images/SanJose/satellite_37.273144_-121.816363.jpg\n",
      "Saved predicted segmentation to: /content/SanJose/satellite_37.273144_-121.816363.jpg\n",
      "Inferencing on: /content/House_price/satellite_images/SanJose/satellite_37.299408_-121.962337.jpg\n"
     ]
    },
    {
     "output_type": "stream",
     "name": "stderr",
     "text": [
      "Processing Images:   9%|▉         | 252/2837 [00:07<01:15, 34.03image/s]"
     ]
    },
    {
     "output_type": "stream",
     "name": "stdout",
     "text": [
      "Saved predicted segmentation to: /content/SanJose/satellite_37.299408_-121.962337.jpg\n",
      "Inferencing on: /content/House_price/satellite_images/SanJose/satellite_37.302871_-121.963612.jpg\n",
      "Saved predicted segmentation to: /content/SanJose/satellite_37.302871_-121.963612.jpg\n",
      "Inferencing on: /content/House_price/satellite_images/SanJose/satellite_37.317001_-121.955498.jpg\n",
      "Saved predicted segmentation to: /content/SanJose/satellite_37.317001_-121.955498.jpg\n",
      "Inferencing on: /content/House_price/satellite_images/SanJose/satellite_37.348548_-121.83327.jpg\n",
      "Saved predicted segmentation to: /content/SanJose/satellite_37.348548_-121.83327.jpg\n",
      "Inferencing on: /content/House_price/satellite_images/SanJose/satellite_37.333779_-121.927267.jpg\n",
      "Saved predicted segmentation to: /content/SanJose/satellite_37.333779_-121.927267.jpg\n",
      "Inferencing on: /content/House_price/satellite_images/SanJose/satellite_37.363093_-121.913831.jpg\n",
      "Saved predicted segmentation to: /content/SanJose/satellite_37.363093_-121.913831.jpg\n",
      "Inferencing on: /content/House_price/satellite_images/SanJose/satellite_37.267329_-121.910653.jpg\n",
      "Saved predicted segmentation to: /content/SanJose/satellite_37.267329_-121.910653.jpg\n",
      "Inferencing on: /content/House_price/satellite_images/SanJose/satellite_37.379014_-121.841799.jpg\n"
     ]
    },
    {
     "output_type": "stream",
     "name": "stderr",
     "text": [
      "\rProcessing Images:   9%|▉         | 256/2837 [00:07<01:15, 33.96image/s]"
     ]
    },
    {
     "output_type": "stream",
     "name": "stdout",
     "text": [
      "Saved predicted segmentation to: /content/SanJose/satellite_37.379014_-121.841799.jpg\n",
      "Inferencing on: /content/House_price/satellite_images/SanJose/satellite_37.363233_-121.812912.jpg\n",
      "Saved predicted segmentation to: /content/SanJose/satellite_37.363233_-121.812912.jpg\n",
      "Inferencing on: /content/House_price/satellite_images/SanJose/satellite_37.263366_-121.93683.jpg\n",
      "Saved predicted segmentation to: /content/SanJose/satellite_37.263366_-121.93683.jpg\n",
      "Inferencing on: /content/House_price/satellite_images/SanJose/satellite_37.261877_-121.939366.jpg\n",
      "Saved predicted segmentation to: /content/SanJose/satellite_37.261877_-121.939366.jpg\n",
      "Inferencing on: /content/House_price/satellite_images/SanJose/satellite_37.367303_-121.842913.jpg\n",
      "Saved predicted segmentation to: /content/SanJose/satellite_37.367303_-121.842913.jpg\n",
      "Inferencing on: /content/House_price/satellite_images/SanJose/satellite_37.249668_-121.814856.jpg\n",
      "Saved predicted segmentation to: /content/SanJose/satellite_37.249668_-121.814856.jpg\n",
      "Inferencing on: /content/House_price/satellite_images/SanJose/satellite_37.32395_-121.906667.jpg\n",
      "Saved predicted segmentation to: /content/SanJose/satellite_37.32395_-121.906667.jpg\n",
      "Inferencing on: /content/House_price/satellite_images/SanJose/satellite_37.292709_-121.752419.jpg\n"
     ]
    },
    {
     "output_type": "stream",
     "name": "stderr",
     "text": [
      "Processing Images:   9%|▉         | 264/2837 [00:07<01:15, 34.18image/s]"
     ]
    },
    {
     "output_type": "stream",
     "name": "stdout",
     "text": [
      "Saved predicted segmentation to: /content/SanJose/satellite_37.292709_-121.752419.jpg\n",
      "Inferencing on: /content/House_price/satellite_images/SanJose/satellite_37.323167_-121.769111.jpg\n",
      "Saved predicted segmentation to: /content/SanJose/satellite_37.323167_-121.769111.jpg\n",
      "Inferencing on: /content/House_price/satellite_images/SanJose/satellite_37.322419_-121.794417.jpg\n",
      "Saved predicted segmentation to: /content/SanJose/satellite_37.322419_-121.794417.jpg\n",
      "Inferencing on: /content/House_price/satellite_images/SanJose/satellite_37.222832_-121.90112.jpg\n",
      "Saved predicted segmentation to: /content/SanJose/satellite_37.222832_-121.90112.jpg\n",
      "Inferencing on: /content/House_price/satellite_images/SanJose/satellite_37.324946_-121.916545.jpg\n",
      "Saved predicted segmentation to: /content/SanJose/satellite_37.324946_-121.916545.jpg\n",
      "Inferencing on: /content/House_price/satellite_images/SanJose/satellite_37.252963_-121.823161.jpg\n",
      "Saved predicted segmentation to: /content/SanJose/satellite_37.252963_-121.823161.jpg\n",
      "Inferencing on: /content/House_price/satellite_images/SanJose/satellite_37.329215_-121.791108.jpg\n",
      "Saved predicted segmentation to: /content/SanJose/satellite_37.329215_-121.791108.jpg\n",
      "Inferencing on: /content/House_price/satellite_images/SanJose/satellite_37.29362_-121.761862.jpg\n"
     ]
    },
    {
     "output_type": "stream",
     "name": "stderr",
     "text": [
      "Processing Images:  10%|▉         | 272/2837 [00:07<01:15, 34.00image/s]"
     ]
    },
    {
     "output_type": "stream",
     "name": "stdout",
     "text": [
      "Saved predicted segmentation to: /content/SanJose/satellite_37.29362_-121.761862.jpg\n",
      "Inferencing on: /content/House_price/satellite_images/SanJose/satellite_37.291927_-121.856483.jpg\n",
      "Saved predicted segmentation to: /content/SanJose/satellite_37.291927_-121.856483.jpg\n",
      "Inferencing on: /content/House_price/satellite_images/SanJose/satellite_37.279586_-121.775776.jpg\n",
      "Saved predicted segmentation to: /content/SanJose/satellite_37.279586_-121.775776.jpg\n",
      "Inferencing on: /content/House_price/satellite_images/SanJose/satellite_37.288918_-121.760021.jpg\n",
      "Saved predicted segmentation to: /content/SanJose/satellite_37.288918_-121.760021.jpg\n",
      "Inferencing on: /content/House_price/satellite_images/SanJose/satellite_37.2976_-121.898335.jpg\n",
      "Saved predicted segmentation to: /content/SanJose/satellite_37.2976_-121.898335.jpg\n",
      "Inferencing on: /content/House_price/satellite_images/SanJose/satellite_37.270022_-121.819388.jpg\n",
      "Saved predicted segmentation to: /content/SanJose/satellite_37.270022_-121.819388.jpg\n",
      "Inferencing on: /content/House_price/satellite_images/SanJose/satellite_37.234285_-121.911067.jpg\n",
      "Saved predicted segmentation to: /content/SanJose/satellite_37.234285_-121.911067.jpg\n",
      "Inferencing on: /content/House_price/satellite_images/SanJose/satellite_37.273533_-121.744476.jpg\n"
     ]
    },
    {
     "output_type": "stream",
     "name": "stderr",
     "text": [
      "Processing Images:  10%|▉         | 280/2837 [00:08<01:15, 34.01image/s]"
     ]
    },
    {
     "output_type": "stream",
     "name": "stdout",
     "text": [
      "Saved predicted segmentation to: /content/SanJose/satellite_37.273533_-121.744476.jpg\n",
      "Inferencing on: /content/House_price/satellite_images/SanJose/satellite_37.28251_-121.982433.jpg\n",
      "Saved predicted segmentation to: /content/SanJose/satellite_37.28251_-121.982433.jpg\n",
      "Inferencing on: /content/House_price/satellite_images/SanJose/satellite_37.287315_-121.843652.jpg\n",
      "Saved predicted segmentation to: /content/SanJose/satellite_37.287315_-121.843652.jpg\n",
      "Inferencing on: /content/House_price/satellite_images/SanJose/satellite_37.26787_-121.800544.jpg\n",
      "Saved predicted segmentation to: /content/SanJose/satellite_37.26787_-121.800544.jpg\n",
      "Inferencing on: /content/House_price/satellite_images/SanJose/satellite_37.377197_-121.811451.jpg\n",
      "Saved predicted segmentation to: /content/SanJose/satellite_37.377197_-121.811451.jpg\n",
      "Inferencing on: /content/House_price/satellite_images/SanJose/satellite_37.36935_-121.804934.jpg\n",
      "Saved predicted segmentation to: /content/SanJose/satellite_37.36935_-121.804934.jpg\n",
      "Inferencing on: /content/House_price/satellite_images/SanJose/satellite_37.305493_-121.834582.jpg\n",
      "Saved predicted segmentation to: /content/SanJose/satellite_37.305493_-121.834582.jpg\n",
      "Inferencing on: /content/House_price/satellite_images/SanJose/satellite_37.308526_-121.962127.jpg\n"
     ]
    },
    {
     "output_type": "stream",
     "name": "stderr",
     "text": [
      "Processing Images:  10%|█         | 288/2837 [00:08<01:14, 34.39image/s]"
     ]
    },
    {
     "output_type": "stream",
     "name": "stdout",
     "text": [
      "Saved predicted segmentation to: /content/SanJose/satellite_37.308526_-121.962127.jpg\n",
      "Inferencing on: /content/House_price/satellite_images/SanJose/satellite_37.367773_-121.864414.jpg\n",
      "Saved predicted segmentation to: /content/SanJose/satellite_37.367773_-121.864414.jpg\n",
      "Inferencing on: /content/House_price/satellite_images/SanJose/satellite_37.307048_-121.962789.jpg\n",
      "Saved predicted segmentation to: /content/SanJose/satellite_37.307048_-121.962789.jpg\n",
      "Inferencing on: /content/House_price/satellite_images/SanJose/satellite_37.249672_-121.814167.jpg\n",
      "Saved predicted segmentation to: /content/SanJose/satellite_37.249672_-121.814167.jpg\n",
      "Inferencing on: /content/House_price/satellite_images/SanJose/satellite_37.264489_-121.909487.jpg\n",
      "Saved predicted segmentation to: /content/SanJose/satellite_37.264489_-121.909487.jpg\n",
      "Inferencing on: /content/House_price/satellite_images/SanJose/satellite_37.349785_-121.815414.jpg\n",
      "Saved predicted segmentation to: /content/SanJose/satellite_37.349785_-121.815414.jpg\n",
      "Inferencing on: /content/House_price/satellite_images/SanJose/satellite_37.323524_-121.790893.jpg\n",
      "Saved predicted segmentation to: /content/SanJose/satellite_37.323524_-121.790893.jpg\n",
      "Inferencing on: /content/House_price/satellite_images/SanJose/satellite_37.256748_-121.912474.jpg\n",
      "Saved predicted segmentation to: /content/SanJose/satellite_37.256748_-121.912474.jpg\n"
     ]
    },
    {
     "output_type": "stream",
     "name": "stderr",
     "text": [
      "Processing Images:  10%|█         | 296/2837 [00:08<01:13, 34.55image/s]"
     ]
    },
    {
     "output_type": "stream",
     "name": "stdout",
     "text": [
      "Inferencing on: /content/House_price/satellite_images/SanJose/satellite_37.334875_-121.887054.jpg\n",
      "Saved predicted segmentation to: /content/SanJose/satellite_37.334875_-121.887054.jpg\n",
      "Inferencing on: /content/House_price/satellite_images/SanJose/satellite_37.391041_-121.833511.jpg\n",
      "Saved predicted segmentation to: /content/SanJose/satellite_37.391041_-121.833511.jpg\n",
      "Inferencing on: /content/House_price/satellite_images/SanJose/satellite_37.316029_-121.76478.jpg\n",
      "Saved predicted segmentation to: /content/SanJose/satellite_37.316029_-121.76478.jpg\n",
      "Inferencing on: /content/House_price/satellite_images/SanJose/satellite_37.243245_-121.86751.jpg\n",
      "Saved predicted segmentation to: /content/SanJose/satellite_37.243245_-121.86751.jpg\n",
      "Inferencing on: /content/House_price/satellite_images/SanJose/satellite_37.342692_-121.892842.jpg\n",
      "Saved predicted segmentation to: /content/SanJose/satellite_37.342692_-121.892842.jpg\n",
      "Inferencing on: /content/House_price/satellite_images/SanJose/satellite_37.412318_-121.853263.jpg\n",
      "Saved predicted segmentation to: /content/SanJose/satellite_37.412318_-121.853263.jpg\n",
      "Inferencing on: /content/House_price/satellite_images/SanJose/satellite_37.317383_-121.95311.jpg\n",
      "Saved predicted segmentation to: /content/SanJose/satellite_37.317383_-121.95311.jpg\n",
      "Inferencing on: /content/House_price/satellite_images/SanJose/satellite_37.261592_-121.916483.jpg\n",
      "Saved predicted segmentation to: /content/SanJose/satellite_37.261592_-121.916483.jpg\n"
     ]
    },
    {
     "output_type": "stream",
     "name": "stderr",
     "text": [
      "\rProcessing Images:  11%|█         | 300/2837 [00:08<01:13, 34.67image/s]"
     ]
    },
    {
     "output_type": "stream",
     "name": "stdout",
     "text": [
      "Inferencing on: /content/House_price/satellite_images/SanJose/satellite_37.329735_-121.914418.jpg\n",
      "Saved predicted segmentation to: /content/SanJose/satellite_37.329735_-121.914418.jpg\n",
      "Inferencing on: /content/House_price/satellite_images/SanJose/satellite_37.248109_-121.819635.jpg\n",
      "Saved predicted segmentation to: /content/SanJose/satellite_37.248109_-121.819635.jpg\n",
      "Inferencing on: /content/House_price/satellite_images/SanJose/satellite_37.326464_-121.879568.jpg\n",
      "Saved predicted segmentation to: /content/SanJose/satellite_37.326464_-121.879568.jpg\n",
      "Inferencing on: /content/House_price/satellite_images/SanJose/satellite_37.297821_-121.834358.jpg\n",
      "Saved predicted segmentation to: /content/SanJose/satellite_37.297821_-121.834358.jpg\n",
      "Inferencing on: /content/House_price/satellite_images/SanJose/satellite_37.280805_-121.895746.jpg\n",
      "Saved predicted segmentation to: /content/SanJose/satellite_37.280805_-121.895746.jpg\n",
      "Inferencing on: /content/House_price/satellite_images/SanJose/satellite_37.359003_-121.889112.jpg\n",
      "Saved predicted segmentation to: /content/SanJose/satellite_37.359003_-121.889112.jpg\n",
      "Inferencing on: /content/House_price/satellite_images/SanJose/satellite_37.297046_-121.900253.jpg\n",
      "Saved predicted segmentation to: /content/SanJose/satellite_37.297046_-121.900253.jpg\n"
     ]
    },
    {
     "output_type": "stream",
     "name": "stderr",
     "text": [
      "Processing Images:  11%|█         | 308/2837 [00:09<01:13, 34.38image/s]"
     ]
    },
    {
     "output_type": "stream",
     "name": "stdout",
     "text": [
      "Inferencing on: /content/House_price/satellite_images/SanJose/satellite_37.243878_-121.851655.jpg\n",
      "Saved predicted segmentation to: /content/SanJose/satellite_37.243878_-121.851655.jpg\n",
      "Inferencing on: /content/House_price/satellite_images/SanJose/satellite_37.34241_-121.83369.jpg\n",
      "Saved predicted segmentation to: /content/SanJose/satellite_37.34241_-121.83369.jpg\n",
      "Inferencing on: /content/House_price/satellite_images/SanJose/satellite_37.354172_-121.832958.jpg\n",
      "Saved predicted segmentation to: /content/SanJose/satellite_37.354172_-121.832958.jpg\n",
      "Inferencing on: /content/House_price/satellite_images/SanJose/satellite_37.355257_-121.822537.jpg\n",
      "Saved predicted segmentation to: /content/SanJose/satellite_37.355257_-121.822537.jpg\n",
      "Inferencing on: /content/House_price/satellite_images/SanJose/satellite_37.301751_-121.870033.jpg\n",
      "Saved predicted segmentation to: /content/SanJose/satellite_37.301751_-121.870033.jpg\n",
      "Inferencing on: /content/House_price/satellite_images/SanJose/satellite_37.332522_-121.936141.jpg\n",
      "Saved predicted segmentation to: /content/SanJose/satellite_37.332522_-121.936141.jpg\n",
      "Inferencing on: /content/House_price/satellite_images/SanJose/satellite_37.314694_-121.890678.jpg\n"
     ]
    },
    {
     "output_type": "stream",
     "name": "stderr",
     "text": [
      "Processing Images:  11%|█         | 316/2837 [00:09<01:13, 34.42image/s]"
     ]
    },
    {
     "output_type": "stream",
     "name": "stdout",
     "text": [
      "Saved predicted segmentation to: /content/SanJose/satellite_37.314694_-121.890678.jpg\n",
      "Inferencing on: /content/House_price/satellite_images/SanJose/satellite_37.343264_-121.930107.jpg\n",
      "Saved predicted segmentation to: /content/SanJose/satellite_37.343264_-121.930107.jpg\n",
      "Inferencing on: /content/House_price/satellite_images/SanJose/satellite_37.324708_-121.842038.jpg\n",
      "Saved predicted segmentation to: /content/SanJose/satellite_37.324708_-121.842038.jpg\n",
      "Inferencing on: /content/House_price/satellite_images/SanJose/satellite_37.241688_-121.76354.jpg\n",
      "Saved predicted segmentation to: /content/SanJose/satellite_37.241688_-121.76354.jpg\n",
      "Inferencing on: /content/House_price/satellite_images/SanJose/satellite_37.265567_-121.869646.jpg\n",
      "Saved predicted segmentation to: /content/SanJose/satellite_37.265567_-121.869646.jpg\n",
      "Inferencing on: /content/House_price/satellite_images/SanJose/satellite_37.234784_-121.897193.jpg\n",
      "Saved predicted segmentation to: /content/SanJose/satellite_37.234784_-121.897193.jpg\n",
      "Inferencing on: /content/House_price/satellite_images/SanJose/satellite_37.296877_-121.790873.jpg\n",
      "Saved predicted segmentation to: /content/SanJose/satellite_37.296877_-121.790873.jpg\n",
      "Inferencing on: /content/House_price/satellite_images/SanJose/satellite_37.243319_-121.830452.jpg\n"
     ]
    },
    {
     "output_type": "stream",
     "name": "stderr",
     "text": [
      "Processing Images:  11%|█▏        | 324/2837 [00:09<01:12, 34.61image/s]"
     ]
    },
    {
     "output_type": "stream",
     "name": "stdout",
     "text": [
      "Saved predicted segmentation to: /content/SanJose/satellite_37.243319_-121.830452.jpg\n",
      "Inferencing on: /content/House_price/satellite_images/SanJose/satellite_37.212626_-121.836635.jpg\n",
      "Saved predicted segmentation to: /content/SanJose/satellite_37.212626_-121.836635.jpg\n",
      "Inferencing on: /content/House_price/satellite_images/SanJose/satellite_37.317479_-121.857266.jpg\n",
      "Saved predicted segmentation to: /content/SanJose/satellite_37.317479_-121.857266.jpg\n",
      "Inferencing on: /content/House_price/satellite_images/SanJose/satellite_37.284167_-121.742684.jpg\n",
      "Saved predicted segmentation to: /content/SanJose/satellite_37.284167_-121.742684.jpg\n",
      "Inferencing on: /content/House_price/satellite_images/SanJose/satellite_37.277714_-121.923809.jpg\n",
      "Saved predicted segmentation to: /content/SanJose/satellite_37.277714_-121.923809.jpg\n",
      "Inferencing on: /content/House_price/satellite_images/SanJose/satellite_37.272753_-121.765377.jpg\n",
      "Saved predicted segmentation to: /content/SanJose/satellite_37.272753_-121.765377.jpg\n",
      "Inferencing on: /content/House_price/satellite_images/SanJose/satellite_37.351072_-121.799814.jpg\n",
      "Saved predicted segmentation to: /content/SanJose/satellite_37.351072_-121.799814.jpg\n",
      "Inferencing on: /content/House_price/satellite_images/SanJose/satellite_37.317493_-121.779136.jpg\n",
      "Saved predicted segmentation to: /content/SanJose/satellite_37.317493_-121.779136.jpg\n"
     ]
    },
    {
     "output_type": "stream",
     "name": "stderr",
     "text": [
      "\rProcessing Images:  12%|█▏        | 328/2837 [00:09<01:12, 34.66image/s]"
     ]
    },
    {
     "output_type": "stream",
     "name": "stdout",
     "text": [
      "Inferencing on: /content/House_price/satellite_images/SanJose/satellite_37.28611_-121.897467.jpg\n",
      "Saved predicted segmentation to: /content/SanJose/satellite_37.28611_-121.897467.jpg\n",
      "Inferencing on: /content/House_price/satellite_images/SanJose/satellite_37.320171_-121.943978.jpg\n",
      "Saved predicted segmentation to: /content/SanJose/satellite_37.320171_-121.943978.jpg\n",
      "Inferencing on: /content/House_price/satellite_images/SanJose/satellite_37.235569_-121.886234.jpg\n",
      "Saved predicted segmentation to: /content/SanJose/satellite_37.235569_-121.886234.jpg\n",
      "Inferencing on: /content/House_price/satellite_images/SanJose/satellite_37.306784_-121.897973.jpg\n",
      "Saved predicted segmentation to: /content/SanJose/satellite_37.306784_-121.897973.jpg\n",
      "Inferencing on: /content/House_price/satellite_images/SanJose/satellite_37.285153_-121.889141.jpg\n",
      "Saved predicted segmentation to: /content/SanJose/satellite_37.285153_-121.889141.jpg\n",
      "Inferencing on: /content/House_price/satellite_images/SanJose/satellite_37.286349_-121.740647.jpg\n",
      "Saved predicted segmentation to: /content/SanJose/satellite_37.286349_-121.740647.jpg\n",
      "Inferencing on: /content/House_price/satellite_images/SanJose/satellite_37.282122_-121.879043.jpg\n",
      "Saved predicted segmentation to: /content/SanJose/satellite_37.282122_-121.879043.jpg\n",
      "Inferencing on: /content/House_price/satellite_images/SanJose/satellite_37.273104_-121.98827.jpg\n"
     ]
    },
    {
     "output_type": "stream",
     "name": "stderr",
     "text": [
      "Processing Images:  12%|█▏        | 336/2837 [00:09<01:12, 34.33image/s]"
     ]
    },
    {
     "output_type": "stream",
     "name": "stdout",
     "text": [
      "Saved predicted segmentation to: /content/SanJose/satellite_37.273104_-121.98827.jpg\n",
      "Inferencing on: /content/House_price/satellite_images/SanJose/satellite_37.237985_-121.858912.jpg\n",
      "Saved predicted segmentation to: /content/SanJose/satellite_37.237985_-121.858912.jpg\n",
      "Inferencing on: /content/House_price/satellite_images/SanJose/satellite_37.334754_-121.886917.jpg\n",
      "Saved predicted segmentation to: /content/SanJose/satellite_37.334754_-121.886917.jpg\n",
      "Inferencing on: /content/House_price/satellite_images/SanJose/satellite_37.385882_-121.869625.jpg\n",
      "Saved predicted segmentation to: /content/SanJose/satellite_37.385882_-121.869625.jpg\n",
      "Inferencing on: /content/House_price/satellite_images/SanJose/satellite_37.317787_-121.954712.jpg\n",
      "Saved predicted segmentation to: /content/SanJose/satellite_37.317787_-121.954712.jpg\n",
      "Inferencing on: /content/House_price/satellite_images/SanJose/satellite_37.263875_-121.929395.jpg\n",
      "Saved predicted segmentation to: /content/SanJose/satellite_37.263875_-121.929395.jpg\n",
      "Inferencing on: /content/House_price/satellite_images/SanJose/satellite_37.265594_-121.911232.jpg\n",
      "Saved predicted segmentation to: /content/SanJose/satellite_37.265594_-121.911232.jpg\n",
      "Inferencing on: /content/House_price/satellite_images/SanJose/satellite_37.262241_-121.943526.jpg\n"
     ]
    },
    {
     "output_type": "stream",
     "name": "stderr",
     "text": [
      "Processing Images:  12%|█▏        | 344/2837 [00:10<01:13, 33.74image/s]"
     ]
    },
    {
     "output_type": "stream",
     "name": "stdout",
     "text": [
      "Saved predicted segmentation to: /content/SanJose/satellite_37.262241_-121.943526.jpg\n",
      "Inferencing on: /content/House_price/satellite_images/SanJose/satellite_37.310088_-121.905882.jpg\n",
      "Saved predicted segmentation to: /content/SanJose/satellite_37.310088_-121.905882.jpg\n",
      "Inferencing on: /content/House_price/satellite_images/SanJose/satellite_37.3176_-121.954918.jpg\n",
      "Saved predicted segmentation to: /content/SanJose/satellite_37.3176_-121.954918.jpg\n",
      "Inferencing on: /content/House_price/satellite_images/SanJose/satellite_37.314398_-121.939089.jpg\n",
      "Saved predicted segmentation to: /content/SanJose/satellite_37.314398_-121.939089.jpg\n",
      "Inferencing on: /content/House_price/satellite_images/SanJose/satellite_37.272773_-121.85741.jpg\n",
      "Saved predicted segmentation to: /content/SanJose/satellite_37.272773_-121.85741.jpg\n",
      "Inferencing on: /content/House_price/satellite_images/SanJose/satellite_37.33433_-121.886142.jpg\n",
      "Saved predicted segmentation to: /content/SanJose/satellite_37.33433_-121.886142.jpg\n",
      "Inferencing on: /content/House_price/satellite_images/SanJose/satellite_37.233104_-121.799279.jpg\n",
      "Saved predicted segmentation to: /content/SanJose/satellite_37.233104_-121.799279.jpg\n",
      "Inferencing on: /content/House_price/satellite_images/SanJose/satellite_37.357718_-121.90448.jpg\n"
     ]
    },
    {
     "output_type": "stream",
     "name": "stderr",
     "text": [
      "Processing Images:  12%|█▏        | 352/2837 [00:10<01:14, 33.51image/s]"
     ]
    },
    {
     "output_type": "stream",
     "name": "stdout",
     "text": [
      "Saved predicted segmentation to: /content/SanJose/satellite_37.357718_-121.90448.jpg\n",
      "Inferencing on: /content/House_price/satellite_images/SanJose/satellite_37.415668_-121.956502.jpg\n",
      "Saved predicted segmentation to: /content/SanJose/satellite_37.415668_-121.956502.jpg\n",
      "Inferencing on: /content/House_price/satellite_images/SanJose/satellite_37.2344_-121.815326.jpg\n",
      "Saved predicted segmentation to: /content/SanJose/satellite_37.2344_-121.815326.jpg\n",
      "Inferencing on: /content/House_price/satellite_images/SanJose/satellite_37.279307_-121.821669.jpg\n",
      "Saved predicted segmentation to: /content/SanJose/satellite_37.279307_-121.821669.jpg\n",
      "Inferencing on: /content/House_price/satellite_images/SanJose/satellite_37.259635_-121.911505.jpg\n",
      "Saved predicted segmentation to: /content/SanJose/satellite_37.259635_-121.911505.jpg\n",
      "Inferencing on: /content/House_price/satellite_images/SanJose/satellite_37.403753_-121.885293.jpg\n",
      "Saved predicted segmentation to: /content/SanJose/satellite_37.403753_-121.885293.jpg\n",
      "Inferencing on: /content/House_price/satellite_images/SanJose/satellite_37.248239_-121.930533.jpg\n",
      "Saved predicted segmentation to: /content/SanJose/satellite_37.248239_-121.930533.jpg\n",
      "Inferencing on: /content/House_price/satellite_images/SanJose/satellite_37.239832_-121.81978.jpg\n"
     ]
    },
    {
     "output_type": "stream",
     "name": "stderr",
     "text": [
      "\rProcessing Images:  13%|█▎        | 356/2837 [00:10<01:13, 33.64image/s]"
     ]
    },
    {
     "output_type": "stream",
     "name": "stdout",
     "text": [
      "Saved predicted segmentation to: /content/SanJose/satellite_37.239832_-121.81978.jpg\n",
      "Inferencing on: /content/House_price/satellite_images/SanJose/satellite_37.320017_-121.98795.jpg\n",
      "Saved predicted segmentation to: /content/SanJose/satellite_37.320017_-121.98795.jpg\n",
      "Inferencing on: /content/House_price/satellite_images/SanJose/satellite_37.336536_-121.937413.jpg\n",
      "Saved predicted segmentation to: /content/SanJose/satellite_37.336536_-121.937413.jpg\n",
      "Inferencing on: /content/House_price/satellite_images/SanJose/satellite_37.264199_-121.807155.jpg\n",
      "Saved predicted segmentation to: /content/SanJose/satellite_37.264199_-121.807155.jpg\n",
      "Inferencing on: /content/House_price/satellite_images/SanJose/satellite_37.317783_-121.954926.jpg\n",
      "Saved predicted segmentation to: /content/SanJose/satellite_37.317783_-121.954926.jpg\n",
      "Inferencing on: /content/House_price/satellite_images/SanJose/satellite_37.342229_-121.844479.jpg\n",
      "Saved predicted segmentation to: /content/SanJose/satellite_37.342229_-121.844479.jpg\n",
      "Inferencing on: /content/House_price/satellite_images/SanJose/satellite_37.229836_-121.829778.jpg\n",
      "Saved predicted segmentation to: /content/SanJose/satellite_37.229836_-121.829778.jpg\n",
      "Inferencing on: /content/House_price/satellite_images/SanJose/satellite_37.309719_-121.80388.jpg\n"
     ]
    },
    {
     "output_type": "stream",
     "name": "stderr",
     "text": [
      "Processing Images:  13%|█▎        | 364/2837 [00:10<01:12, 34.01image/s]"
     ]
    },
    {
     "output_type": "stream",
     "name": "stdout",
     "text": [
      "Saved predicted segmentation to: /content/SanJose/satellite_37.309719_-121.80388.jpg\n",
      "Inferencing on: /content/House_price/satellite_images/SanJose/satellite_37.362003_-121.834378.jpg\n",
      "Saved predicted segmentation to: /content/SanJose/satellite_37.362003_-121.834378.jpg\n",
      "Inferencing on: /content/House_price/satellite_images/SanJose/satellite_37.379375_-121.829858.jpg\n",
      "Saved predicted segmentation to: /content/SanJose/satellite_37.379375_-121.829858.jpg\n",
      "Inferencing on: /content/House_price/satellite_images/SanJose/satellite_37.32867_-121.842607.jpg\n",
      "Saved predicted segmentation to: /content/SanJose/satellite_37.32867_-121.842607.jpg\n",
      "Inferencing on: /content/House_price/satellite_images/SanJose/satellite_37.292435_-121.752603.jpg\n",
      "Saved predicted segmentation to: /content/SanJose/satellite_37.292435_-121.752603.jpg\n",
      "Inferencing on: /content/House_price/satellite_images/SanJose/satellite_37.240008_-121.895787.jpg\n",
      "Saved predicted segmentation to: /content/SanJose/satellite_37.240008_-121.895787.jpg\n",
      "Inferencing on: /content/House_price/satellite_images/SanJose/satellite_37.243145_-121.930696.jpg\n",
      "Saved predicted segmentation to: /content/SanJose/satellite_37.243145_-121.930696.jpg\n",
      "Inferencing on: /content/House_price/satellite_images/SanJose/satellite_37.358735_-121.903553.jpg\n"
     ]
    },
    {
     "output_type": "stream",
     "name": "stderr",
     "text": [
      "Processing Images:  13%|█▎        | 372/2837 [00:10<01:13, 33.72image/s]"
     ]
    },
    {
     "output_type": "stream",
     "name": "stdout",
     "text": [
      "Saved predicted segmentation to: /content/SanJose/satellite_37.358735_-121.903553.jpg\n",
      "Inferencing on: /content/House_price/satellite_images/SanJose/satellite_37.203491_-121.831327.jpg\n",
      "Saved predicted segmentation to: /content/SanJose/satellite_37.203491_-121.831327.jpg\n",
      "Inferencing on: /content/House_price/satellite_images/SanJose/satellite_37.408143_-121.851813.jpg\n",
      "Saved predicted segmentation to: /content/SanJose/satellite_37.408143_-121.851813.jpg\n",
      "Inferencing on: /content/House_price/satellite_images/SanJose/satellite_37.277276_-121.895677.jpg\n",
      "Saved predicted segmentation to: /content/SanJose/satellite_37.277276_-121.895677.jpg\n",
      "Inferencing on: /content/House_price/satellite_images/SanJose/satellite_37.322623_-121.916646.jpg\n",
      "Saved predicted segmentation to: /content/SanJose/satellite_37.322623_-121.916646.jpg\n",
      "Inferencing on: /content/House_price/satellite_images/SanJose/satellite_37.400258_-121.860556.jpg\n",
      "Saved predicted segmentation to: /content/SanJose/satellite_37.400258_-121.860556.jpg\n",
      "Inferencing on: /content/House_price/satellite_images/SanJose/satellite_37.34124_-121.809011.jpg\n",
      "Saved predicted segmentation to: /content/SanJose/satellite_37.34124_-121.809011.jpg\n",
      "Inferencing on: /content/House_price/satellite_images/SanJose/satellite_37.248518_-121.784948.jpg\n"
     ]
    },
    {
     "output_type": "stream",
     "name": "stderr",
     "text": [
      "Processing Images:  13%|█▎        | 380/2837 [00:11<01:13, 33.55image/s]"
     ]
    },
    {
     "output_type": "stream",
     "name": "stdout",
     "text": [
      "Saved predicted segmentation to: /content/SanJose/satellite_37.248518_-121.784948.jpg\n",
      "Inferencing on: /content/House_price/satellite_images/SanJose/satellite_37.308092_-121.886079.jpg\n",
      "Saved predicted segmentation to: /content/SanJose/satellite_37.308092_-121.886079.jpg\n",
      "Inferencing on: /content/House_price/satellite_images/SanJose/satellite_37.332199_-121.917483.jpg\n",
      "Saved predicted segmentation to: /content/SanJose/satellite_37.332199_-121.917483.jpg\n",
      "Inferencing on: /content/House_price/satellite_images/SanJose/satellite_37.296616_-121.874596.jpg\n",
      "Saved predicted segmentation to: /content/SanJose/satellite_37.296616_-121.874596.jpg\n",
      "Inferencing on: /content/House_price/satellite_images/SanJose/satellite_37.261408_-121.916898.jpg\n",
      "Saved predicted segmentation to: /content/SanJose/satellite_37.261408_-121.916898.jpg\n",
      "Inferencing on: /content/House_price/satellite_images/SanJose/satellite_37.363786_-121.91385.jpg\n",
      "Saved predicted segmentation to: /content/SanJose/satellite_37.363786_-121.91385.jpg\n",
      "Inferencing on: /content/House_price/satellite_images/SanJose/satellite_37.381017_-121.818678.jpg\n",
      "Saved predicted segmentation to: /content/SanJose/satellite_37.381017_-121.818678.jpg\n",
      "Inferencing on: /content/House_price/satellite_images/SanJose/satellite_37.333782_-121.849335.jpg\n"
     ]
    },
    {
     "output_type": "stream",
     "name": "stderr",
     "text": [
      "\rProcessing Images:  14%|█▎        | 384/2837 [00:11<01:13, 33.55image/s]"
     ]
    },
    {
     "output_type": "stream",
     "name": "stdout",
     "text": [
      "Saved predicted segmentation to: /content/SanJose/satellite_37.333782_-121.849335.jpg\n",
      "Inferencing on: /content/House_price/satellite_images/SanJose/satellite_37.258179_-121.826618.jpg\n",
      "Saved predicted segmentation to: /content/SanJose/satellite_37.258179_-121.826618.jpg\n",
      "Inferencing on: /content/House_price/satellite_images/SanJose/satellite_37.253128_-121.79332.jpg\n",
      "Saved predicted segmentation to: /content/SanJose/satellite_37.253128_-121.79332.jpg\n",
      "Inferencing on: /content/House_price/satellite_images/SanJose/satellite_37.301716_-121.844429.jpg\n",
      "Saved predicted segmentation to: /content/SanJose/satellite_37.301716_-121.844429.jpg\n",
      "Inferencing on: /content/House_price/satellite_images/SanJose/satellite_37.343957_-121.858456.jpg\n",
      "Saved predicted segmentation to: /content/SanJose/satellite_37.343957_-121.858456.jpg\n",
      "Inferencing on: /content/House_price/satellite_images/SanJose/satellite_37.300886_-121.936979.jpg\n",
      "Saved predicted segmentation to: /content/SanJose/satellite_37.300886_-121.936979.jpg\n",
      "Inferencing on: /content/House_price/satellite_images/SanJose/satellite_37.290002_-121.853963.jpg\n",
      "Saved predicted segmentation to: /content/SanJose/satellite_37.290002_-121.853963.jpg\n",
      "Inferencing on: /content/House_price/satellite_images/SanJose/satellite_37.282305_-121.991111.jpg\n"
     ]
    },
    {
     "output_type": "stream",
     "name": "stderr",
     "text": [
      "Processing Images:  14%|█▍        | 392/2837 [00:11<01:12, 33.66image/s]"
     ]
    },
    {
     "output_type": "stream",
     "name": "stdout",
     "text": [
      "Saved predicted segmentation to: /content/SanJose/satellite_37.282305_-121.991111.jpg\n",
      "Inferencing on: /content/House_price/satellite_images/SanJose/satellite_37.349539_-121.850054.jpg\n",
      "Saved predicted segmentation to: /content/SanJose/satellite_37.349539_-121.850054.jpg\n",
      "Inferencing on: /content/House_price/satellite_images/SanJose/satellite_37.232015_-121.845617.jpg\n",
      "Saved predicted segmentation to: /content/SanJose/satellite_37.232015_-121.845617.jpg\n",
      "Inferencing on: /content/House_price/satellite_images/SanJose/satellite_37.360806_-121.892355.jpg\n",
      "Saved predicted segmentation to: /content/SanJose/satellite_37.360806_-121.892355.jpg\n",
      "Inferencing on: /content/House_price/satellite_images/SanJose/satellite_37.301371_-121.775698.jpg\n",
      "Saved predicted segmentation to: /content/SanJose/satellite_37.301371_-121.775698.jpg\n",
      "Inferencing on: /content/House_price/satellite_images/SanJose/satellite_37.286143_-121.89871.jpg\n",
      "Saved predicted segmentation to: /content/SanJose/satellite_37.286143_-121.89871.jpg\n",
      "Inferencing on: /content/House_price/satellite_images/SanJose/satellite_37.29421_-121.752724.jpg\n",
      "Saved predicted segmentation to: /content/SanJose/satellite_37.29421_-121.752724.jpg\n",
      "Inferencing on: /content/House_price/satellite_images/SanJose/satellite_37.283377_-121.753881.jpg\n"
     ]
    },
    {
     "output_type": "stream",
     "name": "stderr",
     "text": [
      "Processing Images:  14%|█▍        | 400/2837 [00:11<01:12, 33.72image/s]"
     ]
    },
    {
     "output_type": "stream",
     "name": "stdout",
     "text": [
      "Saved predicted segmentation to: /content/SanJose/satellite_37.283377_-121.753881.jpg\n",
      "Inferencing on: /content/House_price/satellite_images/SanJose/satellite_37.298042_-121.883729.jpg\n",
      "Saved predicted segmentation to: /content/SanJose/satellite_37.298042_-121.883729.jpg\n",
      "Inferencing on: /content/House_price/satellite_images/SanJose/satellite_37.333364_-121.784877.jpg\n",
      "Saved predicted segmentation to: /content/SanJose/satellite_37.333364_-121.784877.jpg\n",
      "Inferencing on: /content/House_price/satellite_images/SanJose/satellite_37.280353_-121.924538.jpg\n",
      "Saved predicted segmentation to: /content/SanJose/satellite_37.280353_-121.924538.jpg\n",
      "Inferencing on: /content/House_price/satellite_images/SanJose/satellite_37.361981_-121.762415.jpg\n",
      "Saved predicted segmentation to: /content/SanJose/satellite_37.361981_-121.762415.jpg\n",
      "Inferencing on: /content/House_price/satellite_images/SanJose/satellite_37.235113_-121.851989.jpg\n",
      "Saved predicted segmentation to: /content/SanJose/satellite_37.235113_-121.851989.jpg\n",
      "Inferencing on: /content/House_price/satellite_images/SanJose/satellite_37.297322_-121.846483.jpg\n",
      "Saved predicted segmentation to: /content/SanJose/satellite_37.297322_-121.846483.jpg\n",
      "Inferencing on: /content/House_price/satellite_images/SanJose/satellite_37.313919_-121.834614.jpg\n"
     ]
    },
    {
     "output_type": "stream",
     "name": "stderr",
     "text": [
      "Processing Images:  14%|█▍        | 408/2837 [00:11<01:12, 33.53image/s]"
     ]
    },
    {
     "output_type": "stream",
     "name": "stdout",
     "text": [
      "Saved predicted segmentation to: /content/SanJose/satellite_37.313919_-121.834614.jpg\n",
      "Inferencing on: /content/House_price/satellite_images/SanJose/satellite_37.344154_-121.815654.jpg\n",
      "Saved predicted segmentation to: /content/SanJose/satellite_37.344154_-121.815654.jpg\n",
      "Inferencing on: /content/House_price/satellite_images/SanJose/satellite_37.321791_-121.929601.jpg\n",
      "Saved predicted segmentation to: /content/SanJose/satellite_37.321791_-121.929601.jpg\n",
      "Inferencing on: /content/House_price/satellite_images/SanJose/satellite_37.353096_-121.891236.jpg\n",
      "Saved predicted segmentation to: /content/SanJose/satellite_37.353096_-121.891236.jpg\n",
      "Inferencing on: /content/House_price/satellite_images/SanJose/satellite_37.258663_-121.885343.jpg\n",
      "Saved predicted segmentation to: /content/SanJose/satellite_37.258663_-121.885343.jpg\n",
      "Inferencing on: /content/House_price/satellite_images/SanJose/satellite_37.287268_-121.901143.jpg\n",
      "Saved predicted segmentation to: /content/SanJose/satellite_37.287268_-121.901143.jpg\n",
      "Inferencing on: /content/House_price/satellite_images/SanJose/satellite_37.360153_-121.892558.jpg\n",
      "Saved predicted segmentation to: /content/SanJose/satellite_37.360153_-121.892558.jpg\n",
      "Inferencing on: /content/House_price/satellite_images/SanJose/satellite_37.246804_-121.81952.jpg\n"
     ]
    },
    {
     "output_type": "stream",
     "name": "stderr",
     "text": [
      "\rProcessing Images:  15%|█▍        | 412/2837 [00:12<01:11, 33.73image/s]"
     ]
    },
    {
     "output_type": "stream",
     "name": "stdout",
     "text": [
      "Saved predicted segmentation to: /content/SanJose/satellite_37.246804_-121.81952.jpg\n",
      "Inferencing on: /content/House_price/satellite_images/SanJose/satellite_37.223988_-121.776151.jpg\n",
      "Saved predicted segmentation to: /content/SanJose/satellite_37.223988_-121.776151.jpg\n",
      "Inferencing on: /content/House_price/satellite_images/SanJose/satellite_37.233254_-121.821767.jpg\n",
      "Saved predicted segmentation to: /content/SanJose/satellite_37.233254_-121.821767.jpg\n",
      "Inferencing on: /content/House_price/satellite_images/SanJose/satellite_37.340838_-121.926579.jpg\n",
      "Saved predicted segmentation to: /content/SanJose/satellite_37.340838_-121.926579.jpg\n",
      "Inferencing on: /content/House_price/satellite_images/SanJose/satellite_37.34964_-121.865737.jpg\n",
      "Saved predicted segmentation to: /content/SanJose/satellite_37.34964_-121.865737.jpg\n",
      "Inferencing on: /content/House_price/satellite_images/SanJose/satellite_37.340317_-121.864965.jpg\n",
      "Saved predicted segmentation to: /content/SanJose/satellite_37.340317_-121.864965.jpg\n",
      "Inferencing on: /content/House_price/satellite_images/SanJose/satellite_37.289331_-121.799549.jpg\n",
      "Saved predicted segmentation to: /content/SanJose/satellite_37.289331_-121.799549.jpg\n",
      "Inferencing on: /content/House_price/satellite_images/SanJose/satellite_37.30847_-121.801421.jpg\n"
     ]
    },
    {
     "output_type": "stream",
     "name": "stderr",
     "text": [
      "Processing Images:  15%|█▍        | 420/2837 [00:12<01:12, 33.56image/s]"
     ]
    },
    {
     "output_type": "stream",
     "name": "stdout",
     "text": [
      "Saved predicted segmentation to: /content/SanJose/satellite_37.30847_-121.801421.jpg\n",
      "Inferencing on: /content/House_price/satellite_images/SanJose/satellite_37.240688_-121.911699.jpg\n",
      "Saved predicted segmentation to: /content/SanJose/satellite_37.240688_-121.911699.jpg\n",
      "Inferencing on: /content/House_price/satellite_images/SanJose/satellite_37.215678_-121.86217.jpg\n",
      "Saved predicted segmentation to: /content/SanJose/satellite_37.215678_-121.86217.jpg\n",
      "Inferencing on: /content/House_price/satellite_images/SanJose/satellite_37.266121_-121.813954.jpg\n",
      "Saved predicted segmentation to: /content/SanJose/satellite_37.266121_-121.813954.jpg\n",
      "Inferencing on: /content/House_price/satellite_images/SanJose/satellite_37.257209_-121.909525.jpg\n",
      "Saved predicted segmentation to: /content/SanJose/satellite_37.257209_-121.909525.jpg\n",
      "Inferencing on: /content/House_price/satellite_images/SanJose/satellite_37.247367_-121.843774.jpg\n",
      "Saved predicted segmentation to: /content/SanJose/satellite_37.247367_-121.843774.jpg\n",
      "Inferencing on: /content/House_price/satellite_images/SanJose/satellite_37.395515_-121.904808.jpg\n",
      "Saved predicted segmentation to: /content/SanJose/satellite_37.395515_-121.904808.jpg\n",
      "Inferencing on: /content/House_price/satellite_images/SanJose/satellite_37.259494_-121.830524.jpg\n"
     ]
    },
    {
     "output_type": "stream",
     "name": "stderr",
     "text": [
      "Processing Images:  15%|█▌        | 428/2837 [00:12<01:12, 33.25image/s]"
     ]
    },
    {
     "output_type": "stream",
     "name": "stdout",
     "text": [
      "Saved predicted segmentation to: /content/SanJose/satellite_37.259494_-121.830524.jpg\n",
      "Inferencing on: /content/House_price/satellite_images/SanJose/satellite_37.319435_-121.783934.jpg\n",
      "Saved predicted segmentation to: /content/SanJose/satellite_37.319435_-121.783934.jpg\n",
      "Inferencing on: /content/House_price/satellite_images/SanJose/satellite_37.305399_-122.014702.jpg\n",
      "Saved predicted segmentation to: /content/SanJose/satellite_37.305399_-122.014702.jpg\n",
      "Inferencing on: /content/House_price/satellite_images/SanJose/satellite_37.226974_-121.805463.jpg\n",
      "Saved predicted segmentation to: /content/SanJose/satellite_37.226974_-121.805463.jpg\n",
      "Inferencing on: /content/House_price/satellite_images/SanJose/satellite_37.349489_-121.896505.jpg\n",
      "Saved predicted segmentation to: /content/SanJose/satellite_37.349489_-121.896505.jpg\n",
      "Inferencing on: /content/House_price/satellite_images/SanJose/satellite_37.317631_-121.955246.jpg\n",
      "Saved predicted segmentation to: /content/SanJose/satellite_37.317631_-121.955246.jpg\n",
      "Inferencing on: /content/House_price/satellite_images/SanJose/satellite_37.317123_-121.828506.jpg\n",
      "Saved predicted segmentation to: /content/SanJose/satellite_37.317123_-121.828506.jpg\n",
      "Inferencing on: /content/House_price/satellite_images/SanJose/satellite_37.41116_-121.861909.jpg\n"
     ]
    },
    {
     "output_type": "stream",
     "name": "stderr",
     "text": [
      "Processing Images:  15%|█▌        | 436/2837 [00:12<01:12, 32.95image/s]"
     ]
    },
    {
     "output_type": "stream",
     "name": "stdout",
     "text": [
      "Saved predicted segmentation to: /content/SanJose/satellite_37.41116_-121.861909.jpg\n",
      "Inferencing on: /content/House_price/satellite_images/SanJose/satellite_37.320442_-121.819978.jpg\n",
      "Saved predicted segmentation to: /content/SanJose/satellite_37.320442_-121.819978.jpg\n",
      "Inferencing on: /content/House_price/satellite_images/SanJose/satellite_37.312503_-121.951684.jpg\n",
      "Saved predicted segmentation to: /content/SanJose/satellite_37.312503_-121.951684.jpg\n",
      "Inferencing on: /content/House_price/satellite_images/SanJose/satellite_37.176708_-121.82284.jpg\n",
      "Saved predicted segmentation to: /content/SanJose/satellite_37.176708_-121.82284.jpg\n",
      "Inferencing on: /content/House_price/satellite_images/SanJose/satellite_37.24855_-121.840113.jpg\n",
      "Saved predicted segmentation to: /content/SanJose/satellite_37.24855_-121.840113.jpg\n",
      "Inferencing on: /content/House_price/satellite_images/SanJose/satellite_37.316788_-121.807563.jpg\n",
      "Saved predicted segmentation to: /content/SanJose/satellite_37.316788_-121.807563.jpg\n",
      "Inferencing on: /content/House_price/satellite_images/SanJose/satellite_37.398607_-121.869803.jpg\n",
      "Saved predicted segmentation to: /content/SanJose/satellite_37.398607_-121.869803.jpg\n",
      "Inferencing on: /content/House_price/satellite_images/SanJose/satellite_37.361963_-121.840168.jpg\n"
     ]
    },
    {
     "output_type": "stream",
     "name": "stderr",
     "text": [
      "\rProcessing Images:  16%|█▌        | 440/2837 [00:12<01:12, 33.02image/s]"
     ]
    },
    {
     "output_type": "stream",
     "name": "stdout",
     "text": [
      "Saved predicted segmentation to: /content/SanJose/satellite_37.361963_-121.840168.jpg\n",
      "Inferencing on: /content/House_price/satellite_images/SanJose/satellite_37.347061_-121.902172.jpg\n",
      "Saved predicted segmentation to: /content/SanJose/satellite_37.347061_-121.902172.jpg\n",
      "Inferencing on: /content/House_price/satellite_images/SanJose/satellite_37.220134_-121.907427.jpg\n",
      "Saved predicted segmentation to: /content/SanJose/satellite_37.220134_-121.907427.jpg\n",
      "Inferencing on: /content/House_price/satellite_images/SanJose/satellite_37.284836_-121.918996.jpg\n",
      "Saved predicted segmentation to: /content/SanJose/satellite_37.284836_-121.918996.jpg\n",
      "Inferencing on: /content/House_price/satellite_images/SanJose/satellite_37.279776_-121.862861.jpg\n",
      "Saved predicted segmentation to: /content/SanJose/satellite_37.279776_-121.862861.jpg\n",
      "Inferencing on: /content/House_price/satellite_images/SanJose/satellite_37.278625_-121.828601.jpg\n",
      "Saved predicted segmentation to: /content/SanJose/satellite_37.278625_-121.828601.jpg\n",
      "Inferencing on: /content/House_price/satellite_images/SanJose/satellite_37.324311_-121.768989.jpg\n",
      "Saved predicted segmentation to: /content/SanJose/satellite_37.324311_-121.768989.jpg\n",
      "Inferencing on: /content/House_price/satellite_images/SanJose/satellite_37.381498_-121.855965.jpg\n"
     ]
    },
    {
     "output_type": "stream",
     "name": "stderr",
     "text": [
      "Processing Images:  16%|█▌        | 448/2837 [00:13<01:11, 33.25image/s]"
     ]
    },
    {
     "output_type": "stream",
     "name": "stdout",
     "text": [
      "Saved predicted segmentation to: /content/SanJose/satellite_37.381498_-121.855965.jpg\n",
      "Inferencing on: /content/House_price/satellite_images/SanJose/satellite_37.319006_-121.841651.jpg\n",
      "Saved predicted segmentation to: /content/SanJose/satellite_37.319006_-121.841651.jpg\n",
      "Inferencing on: /content/House_price/satellite_images/SanJose/satellite_37.227438_-121.8046.jpg\n",
      "Saved predicted segmentation to: /content/SanJose/satellite_37.227438_-121.8046.jpg\n",
      "Inferencing on: /content/House_price/satellite_images/SanJose/satellite_37.313932_-121.824091.jpg\n",
      "Saved predicted segmentation to: /content/SanJose/satellite_37.313932_-121.824091.jpg\n",
      "Inferencing on: /content/House_price/satellite_images/SanJose/satellite_37.262604_-121.802181.jpg\n",
      "Saved predicted segmentation to: /content/SanJose/satellite_37.262604_-121.802181.jpg\n",
      "Inferencing on: /content/House_price/satellite_images/SanJose/satellite_37.322185_-121.876223.jpg\n",
      "Saved predicted segmentation to: /content/SanJose/satellite_37.322185_-121.876223.jpg\n",
      "Inferencing on: /content/House_price/satellite_images/SanJose/satellite_37.386069_-121.830461.jpg\n",
      "Saved predicted segmentation to: /content/SanJose/satellite_37.386069_-121.830461.jpg\n",
      "Inferencing on: /content/House_price/satellite_images/SanJose/satellite_37.295612_-121.870667.jpg\n"
     ]
    },
    {
     "output_type": "stream",
     "name": "stderr",
     "text": [
      "Processing Images:  16%|█▌        | 456/2837 [00:13<01:11, 33.37image/s]"
     ]
    },
    {
     "output_type": "stream",
     "name": "stdout",
     "text": [
      "Saved predicted segmentation to: /content/SanJose/satellite_37.295612_-121.870667.jpg\n",
      "Inferencing on: /content/House_price/satellite_images/SanJose/satellite_37.306891_-121.818171.jpg\n",
      "Saved predicted segmentation to: /content/SanJose/satellite_37.306891_-121.818171.jpg\n",
      "Inferencing on: /content/House_price/satellite_images/SanJose/satellite_37.306589_-121.942717.jpg\n",
      "Saved predicted segmentation to: /content/SanJose/satellite_37.306589_-121.942717.jpg\n",
      "Inferencing on: /content/House_price/satellite_images/SanJose/satellite_37.301662_-121.880219.jpg\n",
      "Saved predicted segmentation to: /content/SanJose/satellite_37.301662_-121.880219.jpg\n",
      "Inferencing on: /content/House_price/satellite_images/SanJose/satellite_37.217083_-121.865613.jpg\n",
      "Saved predicted segmentation to: /content/SanJose/satellite_37.217083_-121.865613.jpg\n",
      "Inferencing on: /content/House_price/satellite_images/SanJose/satellite_37.305852_-121.774567.jpg\n",
      "Saved predicted segmentation to: /content/SanJose/satellite_37.305852_-121.774567.jpg\n",
      "Inferencing on: /content/House_price/satellite_images/SanJose/satellite_37.317029_-121.979449.jpg\n",
      "Saved predicted segmentation to: /content/SanJose/satellite_37.317029_-121.979449.jpg\n",
      "Inferencing on: /content/House_price/satellite_images/SanJose/satellite_37.27094_-121.910249.jpg\n"
     ]
    },
    {
     "output_type": "stream",
     "name": "stderr",
     "text": [
      "Processing Images:  16%|█▋        | 464/2837 [00:13<01:10, 33.47image/s]"
     ]
    },
    {
     "output_type": "stream",
     "name": "stdout",
     "text": [
      "Saved predicted segmentation to: /content/SanJose/satellite_37.27094_-121.910249.jpg\n",
      "Inferencing on: /content/House_price/satellite_images/SanJose/satellite_37.401752_-121.88555.jpg\n",
      "Saved predicted segmentation to: /content/SanJose/satellite_37.401752_-121.88555.jpg\n",
      "Inferencing on: /content/House_price/satellite_images/SanJose/satellite_37.388668_-121.86339.jpg\n",
      "Saved predicted segmentation to: /content/SanJose/satellite_37.388668_-121.86339.jpg\n",
      "Inferencing on: /content/House_price/satellite_images/SanJose/satellite_37.285097_-121.852559.jpg\n",
      "Saved predicted segmentation to: /content/SanJose/satellite_37.285097_-121.852559.jpg\n",
      "Inferencing on: /content/House_price/satellite_images/SanJose/satellite_37.293956_-122.017158.jpg\n",
      "Saved predicted segmentation to: /content/SanJose/satellite_37.293956_-122.017158.jpg\n",
      "Inferencing on: /content/House_price/satellite_images/SanJose/satellite_37.249788_-121.850106.jpg\n",
      "Saved predicted segmentation to: /content/SanJose/satellite_37.249788_-121.850106.jpg\n",
      "Inferencing on: /content/House_price/satellite_images/SanJose/satellite_37.375171_-121.851035.jpg\n",
      "Saved predicted segmentation to: /content/SanJose/satellite_37.375171_-121.851035.jpg\n",
      "Inferencing on: /content/House_price/satellite_images/SanJose/satellite_37.278514_-121.905334.jpg\n"
     ]
    },
    {
     "output_type": "stream",
     "name": "stderr",
     "text": [
      "\rProcessing Images:  16%|█▋        | 468/2837 [00:13<01:10, 33.49image/s]"
     ]
    },
    {
     "output_type": "stream",
     "name": "stdout",
     "text": [
      "Saved predicted segmentation to: /content/SanJose/satellite_37.278514_-121.905334.jpg\n",
      "Inferencing on: /content/House_price/satellite_images/SanJose/satellite_37.29025_-121.891336.jpg\n",
      "Saved predicted segmentation to: /content/SanJose/satellite_37.29025_-121.891336.jpg\n",
      "Inferencing on: /content/House_price/satellite_images/SanJose/satellite_37.290055_-121.742445.jpg\n",
      "Saved predicted segmentation to: /content/SanJose/satellite_37.290055_-121.742445.jpg\n",
      "Inferencing on: /content/House_price/satellite_images/SanJose/satellite_37.296757_-121.926819.jpg\n",
      "Saved predicted segmentation to: /content/SanJose/satellite_37.296757_-121.926819.jpg\n",
      "Inferencing on: /content/House_price/satellite_images/SanJose/satellite_37.348814_-121.80276.jpg\n",
      "Saved predicted segmentation to: /content/SanJose/satellite_37.348814_-121.80276.jpg\n",
      "Inferencing on: /content/House_price/satellite_images/SanJose/satellite_37.40634_-121.847152.jpg\n",
      "Saved predicted segmentation to: /content/SanJose/satellite_37.40634_-121.847152.jpg\n",
      "Inferencing on: /content/House_price/satellite_images/SanJose/satellite_37.328526_-121.928481.jpg\n",
      "Saved predicted segmentation to: /content/SanJose/satellite_37.328526_-121.928481.jpg\n",
      "Inferencing on: /content/House_price/satellite_images/SanJose/satellite_37.317851_-121.898734.jpg\n"
     ]
    },
    {
     "output_type": "stream",
     "name": "stderr",
     "text": [
      "Processing Images:  17%|█▋        | 476/2837 [00:13<01:10, 33.65image/s]"
     ]
    },
    {
     "output_type": "stream",
     "name": "stdout",
     "text": [
      "Saved predicted segmentation to: /content/SanJose/satellite_37.317851_-121.898734.jpg\n",
      "Inferencing on: /content/House_price/satellite_images/SanJose/satellite_37.262559_-121.906813.jpg\n",
      "Saved predicted segmentation to: /content/SanJose/satellite_37.262559_-121.906813.jpg\n",
      "Inferencing on: /content/House_price/satellite_images/SanJose/satellite_37.388875_-121.897267.jpg\n",
      "Saved predicted segmentation to: /content/SanJose/satellite_37.388875_-121.897267.jpg\n",
      "Inferencing on: /content/House_price/satellite_images/SanJose/satellite_37.281308_-121.919308.jpg\n",
      "Saved predicted segmentation to: /content/SanJose/satellite_37.281308_-121.919308.jpg\n",
      "Inferencing on: /content/House_price/satellite_images/SanJose/satellite_37.320009_-121.926252.jpg\n",
      "Saved predicted segmentation to: /content/SanJose/satellite_37.320009_-121.926252.jpg\n",
      "Inferencing on: /content/House_price/satellite_images/SanJose/satellite_37.249372_-121.894531.jpg\n",
      "Saved predicted segmentation to: /content/SanJose/satellite_37.249372_-121.894531.jpg\n",
      "Inferencing on: /content/House_price/satellite_images/SanJose/satellite_37.349824_-121.856539.jpg\n",
      "Saved predicted segmentation to: /content/SanJose/satellite_37.349824_-121.856539.jpg\n",
      "Inferencing on: /content/House_price/satellite_images/SanJose/satellite_37.269045_-121.923222.jpg\n"
     ]
    },
    {
     "output_type": "stream",
     "name": "stderr",
     "text": [
      "Processing Images:  17%|█▋        | 484/2837 [00:14<01:09, 33.75image/s]"
     ]
    },
    {
     "output_type": "stream",
     "name": "stdout",
     "text": [
      "Saved predicted segmentation to: /content/SanJose/satellite_37.269045_-121.923222.jpg\n",
      "Inferencing on: /content/House_price/satellite_images/SanJose/satellite_37.228028_-121.801719.jpg\n",
      "Saved predicted segmentation to: /content/SanJose/satellite_37.228028_-121.801719.jpg\n",
      "Inferencing on: /content/House_price/satellite_images/SanJose/satellite_37.281594_-121.862289.jpg\n",
      "Saved predicted segmentation to: /content/SanJose/satellite_37.281594_-121.862289.jpg\n",
      "Inferencing on: /content/House_price/satellite_images/SanJose/satellite_37.227528_-121.832743.jpg\n",
      "Saved predicted segmentation to: /content/SanJose/satellite_37.227528_-121.832743.jpg\n",
      "Inferencing on: /content/House_price/satellite_images/SanJose/satellite_37.305748_-121.816078.jpg\n",
      "Saved predicted segmentation to: /content/SanJose/satellite_37.305748_-121.816078.jpg\n",
      "Inferencing on: /content/House_price/satellite_images/SanJose/satellite_37.304615_-121.937203.jpg\n",
      "Saved predicted segmentation to: /content/SanJose/satellite_37.304615_-121.937203.jpg\n",
      "Inferencing on: /content/House_price/satellite_images/SanJose/satellite_37.353031_-121.792482.jpg\n",
      "Saved predicted segmentation to: /content/SanJose/satellite_37.353031_-121.792482.jpg\n",
      "Inferencing on: /content/House_price/satellite_images/SanJose/satellite_37.312773_-121.971834.jpg\n"
     ]
    },
    {
     "output_type": "stream",
     "name": "stderr",
     "text": [
      "Processing Images:  17%|█▋        | 492/2837 [00:14<01:09, 33.86image/s]"
     ]
    },
    {
     "output_type": "stream",
     "name": "stdout",
     "text": [
      "Saved predicted segmentation to: /content/SanJose/satellite_37.312773_-121.971834.jpg\n",
      "Inferencing on: /content/House_price/satellite_images/SanJose/satellite_37.311034_-121.882318.jpg\n",
      "Saved predicted segmentation to: /content/SanJose/satellite_37.311034_-121.882318.jpg\n",
      "Inferencing on: /content/House_price/satellite_images/SanJose/satellite_37.308562_-121.845989.jpg\n",
      "Saved predicted segmentation to: /content/SanJose/satellite_37.308562_-121.845989.jpg\n",
      "Inferencing on: /content/House_price/satellite_images/SanJose/satellite_37.228003_-121.906101.jpg\n",
      "Saved predicted segmentation to: /content/SanJose/satellite_37.228003_-121.906101.jpg\n",
      "Inferencing on: /content/House_price/satellite_images/SanJose/satellite_37.253534_-121.837661.jpg\n",
      "Saved predicted segmentation to: /content/SanJose/satellite_37.253534_-121.837661.jpg\n",
      "Inferencing on: /content/House_price/satellite_images/SanJose/satellite_37.328358_-121.820808.jpg\n",
      "Saved predicted segmentation to: /content/SanJose/satellite_37.328358_-121.820808.jpg\n",
      "Inferencing on: /content/House_price/satellite_images/SanJose/satellite_37.271864_-121.859292.jpg\n",
      "Saved predicted segmentation to: /content/SanJose/satellite_37.271864_-121.859292.jpg\n",
      "Inferencing on: /content/House_price/satellite_images/SanJose/satellite_37.253245_-121.823575.jpg\n"
     ]
    },
    {
     "output_type": "stream",
     "name": "stderr",
     "text": [
      "\rProcessing Images:  17%|█▋        | 496/2837 [00:14<01:09, 33.87image/s]"
     ]
    },
    {
     "output_type": "stream",
     "name": "stdout",
     "text": [
      "Saved predicted segmentation to: /content/SanJose/satellite_37.253245_-121.823575.jpg\n",
      "Inferencing on: /content/House_price/satellite_images/SanJose/satellite_37.327797_-121.871155.jpg\n",
      "Saved predicted segmentation to: /content/SanJose/satellite_37.327797_-121.871155.jpg\n",
      "Inferencing on: /content/House_price/satellite_images/SanJose/satellite_37.227287_-121.809338.jpg\n",
      "Saved predicted segmentation to: /content/SanJose/satellite_37.227287_-121.809338.jpg\n",
      "Inferencing on: /content/House_price/satellite_images/SanJose/satellite_37.214349_-121.871917.jpg\n",
      "Saved predicted segmentation to: /content/SanJose/satellite_37.214349_-121.871917.jpg\n",
      "Inferencing on: /content/House_price/satellite_images/SanJose/satellite_37.36154_-121.844668.jpg\n",
      "Saved predicted segmentation to: /content/SanJose/satellite_37.36154_-121.844668.jpg\n",
      "Inferencing on: /content/House_price/satellite_images/SanJose/satellite_37.336678_-121.844805.jpg\n",
      "Saved predicted segmentation to: /content/SanJose/satellite_37.336678_-121.844805.jpg\n",
      "Inferencing on: /content/House_price/satellite_images/SanJose/satellite_37.354802_-121.877082.jpg\n",
      "Saved predicted segmentation to: /content/SanJose/satellite_37.354802_-121.877082.jpg\n",
      "Inferencing on: /content/House_price/satellite_images/SanJose/satellite_37.295252_-121.86515.jpg\n"
     ]
    },
    {
     "output_type": "stream",
     "name": "stderr",
     "text": [
      "Processing Images:  18%|█▊        | 504/2837 [00:14<01:09, 33.80image/s]"
     ]
    },
    {
     "output_type": "stream",
     "name": "stdout",
     "text": [
      "Saved predicted segmentation to: /content/SanJose/satellite_37.295252_-121.86515.jpg\n",
      "Inferencing on: /content/House_price/satellite_images/SanJose/satellite_37.336321_-121.888706.jpg\n",
      "Saved predicted segmentation to: /content/SanJose/satellite_37.336321_-121.888706.jpg\n",
      "Inferencing on: /content/House_price/satellite_images/SanJose/satellite_37.318505_-121.836643.jpg\n",
      "Saved predicted segmentation to: /content/SanJose/satellite_37.318505_-121.836643.jpg\n",
      "Inferencing on: /content/House_price/satellite_images/SanJose/satellite_37.285244_-121.837377.jpg\n",
      "Saved predicted segmentation to: /content/SanJose/satellite_37.285244_-121.837377.jpg\n",
      "Inferencing on: /content/House_price/satellite_images/SanJose/satellite_37.389885_-121.889381.jpg\n",
      "Saved predicted segmentation to: /content/SanJose/satellite_37.389885_-121.889381.jpg\n",
      "Inferencing on: /content/House_price/satellite_images/SanJose/satellite_37.287875_-121.840122.jpg\n",
      "Saved predicted segmentation to: /content/SanJose/satellite_37.287875_-121.840122.jpg\n",
      "Inferencing on: /content/House_price/satellite_images/SanJose/satellite_37.331087_-121.933704.jpg\n",
      "Saved predicted segmentation to: /content/SanJose/satellite_37.331087_-121.933704.jpg\n",
      "Inferencing on: /content/House_price/satellite_images/SanJose/satellite_37.369429_-121.826687.jpg\n"
     ]
    },
    {
     "output_type": "stream",
     "name": "stderr",
     "text": [
      "Processing Images:  18%|█▊        | 512/2837 [00:15<01:08, 33.76image/s]"
     ]
    },
    {
     "output_type": "stream",
     "name": "stdout",
     "text": [
      "Saved predicted segmentation to: /content/SanJose/satellite_37.369429_-121.826687.jpg\n",
      "Inferencing on: /content/House_price/satellite_images/SanJose/satellite_37.254508_-121.896075.jpg\n",
      "Saved predicted segmentation to: /content/SanJose/satellite_37.254508_-121.896075.jpg\n",
      "Inferencing on: /content/House_price/satellite_images/SanJose/satellite_37.38352_-121.85957.jpg\n",
      "Saved predicted segmentation to: /content/SanJose/satellite_37.38352_-121.85957.jpg\n",
      "Inferencing on: /content/House_price/satellite_images/SanJose/satellite_37.268468_-121.857449.jpg\n",
      "Saved predicted segmentation to: /content/SanJose/satellite_37.268468_-121.857449.jpg\n",
      "Inferencing on: /content/House_price/satellite_images/SanJose/satellite_37.244551_-121.819563.jpg\n",
      "Saved predicted segmentation to: /content/SanJose/satellite_37.244551_-121.819563.jpg\n",
      "Inferencing on: /content/House_price/satellite_images/SanJose/satellite_37.269505_-121.799931.jpg\n",
      "Saved predicted segmentation to: /content/SanJose/satellite_37.269505_-121.799931.jpg\n",
      "Inferencing on: /content/House_price/satellite_images/SanJose/satellite_37.243326_-121.893346.jpg\n",
      "Saved predicted segmentation to: /content/SanJose/satellite_37.243326_-121.893346.jpg\n",
      "Inferencing on: /content/House_price/satellite_images/SanJose/satellite_37.261253_-121.877159.jpg\n"
     ]
    },
    {
     "output_type": "stream",
     "name": "stderr",
     "text": [
      "Processing Images:  18%|█▊        | 520/2837 [00:15<01:08, 33.73image/s]"
     ]
    },
    {
     "output_type": "stream",
     "name": "stdout",
     "text": [
      "Saved predicted segmentation to: /content/SanJose/satellite_37.261253_-121.877159.jpg\n",
      "Inferencing on: /content/House_price/satellite_images/SanJose/satellite_37.297782_-121.926054.jpg\n",
      "Saved predicted segmentation to: /content/SanJose/satellite_37.297782_-121.926054.jpg\n",
      "Inferencing on: /content/House_price/satellite_images/SanJose/satellite_37.343449_-121.806732.jpg\n",
      "Saved predicted segmentation to: /content/SanJose/satellite_37.343449_-121.806732.jpg\n",
      "Inferencing on: /content/House_price/satellite_images/SanJose/satellite_37.242454_-121.788748.jpg\n",
      "Saved predicted segmentation to: /content/SanJose/satellite_37.242454_-121.788748.jpg\n",
      "Inferencing on: /content/House_price/satellite_images/SanJose/satellite_37.303651_-121.822059.jpg\n",
      "Saved predicted segmentation to: /content/SanJose/satellite_37.303651_-121.822059.jpg\n",
      "Inferencing on: /content/House_price/satellite_images/SanJose/satellite_37.301988_-121.926419.jpg\n",
      "Saved predicted segmentation to: /content/SanJose/satellite_37.301988_-121.926419.jpg\n",
      "Inferencing on: /content/House_price/satellite_images/SanJose/satellite_37.34349_-121.819683.jpg\n",
      "Saved predicted segmentation to: /content/SanJose/satellite_37.34349_-121.819683.jpg\n",
      "Inferencing on: /content/House_price/satellite_images/SanJose/satellite_37.252293_-121.812279.jpg\n"
     ]
    },
    {
     "output_type": "stream",
     "name": "stderr",
     "text": [
      "\rProcessing Images:  18%|█▊        | 524/2837 [00:15<01:08, 33.85image/s]"
     ]
    },
    {
     "output_type": "stream",
     "name": "stdout",
     "text": [
      "Saved predicted segmentation to: /content/SanJose/satellite_37.252293_-121.812279.jpg\n",
      "Inferencing on: /content/House_price/satellite_images/SanJose/satellite_37.3354_-121.865198.jpg\n",
      "Saved predicted segmentation to: /content/SanJose/satellite_37.3354_-121.865198.jpg\n",
      "Inferencing on: /content/House_price/satellite_images/SanJose/satellite_37.225139_-121.887993.jpg\n",
      "Saved predicted segmentation to: /content/SanJose/satellite_37.225139_-121.887993.jpg\n",
      "Inferencing on: /content/House_price/satellite_images/SanJose/satellite_37.367957_-121.841936.jpg\n",
      "Saved predicted segmentation to: /content/SanJose/satellite_37.367957_-121.841936.jpg\n",
      "Inferencing on: /content/House_price/satellite_images/SanJose/satellite_37.400009_-121.906723.jpg\n",
      "Saved predicted segmentation to: /content/SanJose/satellite_37.400009_-121.906723.jpg\n",
      "Inferencing on: /content/House_price/satellite_images/SanJose/satellite_37.368272_-121.865102.jpg\n",
      "Saved predicted segmentation to: /content/SanJose/satellite_37.368272_-121.865102.jpg\n",
      "Inferencing on: /content/House_price/satellite_images/SanJose/satellite_37.390647_-121.852302.jpg\n",
      "Saved predicted segmentation to: /content/SanJose/satellite_37.390647_-121.852302.jpg\n",
      "Inferencing on: /content/House_price/satellite_images/SanJose/satellite_37.416237_-121.959122.jpg\n"
     ]
    },
    {
     "output_type": "stream",
     "name": "stderr",
     "text": [
      "Processing Images:  19%|█▉        | 532/2837 [00:15<01:07, 34.00image/s]"
     ]
    },
    {
     "output_type": "stream",
     "name": "stdout",
     "text": [
      "Saved predicted segmentation to: /content/SanJose/satellite_37.416237_-121.959122.jpg\n",
      "Inferencing on: /content/House_price/satellite_images/SanJose/satellite_37.240648_-121.805906.jpg\n",
      "Saved predicted segmentation to: /content/SanJose/satellite_37.240648_-121.805906.jpg\n",
      "Inferencing on: /content/House_price/satellite_images/SanJose/satellite_37.307028_-121.795089.jpg\n",
      "Saved predicted segmentation to: /content/SanJose/satellite_37.307028_-121.795089.jpg\n",
      "Inferencing on: /content/House_price/satellite_images/SanJose/satellite_37.282603_-121.816985.jpg\n",
      "Saved predicted segmentation to: /content/SanJose/satellite_37.282603_-121.816985.jpg\n",
      "Inferencing on: /content/House_price/satellite_images/SanJose/satellite_37.298484_-121.776674.jpg\n",
      "Saved predicted segmentation to: /content/SanJose/satellite_37.298484_-121.776674.jpg\n",
      "Inferencing on: /content/House_price/satellite_images/SanJose/satellite_37.38465_-121.856215.jpg\n",
      "Saved predicted segmentation to: /content/SanJose/satellite_37.38465_-121.856215.jpg\n",
      "Inferencing on: /content/House_price/satellite_images/SanJose/satellite_37.238415_-121.856453.jpg\n",
      "Saved predicted segmentation to: /content/SanJose/satellite_37.238415_-121.856453.jpg\n",
      "Inferencing on: /content/House_price/satellite_images/SanJose/satellite_37.246028_-121.927489.jpg\n"
     ]
    },
    {
     "output_type": "stream",
     "name": "stderr",
     "text": [
      "Processing Images:  19%|█▉        | 540/2837 [00:15<01:06, 34.33image/s]"
     ]
    },
    {
     "output_type": "stream",
     "name": "stdout",
     "text": [
      "Saved predicted segmentation to: /content/SanJose/satellite_37.246028_-121.927489.jpg\n",
      "Inferencing on: /content/House_price/satellite_images/SanJose/satellite_37.243453_-121.794986.jpg\n",
      "Saved predicted segmentation to: /content/SanJose/satellite_37.243453_-121.794986.jpg\n",
      "Inferencing on: /content/House_price/satellite_images/SanJose/satellite_37.301515_-121.880313.jpg\n",
      "Saved predicted segmentation to: /content/SanJose/satellite_37.301515_-121.880313.jpg\n",
      "Inferencing on: /content/House_price/satellite_images/SanJose/satellite_37.334642_-121.875901.jpg\n",
      "Saved predicted segmentation to: /content/SanJose/satellite_37.334642_-121.875901.jpg\n",
      "Inferencing on: /content/House_price/satellite_images/SanJose/satellite_37.248594_-121.851387.jpg\n",
      "Saved predicted segmentation to: /content/SanJose/satellite_37.248594_-121.851387.jpg\n",
      "Inferencing on: /content/House_price/satellite_images/SanJose/satellite_37.262074_-121.924298.jpg\n",
      "Saved predicted segmentation to: /content/SanJose/satellite_37.262074_-121.924298.jpg\n",
      "Inferencing on: /content/House_price/satellite_images/SanJose/satellite_37.301202_-121.959999.jpg\n",
      "Saved predicted segmentation to: /content/SanJose/satellite_37.301202_-121.959999.jpg\n",
      "Inferencing on: /content/House_price/satellite_images/SanJose/satellite_37.26325_-121.895555.jpg\n"
     ]
    },
    {
     "output_type": "stream",
     "name": "stderr",
     "text": [
      "Processing Images:  19%|█▉        | 548/2837 [00:16<01:06, 34.30image/s]"
     ]
    },
    {
     "output_type": "stream",
     "name": "stdout",
     "text": [
      "Saved predicted segmentation to: /content/SanJose/satellite_37.26325_-121.895555.jpg\n",
      "Inferencing on: /content/House_price/satellite_images/SanJose/satellite_37.229199_-121.898935.jpg\n",
      "Saved predicted segmentation to: /content/SanJose/satellite_37.229199_-121.898935.jpg\n",
      "Inferencing on: /content/House_price/satellite_images/SanJose/satellite_37.238402_-121.768563.jpg\n",
      "Saved predicted segmentation to: /content/SanJose/satellite_37.238402_-121.768563.jpg\n",
      "Inferencing on: /content/House_price/satellite_images/SanJose/satellite_37.232959_-121.841515.jpg\n",
      "Saved predicted segmentation to: /content/SanJose/satellite_37.232959_-121.841515.jpg\n",
      "Inferencing on: /content/House_price/satellite_images/SanJose/satellite_37.386777_-121.808953.jpg\n",
      "Saved predicted segmentation to: /content/SanJose/satellite_37.386777_-121.808953.jpg\n",
      "Inferencing on: /content/House_price/satellite_images/SanJose/satellite_37.288202_-121.843739.jpg\n",
      "Saved predicted segmentation to: /content/SanJose/satellite_37.288202_-121.843739.jpg\n",
      "Inferencing on: /content/House_price/satellite_images/SanJose/satellite_37.257176_-121.938874.jpg\n",
      "Saved predicted segmentation to: /content/SanJose/satellite_37.257176_-121.938874.jpg\n",
      "Inferencing on: /content/House_price/satellite_images/SanJose/satellite_37.231368_-121.810583.jpg\n"
     ]
    },
    {
     "output_type": "stream",
     "name": "stderr",
     "text": [
      "\rProcessing Images:  19%|█▉        | 552/2837 [00:16<01:06, 34.37image/s]"
     ]
    },
    {
     "output_type": "stream",
     "name": "stdout",
     "text": [
      "Saved predicted segmentation to: /content/SanJose/satellite_37.231368_-121.810583.jpg\n",
      "Inferencing on: /content/House_price/satellite_images/SanJose/satellite_37.268345_-121.93722.jpg\n",
      "Saved predicted segmentation to: /content/SanJose/satellite_37.268345_-121.93722.jpg\n",
      "Inferencing on: /content/House_price/satellite_images/SanJose/satellite_37.294461_-121.753535.jpg\n",
      "Saved predicted segmentation to: /content/SanJose/satellite_37.294461_-121.753535.jpg\n",
      "Inferencing on: /content/House_price/satellite_images/SanJose/satellite_37.28077_-121.979159.jpg\n",
      "Saved predicted segmentation to: /content/SanJose/satellite_37.28077_-121.979159.jpg\n",
      "Inferencing on: /content/House_price/satellite_images/SanJose/satellite_37.295224_-121.864859.jpg\n",
      "Saved predicted segmentation to: /content/SanJose/satellite_37.295224_-121.864859.jpg\n",
      "Inferencing on: /content/House_price/satellite_images/SanJose/satellite_37.278_-121.73682.jpg\n",
      "Saved predicted segmentation to: /content/SanJose/satellite_37.278_-121.73682.jpg\n",
      "Inferencing on: /content/House_price/satellite_images/SanJose/satellite_37.390941_-121.834011.jpg\n",
      "Saved predicted segmentation to: /content/SanJose/satellite_37.390941_-121.834011.jpg\n",
      "Inferencing on: /content/House_price/satellite_images/SanJose/satellite_37.394642_-121.905731.jpg\n"
     ]
    },
    {
     "output_type": "stream",
     "name": "stderr",
     "text": [
      "Processing Images:  20%|█▉        | 560/2837 [00:16<01:06, 34.45image/s]"
     ]
    },
    {
     "output_type": "stream",
     "name": "stdout",
     "text": [
      "Saved predicted segmentation to: /content/SanJose/satellite_37.394642_-121.905731.jpg\n",
      "Inferencing on: /content/House_price/satellite_images/SanJose/satellite_37.232868_-121.902821.jpg\n",
      "Saved predicted segmentation to: /content/SanJose/satellite_37.232868_-121.902821.jpg\n",
      "Inferencing on: /content/House_price/satellite_images/SanJose/satellite_37.242152_-121.797589.jpg\n",
      "Saved predicted segmentation to: /content/SanJose/satellite_37.242152_-121.797589.jpg\n",
      "Inferencing on: /content/House_price/satellite_images/SanJose/satellite_37.229005_-121.818086.jpg\n",
      "Saved predicted segmentation to: /content/SanJose/satellite_37.229005_-121.818086.jpg\n",
      "Inferencing on: /content/House_price/satellite_images/SanJose/satellite_37.354621_-121.893781.jpg\n",
      "Saved predicted segmentation to: /content/SanJose/satellite_37.354621_-121.893781.jpg\n",
      "Inferencing on: /content/House_price/satellite_images/SanJose/satellite_37.264063_-121.921782.jpg\n",
      "Saved predicted segmentation to: /content/SanJose/satellite_37.264063_-121.921782.jpg\n",
      "Inferencing on: /content/House_price/satellite_images/SanJose/satellite_37.283769_-121.835526.jpg\n",
      "Saved predicted segmentation to: /content/SanJose/satellite_37.283769_-121.835526.jpg\n",
      "Inferencing on: /content/House_price/satellite_images/SanJose/satellite_37.255449_-121.88835.jpg\n"
     ]
    },
    {
     "output_type": "stream",
     "name": "stderr",
     "text": [
      "Processing Images:  20%|██        | 568/2837 [00:16<01:06, 34.28image/s]"
     ]
    },
    {
     "output_type": "stream",
     "name": "stdout",
     "text": [
      "Saved predicted segmentation to: /content/SanJose/satellite_37.255449_-121.88835.jpg\n",
      "Inferencing on: /content/House_price/satellite_images/SanJose/satellite_37.30943_-121.892792.jpg\n",
      "Saved predicted segmentation to: /content/SanJose/satellite_37.30943_-121.892792.jpg\n",
      "Inferencing on: /content/House_price/satellite_images/SanJose/satellite_37.409148_-121.874411.jpg\n",
      "Saved predicted segmentation to: /content/SanJose/satellite_37.409148_-121.874411.jpg\n",
      "Inferencing on: /content/House_price/satellite_images/SanJose/satellite_37.339875_-121.830461.jpg\n",
      "Saved predicted segmentation to: /content/SanJose/satellite_37.339875_-121.830461.jpg\n",
      "Inferencing on: /content/House_price/satellite_images/SanJose/satellite_37.298858_-121.844396.jpg\n",
      "Saved predicted segmentation to: /content/SanJose/satellite_37.298858_-121.844396.jpg\n",
      "Inferencing on: /content/House_price/satellite_images/SanJose/satellite_37.351608_-121.847456.jpg\n",
      "Saved predicted segmentation to: /content/SanJose/satellite_37.351608_-121.847456.jpg\n",
      "Inferencing on: /content/House_price/satellite_images/SanJose/satellite_37.379263_-121.882713.jpg\n",
      "Saved predicted segmentation to: /content/SanJose/satellite_37.379263_-121.882713.jpg\n",
      "Inferencing on: /content/House_price/satellite_images/SanJose/satellite_37.362271_-121.829521.jpg\n"
     ]
    },
    {
     "output_type": "stream",
     "name": "stderr",
     "text": [
      "Processing Images:  20%|██        | 576/2837 [00:16<01:06, 34.15image/s]"
     ]
    },
    {
     "output_type": "stream",
     "name": "stdout",
     "text": [
      "Saved predicted segmentation to: /content/SanJose/satellite_37.362271_-121.829521.jpg\n",
      "Inferencing on: /content/House_price/satellite_images/SanJose/satellite_37.300657_-121.897807.jpg\n",
      "Saved predicted segmentation to: /content/SanJose/satellite_37.300657_-121.897807.jpg\n",
      "Inferencing on: /content/House_price/satellite_images/SanJose/satellite_37.304441_-121.957819.jpg\n",
      "Saved predicted segmentation to: /content/SanJose/satellite_37.304441_-121.957819.jpg\n",
      "Inferencing on: /content/House_price/satellite_images/SanJose/satellite_37.346689_-121.821456.jpg\n",
      "Saved predicted segmentation to: /content/SanJose/satellite_37.346689_-121.821456.jpg\n",
      "Inferencing on: /content/House_price/satellite_images/SanJose/satellite_37.239094_-121.842778.jpg\n",
      "Saved predicted segmentation to: /content/SanJose/satellite_37.239094_-121.842778.jpg\n",
      "Inferencing on: /content/House_price/satellite_images/SanJose/satellite_37.304498_-121.88952.jpg\n",
      "Saved predicted segmentation to: /content/SanJose/satellite_37.304498_-121.88952.jpg\n",
      "Inferencing on: /content/House_price/satellite_images/SanJose/satellite_37.322523_-121.942533.jpg\n",
      "Saved predicted segmentation to: /content/SanJose/satellite_37.322523_-121.942533.jpg\n",
      "Inferencing on: /content/House_price/satellite_images/SanJose/satellite_37.29038_-121.741023.jpg\n"
     ]
    },
    {
     "output_type": "stream",
     "name": "stderr",
     "text": [
      "\rProcessing Images:  20%|██        | 580/2837 [00:17<01:06, 34.15image/s]"
     ]
    },
    {
     "output_type": "stream",
     "name": "stdout",
     "text": [
      "Saved predicted segmentation to: /content/SanJose/satellite_37.29038_-121.741023.jpg\n",
      "Inferencing on: /content/House_price/satellite_images/SanJose/satellite_37.268679_-121.848385.jpg\n",
      "Saved predicted segmentation to: /content/SanJose/satellite_37.268679_-121.848385.jpg\n",
      "Inferencing on: /content/House_price/satellite_images/SanJose/satellite_37.264835_-121.846632.jpg\n",
      "Saved predicted segmentation to: /content/SanJose/satellite_37.264835_-121.846632.jpg\n",
      "Inferencing on: /content/House_price/satellite_images/SanJose/satellite_37.334449_-121.887622.jpg\n",
      "Saved predicted segmentation to: /content/SanJose/satellite_37.334449_-121.887622.jpg\n",
      "Inferencing on: /content/House_price/satellite_images/SanJose/satellite_37.260524_-121.80038.jpg\n",
      "Saved predicted segmentation to: /content/SanJose/satellite_37.260524_-121.80038.jpg\n",
      "Inferencing on: /content/House_price/satellite_images/SanJose/satellite_37.260457_-121.817039.jpg\n",
      "Saved predicted segmentation to: /content/SanJose/satellite_37.260457_-121.817039.jpg\n",
      "Inferencing on: /content/House_price/satellite_images/SanJose/satellite_37.258677_-121.806336.jpg\n",
      "Saved predicted segmentation to: /content/SanJose/satellite_37.258677_-121.806336.jpg\n",
      "Inferencing on: /content/House_price/satellite_images/SanJose/satellite_37.322204_-121.990304.jpg\n"
     ]
    },
    {
     "output_type": "stream",
     "name": "stderr",
     "text": [
      "Processing Images:  21%|██        | 588/2837 [00:17<01:05, 34.30image/s]"
     ]
    },
    {
     "output_type": "stream",
     "name": "stdout",
     "text": [
      "Saved predicted segmentation to: /content/SanJose/satellite_37.322204_-121.990304.jpg\n",
      "Inferencing on: /content/House_price/satellite_images/SanJose/satellite_37.299033_-121.919508.jpg\n",
      "Saved predicted segmentation to: /content/SanJose/satellite_37.299033_-121.919508.jpg\n",
      "Inferencing on: /content/House_price/satellite_images/SanJose/satellite_37.321839_-121.875983.jpg\n",
      "Saved predicted segmentation to: /content/SanJose/satellite_37.321839_-121.875983.jpg\n",
      "Inferencing on: /content/House_price/satellite_images/SanJose/satellite_37.240562_-121.786377.jpg\n",
      "Saved predicted segmentation to: /content/SanJose/satellite_37.240562_-121.786377.jpg\n",
      "Inferencing on: /content/House_price/satellite_images/SanJose/satellite_37.317287_-121.953384.jpg\n",
      "Saved predicted segmentation to: /content/SanJose/satellite_37.317287_-121.953384.jpg\n",
      "Inferencing on: /content/House_price/satellite_images/SanJose/satellite_37.282803_-121.89653.jpg\n",
      "Saved predicted segmentation to: /content/SanJose/satellite_37.282803_-121.89653.jpg\n",
      "Inferencing on: /content/House_price/satellite_images/SanJose/satellite_37.259088_-121.810023.jpg\n",
      "Saved predicted segmentation to: /content/SanJose/satellite_37.259088_-121.810023.jpg\n",
      "Inferencing on: /content/House_price/satellite_images/SanJose/satellite_37.255486_-121.882107.jpg\n"
     ]
    },
    {
     "output_type": "stream",
     "name": "stderr",
     "text": [
      "Processing Images:  21%|██        | 596/2837 [00:17<01:05, 34.34image/s]"
     ]
    },
    {
     "output_type": "stream",
     "name": "stdout",
     "text": [
      "Saved predicted segmentation to: /content/SanJose/satellite_37.255486_-121.882107.jpg\n",
      "Inferencing on: /content/House_price/satellite_images/SanJose/satellite_37.281252_-121.750941.jpg\n",
      "Saved predicted segmentation to: /content/SanJose/satellite_37.281252_-121.750941.jpg\n",
      "Inferencing on: /content/House_price/satellite_images/SanJose/satellite_37.384354_-121.857559.jpg\n",
      "Saved predicted segmentation to: /content/SanJose/satellite_37.384354_-121.857559.jpg\n",
      "Inferencing on: /content/House_price/satellite_images/SanJose/satellite_37.264778_-121.934318.jpg\n",
      "Saved predicted segmentation to: /content/SanJose/satellite_37.264778_-121.934318.jpg\n",
      "Inferencing on: /content/House_price/satellite_images/SanJose/satellite_37.349233_-121.816928.jpg\n",
      "Saved predicted segmentation to: /content/SanJose/satellite_37.349233_-121.816928.jpg\n",
      "Inferencing on: /content/House_price/satellite_images/SanJose/satellite_37.235335_-121.683222.jpg\n",
      "Saved predicted segmentation to: /content/SanJose/satellite_37.235335_-121.683222.jpg\n",
      "Inferencing on: /content/House_price/satellite_images/SanJose/satellite_37.292923_-121.86702.jpg\n",
      "Saved predicted segmentation to: /content/SanJose/satellite_37.292923_-121.86702.jpg\n",
      "Inferencing on: /content/House_price/satellite_images/SanJose/satellite_37.271446_-121.753458.jpg\n"
     ]
    },
    {
     "output_type": "stream",
     "name": "stderr",
     "text": [
      "Processing Images:  21%|██▏       | 604/2837 [00:17<01:05, 34.10image/s]"
     ]
    },
    {
     "output_type": "stream",
     "name": "stdout",
     "text": [
      "Saved predicted segmentation to: /content/SanJose/satellite_37.271446_-121.753458.jpg\n",
      "Inferencing on: /content/House_price/satellite_images/SanJose/satellite_37.263292_-121.910296.jpg\n",
      "Saved predicted segmentation to: /content/SanJose/satellite_37.263292_-121.910296.jpg\n",
      "Inferencing on: /content/House_price/satellite_images/SanJose/satellite_37.341736_-121.808053.jpg\n",
      "Saved predicted segmentation to: /content/SanJose/satellite_37.341736_-121.808053.jpg\n",
      "Inferencing on: /content/House_price/satellite_images/SanJose/satellite_37.347027_-121.814486.jpg\n",
      "Saved predicted segmentation to: /content/SanJose/satellite_37.347027_-121.814486.jpg\n",
      "Inferencing on: /content/House_price/satellite_images/SanJose/satellite_37.337595_-121.921509.jpg\n",
      "Saved predicted segmentation to: /content/SanJose/satellite_37.337595_-121.921509.jpg\n",
      "Inferencing on: /content/House_price/satellite_images/SanJose/satellite_37.240225_-121.866504.jpg\n",
      "Saved predicted segmentation to: /content/SanJose/satellite_37.240225_-121.866504.jpg\n",
      "Inferencing on: /content/House_price/satellite_images/SanJose/satellite_37.375027_-121.802871.jpg\n",
      "Saved predicted segmentation to: /content/SanJose/satellite_37.375027_-121.802871.jpg\n",
      "Inferencing on: /content/House_price/satellite_images/SanJose/satellite_37.273846_-121.921561.jpg\n"
     ]
    },
    {
     "output_type": "stream",
     "name": "stderr",
     "text": [
      "\rProcessing Images:  21%|██▏       | 608/2837 [00:17<01:05, 34.02image/s]"
     ]
    },
    {
     "output_type": "stream",
     "name": "stdout",
     "text": [
      "Saved predicted segmentation to: /content/SanJose/satellite_37.273846_-121.921561.jpg\n",
      "Inferencing on: /content/House_price/satellite_images/SanJose/satellite_37.374517_-121.772354.jpg\n",
      "Saved predicted segmentation to: /content/SanJose/satellite_37.374517_-121.772354.jpg\n",
      "Inferencing on: /content/House_price/satellite_images/SanJose/satellite_37.330506_-121.910492.jpg\n",
      "Saved predicted segmentation to: /content/SanJose/satellite_37.330506_-121.910492.jpg\n",
      "Inferencing on: /content/House_price/satellite_images/SanJose/satellite_37.360225_-121.837576.jpg\n",
      "Saved predicted segmentation to: /content/SanJose/satellite_37.360225_-121.837576.jpg\n",
      "Inferencing on: /content/House_price/satellite_images/SanJose/satellite_37.30661_-122.01021.jpg\n",
      "Saved predicted segmentation to: /content/SanJose/satellite_37.30661_-122.01021.jpg\n",
      "Inferencing on: /content/House_price/satellite_images/SanJose/satellite_37.378427_-121.842666.jpg\n",
      "Saved predicted segmentation to: /content/SanJose/satellite_37.378427_-121.842666.jpg\n",
      "Inferencing on: /content/House_price/satellite_images/SanJose/satellite_37.275124_-121.805327.jpg\n",
      "Saved predicted segmentation to: /content/SanJose/satellite_37.275124_-121.805327.jpg\n",
      "Inferencing on: /content/House_price/satellite_images/SanJose/satellite_37.286166_-121.985549.jpg\n"
     ]
    },
    {
     "output_type": "stream",
     "name": "stderr",
     "text": [
      "Processing Images:  22%|██▏       | 616/2837 [00:18<01:05, 34.14image/s]"
     ]
    },
    {
     "output_type": "stream",
     "name": "stdout",
     "text": [
      "Saved predicted segmentation to: /content/SanJose/satellite_37.286166_-121.985549.jpg\n",
      "Inferencing on: /content/House_price/satellite_images/SanJose/satellite_37.271421_-121.904364.jpg\n",
      "Saved predicted segmentation to: /content/SanJose/satellite_37.271421_-121.904364.jpg\n",
      "Inferencing on: /content/House_price/satellite_images/SanJose/satellite_37.292505_-121.745571.jpg\n",
      "Saved predicted segmentation to: /content/SanJose/satellite_37.292505_-121.745571.jpg\n",
      "Inferencing on: /content/House_price/satellite_images/SanJose/satellite_37.286638_-121.86099.jpg\n",
      "Saved predicted segmentation to: /content/SanJose/satellite_37.286638_-121.86099.jpg\n",
      "Inferencing on: /content/House_price/satellite_images/SanJose/satellite_37.176296_-121.818627.jpg\n",
      "Saved predicted segmentation to: /content/SanJose/satellite_37.176296_-121.818627.jpg\n",
      "Inferencing on: /content/House_price/satellite_images/SanJose/satellite_37.281525_-121.910287.jpg\n",
      "Saved predicted segmentation to: /content/SanJose/satellite_37.281525_-121.910287.jpg\n",
      "Inferencing on: /content/House_price/satellite_images/SanJose/satellite_37.312923_-121.956404.jpg\n",
      "Saved predicted segmentation to: /content/SanJose/satellite_37.312923_-121.956404.jpg\n",
      "Inferencing on: /content/House_price/satellite_images/SanJose/satellite_37.317276_-121.955505.jpg\n"
     ]
    },
    {
     "output_type": "stream",
     "name": "stderr",
     "text": [
      "Processing Images:  22%|██▏       | 624/2837 [00:18<01:05, 33.97image/s]"
     ]
    },
    {
     "output_type": "stream",
     "name": "stdout",
     "text": [
      "Saved predicted segmentation to: /content/SanJose/satellite_37.317276_-121.955505.jpg\n",
      "Inferencing on: /content/House_price/satellite_images/SanJose/satellite_37.333127_-121.917772.jpg\n",
      "Saved predicted segmentation to: /content/SanJose/satellite_37.333127_-121.917772.jpg\n",
      "Inferencing on: /content/House_price/satellite_images/SanJose/satellite_37.29417_-121.917854.jpg\n",
      "Saved predicted segmentation to: /content/SanJose/satellite_37.29417_-121.917854.jpg\n",
      "Inferencing on: /content/House_price/satellite_images/SanJose/satellite_37.348703_-121.884671.jpg\n",
      "Saved predicted segmentation to: /content/SanJose/satellite_37.348703_-121.884671.jpg\n",
      "Inferencing on: /content/House_price/satellite_images/SanJose/satellite_37.31495_-121.825965.jpg\n",
      "Saved predicted segmentation to: /content/SanJose/satellite_37.31495_-121.825965.jpg\n",
      "Inferencing on: /content/House_price/satellite_images/SanJose/satellite_37.335155_-121.886698.jpg\n",
      "Saved predicted segmentation to: /content/SanJose/satellite_37.335155_-121.886698.jpg\n",
      "Inferencing on: /content/House_price/satellite_images/SanJose/satellite_37.29815_-122.030676.jpg\n",
      "Saved predicted segmentation to: /content/SanJose/satellite_37.29815_-122.030676.jpg\n",
      "Inferencing on: /content/House_price/satellite_images/SanJose/satellite_37.345009_-121.819534.jpg\n"
     ]
    },
    {
     "output_type": "stream",
     "name": "stderr",
     "text": [
      "Processing Images:  22%|██▏       | 632/2837 [00:18<01:04, 34.03image/s]"
     ]
    },
    {
     "output_type": "stream",
     "name": "stdout",
     "text": [
      "Saved predicted segmentation to: /content/SanJose/satellite_37.345009_-121.819534.jpg\n",
      "Inferencing on: /content/House_price/satellite_images/SanJose/satellite_37.285075_-121.912671.jpg\n",
      "Saved predicted segmentation to: /content/SanJose/satellite_37.285075_-121.912671.jpg\n",
      "Inferencing on: /content/House_price/satellite_images/SanJose/satellite_37.317607_-121.877615.jpg\n",
      "Saved predicted segmentation to: /content/SanJose/satellite_37.317607_-121.877615.jpg\n",
      "Inferencing on: /content/House_price/satellite_images/SanJose/satellite_37.355429_-121.899781.jpg\n",
      "Saved predicted segmentation to: /content/SanJose/satellite_37.355429_-121.899781.jpg\n",
      "Inferencing on: /content/House_price/satellite_images/SanJose/satellite_37.338298_-121.915738.jpg\n",
      "Saved predicted segmentation to: /content/SanJose/satellite_37.338298_-121.915738.jpg\n",
      "Inferencing on: /content/House_price/satellite_images/SanJose/satellite_37.283387_-121.90606.jpg\n",
      "Saved predicted segmentation to: /content/SanJose/satellite_37.283387_-121.90606.jpg\n",
      "Inferencing on: /content/House_price/satellite_images/SanJose/satellite_37.222269_-121.879606.jpg\n",
      "Saved predicted segmentation to: /content/SanJose/satellite_37.222269_-121.879606.jpg\n",
      "Inferencing on: /content/House_price/satellite_images/SanJose/satellite_37.289774_-121.89421.jpg\n"
     ]
    },
    {
     "output_type": "stream",
     "name": "stderr",
     "text": [
      "Processing Images:  23%|██▎       | 640/2837 [00:18<01:03, 34.60image/s]"
     ]
    },
    {
     "output_type": "stream",
     "name": "stdout",
     "text": [
      "Saved predicted segmentation to: /content/SanJose/satellite_37.289774_-121.89421.jpg\n",
      "Inferencing on: /content/House_price/satellite_images/SanJose/satellite_37.343613_-121.870272.jpg\n",
      "Saved predicted segmentation to: /content/SanJose/satellite_37.343613_-121.870272.jpg\n",
      "Inferencing on: /content/House_price/satellite_images/SanJose/satellite_37.227692_-121.779837.jpg\n",
      "Saved predicted segmentation to: /content/SanJose/satellite_37.227692_-121.779837.jpg\n",
      "Inferencing on: /content/House_price/satellite_images/SanJose/satellite_37.297349_-121.932648.jpg\n",
      "Saved predicted segmentation to: /content/SanJose/satellite_37.297349_-121.932648.jpg\n",
      "Inferencing on: /content/House_price/satellite_images/SanJose/satellite_37.38574_-121.89742.jpg\n",
      "Saved predicted segmentation to: /content/SanJose/satellite_37.38574_-121.89742.jpg\n",
      "Inferencing on: /content/House_price/satellite_images/SanJose/satellite_37.354875_-121.792079.jpg\n",
      "Saved predicted segmentation to: /content/SanJose/satellite_37.354875_-121.792079.jpg\n",
      "Inferencing on: /content/House_price/satellite_images/SanJose/satellite_37.227449_-121.804394.jpg\n",
      "Saved predicted segmentation to: /content/SanJose/satellite_37.227449_-121.804394.jpg\n",
      "Inferencing on: /content/House_price/satellite_images/SanJose/satellite_37.260509_-121.877035.jpg\n",
      "Saved predicted segmentation to: /content/SanJose/satellite_37.260509_-121.877035.jpg\n",
      "Inferencing on: /content/House_price/satellite_images/SanJose/satellite_37.372358_-121.855497.jpg\n"
     ]
    },
    {
     "output_type": "stream",
     "name": "stderr",
     "text": [
      "Processing Images:  23%|██▎       | 648/2837 [00:19<01:02, 34.82image/s]"
     ]
    },
    {
     "output_type": "stream",
     "name": "stdout",
     "text": [
      "Saved predicted segmentation to: /content/SanJose/satellite_37.372358_-121.855497.jpg\n",
      "Inferencing on: /content/House_price/satellite_images/SanJose/satellite_37.28931_-121.740072.jpg\n",
      "Saved predicted segmentation to: /content/SanJose/satellite_37.28931_-121.740072.jpg\n",
      "Inferencing on: /content/House_price/satellite_images/SanJose/satellite_37.330543_-121.904173.jpg\n",
      "Saved predicted segmentation to: /content/SanJose/satellite_37.330543_-121.904173.jpg\n",
      "Inferencing on: /content/House_price/satellite_images/SanJose/satellite_37.30516_-121.756361.jpg\n",
      "Saved predicted segmentation to: /content/SanJose/satellite_37.30516_-121.756361.jpg\n",
      "Inferencing on: /content/House_price/satellite_images/SanJose/satellite_37.372601_-121.831571.jpg\n",
      "Saved predicted segmentation to: /content/SanJose/satellite_37.372601_-121.831571.jpg\n",
      "Inferencing on: /content/House_price/satellite_images/SanJose/satellite_37.293969_-121.982312.jpg\n",
      "Saved predicted segmentation to: /content/SanJose/satellite_37.293969_-121.982312.jpg\n",
      "Inferencing on: /content/House_price/satellite_images/SanJose/satellite_37.366992_-121.806061.jpg\n",
      "Saved predicted segmentation to: /content/SanJose/satellite_37.366992_-121.806061.jpg\n",
      "Inferencing on: /content/House_price/satellite_images/SanJose/satellite_37.302264_-121.884294.jpg\n",
      "Saved predicted segmentation to: /content/SanJose/satellite_37.302264_-121.884294.jpg\n",
      "Inferencing on: /content/House_price/satellite_images/SanJose/satellite_37.376955_-121.858011.jpg\n"
     ]
    },
    {
     "output_type": "stream",
     "name": "stderr",
     "text": [
      "Processing Images:  23%|██▎       | 656/2837 [00:19<01:02, 34.81image/s]"
     ]
    },
    {
     "output_type": "stream",
     "name": "stdout",
     "text": [
      "Saved predicted segmentation to: /content/SanJose/satellite_37.376955_-121.858011.jpg\n",
      "Inferencing on: /content/House_price/satellite_images/SanJose/satellite_37.319237_-121.81273.jpg\n",
      "Saved predicted segmentation to: /content/SanJose/satellite_37.319237_-121.81273.jpg\n",
      "Inferencing on: /content/House_price/satellite_images/SanJose/satellite_37.334371_-121.941431.jpg\n",
      "Saved predicted segmentation to: /content/SanJose/satellite_37.334371_-121.941431.jpg\n",
      "Inferencing on: /content/House_price/satellite_images/SanJose/satellite_37.248558_-121.834338.jpg\n",
      "Saved predicted segmentation to: /content/SanJose/satellite_37.248558_-121.834338.jpg\n",
      "Inferencing on: /content/House_price/satellite_images/SanJose/satellite_37.287264_-121.89815.jpg\n",
      "Saved predicted segmentation to: /content/SanJose/satellite_37.287264_-121.89815.jpg\n",
      "Inferencing on: /content/House_price/satellite_images/SanJose/satellite_37.256439_-121.921966.jpg\n",
      "Saved predicted segmentation to: /content/SanJose/satellite_37.256439_-121.921966.jpg\n",
      "Inferencing on: /content/House_price/satellite_images/SanJose/satellite_37.27566_-121.847703.jpg\n",
      "Saved predicted segmentation to: /content/SanJose/satellite_37.27566_-121.847703.jpg\n",
      "Inferencing on: /content/House_price/satellite_images/SanJose/satellite_37.341434_-121.824054.jpg\n",
      "Saved predicted segmentation to: /content/SanJose/satellite_37.341434_-121.824054.jpg\n",
      "Inferencing on: /content/House_price/satellite_images/SanJose/satellite_37.29406_-121.844155.jpg\n"
     ]
    },
    {
     "output_type": "stream",
     "name": "stderr",
     "text": [
      "Processing Images:  23%|██▎       | 664/2837 [00:19<01:02, 35.01image/s]"
     ]
    },
    {
     "output_type": "stream",
     "name": "stdout",
     "text": [
      "Saved predicted segmentation to: /content/SanJose/satellite_37.29406_-121.844155.jpg\n",
      "Inferencing on: /content/House_price/satellite_images/SanJose/satellite_37.36077_-121.839529.jpg\n",
      "Saved predicted segmentation to: /content/SanJose/satellite_37.36077_-121.839529.jpg\n",
      "Inferencing on: /content/House_price/satellite_images/SanJose/satellite_37.269614_-121.81234.jpg\n",
      "Saved predicted segmentation to: /content/SanJose/satellite_37.269614_-121.81234.jpg\n",
      "Inferencing on: /content/House_price/satellite_images/SanJose/satellite_37.306249_-121.881918.jpg\n",
      "Saved predicted segmentation to: /content/SanJose/satellite_37.306249_-121.881918.jpg\n",
      "Inferencing on: /content/House_price/satellite_images/SanJose/satellite_37.377694_-121.852506.jpg\n",
      "Saved predicted segmentation to: /content/SanJose/satellite_37.377694_-121.852506.jpg\n",
      "Inferencing on: /content/House_price/satellite_images/SanJose/satellite_37.25288_-121.793263.jpg\n",
      "Saved predicted segmentation to: /content/SanJose/satellite_37.25288_-121.793263.jpg\n",
      "Inferencing on: /content/House_price/satellite_images/SanJose/satellite_37.293056_-121.850334.jpg\n",
      "Saved predicted segmentation to: /content/SanJose/satellite_37.293056_-121.850334.jpg\n",
      "Inferencing on: /content/House_price/satellite_images/SanJose/satellite_37.358058_-121.792124.jpg\n",
      "Saved predicted segmentation to: /content/SanJose/satellite_37.358058_-121.792124.jpg\n",
      "Inferencing on: /content/House_price/satellite_images/SanJose/satellite_37.257573_-121.927939.jpg\n"
     ]
    },
    {
     "output_type": "stream",
     "name": "stderr",
     "text": [
      "\rProcessing Images:  24%|██▎       | 668/2837 [00:19<01:03, 34.38image/s]"
     ]
    },
    {
     "output_type": "stream",
     "name": "stdout",
     "text": [
      "Saved predicted segmentation to: /content/SanJose/satellite_37.257573_-121.927939.jpg\n",
      "Inferencing on: /content/House_price/satellite_images/SanJose/satellite_37.322457_-121.985106.jpg\n",
      "Saved predicted segmentation to: /content/SanJose/satellite_37.322457_-121.985106.jpg\n",
      "Inferencing on: /content/House_price/satellite_images/SanJose/satellite_37.238986_-121.813644.jpg\n",
      "Saved predicted segmentation to: /content/SanJose/satellite_37.238986_-121.813644.jpg\n",
      "Inferencing on: /content/House_price/satellite_images/SanJose/satellite_37.341766_-121.869177.jpg\n",
      "Saved predicted segmentation to: /content/SanJose/satellite_37.341766_-121.869177.jpg\n",
      "Inferencing on: /content/House_price/satellite_images/SanJose/satellite_37.338125_-121.895562.jpg\n",
      "Saved predicted segmentation to: /content/SanJose/satellite_37.338125_-121.895562.jpg\n",
      "Inferencing on: /content/House_price/satellite_images/SanJose/satellite_37.193103_-121.797887.jpg\n",
      "Saved predicted segmentation to: /content/SanJose/satellite_37.193103_-121.797887.jpg\n",
      "Inferencing on: /content/House_price/satellite_images/SanJose/satellite_37.283225_-121.829464.jpg\n",
      "Saved predicted segmentation to: /content/SanJose/satellite_37.283225_-121.829464.jpg\n",
      "Inferencing on: /content/House_price/satellite_images/SanJose/satellite_37.266565_-121.805427.jpg\n"
     ]
    },
    {
     "output_type": "stream",
     "name": "stderr",
     "text": [
      "Processing Images:  24%|██▍       | 676/2837 [00:19<01:03, 34.28image/s]"
     ]
    },
    {
     "output_type": "stream",
     "name": "stdout",
     "text": [
      "Saved predicted segmentation to: /content/SanJose/satellite_37.266565_-121.805427.jpg\n",
      "Inferencing on: /content/House_price/satellite_images/SanJose/satellite_37.329568_-121.845897.jpg\n",
      "Saved predicted segmentation to: /content/SanJose/satellite_37.329568_-121.845897.jpg\n",
      "Inferencing on: /content/House_price/satellite_images/SanJose/satellite_37.302269_-122.00173.jpg\n",
      "Saved predicted segmentation to: /content/SanJose/satellite_37.302269_-122.00173.jpg\n",
      "Inferencing on: /content/House_price/satellite_images/SanJose/satellite_37.298101_-121.995318.jpg\n",
      "Saved predicted segmentation to: /content/SanJose/satellite_37.298101_-121.995318.jpg\n",
      "Inferencing on: /content/House_price/satellite_images/SanJose/satellite_37.330176_-121.907645.jpg\n",
      "Saved predicted segmentation to: /content/SanJose/satellite_37.330176_-121.907645.jpg\n",
      "Inferencing on: /content/House_price/satellite_images/SanJose/satellite_37.207387_-121.846401.jpg\n",
      "Saved predicted segmentation to: /content/SanJose/satellite_37.207387_-121.846401.jpg\n",
      "Inferencing on: /content/House_price/satellite_images/SanJose/satellite_37.321873_-121.74929.jpg\n",
      "Saved predicted segmentation to: /content/SanJose/satellite_37.321873_-121.74929.jpg\n",
      "Inferencing on: /content/House_price/satellite_images/SanJose/satellite_37.278807_-121.903749.jpg\n"
     ]
    },
    {
     "output_type": "stream",
     "name": "stderr",
     "text": [
      "Processing Images:  24%|██▍       | 684/2837 [00:20<01:02, 34.40image/s]"
     ]
    },
    {
     "output_type": "stream",
     "name": "stdout",
     "text": [
      "Saved predicted segmentation to: /content/SanJose/satellite_37.278807_-121.903749.jpg\n",
      "Inferencing on: /content/House_price/satellite_images/SanJose/satellite_37.375795_-121.853208.jpg\n",
      "Saved predicted segmentation to: /content/SanJose/satellite_37.375795_-121.853208.jpg\n",
      "Inferencing on: /content/House_price/satellite_images/SanJose/satellite_37.24449_-121.797786.jpg\n",
      "Saved predicted segmentation to: /content/SanJose/satellite_37.24449_-121.797786.jpg\n",
      "Inferencing on: /content/House_price/satellite_images/SanJose/satellite_37.262763_-121.855568.jpg\n",
      "Saved predicted segmentation to: /content/SanJose/satellite_37.262763_-121.855568.jpg\n",
      "Inferencing on: /content/House_price/satellite_images/SanJose/satellite_37.226774_-121.892655.jpg\n",
      "Saved predicted segmentation to: /content/SanJose/satellite_37.226774_-121.892655.jpg\n",
      "Inferencing on: /content/House_price/satellite_images/SanJose/satellite_37.35593_-121.889352.jpg\n",
      "Saved predicted segmentation to: /content/SanJose/satellite_37.35593_-121.889352.jpg\n",
      "Inferencing on: /content/House_price/satellite_images/SanJose/satellite_37.267225_-121.909103.jpg\n",
      "Saved predicted segmentation to: /content/SanJose/satellite_37.267225_-121.909103.jpg\n",
      "Inferencing on: /content/House_price/satellite_images/SanJose/satellite_37.303411_-121.955336.jpg\n"
     ]
    },
    {
     "output_type": "stream",
     "name": "stderr",
     "text": [
      "Processing Images:  24%|██▍       | 692/2837 [00:20<01:02, 34.32image/s]"
     ]
    },
    {
     "output_type": "stream",
     "name": "stdout",
     "text": [
      "Saved predicted segmentation to: /content/SanJose/satellite_37.303411_-121.955336.jpg\n",
      "Inferencing on: /content/House_price/satellite_images/SanJose/satellite_37.387284_-121.833016.jpg\n",
      "Saved predicted segmentation to: /content/SanJose/satellite_37.387284_-121.833016.jpg\n",
      "Inferencing on: /content/House_price/satellite_images/SanJose/satellite_37.289351_-121.913001.jpg\n",
      "Saved predicted segmentation to: /content/SanJose/satellite_37.289351_-121.913001.jpg\n",
      "Inferencing on: /content/House_price/satellite_images/SanJose/satellite_37.327035_-121.882756.jpg\n",
      "Saved predicted segmentation to: /content/SanJose/satellite_37.327035_-121.882756.jpg\n",
      "Inferencing on: /content/House_price/satellite_images/SanJose/satellite_37.394186_-121.867284.jpg\n",
      "Saved predicted segmentation to: /content/SanJose/satellite_37.394186_-121.867284.jpg\n",
      "Inferencing on: /content/House_price/satellite_images/SanJose/satellite_37.203321_-121.846636.jpg\n",
      "Saved predicted segmentation to: /content/SanJose/satellite_37.203321_-121.846636.jpg\n",
      "Inferencing on: /content/House_price/satellite_images/SanJose/satellite_37.345475_-121.822483.jpg\n",
      "Saved predicted segmentation to: /content/SanJose/satellite_37.345475_-121.822483.jpg\n",
      "Inferencing on: /content/House_price/satellite_images/SanJose/satellite_37.240061_-121.795424.jpg\n"
     ]
    },
    {
     "output_type": "stream",
     "name": "stderr",
     "text": [
      "\rProcessing Images:  25%|██▍       | 696/2837 [00:20<01:02, 34.26image/s]"
     ]
    },
    {
     "output_type": "stream",
     "name": "stdout",
     "text": [
      "Saved predicted segmentation to: /content/SanJose/satellite_37.240061_-121.795424.jpg\n",
      "Inferencing on: /content/House_price/satellite_images/SanJose/satellite_37.247475_-121.877782.jpg\n",
      "Saved predicted segmentation to: /content/SanJose/satellite_37.247475_-121.877782.jpg\n",
      "Inferencing on: /content/House_price/satellite_images/SanJose/satellite_37.216697_-121.860735.jpg\n",
      "Saved predicted segmentation to: /content/SanJose/satellite_37.216697_-121.860735.jpg\n",
      "Inferencing on: /content/House_price/satellite_images/SanJose/satellite_37.276816_-121.856851.jpg\n",
      "Saved predicted segmentation to: /content/SanJose/satellite_37.276816_-121.856851.jpg\n",
      "Inferencing on: /content/House_price/satellite_images/SanJose/satellite_37.251773_-121.822458.jpg\n",
      "Saved predicted segmentation to: /content/SanJose/satellite_37.251773_-121.822458.jpg\n",
      "Inferencing on: /content/House_price/satellite_images/SanJose/satellite_37.244739_-121.833946.jpg\n",
      "Saved predicted segmentation to: /content/SanJose/satellite_37.244739_-121.833946.jpg\n",
      "Inferencing on: /content/House_price/satellite_images/SanJose/satellite_37.253555_-121.828563.jpg\n",
      "Saved predicted segmentation to: /content/SanJose/satellite_37.253555_-121.828563.jpg\n",
      "Inferencing on: /content/House_price/satellite_images/SanJose/satellite_37.32297_-121.757248.jpg\n"
     ]
    },
    {
     "output_type": "stream",
     "name": "stderr",
     "text": [
      "Processing Images:  25%|██▍       | 704/2837 [00:20<01:02, 34.24image/s]"
     ]
    },
    {
     "output_type": "stream",
     "name": "stdout",
     "text": [
      "Saved predicted segmentation to: /content/SanJose/satellite_37.32297_-121.757248.jpg\n",
      "Inferencing on: /content/House_price/satellite_images/SanJose/satellite_37.241426_-121.877109.jpg\n",
      "Saved predicted segmentation to: /content/SanJose/satellite_37.241426_-121.877109.jpg\n",
      "Inferencing on: /content/House_price/satellite_images/SanJose/satellite_37.334145_-121.885966.jpg\n",
      "Saved predicted segmentation to: /content/SanJose/satellite_37.334145_-121.885966.jpg\n",
      "Inferencing on: /content/House_price/satellite_images/SanJose/satellite_37.288669_-121.884115.jpg\n",
      "Saved predicted segmentation to: /content/SanJose/satellite_37.288669_-121.884115.jpg\n",
      "Inferencing on: /content/House_price/satellite_images/SanJose/satellite_37.240137_-121.862203.jpg\n",
      "Saved predicted segmentation to: /content/SanJose/satellite_37.240137_-121.862203.jpg\n",
      "Inferencing on: /content/House_price/satellite_images/SanJose/satellite_37.29314_-121.866486.jpg\n",
      "Saved predicted segmentation to: /content/SanJose/satellite_37.29314_-121.866486.jpg\n",
      "Inferencing on: /content/House_price/satellite_images/SanJose/satellite_37.306568_-122.003056.jpg\n",
      "Saved predicted segmentation to: /content/SanJose/satellite_37.306568_-122.003056.jpg\n",
      "Inferencing on: /content/House_price/satellite_images/SanJose/satellite_37.340088_-121.891081.jpg\n"
     ]
    },
    {
     "output_type": "stream",
     "name": "stderr",
     "text": [
      "Processing Images:  25%|██▌       | 712/2837 [00:20<01:02, 34.03image/s]"
     ]
    },
    {
     "output_type": "stream",
     "name": "stdout",
     "text": [
      "Saved predicted segmentation to: /content/SanJose/satellite_37.340088_-121.891081.jpg\n",
      "Inferencing on: /content/House_price/satellite_images/SanJose/satellite_37.274476_-121.799651.jpg\n",
      "Saved predicted segmentation to: /content/SanJose/satellite_37.274476_-121.799651.jpg\n",
      "Inferencing on: /content/House_price/satellite_images/SanJose/satellite_37.265114_-121.816581.jpg\n",
      "Saved predicted segmentation to: /content/SanJose/satellite_37.265114_-121.816581.jpg\n",
      "Inferencing on: /content/House_price/satellite_images/SanJose/satellite_37.240274_-121.886217.jpg\n",
      "Saved predicted segmentation to: /content/SanJose/satellite_37.240274_-121.886217.jpg\n",
      "Inferencing on: /content/House_price/satellite_images/SanJose/satellite_37.417122_-121.939659.jpg\n",
      "Saved predicted segmentation to: /content/SanJose/satellite_37.417122_-121.939659.jpg\n",
      "Inferencing on: /content/House_price/satellite_images/SanJose/satellite_37.312152_-121.878994.jpg\n",
      "Saved predicted segmentation to: /content/SanJose/satellite_37.312152_-121.878994.jpg\n",
      "Inferencing on: /content/House_price/satellite_images/SanJose/satellite_37.221689_-121.770747.jpg\n",
      "Saved predicted segmentation to: /content/SanJose/satellite_37.221689_-121.770747.jpg\n",
      "Inferencing on: /content/House_price/satellite_images/SanJose/satellite_37.296086_-121.86971.jpg\n"
     ]
    },
    {
     "output_type": "stream",
     "name": "stderr",
     "text": [
      "Processing Images:  25%|██▌       | 720/2837 [00:21<01:01, 34.29image/s]"
     ]
    },
    {
     "output_type": "stream",
     "name": "stdout",
     "text": [
      "Saved predicted segmentation to: /content/SanJose/satellite_37.296086_-121.86971.jpg\n",
      "Inferencing on: /content/House_price/satellite_images/SanJose/satellite_37.20583_-121.838168.jpg\n",
      "Saved predicted segmentation to: /content/SanJose/satellite_37.20583_-121.838168.jpg\n",
      "Inferencing on: /content/House_price/satellite_images/SanJose/satellite_37.382434_-121.890216.jpg\n",
      "Saved predicted segmentation to: /content/SanJose/satellite_37.382434_-121.890216.jpg\n",
      "Inferencing on: /content/House_price/satellite_images/SanJose/satellite_37.29043_-121.759474.jpg\n",
      "Saved predicted segmentation to: /content/SanJose/satellite_37.29043_-121.759474.jpg\n",
      "Inferencing on: /content/House_price/satellite_images/SanJose/satellite_37.305996_-121.96849.jpg\n",
      "Saved predicted segmentation to: /content/SanJose/satellite_37.305996_-121.96849.jpg\n",
      "Inferencing on: /content/House_price/satellite_images/SanJose/satellite_37.335286_-121.910251.jpg\n",
      "Saved predicted segmentation to: /content/SanJose/satellite_37.335286_-121.910251.jpg\n",
      "Inferencing on: /content/House_price/satellite_images/SanJose/satellite_37.244387_-121.844491.jpg\n",
      "Saved predicted segmentation to: /content/SanJose/satellite_37.244387_-121.844491.jpg\n",
      "Inferencing on: /content/House_price/satellite_images/SanJose/satellite_37.401291_-121.84593.jpg\n",
      "Saved predicted segmentation to: /content/SanJose/satellite_37.401291_-121.84593.jpg\n",
      "Inferencing on: /content/House_price/satellite_images/SanJose/satellite_37.395069_-121.907013.jpg\n"
     ]
    },
    {
     "output_type": "stream",
     "name": "stderr",
     "text": [
      "\rProcessing Images:  26%|██▌       | 724/2837 [00:21<01:01, 34.24image/s]"
     ]
    },
    {
     "output_type": "stream",
     "name": "stdout",
     "text": [
      "Saved predicted segmentation to: /content/SanJose/satellite_37.395069_-121.907013.jpg\n",
      "Inferencing on: /content/House_price/satellite_images/SanJose/satellite_37.29519_-121.936108.jpg\n",
      "Saved predicted segmentation to: /content/SanJose/satellite_37.29519_-121.936108.jpg\n",
      "Inferencing on: /content/House_price/satellite_images/SanJose/satellite_37.26181_-121.896291.jpg\n",
      "Saved predicted segmentation to: /content/SanJose/satellite_37.26181_-121.896291.jpg\n",
      "Inferencing on: /content/House_price/satellite_images/SanJose/satellite_37.341399_-121.87543.jpg\n",
      "Saved predicted segmentation to: /content/SanJose/satellite_37.341399_-121.87543.jpg\n",
      "Inferencing on: /content/House_price/satellite_images/SanJose/satellite_37.277206_-121.987354.jpg\n",
      "Saved predicted segmentation to: /content/SanJose/satellite_37.277206_-121.987354.jpg\n",
      "Inferencing on: /content/House_price/satellite_images/SanJose/satellite_37.355721_-121.896941.jpg\n",
      "Saved predicted segmentation to: /content/SanJose/satellite_37.355721_-121.896941.jpg\n",
      "Inferencing on: /content/House_price/satellite_images/SanJose/satellite_37.304128_-121.886072.jpg\n"
     ]
    },
    {
     "output_type": "stream",
     "name": "stderr",
     "text": [
      "Processing Images:  26%|██▌       | 732/2837 [00:21<01:01, 34.07image/s]"
     ]
    },
    {
     "output_type": "stream",
     "name": "stdout",
     "text": [
      "Saved predicted segmentation to: /content/SanJose/satellite_37.304128_-121.886072.jpg\n",
      "Inferencing on: /content/House_price/satellite_images/SanJose/satellite_37.359133_-121.884161.jpg\n",
      "Saved predicted segmentation to: /content/SanJose/satellite_37.359133_-121.884161.jpg\n",
      "Inferencing on: /content/House_price/satellite_images/SanJose/satellite_37.399223_-121.821681.jpg\n",
      "Saved predicted segmentation to: /content/SanJose/satellite_37.399223_-121.821681.jpg\n",
      "Inferencing on: /content/House_price/satellite_images/SanJose/satellite_37.323407_-121.846603.jpg\n",
      "Saved predicted segmentation to: /content/SanJose/satellite_37.323407_-121.846603.jpg\n",
      "Inferencing on: /content/House_price/satellite_images/SanJose/satellite_37.361643_-121.911999.jpg\n",
      "Saved predicted segmentation to: /content/SanJose/satellite_37.361643_-121.911999.jpg\n",
      "Inferencing on: /content/House_price/satellite_images/SanJose/satellite_37.377168_-121.886701.jpg\n",
      "Saved predicted segmentation to: /content/SanJose/satellite_37.377168_-121.886701.jpg\n",
      "Inferencing on: /content/House_price/satellite_images/SanJose/satellite_37.375696_-121.867329.jpg\n",
      "Saved predicted segmentation to: /content/SanJose/satellite_37.375696_-121.867329.jpg\n",
      "Inferencing on: /content/House_price/satellite_images/SanJose/satellite_37.328067_-121.843683.jpg\n"
     ]
    },
    {
     "output_type": "stream",
     "name": "stderr",
     "text": [
      "Processing Images:  26%|██▌       | 740/2837 [00:21<01:01, 33.99image/s]"
     ]
    },
    {
     "output_type": "stream",
     "name": "stdout",
     "text": [
      "Saved predicted segmentation to: /content/SanJose/satellite_37.328067_-121.843683.jpg\n",
      "Inferencing on: /content/House_price/satellite_images/SanJose/satellite_37.288898_-121.764221.jpg\n",
      "Saved predicted segmentation to: /content/SanJose/satellite_37.288898_-121.764221.jpg\n",
      "Inferencing on: /content/House_price/satellite_images/SanJose/satellite_37.31005_-121.888008.jpg\n",
      "Saved predicted segmentation to: /content/SanJose/satellite_37.31005_-121.888008.jpg\n",
      "Inferencing on: /content/House_price/satellite_images/SanJose/satellite_37.257966_-121.814076.jpg\n",
      "Saved predicted segmentation to: /content/SanJose/satellite_37.257966_-121.814076.jpg\n",
      "Inferencing on: /content/House_price/satellite_images/SanJose/satellite_37.273629_-121.907335.jpg\n",
      "Saved predicted segmentation to: /content/SanJose/satellite_37.273629_-121.907335.jpg\n",
      "Inferencing on: /content/House_price/satellite_images/SanJose/satellite_37.295642_-121.756754.jpg\n",
      "Saved predicted segmentation to: /content/SanJose/satellite_37.295642_-121.756754.jpg\n",
      "Inferencing on: /content/House_price/satellite_images/SanJose/satellite_37.306915_-121.937434.jpg\n",
      "Saved predicted segmentation to: /content/SanJose/satellite_37.306915_-121.937434.jpg\n",
      "Inferencing on: /content/House_price/satellite_images/SanJose/satellite_37.235221_-121.766015.jpg\n"
     ]
    },
    {
     "output_type": "stream",
     "name": "stderr",
     "text": [
      "Processing Images:  26%|██▋       | 748/2837 [00:21<01:02, 33.57image/s]"
     ]
    },
    {
     "output_type": "stream",
     "name": "stdout",
     "text": [
      "Saved predicted segmentation to: /content/SanJose/satellite_37.235221_-121.766015.jpg\n",
      "Inferencing on: /content/House_price/satellite_images/SanJose/satellite_37.241136_-121.838045.jpg\n",
      "Saved predicted segmentation to: /content/SanJose/satellite_37.241136_-121.838045.jpg\n",
      "Inferencing on: /content/House_price/satellite_images/SanJose/satellite_37.250887_-121.941879.jpg\n",
      "Saved predicted segmentation to: /content/SanJose/satellite_37.250887_-121.941879.jpg\n",
      "Inferencing on: /content/House_price/satellite_images/SanJose/satellite_37.336643_-121.888358.jpg\n",
      "Saved predicted segmentation to: /content/SanJose/satellite_37.336643_-121.888358.jpg\n",
      "Inferencing on: /content/House_price/satellite_images/SanJose/satellite_37.285944_-121.909781.jpg\n",
      "Saved predicted segmentation to: /content/SanJose/satellite_37.285944_-121.909781.jpg\n",
      "Inferencing on: /content/House_price/satellite_images/SanJose/satellite_37.337978_-121.896267.jpg\n",
      "Saved predicted segmentation to: /content/SanJose/satellite_37.337978_-121.896267.jpg\n",
      "Inferencing on: /content/House_price/satellite_images/SanJose/satellite_37.213602_-121.856556.jpg\n",
      "Saved predicted segmentation to: /content/SanJose/satellite_37.213602_-121.856556.jpg\n",
      "Inferencing on: /content/House_price/satellite_images/SanJose/satellite_37.297787_-121.935188.jpg\n"
     ]
    },
    {
     "output_type": "stream",
     "name": "stderr",
     "text": [
      "\rProcessing Images:  27%|██▋       | 752/2837 [00:22<01:01, 33.74image/s]"
     ]
    },
    {
     "output_type": "stream",
     "name": "stdout",
     "text": [
      "Saved predicted segmentation to: /content/SanJose/satellite_37.297787_-121.935188.jpg\n",
      "Inferencing on: /content/House_price/satellite_images/SanJose/satellite_37.224562_-121.893326.jpg\n",
      "Saved predicted segmentation to: /content/SanJose/satellite_37.224562_-121.893326.jpg\n",
      "Inferencing on: /content/House_price/satellite_images/SanJose/satellite_37.308831_-122.021615.jpg\n",
      "Saved predicted segmentation to: /content/SanJose/satellite_37.308831_-122.021615.jpg\n",
      "Inferencing on: /content/House_price/satellite_images/SanJose/satellite_37.294403_-121.977765.jpg\n",
      "Saved predicted segmentation to: /content/SanJose/satellite_37.294403_-121.977765.jpg\n",
      "Inferencing on: /content/House_price/satellite_images/SanJose/satellite_37.3214_-121.960443.jpg\n",
      "Saved predicted segmentation to: /content/SanJose/satellite_37.3214_-121.960443.jpg\n",
      "Inferencing on: /content/House_price/satellite_images/SanJose/satellite_37.406674_-121.885763.jpg\n",
      "Saved predicted segmentation to: /content/SanJose/satellite_37.406674_-121.885763.jpg\n",
      "Inferencing on: /content/House_price/satellite_images/SanJose/satellite_37.245021_-121.907729.jpg\n",
      "Saved predicted segmentation to: /content/SanJose/satellite_37.245021_-121.907729.jpg\n",
      "Inferencing on: /content/House_price/satellite_images/SanJose/satellite_37.408989_-121.851457.jpg\n"
     ]
    },
    {
     "output_type": "stream",
     "name": "stderr",
     "text": [
      "Processing Images:  27%|██▋       | 760/2837 [00:22<01:01, 33.87image/s]"
     ]
    },
    {
     "output_type": "stream",
     "name": "stdout",
     "text": [
      "Saved predicted segmentation to: /content/SanJose/satellite_37.408989_-121.851457.jpg\n",
      "Inferencing on: /content/House_price/satellite_images/SanJose/satellite_37.193337_-121.844078.jpg\n",
      "Saved predicted segmentation to: /content/SanJose/satellite_37.193337_-121.844078.jpg\n",
      "Inferencing on: /content/House_price/satellite_images/SanJose/satellite_37.256713_-121.921976.jpg\n",
      "Saved predicted segmentation to: /content/SanJose/satellite_37.256713_-121.921976.jpg\n",
      "Inferencing on: /content/House_price/satellite_images/SanJose/satellite_37.314919_-121.967056.jpg\n",
      "Saved predicted segmentation to: /content/SanJose/satellite_37.314919_-121.967056.jpg\n",
      "Inferencing on: /content/House_price/satellite_images/SanJose/satellite_37.366946_-121.826272.jpg\n",
      "Saved predicted segmentation to: /content/SanJose/satellite_37.366946_-121.826272.jpg\n",
      "Inferencing on: /content/House_price/satellite_images/SanJose/satellite_37.381024_-121.813959.jpg\n",
      "Saved predicted segmentation to: /content/SanJose/satellite_37.381024_-121.813959.jpg\n",
      "Inferencing on: /content/House_price/satellite_images/SanJose/satellite_37.349781_-121.801472.jpg\n",
      "Saved predicted segmentation to: /content/SanJose/satellite_37.349781_-121.801472.jpg\n",
      "Inferencing on: /content/House_price/satellite_images/SanJose/satellite_37.333813_-121.836313.jpg\n"
     ]
    },
    {
     "output_type": "stream",
     "name": "stderr",
     "text": [
      "Processing Images:  27%|██▋       | 768/2837 [00:22<01:01, 33.49image/s]"
     ]
    },
    {
     "output_type": "stream",
     "name": "stdout",
     "text": [
      "Saved predicted segmentation to: /content/SanJose/satellite_37.333813_-121.836313.jpg\n",
      "Inferencing on: /content/House_price/satellite_images/SanJose/satellite_37.269502_-121.826299.jpg\n",
      "Saved predicted segmentation to: /content/SanJose/satellite_37.269502_-121.826299.jpg\n",
      "Inferencing on: /content/House_price/satellite_images/SanJose/satellite_37.24366_-121.858978.jpg\n",
      "Saved predicted segmentation to: /content/SanJose/satellite_37.24366_-121.858978.jpg\n",
      "Inferencing on: /content/House_price/satellite_images/SanJose/satellite_37.316044_-121.99439.jpg\n",
      "Saved predicted segmentation to: /content/SanJose/satellite_37.316044_-121.99439.jpg\n",
      "Inferencing on: /content/House_price/satellite_images/SanJose/satellite_37.269164_-121.918193.jpg\n",
      "Saved predicted segmentation to: /content/SanJose/satellite_37.269164_-121.918193.jpg\n",
      "Inferencing on: /content/House_price/satellite_images/SanJose/satellite_37.295095_-121.94532.jpg\n",
      "Saved predicted segmentation to: /content/SanJose/satellite_37.295095_-121.94532.jpg\n",
      "Inferencing on: /content/House_price/satellite_images/SanJose/satellite_37.203693_-121.860344.jpg\n",
      "Saved predicted segmentation to: /content/SanJose/satellite_37.203693_-121.860344.jpg\n",
      "Inferencing on: /content/House_price/satellite_images/SanJose/satellite_37.413865_-121.857897.jpg\n"
     ]
    },
    {
     "output_type": "stream",
     "name": "stderr",
     "text": [
      "Processing Images:  27%|██▋       | 776/2837 [00:22<01:01, 33.50image/s]"
     ]
    },
    {
     "output_type": "stream",
     "name": "stdout",
     "text": [
      "Saved predicted segmentation to: /content/SanJose/satellite_37.413865_-121.857897.jpg\n",
      "Inferencing on: /content/House_price/satellite_images/SanJose/satellite_37.232037_-121.846258.jpg\n",
      "Saved predicted segmentation to: /content/SanJose/satellite_37.232037_-121.846258.jpg\n",
      "Inferencing on: /content/House_price/satellite_images/SanJose/satellite_37.363698_-121.766657.jpg\n",
      "Saved predicted segmentation to: /content/SanJose/satellite_37.363698_-121.766657.jpg\n",
      "Inferencing on: /content/House_price/satellite_images/SanJose/satellite_37.249953_-121.852684.jpg\n",
      "Saved predicted segmentation to: /content/SanJose/satellite_37.249953_-121.852684.jpg\n",
      "Inferencing on: /content/House_price/satellite_images/SanJose/satellite_37.32176_-121.986014.jpg\n",
      "Saved predicted segmentation to: /content/SanJose/satellite_37.32176_-121.986014.jpg\n",
      "Inferencing on: /content/House_price/satellite_images/SanJose/satellite_37.255039_-121.884317.jpg\n",
      "Saved predicted segmentation to: /content/SanJose/satellite_37.255039_-121.884317.jpg\n",
      "Inferencing on: /content/House_price/satellite_images/SanJose/satellite_37.273671_-121.88363.jpg\n",
      "Saved predicted segmentation to: /content/SanJose/satellite_37.273671_-121.88363.jpg\n",
      "Inferencing on: /content/House_price/satellite_images/SanJose/satellite_37.239378_-121.866446.jpg\n"
     ]
    },
    {
     "output_type": "stream",
     "name": "stderr",
     "text": [
      "\rProcessing Images:  27%|██▋       | 780/2837 [00:22<01:01, 33.66image/s]"
     ]
    },
    {
     "output_type": "stream",
     "name": "stdout",
     "text": [
      "Saved predicted segmentation to: /content/SanJose/satellite_37.239378_-121.866446.jpg\n",
      "Inferencing on: /content/House_price/satellite_images/SanJose/satellite_37.412781_-121.943657.jpg\n",
      "Saved predicted segmentation to: /content/SanJose/satellite_37.412781_-121.943657.jpg\n",
      "Inferencing on: /content/House_price/satellite_images/SanJose/satellite_37.27583_-121.805632.jpg\n",
      "Saved predicted segmentation to: /content/SanJose/satellite_37.27583_-121.805632.jpg\n",
      "Inferencing on: /content/House_price/satellite_images/SanJose/satellite_37.299589_-121.903347.jpg\n",
      "Saved predicted segmentation to: /content/SanJose/satellite_37.299589_-121.903347.jpg\n",
      "Inferencing on: /content/House_price/satellite_images/SanJose/satellite_37.295803_-121.840935.jpg\n",
      "Saved predicted segmentation to: /content/SanJose/satellite_37.295803_-121.840935.jpg\n",
      "Inferencing on: /content/House_price/satellite_images/SanJose/satellite_37.307366_-121.890767.jpg\n",
      "Saved predicted segmentation to: /content/SanJose/satellite_37.307366_-121.890767.jpg\n",
      "Inferencing on: /content/House_price/satellite_images/SanJose/satellite_37.260237_-121.889272.jpg\n",
      "Saved predicted segmentation to: /content/SanJose/satellite_37.260237_-121.889272.jpg\n",
      "Inferencing on: /content/House_price/satellite_images/SanJose/satellite_37.242691_-121.859978.jpg\n"
     ]
    },
    {
     "output_type": "stream",
     "name": "stderr",
     "text": [
      "Processing Images:  28%|██▊       | 788/2837 [00:23<01:00, 34.13image/s]"
     ]
    },
    {
     "output_type": "stream",
     "name": "stdout",
     "text": [
      "Saved predicted segmentation to: /content/SanJose/satellite_37.242691_-121.859978.jpg\n",
      "Inferencing on: /content/House_price/satellite_images/SanJose/satellite_37.313684_-121.806816.jpg\n",
      "Saved predicted segmentation to: /content/SanJose/satellite_37.313684_-121.806816.jpg\n",
      "Inferencing on: /content/House_price/satellite_images/SanJose/satellite_37.242902_-121.813975.jpg\n",
      "Saved predicted segmentation to: /content/SanJose/satellite_37.242902_-121.813975.jpg\n",
      "Inferencing on: /content/House_price/satellite_images/SanJose/satellite_37.248617_-121.890781.jpg\n",
      "Saved predicted segmentation to: /content/SanJose/satellite_37.248617_-121.890781.jpg\n",
      "Inferencing on: /content/House_price/satellite_images/SanJose/satellite_37.227517_-121.773215.jpg\n",
      "Saved predicted segmentation to: /content/SanJose/satellite_37.227517_-121.773215.jpg\n",
      "Inferencing on: /content/House_price/satellite_images/SanJose/satellite_37.371235_-121.819042.jpg\n",
      "Saved predicted segmentation to: /content/SanJose/satellite_37.371235_-121.819042.jpg\n",
      "Inferencing on: /content/House_price/satellite_images/SanJose/satellite_37.236544_-121.799552.jpg\n",
      "Saved predicted segmentation to: /content/SanJose/satellite_37.236544_-121.799552.jpg\n",
      "Inferencing on: /content/House_price/satellite_images/SanJose/satellite_37.22158_-121.853149.jpg\n"
     ]
    },
    {
     "output_type": "stream",
     "name": "stderr",
     "text": [
      "Processing Images:  28%|██▊       | 796/2837 [00:23<00:59, 34.26image/s]"
     ]
    },
    {
     "output_type": "stream",
     "name": "stdout",
     "text": [
      "Saved predicted segmentation to: /content/SanJose/satellite_37.22158_-121.853149.jpg\n",
      "Inferencing on: /content/House_price/satellite_images/SanJose/satellite_37.257056_-121.923461.jpg\n",
      "Saved predicted segmentation to: /content/SanJose/satellite_37.257056_-121.923461.jpg\n",
      "Inferencing on: /content/House_price/satellite_images/SanJose/satellite_37.371961_-121.879202.jpg\n",
      "Saved predicted segmentation to: /content/SanJose/satellite_37.371961_-121.879202.jpg\n",
      "Inferencing on: /content/House_price/satellite_images/SanJose/satellite_37.363726_-121.779509.jpg\n",
      "Saved predicted segmentation to: /content/SanJose/satellite_37.363726_-121.779509.jpg\n",
      "Inferencing on: /content/House_price/satellite_images/SanJose/satellite_37.212074_-121.851593.jpg\n",
      "Saved predicted segmentation to: /content/SanJose/satellite_37.212074_-121.851593.jpg\n",
      "Inferencing on: /content/House_price/satellite_images/SanJose/satellite_37.277078_-121.889027.jpg\n",
      "Saved predicted segmentation to: /content/SanJose/satellite_37.277078_-121.889027.jpg\n",
      "Inferencing on: /content/House_price/satellite_images/SanJose/satellite_37.309556_-121.784567.jpg\n",
      "Saved predicted segmentation to: /content/SanJose/satellite_37.309556_-121.784567.jpg\n",
      "Inferencing on: /content/House_price/satellite_images/SanJose/satellite_37.308168_-121.918913.jpg\n"
     ]
    },
    {
     "output_type": "stream",
     "name": "stderr",
     "text": [
      "Processing Images:  28%|██▊       | 804/2837 [00:23<01:00, 33.83image/s]"
     ]
    },
    {
     "output_type": "stream",
     "name": "stdout",
     "text": [
      "Saved predicted segmentation to: /content/SanJose/satellite_37.308168_-121.918913.jpg\n",
      "Inferencing on: /content/House_price/satellite_images/SanJose/satellite_37.240736_-121.785578.jpg\n",
      "Saved predicted segmentation to: /content/SanJose/satellite_37.240736_-121.785578.jpg\n",
      "Inferencing on: /content/House_price/satellite_images/SanJose/satellite_37.368654_-121.844193.jpg\n",
      "Saved predicted segmentation to: /content/SanJose/satellite_37.368654_-121.844193.jpg\n",
      "Inferencing on: /content/House_price/satellite_images/SanJose/satellite_37.244793_-121.809152.jpg\n",
      "Saved predicted segmentation to: /content/SanJose/satellite_37.244793_-121.809152.jpg\n",
      "Inferencing on: /content/House_price/satellite_images/SanJose/satellite_37.350957_-121.829322.jpg\n",
      "Saved predicted segmentation to: /content/SanJose/satellite_37.350957_-121.829322.jpg\n",
      "Inferencing on: /content/House_price/satellite_images/SanJose/satellite_37.223992_-121.776673.jpg\n",
      "Saved predicted segmentation to: /content/SanJose/satellite_37.223992_-121.776673.jpg\n",
      "Inferencing on: /content/House_price/satellite_images/SanJose/satellite_37.343897_-121.870716.jpg\n",
      "Saved predicted segmentation to: /content/SanJose/satellite_37.343897_-121.870716.jpg\n",
      "Inferencing on: /content/House_price/satellite_images/SanJose/satellite_37.335138_-121.947628.jpg\n"
     ]
    },
    {
     "output_type": "stream",
     "name": "stderr",
     "text": [
      "\rProcessing Images:  28%|██▊       | 808/2837 [00:23<00:59, 33.83image/s]"
     ]
    },
    {
     "output_type": "stream",
     "name": "stdout",
     "text": [
      "Saved predicted segmentation to: /content/SanJose/satellite_37.335138_-121.947628.jpg\n",
      "Inferencing on: /content/House_price/satellite_images/SanJose/satellite_37.31375_-121.778076.jpg\n",
      "Saved predicted segmentation to: /content/SanJose/satellite_37.31375_-121.778076.jpg\n",
      "Inferencing on: /content/House_price/satellite_images/SanJose/satellite_37.281488_-121.855995.jpg\n",
      "Saved predicted segmentation to: /content/SanJose/satellite_37.281488_-121.855995.jpg\n",
      "Inferencing on: /content/House_price/satellite_images/SanJose/satellite_37.2486_-121.782853.jpg\n",
      "Saved predicted segmentation to: /content/SanJose/satellite_37.2486_-121.782853.jpg\n",
      "Inferencing on: /content/House_price/satellite_images/SanJose/satellite_37.301585_-121.879945.jpg\n",
      "Saved predicted segmentation to: /content/SanJose/satellite_37.301585_-121.879945.jpg\n",
      "Inferencing on: /content/House_price/satellite_images/SanJose/satellite_37.342736_-121.892875.jpg\n",
      "Saved predicted segmentation to: /content/SanJose/satellite_37.342736_-121.892875.jpg\n",
      "Inferencing on: /content/House_price/satellite_images/SanJose/satellite_37.313879_-121.775926.jpg\n",
      "Saved predicted segmentation to: /content/SanJose/satellite_37.313879_-121.775926.jpg\n",
      "Inferencing on: /content/House_price/satellite_images/SanJose/satellite_37.320005_-121.842296.jpg\n"
     ]
    },
    {
     "output_type": "stream",
     "name": "stderr",
     "text": [
      "Processing Images:  29%|██▉       | 816/2837 [00:23<00:59, 33.82image/s]"
     ]
    },
    {
     "output_type": "stream",
     "name": "stdout",
     "text": [
      "Saved predicted segmentation to: /content/SanJose/satellite_37.320005_-121.842296.jpg\n",
      "Inferencing on: /content/House_price/satellite_images/SanJose/satellite_37.320428_-121.760948.jpg\n",
      "Saved predicted segmentation to: /content/SanJose/satellite_37.320428_-121.760948.jpg\n",
      "Inferencing on: /content/House_price/satellite_images/SanJose/satellite_37.361792_-121.85154.jpg\n",
      "Saved predicted segmentation to: /content/SanJose/satellite_37.361792_-121.85154.jpg\n",
      "Inferencing on: /content/House_price/satellite_images/SanJose/satellite_37.360278_-121.893374.jpg\n",
      "Saved predicted segmentation to: /content/SanJose/satellite_37.360278_-121.893374.jpg\n",
      "Inferencing on: /content/House_price/satellite_images/SanJose/satellite_37.217805_-121.857573.jpg\n",
      "Saved predicted segmentation to: /content/SanJose/satellite_37.217805_-121.857573.jpg\n",
      "Inferencing on: /content/House_price/satellite_images/SanJose/satellite_37.301972_-121.880145.jpg\n",
      "Saved predicted segmentation to: /content/SanJose/satellite_37.301972_-121.880145.jpg\n",
      "Inferencing on: /content/House_price/satellite_images/SanJose/satellite_37.299926_-122.028599.jpg\n",
      "Saved predicted segmentation to: /content/SanJose/satellite_37.299926_-122.028599.jpg\n",
      "Inferencing on: /content/House_price/satellite_images/SanJose/satellite_37.342056_-121.792562.jpg\n"
     ]
    },
    {
     "output_type": "stream",
     "name": "stderr",
     "text": [
      "Processing Images:  29%|██▉       | 824/2837 [00:24<00:59, 34.12image/s]"
     ]
    },
    {
     "output_type": "stream",
     "name": "stdout",
     "text": [
      "Saved predicted segmentation to: /content/SanJose/satellite_37.342056_-121.792562.jpg\n",
      "Inferencing on: /content/House_price/satellite_images/SanJose/satellite_37.297413_-121.882668.jpg\n",
      "Saved predicted segmentation to: /content/SanJose/satellite_37.297413_-121.882668.jpg\n",
      "Inferencing on: /content/House_price/satellite_images/SanJose/satellite_37.32884_-121.799205.jpg\n",
      "Saved predicted segmentation to: /content/SanJose/satellite_37.32884_-121.799205.jpg\n",
      "Inferencing on: /content/House_price/satellite_images/SanJose/satellite_37.320787_-121.782092.jpg\n",
      "Saved predicted segmentation to: /content/SanJose/satellite_37.320787_-121.782092.jpg\n",
      "Inferencing on: /content/House_price/satellite_images/SanJose/satellite_37.322211_-121.948126.jpg\n",
      "Saved predicted segmentation to: /content/SanJose/satellite_37.322211_-121.948126.jpg\n",
      "Inferencing on: /content/House_price/satellite_images/SanJose/satellite_37.25011_-121.807988.jpg\n",
      "Saved predicted segmentation to: /content/SanJose/satellite_37.25011_-121.807988.jpg\n",
      "Inferencing on: /content/House_price/satellite_images/SanJose/satellite_37.334121_-121.872694.jpg\n",
      "Saved predicted segmentation to: /content/SanJose/satellite_37.334121_-121.872694.jpg\n",
      "Inferencing on: /content/House_price/satellite_images/SanJose/satellite_37.296531_-121.870133.jpg\n"
     ]
    },
    {
     "output_type": "stream",
     "name": "stderr",
     "text": [
      "Processing Images:  29%|██▉       | 832/2837 [00:24<00:58, 34.11image/s]"
     ]
    },
    {
     "output_type": "stream",
     "name": "stdout",
     "text": [
      "Saved predicted segmentation to: /content/SanJose/satellite_37.296531_-121.870133.jpg\n",
      "Inferencing on: /content/House_price/satellite_images/SanJose/satellite_37.343579_-121.879588.jpg\n",
      "Saved predicted segmentation to: /content/SanJose/satellite_37.343579_-121.879588.jpg\n",
      "Inferencing on: /content/House_price/satellite_images/SanJose/satellite_37.243189_-121.866848.jpg\n",
      "Saved predicted segmentation to: /content/SanJose/satellite_37.243189_-121.866848.jpg\n",
      "Inferencing on: /content/House_price/satellite_images/SanJose/satellite_37.351514_-121.890068.jpg\n",
      "Saved predicted segmentation to: /content/SanJose/satellite_37.351514_-121.890068.jpg\n",
      "Inferencing on: /content/House_price/satellite_images/SanJose/satellite_37.328604_-121.875873.jpg\n",
      "Saved predicted segmentation to: /content/SanJose/satellite_37.328604_-121.875873.jpg\n",
      "Inferencing on: /content/House_price/satellite_images/SanJose/satellite_37.283737_-121.856727.jpg\n",
      "Saved predicted segmentation to: /content/SanJose/satellite_37.283737_-121.856727.jpg\n",
      "Inferencing on: /content/House_price/satellite_images/SanJose/satellite_37.291673_-121.854498.jpg\n",
      "Saved predicted segmentation to: /content/SanJose/satellite_37.291673_-121.854498.jpg\n",
      "Inferencing on: /content/House_price/satellite_images/SanJose/satellite_37.298624_-121.796681.jpg\n"
     ]
    },
    {
     "output_type": "stream",
     "name": "stderr",
     "text": [
      "\rProcessing Images:  29%|██▉       | 836/2837 [00:24<00:58, 34.11image/s]"
     ]
    },
    {
     "output_type": "stream",
     "name": "stdout",
     "text": [
      "Saved predicted segmentation to: /content/SanJose/satellite_37.298624_-121.796681.jpg\n",
      "Inferencing on: /content/House_price/satellite_images/SanJose/satellite_37.317215_-121.955505.jpg\n",
      "Saved predicted segmentation to: /content/SanJose/satellite_37.317215_-121.955505.jpg\n",
      "Inferencing on: /content/House_price/satellite_images/SanJose/satellite_37.324562_-121.929158.jpg\n",
      "Saved predicted segmentation to: /content/SanJose/satellite_37.324562_-121.929158.jpg\n",
      "Inferencing on: /content/House_price/satellite_images/SanJose/satellite_37.321436_-121.829495.jpg\n",
      "Saved predicted segmentation to: /content/SanJose/satellite_37.321436_-121.829495.jpg\n",
      "Inferencing on: /content/House_price/satellite_images/SanJose/satellite_37.254315_-121.847827.jpg\n",
      "Saved predicted segmentation to: /content/SanJose/satellite_37.254315_-121.847827.jpg\n",
      "Inferencing on: /content/House_price/satellite_images/SanJose/satellite_37.36008_-121.864034.jpg\n",
      "Saved predicted segmentation to: /content/SanJose/satellite_37.36008_-121.864034.jpg\n",
      "Inferencing on: /content/House_price/satellite_images/SanJose/satellite_37.349711_-121.856775.jpg\n",
      "Saved predicted segmentation to: /content/SanJose/satellite_37.349711_-121.856775.jpg\n",
      "Inferencing on: /content/House_price/satellite_images/SanJose/satellite_37.310377_-121.907229.jpg\n"
     ]
    },
    {
     "output_type": "stream",
     "name": "stderr",
     "text": [
      "Processing Images:  30%|██▉       | 844/2837 [00:24<00:58, 33.82image/s]"
     ]
    },
    {
     "output_type": "stream",
     "name": "stdout",
     "text": [
      "Saved predicted segmentation to: /content/SanJose/satellite_37.310377_-121.907229.jpg\n",
      "Inferencing on: /content/House_price/satellite_images/SanJose/satellite_37.373403_-121.879006.jpg\n",
      "Saved predicted segmentation to: /content/SanJose/satellite_37.373403_-121.879006.jpg\n",
      "Inferencing on: /content/House_price/satellite_images/SanJose/satellite_37.252292_-121.942361.jpg\n",
      "Saved predicted segmentation to: /content/SanJose/satellite_37.252292_-121.942361.jpg\n",
      "Inferencing on: /content/House_price/satellite_images/SanJose/satellite_37.352483_-121.797796.jpg\n",
      "Saved predicted segmentation to: /content/SanJose/satellite_37.352483_-121.797796.jpg\n",
      "Inferencing on: /content/House_price/satellite_images/SanJose/satellite_37.307241_-121.987981.jpg\n",
      "Saved predicted segmentation to: /content/SanJose/satellite_37.307241_-121.987981.jpg\n",
      "Inferencing on: /content/House_price/satellite_images/SanJose/satellite_37.258945_-121.910588.jpg\n",
      "Saved predicted segmentation to: /content/SanJose/satellite_37.258945_-121.910588.jpg\n",
      "Inferencing on: /content/House_price/satellite_images/SanJose/satellite_37.187389_-121.818863.jpg\n",
      "Saved predicted segmentation to: /content/SanJose/satellite_37.187389_-121.818863.jpg\n",
      "Inferencing on: /content/House_price/satellite_images/SanJose/satellite_37.321508_-121.954684.jpg\n"
     ]
    },
    {
     "output_type": "stream",
     "name": "stderr",
     "text": [
      "Processing Images:  30%|███       | 852/2837 [00:25<00:57, 34.26image/s]"
     ]
    },
    {
     "output_type": "stream",
     "name": "stdout",
     "text": [
      "Saved predicted segmentation to: /content/SanJose/satellite_37.321508_-121.954684.jpg\n",
      "Inferencing on: /content/House_price/satellite_images/SanJose/satellite_37.316159_-121.837892.jpg\n",
      "Saved predicted segmentation to: /content/SanJose/satellite_37.316159_-121.837892.jpg\n",
      "Inferencing on: /content/House_price/satellite_images/SanJose/satellite_37.318595_-121.812096.jpg\n",
      "Saved predicted segmentation to: /content/SanJose/satellite_37.318595_-121.812096.jpg\n",
      "Inferencing on: /content/House_price/satellite_images/SanJose/satellite_37.251099_-121.928268.jpg\n",
      "Saved predicted segmentation to: /content/SanJose/satellite_37.251099_-121.928268.jpg\n",
      "Inferencing on: /content/House_price/satellite_images/SanJose/satellite_37.366629_-121.870129.jpg\n",
      "Saved predicted segmentation to: /content/SanJose/satellite_37.366629_-121.870129.jpg\n",
      "Inferencing on: /content/House_price/satellite_images/SanJose/satellite_37.310523_-121.88154.jpg\n",
      "Saved predicted segmentation to: /content/SanJose/satellite_37.310523_-121.88154.jpg\n",
      "Inferencing on: /content/House_price/satellite_images/SanJose/satellite_37.213307_-121.853265.jpg\n",
      "Saved predicted segmentation to: /content/SanJose/satellite_37.213307_-121.853265.jpg\n",
      "Inferencing on: /content/House_price/satellite_images/SanJose/satellite_37.308153_-121.892473.jpg\n"
     ]
    },
    {
     "output_type": "stream",
     "name": "stderr",
     "text": [
      "Processing Images:  30%|███       | 860/2837 [00:25<00:58, 33.54image/s]"
     ]
    },
    {
     "output_type": "stream",
     "name": "stdout",
     "text": [
      "Saved predicted segmentation to: /content/SanJose/satellite_37.308153_-121.892473.jpg\n",
      "Inferencing on: /content/House_price/satellite_images/SanJose/satellite_37.301836_-121.879841.jpg\n",
      "Saved predicted segmentation to: /content/SanJose/satellite_37.301836_-121.879841.jpg\n",
      "Inferencing on: /content/House_price/satellite_images/SanJose/satellite_37.248039_-121.891981.jpg\n",
      "Saved predicted segmentation to: /content/SanJose/satellite_37.248039_-121.891981.jpg\n",
      "Inferencing on: /content/House_price/satellite_images/SanJose/satellite_37.310596_-121.879713.jpg\n",
      "Saved predicted segmentation to: /content/SanJose/satellite_37.310596_-121.879713.jpg\n",
      "Inferencing on: /content/House_price/satellite_images/SanJose/satellite_37.287275_-121.756599.jpg\n",
      "Saved predicted segmentation to: /content/SanJose/satellite_37.287275_-121.756599.jpg\n",
      "Inferencing on: /content/House_price/satellite_images/SanJose/satellite_37.312754_-121.773597.jpg\n",
      "Saved predicted segmentation to: /content/SanJose/satellite_37.312754_-121.773597.jpg\n",
      "Inferencing on: /content/House_price/satellite_images/SanJose/satellite_37.320647_-121.911599.jpg\n",
      "Saved predicted segmentation to: /content/SanJose/satellite_37.320647_-121.911599.jpg\n",
      "Inferencing on: /content/House_price/satellite_images/SanJose/satellite_37.287268_-121.759917.jpg\n"
     ]
    },
    {
     "output_type": "stream",
     "name": "stderr",
     "text": [
      "\rProcessing Images:  30%|███       | 864/2837 [00:25<00:58, 33.53image/s]"
     ]
    },
    {
     "output_type": "stream",
     "name": "stdout",
     "text": [
      "Saved predicted segmentation to: /content/SanJose/satellite_37.287268_-121.759917.jpg\n",
      "Inferencing on: /content/House_price/satellite_images/SanJose/satellite_37.238501_-121.768636.jpg\n",
      "Saved predicted segmentation to: /content/SanJose/satellite_37.238501_-121.768636.jpg\n",
      "Inferencing on: /content/House_price/satellite_images/SanJose/satellite_37.236156_-121.795958.jpg\n",
      "Saved predicted segmentation to: /content/SanJose/satellite_37.236156_-121.795958.jpg\n",
      "Inferencing on: /content/House_price/satellite_images/SanJose/satellite_37.365868_-121.825998.jpg\n",
      "Saved predicted segmentation to: /content/SanJose/satellite_37.365868_-121.825998.jpg\n",
      "Inferencing on: /content/House_price/satellite_images/SanJose/satellite_37.331027_-121.777982.jpg\n",
      "Saved predicted segmentation to: /content/SanJose/satellite_37.331027_-121.777982.jpg\n",
      "Inferencing on: /content/House_price/satellite_images/SanJose/satellite_37.235585_-121.765201.jpg\n",
      "Saved predicted segmentation to: /content/SanJose/satellite_37.235585_-121.765201.jpg\n",
      "Inferencing on: /content/House_price/satellite_images/SanJose/satellite_37.345699_-121.821332.jpg\n",
      "Saved predicted segmentation to: /content/SanJose/satellite_37.345699_-121.821332.jpg\n",
      "Inferencing on: /content/House_price/satellite_images/SanJose/satellite_37.30801_-121.768233.jpg\n"
     ]
    },
    {
     "output_type": "stream",
     "name": "stderr",
     "text": [
      "Processing Images:  31%|███       | 872/2837 [00:25<00:58, 33.74image/s]"
     ]
    },
    {
     "output_type": "stream",
     "name": "stdout",
     "text": [
      "Saved predicted segmentation to: /content/SanJose/satellite_37.30801_-121.768233.jpg\n",
      "Inferencing on: /content/House_price/satellite_images/SanJose/satellite_37.363328_-121.79963.jpg\n",
      "Saved predicted segmentation to: /content/SanJose/satellite_37.363328_-121.79963.jpg\n",
      "Inferencing on: /content/House_price/satellite_images/SanJose/satellite_37.413034_-121.854177.jpg\n",
      "Saved predicted segmentation to: /content/SanJose/satellite_37.413034_-121.854177.jpg\n",
      "Inferencing on: /content/House_price/satellite_images/SanJose/satellite_37.199537_-121.829208.jpg\n",
      "Saved predicted segmentation to: /content/SanJose/satellite_37.199537_-121.829208.jpg\n",
      "Inferencing on: /content/House_price/satellite_images/SanJose/satellite_37.399452_-121.821394.jpg\n",
      "Saved predicted segmentation to: /content/SanJose/satellite_37.399452_-121.821394.jpg\n",
      "Inferencing on: /content/House_price/satellite_images/SanJose/satellite_37.384946_-121.86095.jpg\n",
      "Saved predicted segmentation to: /content/SanJose/satellite_37.384946_-121.86095.jpg\n",
      "Inferencing on: /content/House_price/satellite_images/SanJose/satellite_37.251745_-121.887348.jpg\n",
      "Saved predicted segmentation to: /content/SanJose/satellite_37.251745_-121.887348.jpg\n",
      "Inferencing on: /content/House_price/satellite_images/SanJose/satellite_37.306629_-121.842846.jpg\n"
     ]
    },
    {
     "output_type": "stream",
     "name": "stderr",
     "text": [
      "Processing Images:  31%|███       | 880/2837 [00:25<00:58, 33.61image/s]"
     ]
    },
    {
     "output_type": "stream",
     "name": "stdout",
     "text": [
      "Saved predicted segmentation to: /content/SanJose/satellite_37.306629_-121.842846.jpg\n",
      "Inferencing on: /content/House_price/satellite_images/SanJose/satellite_37.295183_-121.882948.jpg\n",
      "Saved predicted segmentation to: /content/SanJose/satellite_37.295183_-121.882948.jpg\n",
      "Inferencing on: /content/House_price/satellite_images/SanJose/satellite_37.308224_-121.890973.jpg\n",
      "Saved predicted segmentation to: /content/SanJose/satellite_37.308224_-121.890973.jpg\n",
      "Inferencing on: /content/House_price/satellite_images/SanJose/satellite_37.254193_-121.883021.jpg\n",
      "Saved predicted segmentation to: /content/SanJose/satellite_37.254193_-121.883021.jpg\n",
      "Inferencing on: /content/House_price/satellite_images/SanJose/satellite_37.241988_-121.862776.jpg\n",
      "Saved predicted segmentation to: /content/SanJose/satellite_37.241988_-121.862776.jpg\n",
      "Inferencing on: /content/House_price/satellite_images/SanJose/satellite_37.268937_-121.90793.jpg\n",
      "Saved predicted segmentation to: /content/SanJose/satellite_37.268937_-121.90793.jpg\n",
      "Inferencing on: /content/House_price/satellite_images/SanJose/satellite_37.355884_-121.852845.jpg\n",
      "Saved predicted segmentation to: /content/SanJose/satellite_37.355884_-121.852845.jpg\n",
      "Inferencing on: /content/House_price/satellite_images/SanJose/satellite_37.367724_-121.841325.jpg\n"
     ]
    },
    {
     "output_type": "stream",
     "name": "stderr",
     "text": [
      "Processing Images:  31%|███▏      | 888/2837 [00:26<00:57, 33.70image/s]"
     ]
    },
    {
     "output_type": "stream",
     "name": "stdout",
     "text": [
      "Saved predicted segmentation to: /content/SanJose/satellite_37.367724_-121.841325.jpg\n",
      "Inferencing on: /content/House_price/satellite_images/SanJose/satellite_37.305631_-122.012034.jpg\n",
      "Saved predicted segmentation to: /content/SanJose/satellite_37.305631_-122.012034.jpg\n",
      "Inferencing on: /content/House_price/satellite_images/SanJose/satellite_37.300444_-121.963448.jpg\n",
      "Saved predicted segmentation to: /content/SanJose/satellite_37.300444_-121.963448.jpg\n",
      "Inferencing on: /content/House_price/satellite_images/SanJose/satellite_37.199951_-121.840797.jpg\n",
      "Saved predicted segmentation to: /content/SanJose/satellite_37.199951_-121.840797.jpg\n",
      "Inferencing on: /content/House_price/satellite_images/SanJose/satellite_37.332104_-121.836418.jpg\n",
      "Saved predicted segmentation to: /content/SanJose/satellite_37.332104_-121.836418.jpg\n",
      "Inferencing on: /content/House_price/satellite_images/SanJose/satellite_37.338568_-121.764802.jpg\n",
      "Saved predicted segmentation to: /content/SanJose/satellite_37.338568_-121.764802.jpg\n",
      "Inferencing on: /content/House_price/satellite_images/SanJose/satellite_37.399494_-121.906227.jpg\n",
      "Saved predicted segmentation to: /content/SanJose/satellite_37.399494_-121.906227.jpg\n",
      "Inferencing on: /content/House_price/satellite_images/SanJose/satellite_37.217131_-121.861649.jpg\n"
     ]
    },
    {
     "output_type": "stream",
     "name": "stderr",
     "text": [
      "\rProcessing Images:  31%|███▏      | 892/2837 [00:26<00:57, 33.97image/s]"
     ]
    },
    {
     "output_type": "stream",
     "name": "stdout",
     "text": [
      "Saved predicted segmentation to: /content/SanJose/satellite_37.217131_-121.861649.jpg\n",
      "Inferencing on: /content/House_price/satellite_images/SanJose/satellite_37.410352_-121.84914.jpg\n",
      "Saved predicted segmentation to: /content/SanJose/satellite_37.410352_-121.84914.jpg\n",
      "Inferencing on: /content/House_price/satellite_images/SanJose/satellite_37.36195_-121.805847.jpg\n",
      "Saved predicted segmentation to: /content/SanJose/satellite_37.36195_-121.805847.jpg\n",
      "Inferencing on: /content/House_price/satellite_images/SanJose/satellite_37.314013_-121.826305.jpg\n",
      "Saved predicted segmentation to: /content/SanJose/satellite_37.314013_-121.826305.jpg\n",
      "Inferencing on: /content/House_price/satellite_images/SanJose/satellite_37.284026_-121.917901.jpg\n",
      "Saved predicted segmentation to: /content/SanJose/satellite_37.284026_-121.917901.jpg\n",
      "Inferencing on: /content/House_price/satellite_images/SanJose/satellite_37.304758_-121.862126.jpg\n",
      "Saved predicted segmentation to: /content/SanJose/satellite_37.304758_-121.862126.jpg\n",
      "Inferencing on: /content/House_price/satellite_images/SanJose/satellite_37.332043_-121.91608.jpg\n",
      "Saved predicted segmentation to: /content/SanJose/satellite_37.332043_-121.91608.jpg\n",
      "Inferencing on: /content/House_price/satellite_images/SanJose/satellite_37.250237_-121.904093.jpg\n"
     ]
    },
    {
     "output_type": "stream",
     "name": "stderr",
     "text": [
      "Processing Images:  32%|███▏      | 900/2837 [00:26<00:56, 34.10image/s]"
     ]
    },
    {
     "output_type": "stream",
     "name": "stdout",
     "text": [
      "Saved predicted segmentation to: /content/SanJose/satellite_37.250237_-121.904093.jpg\n",
      "Inferencing on: /content/House_price/satellite_images/SanJose/satellite_37.416893_-121.958298.jpg\n",
      "Saved predicted segmentation to: /content/SanJose/satellite_37.416893_-121.958298.jpg\n",
      "Inferencing on: /content/House_price/satellite_images/SanJose/satellite_37.25401_-121.81188.jpg\n",
      "Saved predicted segmentation to: /content/SanJose/satellite_37.25401_-121.81188.jpg\n",
      "Inferencing on: /content/House_price/satellite_images/SanJose/satellite_37.302611_-121.813496.jpg\n",
      "Saved predicted segmentation to: /content/SanJose/satellite_37.302611_-121.813496.jpg\n",
      "Inferencing on: /content/House_price/satellite_images/SanJose/satellite_37.285181_-121.896823.jpg\n",
      "Saved predicted segmentation to: /content/SanJose/satellite_37.285181_-121.896823.jpg\n",
      "Inferencing on: /content/House_price/satellite_images/SanJose/satellite_37.246692_-121.85345.jpg\n",
      "Saved predicted segmentation to: /content/SanJose/satellite_37.246692_-121.85345.jpg\n",
      "Inferencing on: /content/House_price/satellite_images/SanJose/satellite_37.229523_-121.766534.jpg\n",
      "Saved predicted segmentation to: /content/SanJose/satellite_37.229523_-121.766534.jpg\n",
      "Inferencing on: /content/House_price/satellite_images/SanJose/satellite_37.409389_-121.503292.jpg\n",
      "Saved predicted segmentation to: /content/SanJose/satellite_37.409389_-121.503292.jpg\n",
      "Inferencing on: /content/House_price/satellite_images/SanJose/satellite_37.316116_-121.774319.jpg\n"
     ]
    },
    {
     "output_type": "stream",
     "name": "stderr",
     "text": [
      "Processing Images:  32%|███▏      | 908/2837 [00:26<00:56, 34.22image/s]"
     ]
    },
    {
     "output_type": "stream",
     "name": "stdout",
     "text": [
      "Saved predicted segmentation to: /content/SanJose/satellite_37.316116_-121.774319.jpg\n",
      "Inferencing on: /content/House_price/satellite_images/SanJose/satellite_37.243445_-121.831937.jpg\n",
      "Saved predicted segmentation to: /content/SanJose/satellite_37.243445_-121.831937.jpg\n",
      "Inferencing on: /content/House_price/satellite_images/SanJose/satellite_37.321977_-121.987024.jpg\n",
      "Saved predicted segmentation to: /content/SanJose/satellite_37.321977_-121.987024.jpg\n",
      "Inferencing on: /content/House_price/satellite_images/SanJose/satellite_37.388928_-121.867031.jpg\n",
      "Saved predicted segmentation to: /content/SanJose/satellite_37.388928_-121.867031.jpg\n",
      "Inferencing on: /content/House_price/satellite_images/SanJose/satellite_37.25181_-121.890527.jpg\n",
      "Saved predicted segmentation to: /content/SanJose/satellite_37.25181_-121.890527.jpg\n",
      "Inferencing on: /content/House_price/satellite_images/SanJose/satellite_37.33421_-121.885101.jpg\n",
      "Saved predicted segmentation to: /content/SanJose/satellite_37.33421_-121.885101.jpg\n",
      "Inferencing on: /content/House_price/satellite_images/SanJose/satellite_37.297377_-121.757306.jpg\n",
      "Saved predicted segmentation to: /content/SanJose/satellite_37.297377_-121.757306.jpg\n",
      "Inferencing on: /content/House_price/satellite_images/SanJose/satellite_37.292049_-121.85952.jpg\n"
     ]
    },
    {
     "output_type": "stream",
     "name": "stderr",
     "text": [
      "Processing Images:  32%|███▏      | 916/2837 [00:26<00:56, 34.25image/s]"
     ]
    },
    {
     "output_type": "stream",
     "name": "stdout",
     "text": [
      "Saved predicted segmentation to: /content/SanJose/satellite_37.292049_-121.85952.jpg\n",
      "Inferencing on: /content/House_price/satellite_images/SanJose/satellite_37.342793_-121.853066.jpg\n",
      "Saved predicted segmentation to: /content/SanJose/satellite_37.342793_-121.853066.jpg\n",
      "Inferencing on: /content/House_price/satellite_images/SanJose/satellite_37.291685_-121.889674.jpg\n",
      "Saved predicted segmentation to: /content/SanJose/satellite_37.291685_-121.889674.jpg\n",
      "Inferencing on: /content/House_price/satellite_images/SanJose/satellite_37.415541_-121.865974.jpg\n",
      "Saved predicted segmentation to: /content/SanJose/satellite_37.415541_-121.865974.jpg\n",
      "Inferencing on: /content/House_price/satellite_images/SanJose/satellite_37.235737_-121.754427.jpg\n",
      "Saved predicted segmentation to: /content/SanJose/satellite_37.235737_-121.754427.jpg\n",
      "Inferencing on: /content/House_price/satellite_images/SanJose/satellite_37.341563_-121.931097.jpg\n",
      "Saved predicted segmentation to: /content/SanJose/satellite_37.341563_-121.931097.jpg\n",
      "Inferencing on: /content/House_price/satellite_images/SanJose/satellite_37.31795_-121.961746.jpg\n",
      "Saved predicted segmentation to: /content/SanJose/satellite_37.31795_-121.961746.jpg\n",
      "Inferencing on: /content/House_price/satellite_images/SanJose/satellite_37.363696_-121.913075.jpg\n"
     ]
    },
    {
     "output_type": "stream",
     "name": "stderr",
     "text": [
      "Processing Images:  33%|███▎      | 924/2837 [00:27<00:56, 33.94image/s]"
     ]
    },
    {
     "output_type": "stream",
     "name": "stdout",
     "text": [
      "Saved predicted segmentation to: /content/SanJose/satellite_37.363696_-121.913075.jpg\n",
      "Inferencing on: /content/House_price/satellite_images/SanJose/satellite_37.305543_-121.82338.jpg\n",
      "Saved predicted segmentation to: /content/SanJose/satellite_37.305543_-121.82338.jpg\n",
      "Inferencing on: /content/House_price/satellite_images/SanJose/satellite_37.358809_-121.820552.jpg\n",
      "Saved predicted segmentation to: /content/SanJose/satellite_37.358809_-121.820552.jpg\n",
      "Inferencing on: /content/House_price/satellite_images/SanJose/satellite_37.237745_-121.759259.jpg\n",
      "Saved predicted segmentation to: /content/SanJose/satellite_37.237745_-121.759259.jpg\n",
      "Inferencing on: /content/House_price/satellite_images/SanJose/satellite_37.299229_-122.027103.jpg\n",
      "Saved predicted segmentation to: /content/SanJose/satellite_37.299229_-122.027103.jpg\n",
      "Inferencing on: /content/House_price/satellite_images/SanJose/satellite_37.233456_-121.831656.jpg\n",
      "Saved predicted segmentation to: /content/SanJose/satellite_37.233456_-121.831656.jpg\n",
      "Inferencing on: /content/House_price/satellite_images/SanJose/satellite_37.342641_-121.838476.jpg\n",
      "Saved predicted segmentation to: /content/SanJose/satellite_37.342641_-121.838476.jpg\n",
      "Inferencing on: /content/House_price/satellite_images/SanJose/satellite_37.312023_-121.802111.jpg\n"
     ]
    },
    {
     "output_type": "stream",
     "name": "stderr",
     "text": [
      "\rProcessing Images:  33%|███▎      | 928/2837 [00:27<00:56, 34.06image/s]"
     ]
    },
    {
     "output_type": "stream",
     "name": "stdout",
     "text": [
      "Saved predicted segmentation to: /content/SanJose/satellite_37.312023_-121.802111.jpg\n",
      "Inferencing on: /content/House_price/satellite_images/SanJose/satellite_37.318784_-121.915993.jpg\n",
      "Saved predicted segmentation to: /content/SanJose/satellite_37.318784_-121.915993.jpg\n",
      "Inferencing on: /content/House_price/satellite_images/SanJose/satellite_37.287852_-121.843802.jpg\n",
      "Saved predicted segmentation to: /content/SanJose/satellite_37.287852_-121.843802.jpg\n",
      "Inferencing on: /content/House_price/satellite_images/SanJose/satellite_37.310046_-121.881215.jpg\n",
      "Saved predicted segmentation to: /content/SanJose/satellite_37.310046_-121.881215.jpg\n",
      "Inferencing on: /content/House_price/satellite_images/SanJose/satellite_37.366782_-121.866429.jpg\n",
      "Saved predicted segmentation to: /content/SanJose/satellite_37.366782_-121.866429.jpg\n",
      "Inferencing on: /content/House_price/satellite_images/SanJose/satellite_37.252278_-121.942126.jpg\n",
      "Saved predicted segmentation to: /content/SanJose/satellite_37.252278_-121.942126.jpg\n",
      "Inferencing on: /content/House_price/satellite_images/SanJose/satellite_37.249614_-121.806076.jpg\n",
      "Saved predicted segmentation to: /content/SanJose/satellite_37.249614_-121.806076.jpg\n",
      "Inferencing on: /content/House_price/satellite_images/SanJose/satellite_37.399615_-121.838569.jpg\n"
     ]
    },
    {
     "output_type": "stream",
     "name": "stderr",
     "text": [
      "Processing Images:  33%|███▎      | 936/2837 [00:27<00:55, 34.27image/s]"
     ]
    },
    {
     "output_type": "stream",
     "name": "stdout",
     "text": [
      "Saved predicted segmentation to: /content/SanJose/satellite_37.399615_-121.838569.jpg\n",
      "Inferencing on: /content/House_price/satellite_images/SanJose/satellite_37.278619_-121.829278.jpg\n",
      "Saved predicted segmentation to: /content/SanJose/satellite_37.278619_-121.829278.jpg\n",
      "Inferencing on: /content/House_price/satellite_images/SanJose/satellite_37.334431_-121.84977.jpg\n",
      "Saved predicted segmentation to: /content/SanJose/satellite_37.334431_-121.84977.jpg\n",
      "Inferencing on: /content/House_price/satellite_images/SanJose/satellite_37.410794_-121.860874.jpg\n",
      "Saved predicted segmentation to: /content/SanJose/satellite_37.410794_-121.860874.jpg\n",
      "Inferencing on: /content/House_price/satellite_images/SanJose/satellite_37.249156_-121.839447.jpg\n",
      "Saved predicted segmentation to: /content/SanJose/satellite_37.249156_-121.839447.jpg\n",
      "Inferencing on: /content/House_price/satellite_images/SanJose/satellite_37.307155_-121.947027.jpg\n",
      "Saved predicted segmentation to: /content/SanJose/satellite_37.307155_-121.947027.jpg\n",
      "Inferencing on: /content/House_price/satellite_images/SanJose/satellite_37.340453_-121.896705.jpg\n",
      "Saved predicted segmentation to: /content/SanJose/satellite_37.340453_-121.896705.jpg\n",
      "Inferencing on: /content/House_price/satellite_images/SanJose/satellite_37.376998_-121.845543.jpg\n"
     ]
    },
    {
     "output_type": "stream",
     "name": "stderr",
     "text": [
      "Processing Images:  33%|███▎      | 944/2837 [00:27<00:55, 34.36image/s]"
     ]
    },
    {
     "output_type": "stream",
     "name": "stdout",
     "text": [
      "Saved predicted segmentation to: /content/SanJose/satellite_37.376998_-121.845543.jpg\n",
      "Inferencing on: /content/House_price/satellite_images/SanJose/satellite_37.310458_-121.949015.jpg\n",
      "Saved predicted segmentation to: /content/SanJose/satellite_37.310458_-121.949015.jpg\n",
      "Inferencing on: /content/House_price/satellite_images/SanJose/satellite_37.196826_-121.840026.jpg\n",
      "Saved predicted segmentation to: /content/SanJose/satellite_37.196826_-121.840026.jpg\n",
      "Inferencing on: /content/House_price/satellite_images/SanJose/satellite_37.371847_-121.880998.jpg\n",
      "Saved predicted segmentation to: /content/SanJose/satellite_37.371847_-121.880998.jpg\n",
      "Inferencing on: /content/House_price/satellite_images/SanJose/satellite_37.278825_-121.979978.jpg\n",
      "Saved predicted segmentation to: /content/SanJose/satellite_37.278825_-121.979978.jpg\n",
      "Inferencing on: /content/House_price/satellite_images/SanJose/satellite_37.220591_-121.76557.jpg\n",
      "Saved predicted segmentation to: /content/SanJose/satellite_37.220591_-121.76557.jpg\n",
      "Inferencing on: /content/House_price/satellite_images/SanJose/satellite_37.276097_-121.98624.jpg\n",
      "Saved predicted segmentation to: /content/SanJose/satellite_37.276097_-121.98624.jpg\n",
      "Inferencing on: /content/House_price/satellite_images/SanJose/satellite_37.288849_-121.863149.jpg\n"
     ]
    },
    {
     "output_type": "stream",
     "name": "stderr",
     "text": [
      "Processing Images:  34%|███▎      | 952/2837 [00:27<00:54, 34.40image/s]"
     ]
    },
    {
     "output_type": "stream",
     "name": "stdout",
     "text": [
      "Saved predicted segmentation to: /content/SanJose/satellite_37.288849_-121.863149.jpg\n",
      "Inferencing on: /content/House_price/satellite_images/SanJose/satellite_37.313721_-121.896082.jpg\n",
      "Saved predicted segmentation to: /content/SanJose/satellite_37.313721_-121.896082.jpg\n",
      "Inferencing on: /content/House_price/satellite_images/SanJose/satellite_37.292404_-121.85585.jpg\n",
      "Saved predicted segmentation to: /content/SanJose/satellite_37.292404_-121.85585.jpg\n",
      "Inferencing on: /content/House_price/satellite_images/SanJose/satellite_37.238532_-121.821589.jpg\n",
      "Saved predicted segmentation to: /content/SanJose/satellite_37.238532_-121.821589.jpg\n",
      "Inferencing on: /content/House_price/satellite_images/SanJose/satellite_37.34145_-121.804367.jpg\n",
      "Saved predicted segmentation to: /content/SanJose/satellite_37.34145_-121.804367.jpg\n",
      "Inferencing on: /content/House_price/satellite_images/SanJose/satellite_37.31129_-121.879232.jpg\n",
      "Saved predicted segmentation to: /content/SanJose/satellite_37.31129_-121.879232.jpg\n",
      "Inferencing on: /content/House_price/satellite_images/SanJose/satellite_37.287395_-121.911085.jpg\n",
      "Saved predicted segmentation to: /content/SanJose/satellite_37.287395_-121.911085.jpg\n",
      "Inferencing on: /content/House_price/satellite_images/SanJose/satellite_37.237734_-121.806452.jpg\n"
     ]
    },
    {
     "output_type": "stream",
     "name": "stderr",
     "text": [
      "\rProcessing Images:  34%|███▎      | 956/2837 [00:28<00:54, 34.37image/s]"
     ]
    },
    {
     "output_type": "stream",
     "name": "stdout",
     "text": [
      "Saved predicted segmentation to: /content/SanJose/satellite_37.237734_-121.806452.jpg\n",
      "Inferencing on: /content/House_price/satellite_images/SanJose/satellite_37.350989_-121.876777.jpg\n",
      "Saved predicted segmentation to: /content/SanJose/satellite_37.350989_-121.876777.jpg\n",
      "Inferencing on: /content/House_price/satellite_images/SanJose/satellite_37.272015_-121.908261.jpg\n",
      "Saved predicted segmentation to: /content/SanJose/satellite_37.272015_-121.908261.jpg\n",
      "Inferencing on: /content/House_price/satellite_images/SanJose/satellite_37.346074_-121.902446.jpg\n",
      "Saved predicted segmentation to: /content/SanJose/satellite_37.346074_-121.902446.jpg\n",
      "Inferencing on: /content/House_price/satellite_images/SanJose/satellite_37.369076_-121.843999.jpg\n",
      "Saved predicted segmentation to: /content/SanJose/satellite_37.369076_-121.843999.jpg\n",
      "Inferencing on: /content/House_price/satellite_images/SanJose/satellite_37.291379_-121.884377.jpg\n",
      "Saved predicted segmentation to: /content/SanJose/satellite_37.291379_-121.884377.jpg\n",
      "Inferencing on: /content/House_price/satellite_images/SanJose/satellite_37.251422_-121.848399.jpg\n",
      "Saved predicted segmentation to: /content/SanJose/satellite_37.251422_-121.848399.jpg\n",
      "Inferencing on: /content/House_price/satellite_images/SanJose/satellite_37.310757_-121.882659.jpg\n"
     ]
    },
    {
     "output_type": "stream",
     "name": "stderr",
     "text": [
      "Processing Images:  34%|███▍      | 964/2837 [00:28<00:54, 34.42image/s]"
     ]
    },
    {
     "output_type": "stream",
     "name": "stdout",
     "text": [
      "Saved predicted segmentation to: /content/SanJose/satellite_37.310757_-121.882659.jpg\n",
      "Inferencing on: /content/House_price/satellite_images/SanJose/satellite_37.309854_-121.835949.jpg\n",
      "Saved predicted segmentation to: /content/SanJose/satellite_37.309854_-121.835949.jpg\n",
      "Inferencing on: /content/House_price/satellite_images/SanJose/satellite_37.302164_-121.89316.jpg\n",
      "Saved predicted segmentation to: /content/SanJose/satellite_37.302164_-121.89316.jpg\n",
      "Inferencing on: /content/House_price/satellite_images/SanJose/satellite_37.242651_-121.798712.jpg\n",
      "Saved predicted segmentation to: /content/SanJose/satellite_37.242651_-121.798712.jpg\n",
      "Inferencing on: /content/House_price/satellite_images/SanJose/satellite_37.291766_-121.908897.jpg\n",
      "Saved predicted segmentation to: /content/SanJose/satellite_37.291766_-121.908897.jpg\n",
      "Inferencing on: /content/House_price/satellite_images/SanJose/satellite_37.374278_-121.825374.jpg\n",
      "Saved predicted segmentation to: /content/SanJose/satellite_37.374278_-121.825374.jpg\n",
      "Inferencing on: /content/House_price/satellite_images/SanJose/satellite_37.273423_-121.736712.jpg\n",
      "Saved predicted segmentation to: /content/SanJose/satellite_37.273423_-121.736712.jpg\n",
      "Inferencing on: /content/House_price/satellite_images/SanJose/satellite_37.2805_-121.930959.jpg\n"
     ]
    },
    {
     "output_type": "stream",
     "name": "stderr",
     "text": [
      "Processing Images:  34%|███▍      | 972/2837 [00:28<00:54, 34.50image/s]"
     ]
    },
    {
     "output_type": "stream",
     "name": "stdout",
     "text": [
      "Saved predicted segmentation to: /content/SanJose/satellite_37.2805_-121.930959.jpg\n",
      "Inferencing on: /content/House_price/satellite_images/SanJose/satellite_37.39555_-121.904533.jpg\n",
      "Saved predicted segmentation to: /content/SanJose/satellite_37.39555_-121.904533.jpg\n",
      "Inferencing on: /content/House_price/satellite_images/SanJose/satellite_37.246729_-121.919008.jpg\n",
      "Saved predicted segmentation to: /content/SanJose/satellite_37.246729_-121.919008.jpg\n",
      "Inferencing on: /content/House_price/satellite_images/SanJose/satellite_37.213651_-121.852225.jpg\n",
      "Saved predicted segmentation to: /content/SanJose/satellite_37.213651_-121.852225.jpg\n",
      "Inferencing on: /content/House_price/satellite_images/SanJose/satellite_37.380756_-121.855782.jpg\n",
      "Saved predicted segmentation to: /content/SanJose/satellite_37.380756_-121.855782.jpg\n",
      "Inferencing on: /content/House_price/satellite_images/SanJose/satellite_37.250132_-121.879997.jpg\n",
      "Saved predicted segmentation to: /content/SanJose/satellite_37.250132_-121.879997.jpg\n",
      "Inferencing on: /content/House_price/satellite_images/SanJose/satellite_37.299333_-121.97001.jpg\n",
      "Saved predicted segmentation to: /content/SanJose/satellite_37.299333_-121.97001.jpg\n",
      "Inferencing on: /content/House_price/satellite_images/SanJose/satellite_37.270476_-121.918041.jpg\n"
     ]
    },
    {
     "output_type": "stream",
     "name": "stderr",
     "text": [
      "Processing Images:  35%|███▍      | 980/2837 [00:28<00:54, 34.28image/s]"
     ]
    },
    {
     "output_type": "stream",
     "name": "stdout",
     "text": [
      "Saved predicted segmentation to: /content/SanJose/satellite_37.270476_-121.918041.jpg\n",
      "Inferencing on: /content/House_price/satellite_images/SanJose/satellite_37.345379_-121.83881.jpg\n",
      "Saved predicted segmentation to: /content/SanJose/satellite_37.345379_-121.83881.jpg\n",
      "Inferencing on: /content/House_price/satellite_images/SanJose/satellite_37.413841_-121.943024.jpg\n",
      "Saved predicted segmentation to: /content/SanJose/satellite_37.413841_-121.943024.jpg\n",
      "Inferencing on: /content/House_price/satellite_images/SanJose/satellite_37.334587_-121.917095.jpg\n",
      "Saved predicted segmentation to: /content/SanJose/satellite_37.334587_-121.917095.jpg\n",
      "Inferencing on: /content/House_price/satellite_images/SanJose/satellite_37.301272_-121.987408.jpg\n",
      "Saved predicted segmentation to: /content/SanJose/satellite_37.301272_-121.987408.jpg\n",
      "Inferencing on: /content/House_price/satellite_images/SanJose/satellite_37.282992_-121.909021.jpg\n",
      "Saved predicted segmentation to: /content/SanJose/satellite_37.282992_-121.909021.jpg\n",
      "Inferencing on: /content/House_price/satellite_images/SanJose/satellite_37.252389_-121.826177.jpg\n",
      "Saved predicted segmentation to: /content/SanJose/satellite_37.252389_-121.826177.jpg\n",
      "Inferencing on: /content/House_price/satellite_images/SanJose/satellite_37.374844_-121.85531.jpg\n"
     ]
    },
    {
     "output_type": "stream",
     "name": "stderr",
     "text": [
      "\rProcessing Images:  35%|███▍      | 984/2837 [00:28<00:54, 33.81image/s]"
     ]
    },
    {
     "output_type": "stream",
     "name": "stdout",
     "text": [
      "Saved predicted segmentation to: /content/SanJose/satellite_37.374844_-121.85531.jpg\n",
      "Inferencing on: /content/House_price/satellite_images/SanJose/satellite_37.376651_-121.880008.jpg\n",
      "Saved predicted segmentation to: /content/SanJose/satellite_37.376651_-121.880008.jpg\n",
      "Inferencing on: /content/House_price/satellite_images/SanJose/satellite_37.383782_-121.818348.jpg\n",
      "Saved predicted segmentation to: /content/SanJose/satellite_37.383782_-121.818348.jpg\n",
      "Inferencing on: /content/House_price/satellite_images/SanJose/satellite_37.284164_-121.753734.jpg\n",
      "Saved predicted segmentation to: /content/SanJose/satellite_37.284164_-121.753734.jpg\n",
      "Inferencing on: /content/House_price/satellite_images/SanJose/satellite_37.314837_-121.947578.jpg\n",
      "Saved predicted segmentation to: /content/SanJose/satellite_37.314837_-121.947578.jpg\n",
      "Inferencing on: /content/House_price/satellite_images/SanJose/satellite_37.3717_-121.890793.jpg\n",
      "Saved predicted segmentation to: /content/SanJose/satellite_37.3717_-121.890793.jpg\n",
      "Inferencing on: /content/House_price/satellite_images/SanJose/satellite_37.298554_-121.950652.jpg\n",
      "Saved predicted segmentation to: /content/SanJose/satellite_37.298554_-121.950652.jpg\n",
      "Inferencing on: /content/House_price/satellite_images/SanJose/satellite_37.244843_-121.829222.jpg\n"
     ]
    },
    {
     "output_type": "stream",
     "name": "stderr",
     "text": [
      "Processing Images:  35%|███▍      | 992/2837 [00:29<00:54, 34.15image/s]"
     ]
    },
    {
     "output_type": "stream",
     "name": "stdout",
     "text": [
      "Saved predicted segmentation to: /content/SanJose/satellite_37.244843_-121.829222.jpg\n",
      "Inferencing on: /content/House_price/satellite_images/SanJose/satellite_37.231682_-121.879361.jpg\n",
      "Saved predicted segmentation to: /content/SanJose/satellite_37.231682_-121.879361.jpg\n",
      "Inferencing on: /content/House_price/satellite_images/SanJose/satellite_37.30288_-121.968015.jpg\n",
      "Saved predicted segmentation to: /content/SanJose/satellite_37.30288_-121.968015.jpg\n",
      "Inferencing on: /content/House_price/satellite_images/SanJose/satellite_37.285508_-121.738602.jpg\n",
      "Saved predicted segmentation to: /content/SanJose/satellite_37.285508_-121.738602.jpg\n",
      "Inferencing on: /content/House_price/satellite_images/SanJose/satellite_37.309016_-121.895201.jpg\n",
      "Saved predicted segmentation to: /content/SanJose/satellite_37.309016_-121.895201.jpg\n",
      "Inferencing on: /content/House_price/satellite_images/SanJose/satellite_37.308764_-121.802153.jpg\n",
      "Saved predicted segmentation to: /content/SanJose/satellite_37.308764_-121.802153.jpg\n",
      "Inferencing on: /content/House_price/satellite_images/SanJose/satellite_37.293753_-121.755973.jpg\n",
      "Saved predicted segmentation to: /content/SanJose/satellite_37.293753_-121.755973.jpg\n",
      "Inferencing on: /content/House_price/satellite_images/SanJose/satellite_37.388264_-121.836951.jpg\n"
     ]
    },
    {
     "output_type": "stream",
     "name": "stderr",
     "text": [
      "Processing Images:  35%|███▌      | 1000/2837 [00:29<00:53, 34.04image/s]"
     ]
    },
    {
     "output_type": "stream",
     "name": "stdout",
     "text": [
      "Saved predicted segmentation to: /content/SanJose/satellite_37.388264_-121.836951.jpg\n",
      "Inferencing on: /content/House_price/satellite_images/SanJose/satellite_37.296085_-121.756755.jpg\n",
      "Saved predicted segmentation to: /content/SanJose/satellite_37.296085_-121.756755.jpg\n",
      "Inferencing on: /content/House_price/satellite_images/SanJose/satellite_37.225962_-121.784684.jpg\n",
      "Saved predicted segmentation to: /content/SanJose/satellite_37.225962_-121.784684.jpg\n",
      "Inferencing on: /content/House_price/satellite_images/SanJose/satellite_37.238718_-121.810203.jpg\n",
      "Saved predicted segmentation to: /content/SanJose/satellite_37.238718_-121.810203.jpg\n",
      "Inferencing on: /content/House_price/satellite_images/SanJose/satellite_37.257171_-121.826292.jpg\n",
      "Saved predicted segmentation to: /content/SanJose/satellite_37.257171_-121.826292.jpg\n",
      "Inferencing on: /content/House_price/satellite_images/SanJose/satellite_37.342453_-121.887616.jpg\n",
      "Saved predicted segmentation to: /content/SanJose/satellite_37.342453_-121.887616.jpg\n",
      "Inferencing on: /content/House_price/satellite_images/SanJose/satellite_37.319268_-121.843228.jpg\n",
      "Saved predicted segmentation to: /content/SanJose/satellite_37.319268_-121.843228.jpg\n",
      "Inferencing on: /content/House_price/satellite_images/SanJose/satellite_37.389421_-121.81937.jpg\n"
     ]
    },
    {
     "output_type": "stream",
     "name": "stderr",
     "text": [
      "Processing Images:  36%|███▌      | 1008/2837 [00:29<00:53, 34.38image/s]"
     ]
    },
    {
     "output_type": "stream",
     "name": "stdout",
     "text": [
      "Saved predicted segmentation to: /content/SanJose/satellite_37.389421_-121.81937.jpg\n",
      "Inferencing on: /content/House_price/satellite_images/SanJose/satellite_37.243151_-121.905608.jpg\n",
      "Saved predicted segmentation to: /content/SanJose/satellite_37.243151_-121.905608.jpg\n",
      "Inferencing on: /content/House_price/satellite_images/SanJose/satellite_37.240191_-121.825724.jpg\n",
      "Saved predicted segmentation to: /content/SanJose/satellite_37.240191_-121.825724.jpg\n",
      "Inferencing on: /content/House_price/satellite_images/SanJose/satellite_37.329041_-121.874787.jpg\n",
      "Saved predicted segmentation to: /content/SanJose/satellite_37.329041_-121.874787.jpg\n",
      "Inferencing on: /content/House_price/satellite_images/SanJose/satellite_37.360296_-121.845969.jpg\n",
      "Saved predicted segmentation to: /content/SanJose/satellite_37.360296_-121.845969.jpg\n",
      "Inferencing on: /content/House_price/satellite_images/SanJose/satellite_37.345593_-121.854019.jpg\n",
      "Saved predicted segmentation to: /content/SanJose/satellite_37.345593_-121.854019.jpg\n",
      "Inferencing on: /content/House_price/satellite_images/SanJose/satellite_37.288494_-121.759101.jpg\n",
      "Saved predicted segmentation to: /content/SanJose/satellite_37.288494_-121.759101.jpg\n",
      "Inferencing on: /content/House_price/satellite_images/SanJose/satellite_37.269068_-121.877763.jpg\n"
     ]
    },
    {
     "output_type": "stream",
     "name": "stderr",
     "text": [
      "\rProcessing Images:  36%|███▌      | 1012/2837 [00:29<00:52, 34.53image/s]"
     ]
    },
    {
     "output_type": "stream",
     "name": "stdout",
     "text": [
      "Saved predicted segmentation to: /content/SanJose/satellite_37.269068_-121.877763.jpg\n",
      "Inferencing on: /content/House_price/satellite_images/SanJose/satellite_37.322203_-121.948341.jpg\n",
      "Saved predicted segmentation to: /content/SanJose/satellite_37.322203_-121.948341.jpg\n",
      "Inferencing on: /content/House_price/satellite_images/SanJose/satellite_37.269441_-121.868247.jpg\n",
      "Saved predicted segmentation to: /content/SanJose/satellite_37.269441_-121.868247.jpg\n",
      "Inferencing on: /content/House_price/satellite_images/SanJose/satellite_37.224646_-121.897439.jpg\n",
      "Saved predicted segmentation to: /content/SanJose/satellite_37.224646_-121.897439.jpg\n",
      "Inferencing on: /content/House_price/satellite_images/SanJose/satellite_37.280181_-121.98397.jpg\n",
      "Saved predicted segmentation to: /content/SanJose/satellite_37.280181_-121.98397.jpg\n",
      "Inferencing on: /content/House_price/satellite_images/SanJose/satellite_37.34603_-121.877609.jpg\n",
      "Saved predicted segmentation to: /content/SanJose/satellite_37.34603_-121.877609.jpg\n",
      "Inferencing on: /content/House_price/satellite_images/SanJose/satellite_37.34306_-121.931034.jpg\n",
      "Saved predicted segmentation to: /content/SanJose/satellite_37.34306_-121.931034.jpg\n",
      "Inferencing on: /content/House_price/satellite_images/SanJose/satellite_37.287526_-121.871723.jpg\n"
     ]
    },
    {
     "output_type": "stream",
     "name": "stderr",
     "text": [
      "Processing Images:  36%|███▌      | 1020/2837 [00:29<00:52, 34.51image/s]"
     ]
    },
    {
     "output_type": "stream",
     "name": "stdout",
     "text": [
      "Saved predicted segmentation to: /content/SanJose/satellite_37.287526_-121.871723.jpg\n",
      "Inferencing on: /content/House_price/satellite_images/SanJose/satellite_37.335422_-121.886421.jpg\n",
      "Saved predicted segmentation to: /content/SanJose/satellite_37.335422_-121.886421.jpg\n",
      "Inferencing on: /content/House_price/satellite_images/SanJose/satellite_37.253375_-121.929284.jpg\n",
      "Saved predicted segmentation to: /content/SanJose/satellite_37.253375_-121.929284.jpg\n",
      "Inferencing on: /content/House_price/satellite_images/SanJose/satellite_37.284937_-121.789803.jpg\n",
      "Saved predicted segmentation to: /content/SanJose/satellite_37.284937_-121.789803.jpg\n",
      "Inferencing on: /content/House_price/satellite_images/SanJose/satellite_37.353016_-121.804765.jpg\n",
      "Saved predicted segmentation to: /content/SanJose/satellite_37.353016_-121.804765.jpg\n",
      "Inferencing on: /content/House_price/satellite_images/SanJose/satellite_37.327795_-121.834436.jpg\n",
      "Saved predicted segmentation to: /content/SanJose/satellite_37.327795_-121.834436.jpg\n",
      "Inferencing on: /content/House_price/satellite_images/SanJose/satellite_37.287082_-121.842566.jpg\n",
      "Saved predicted segmentation to: /content/SanJose/satellite_37.287082_-121.842566.jpg\n",
      "Inferencing on: /content/House_price/satellite_images/SanJose/satellite_37.262821_-121.886836.jpg\n"
     ]
    },
    {
     "output_type": "stream",
     "name": "stderr",
     "text": [
      "Processing Images:  36%|███▌      | 1028/2837 [00:30<00:52, 34.51image/s]"
     ]
    },
    {
     "output_type": "stream",
     "name": "stdout",
     "text": [
      "Saved predicted segmentation to: /content/SanJose/satellite_37.262821_-121.886836.jpg\n",
      "Inferencing on: /content/House_price/satellite_images/SanJose/satellite_37.37629_-121.813857.jpg\n",
      "Saved predicted segmentation to: /content/SanJose/satellite_37.37629_-121.813857.jpg\n",
      "Inferencing on: /content/House_price/satellite_images/SanJose/satellite_37.265922_-121.869882.jpg\n",
      "Saved predicted segmentation to: /content/SanJose/satellite_37.265922_-121.869882.jpg\n",
      "Inferencing on: /content/House_price/satellite_images/SanJose/satellite_37.366097_-121.865516.jpg\n",
      "Saved predicted segmentation to: /content/SanJose/satellite_37.366097_-121.865516.jpg\n",
      "Inferencing on: /content/House_price/satellite_images/SanJose/satellite_37.343093_-121.883986.jpg\n",
      "Saved predicted segmentation to: /content/SanJose/satellite_37.343093_-121.883986.jpg\n",
      "Inferencing on: /content/House_price/satellite_images/SanJose/satellite_37.300445_-121.891254.jpg\n",
      "Saved predicted segmentation to: /content/SanJose/satellite_37.300445_-121.891254.jpg\n",
      "Inferencing on: /content/House_price/satellite_images/SanJose/satellite_37.401941_-121.920828.jpg\n",
      "Saved predicted segmentation to: /content/SanJose/satellite_37.401941_-121.920828.jpg\n",
      "Inferencing on: /content/House_price/satellite_images/SanJose/satellite_37.377862_-121.849678.jpg\n"
     ]
    },
    {
     "output_type": "stream",
     "name": "stderr",
     "text": [
      "Processing Images:  37%|███▋      | 1036/2837 [00:30<00:52, 34.44image/s]"
     ]
    },
    {
     "output_type": "stream",
     "name": "stdout",
     "text": [
      "Saved predicted segmentation to: /content/SanJose/satellite_37.377862_-121.849678.jpg\n",
      "Inferencing on: /content/House_price/satellite_images/SanJose/satellite_37.292254_-121.756003.jpg\n",
      "Saved predicted segmentation to: /content/SanJose/satellite_37.292254_-121.756003.jpg\n",
      "Inferencing on: /content/House_price/satellite_images/SanJose/satellite_37.321924_-121.904727.jpg\n",
      "Saved predicted segmentation to: /content/SanJose/satellite_37.321924_-121.904727.jpg\n",
      "Inferencing on: /content/House_price/satellite_images/SanJose/satellite_37.396277_-121.817984.jpg\n",
      "Saved predicted segmentation to: /content/SanJose/satellite_37.396277_-121.817984.jpg\n",
      "Inferencing on: /content/House_price/satellite_images/SanJose/satellite_37.3417_-121.895035.jpg\n",
      "Saved predicted segmentation to: /content/SanJose/satellite_37.3417_-121.895035.jpg\n",
      "Inferencing on: /content/House_price/satellite_images/SanJose/satellite_37.280457_-121.902225.jpg\n",
      "Saved predicted segmentation to: /content/SanJose/satellite_37.280457_-121.902225.jpg\n",
      "Inferencing on: /content/House_price/satellite_images/SanJose/satellite_37.320311_-121.920833.jpg\n",
      "Saved predicted segmentation to: /content/SanJose/satellite_37.320311_-121.920833.jpg\n",
      "Inferencing on: /content/House_price/satellite_images/SanJose/satellite_37.224862_-121.781133.jpg\n"
     ]
    },
    {
     "output_type": "stream",
     "name": "stderr",
     "text": [
      "\rProcessing Images:  37%|███▋      | 1040/2837 [00:30<00:52, 34.44image/s]"
     ]
    },
    {
     "output_type": "stream",
     "name": "stdout",
     "text": [
      "Saved predicted segmentation to: /content/SanJose/satellite_37.224862_-121.781133.jpg\n",
      "Inferencing on: /content/House_price/satellite_images/SanJose/satellite_37.287736_-121.819902.jpg\n",
      "Saved predicted segmentation to: /content/SanJose/satellite_37.287736_-121.819902.jpg\n",
      "Inferencing on: /content/House_price/satellite_images/SanJose/satellite_37.263723_-121.872768.jpg\n",
      "Saved predicted segmentation to: /content/SanJose/satellite_37.263723_-121.872768.jpg\n",
      "Inferencing on: /content/House_price/satellite_images/SanJose/satellite_37.236464_-121.917463.jpg\n",
      "Saved predicted segmentation to: /content/SanJose/satellite_37.236464_-121.917463.jpg\n",
      "Inferencing on: /content/House_price/satellite_images/SanJose/satellite_37.322283_-121.947661.jpg\n",
      "Saved predicted segmentation to: /content/SanJose/satellite_37.322283_-121.947661.jpg\n",
      "Inferencing on: /content/House_price/satellite_images/SanJose/satellite_37.297411_-121.894305.jpg\n",
      "Saved predicted segmentation to: /content/SanJose/satellite_37.297411_-121.894305.jpg\n",
      "Inferencing on: /content/House_price/satellite_images/SanJose/satellite_37.268535_-121.850811.jpg\n",
      "Saved predicted segmentation to: /content/SanJose/satellite_37.268535_-121.850811.jpg\n",
      "Inferencing on: /content/House_price/satellite_images/SanJose/satellite_37.318278_-121.79856.jpg\n"
     ]
    },
    {
     "output_type": "stream",
     "name": "stderr",
     "text": [
      "Processing Images:  37%|███▋      | 1048/2837 [00:30<00:52, 34.40image/s]"
     ]
    },
    {
     "output_type": "stream",
     "name": "stdout",
     "text": [
      "Saved predicted segmentation to: /content/SanJose/satellite_37.318278_-121.79856.jpg\n",
      "Inferencing on: /content/House_price/satellite_images/SanJose/satellite_37.328923_-121.904142.jpg\n",
      "Saved predicted segmentation to: /content/SanJose/satellite_37.328923_-121.904142.jpg\n",
      "Inferencing on: /content/House_price/satellite_images/SanJose/satellite_37.318604_-121.982769.jpg\n",
      "Saved predicted segmentation to: /content/SanJose/satellite_37.318604_-121.982769.jpg\n",
      "Inferencing on: /content/House_price/satellite_images/SanJose/satellite_37.385465_-121.843874.jpg\n",
      "Saved predicted segmentation to: /content/SanJose/satellite_37.385465_-121.843874.jpg\n",
      "Inferencing on: /content/House_price/satellite_images/SanJose/satellite_37.252354_-121.903242.jpg\n",
      "Saved predicted segmentation to: /content/SanJose/satellite_37.252354_-121.903242.jpg\n",
      "Inferencing on: /content/House_price/satellite_images/SanJose/satellite_37.272151_-121.905145.jpg\n",
      "Saved predicted segmentation to: /content/SanJose/satellite_37.272151_-121.905145.jpg\n",
      "Inferencing on: /content/House_price/satellite_images/SanJose/satellite_37.211304_-121.841842.jpg\n",
      "Saved predicted segmentation to: /content/SanJose/satellite_37.211304_-121.841842.jpg\n",
      "Inferencing on: /content/House_price/satellite_images/SanJose/satellite_37.232641_-121.841507.jpg\n"
     ]
    },
    {
     "output_type": "stream",
     "name": "stderr",
     "text": [
      "Processing Images:  37%|███▋      | 1056/2837 [00:30<00:52, 34.24image/s]"
     ]
    },
    {
     "output_type": "stream",
     "name": "stdout",
     "text": [
      "Saved predicted segmentation to: /content/SanJose/satellite_37.232641_-121.841507.jpg\n",
      "Inferencing on: /content/House_price/satellite_images/SanJose/satellite_37.244986_-121.933736.jpg\n",
      "Saved predicted segmentation to: /content/SanJose/satellite_37.244986_-121.933736.jpg\n",
      "Inferencing on: /content/House_price/satellite_images/SanJose/satellite_37.225857_-121.870665.jpg\n",
      "Saved predicted segmentation to: /content/SanJose/satellite_37.225857_-121.870665.jpg\n",
      "Inferencing on: /content/House_price/satellite_images/SanJose/satellite_37.239789_-121.831003.jpg\n",
      "Saved predicted segmentation to: /content/SanJose/satellite_37.239789_-121.831003.jpg\n",
      "Inferencing on: /content/House_price/satellite_images/SanJose/satellite_37.358404_-121.849798.jpg\n",
      "Saved predicted segmentation to: /content/SanJose/satellite_37.358404_-121.849798.jpg\n",
      "Inferencing on: /content/House_price/satellite_images/SanJose/satellite_37.240572_-121.785711.jpg\n",
      "Saved predicted segmentation to: /content/SanJose/satellite_37.240572_-121.785711.jpg\n",
      "Inferencing on: /content/House_price/satellite_images/SanJose/satellite_37.294979_-121.855499.jpg\n",
      "Saved predicted segmentation to: /content/SanJose/satellite_37.294979_-121.855499.jpg\n",
      "Inferencing on: /content/House_price/satellite_images/SanJose/satellite_37.266949_-121.870088.jpg\n"
     ]
    },
    {
     "output_type": "stream",
     "name": "stderr",
     "text": [
      "Processing Images:  38%|███▊      | 1064/2837 [00:31<00:51, 34.29image/s]"
     ]
    },
    {
     "output_type": "stream",
     "name": "stdout",
     "text": [
      "Saved predicted segmentation to: /content/SanJose/satellite_37.266949_-121.870088.jpg\n",
      "Inferencing on: /content/House_price/satellite_images/SanJose/satellite_37.335891_-121.925333.jpg\n",
      "Saved predicted segmentation to: /content/SanJose/satellite_37.335891_-121.925333.jpg\n",
      "Inferencing on: /content/House_price/satellite_images/SanJose/satellite_37.254777_-121.823232.jpg\n",
      "Saved predicted segmentation to: /content/SanJose/satellite_37.254777_-121.823232.jpg\n",
      "Inferencing on: /content/House_price/satellite_images/SanJose/satellite_37.369963_-121.872736.jpg\n",
      "Saved predicted segmentation to: /content/SanJose/satellite_37.369963_-121.872736.jpg\n",
      "Inferencing on: /content/House_price/satellite_images/SanJose/satellite_37.321883_-121.904905.jpg\n",
      "Saved predicted segmentation to: /content/SanJose/satellite_37.321883_-121.904905.jpg\n",
      "Inferencing on: /content/House_price/satellite_images/SanJose/satellite_37.325547_-121.905778.jpg\n",
      "Saved predicted segmentation to: /content/SanJose/satellite_37.325547_-121.905778.jpg\n",
      "Inferencing on: /content/House_price/satellite_images/SanJose/satellite_37.260908_-121.796318.jpg\n",
      "Saved predicted segmentation to: /content/SanJose/satellite_37.260908_-121.796318.jpg\n",
      "Inferencing on: /content/House_price/satellite_images/SanJose/satellite_37.265705_-121.803853.jpg\n"
     ]
    },
    {
     "output_type": "stream",
     "name": "stderr",
     "text": [
      "Processing Images:  38%|███▊      | 1072/2837 [00:31<00:51, 34.59image/s]"
     ]
    },
    {
     "output_type": "stream",
     "name": "stdout",
     "text": [
      "Saved predicted segmentation to: /content/SanJose/satellite_37.265705_-121.803853.jpg\n",
      "Inferencing on: /content/House_price/satellite_images/SanJose/satellite_37.205875_-121.849438.jpg\n",
      "Saved predicted segmentation to: /content/SanJose/satellite_37.205875_-121.849438.jpg\n",
      "Inferencing on: /content/House_price/satellite_images/SanJose/satellite_37.417213_-121.942818.jpg\n",
      "Saved predicted segmentation to: /content/SanJose/satellite_37.417213_-121.942818.jpg\n",
      "Inferencing on: /content/House_price/satellite_images/SanJose/satellite_37.272107_-121.90773.jpg\n",
      "Saved predicted segmentation to: /content/SanJose/satellite_37.272107_-121.90773.jpg\n",
      "Inferencing on: /content/House_price/satellite_images/SanJose/satellite_37.306878_-121.954052.jpg\n",
      "Saved predicted segmentation to: /content/SanJose/satellite_37.306878_-121.954052.jpg\n",
      "Inferencing on: /content/House_price/satellite_images/SanJose/satellite_37.307986_-121.929755.jpg\n",
      "Saved predicted segmentation to: /content/SanJose/satellite_37.307986_-121.929755.jpg\n",
      "Inferencing on: /content/House_price/satellite_images/SanJose/satellite_37.380928_-121.823755.jpg\n",
      "Saved predicted segmentation to: /content/SanJose/satellite_37.380928_-121.823755.jpg\n",
      "Inferencing on: /content/House_price/satellite_images/SanJose/satellite_37.306745_-121.893397.jpg\n",
      "Saved predicted segmentation to: /content/SanJose/satellite_37.306745_-121.893397.jpg\n"
     ]
    },
    {
     "output_type": "stream",
     "name": "stderr",
     "text": [
      "Processing Images:  38%|███▊      | 1080/2837 [00:31<00:50, 34.63image/s]"
     ]
    },
    {
     "output_type": "stream",
     "name": "stdout",
     "text": [
      "Inferencing on: /content/House_price/satellite_images/SanJose/satellite_37.290974_-121.740201.jpg\n",
      "Saved predicted segmentation to: /content/SanJose/satellite_37.290974_-121.740201.jpg\n",
      "Inferencing on: /content/House_price/satellite_images/SanJose/satellite_37.288777_-121.841585.jpg\n",
      "Saved predicted segmentation to: /content/SanJose/satellite_37.288777_-121.841585.jpg\n",
      "Inferencing on: /content/House_price/satellite_images/SanJose/satellite_37.360772_-121.893098.jpg\n",
      "Saved predicted segmentation to: /content/SanJose/satellite_37.360772_-121.893098.jpg\n",
      "Inferencing on: /content/House_price/satellite_images/SanJose/satellite_37.269027_-121.9222.jpg\n",
      "Saved predicted segmentation to: /content/SanJose/satellite_37.269027_-121.9222.jpg\n",
      "Inferencing on: /content/House_price/satellite_images/SanJose/satellite_37.285505_-121.7442.jpg\n",
      "Saved predicted segmentation to: /content/SanJose/satellite_37.285505_-121.7442.jpg\n",
      "Inferencing on: /content/House_price/satellite_images/SanJose/satellite_37.377215_-121.867158.jpg\n",
      "Saved predicted segmentation to: /content/SanJose/satellite_37.377215_-121.867158.jpg\n",
      "Inferencing on: /content/House_price/satellite_images/SanJose/satellite_37.250205_-121.821083.jpg\n",
      "Saved predicted segmentation to: /content/SanJose/satellite_37.250205_-121.821083.jpg\n",
      "Inferencing on: /content/House_price/satellite_images/SanJose/satellite_37.316971_-121.955498.jpg\n",
      "Saved predicted segmentation to: /content/SanJose/satellite_37.316971_-121.955498.jpg\n"
     ]
    },
    {
     "output_type": "stream",
     "name": "stderr",
     "text": [
      "\rProcessing Images:  38%|███▊      | 1084/2837 [00:31<00:50, 34.70image/s]"
     ]
    },
    {
     "output_type": "stream",
     "name": "stdout",
     "text": [
      "Inferencing on: /content/House_price/satellite_images/SanJose/satellite_37.23897_-121.831347.jpg\n",
      "Saved predicted segmentation to: /content/SanJose/satellite_37.23897_-121.831347.jpg\n",
      "Inferencing on: /content/House_price/satellite_images/SanJose/satellite_37.349441_-121.889914.jpg\n",
      "Saved predicted segmentation to: /content/SanJose/satellite_37.349441_-121.889914.jpg\n",
      "Inferencing on: /content/House_price/satellite_images/SanJose/satellite_37.281355_-121.905736.jpg\n",
      "Saved predicted segmentation to: /content/SanJose/satellite_37.281355_-121.905736.jpg\n",
      "Inferencing on: /content/House_price/satellite_images/SanJose/satellite_37.25931_-121.863839.jpg\n",
      "Saved predicted segmentation to: /content/SanJose/satellite_37.25931_-121.863839.jpg\n",
      "Inferencing on: /content/House_price/satellite_images/SanJose/satellite_37.294543_-122.029885.jpg\n",
      "Saved predicted segmentation to: /content/SanJose/satellite_37.294543_-122.029885.jpg\n",
      "Inferencing on: /content/House_price/satellite_images/SanJose/satellite_37.274358_-121.805585.jpg\n",
      "Saved predicted segmentation to: /content/SanJose/satellite_37.274358_-121.805585.jpg\n",
      "Inferencing on: /content/House_price/satellite_images/SanJose/satellite_37.196127_-121.837608.jpg\n",
      "Saved predicted segmentation to: /content/SanJose/satellite_37.196127_-121.837608.jpg\n",
      "Inferencing on: /content/House_price/satellite_images/SanJose/satellite_37.413226_-121.859499.jpg\n"
     ]
    },
    {
     "output_type": "stream",
     "name": "stderr",
     "text": [
      "Processing Images:  38%|███▊      | 1092/2837 [00:32<00:49, 34.93image/s]"
     ]
    },
    {
     "output_type": "stream",
     "name": "stdout",
     "text": [
      "Saved predicted segmentation to: /content/SanJose/satellite_37.413226_-121.859499.jpg\n",
      "Inferencing on: /content/House_price/satellite_images/SanJose/satellite_37.253508_-121.87333.jpg\n",
      "Saved predicted segmentation to: /content/SanJose/satellite_37.253508_-121.87333.jpg\n",
      "Inferencing on: /content/House_price/satellite_images/SanJose/satellite_37.376425_-121.859662.jpg\n",
      "Saved predicted segmentation to: /content/SanJose/satellite_37.376425_-121.859662.jpg\n",
      "Inferencing on: /content/House_price/satellite_images/SanJose/satellite_37.305182_-121.834321.jpg\n",
      "Saved predicted segmentation to: /content/SanJose/satellite_37.305182_-121.834321.jpg\n",
      "Inferencing on: /content/House_price/satellite_images/SanJose/satellite_37.237409_-121.81482.jpg\n",
      "Saved predicted segmentation to: /content/SanJose/satellite_37.237409_-121.81482.jpg\n",
      "Inferencing on: /content/House_price/satellite_images/SanJose/satellite_37.330861_-121.849613.jpg\n",
      "Saved predicted segmentation to: /content/SanJose/satellite_37.330861_-121.849613.jpg\n",
      "Inferencing on: /content/House_price/satellite_images/SanJose/satellite_37.319121_-121.968062.jpg\n",
      "Saved predicted segmentation to: /content/SanJose/satellite_37.319121_-121.968062.jpg\n",
      "Inferencing on: /content/House_price/satellite_images/SanJose/satellite_37.38089_-121.855927.jpg\n",
      "Saved predicted segmentation to: /content/SanJose/satellite_37.38089_-121.855927.jpg\n",
      "Inferencing on: /content/House_price/satellite_images/SanJose/satellite_37.378715_-121.840966.jpg\n"
     ]
    },
    {
     "output_type": "stream",
     "name": "stderr",
     "text": [
      "Processing Images:  39%|███▉      | 1100/2837 [00:32<00:49, 34.97image/s]"
     ]
    },
    {
     "output_type": "stream",
     "name": "stdout",
     "text": [
      "Saved predicted segmentation to: /content/SanJose/satellite_37.378715_-121.840966.jpg\n",
      "Inferencing on: /content/House_price/satellite_images/SanJose/satellite_37.374_-121.811407.jpg\n",
      "Saved predicted segmentation to: /content/SanJose/satellite_37.374_-121.811407.jpg\n",
      "Inferencing on: /content/House_price/satellite_images/SanJose/satellite_37.340398_-121.896394.jpg\n",
      "Saved predicted segmentation to: /content/SanJose/satellite_37.340398_-121.896394.jpg\n",
      "Inferencing on: /content/House_price/satellite_images/SanJose/satellite_37.361145_-121.890639.jpg\n",
      "Saved predicted segmentation to: /content/SanJose/satellite_37.361145_-121.890639.jpg\n",
      "Inferencing on: /content/House_price/satellite_images/SanJose/satellite_37.393581_-121.861534.jpg\n",
      "Saved predicted segmentation to: /content/SanJose/satellite_37.393581_-121.861534.jpg\n",
      "Inferencing on: /content/House_price/satellite_images/SanJose/satellite_37.328349_-121.825732.jpg\n",
      "Saved predicted segmentation to: /content/SanJose/satellite_37.328349_-121.825732.jpg\n",
      "Inferencing on: /content/House_price/satellite_images/SanJose/satellite_37.372366_-121.869505.jpg\n",
      "Saved predicted segmentation to: /content/SanJose/satellite_37.372366_-121.869505.jpg\n",
      "Inferencing on: /content/House_price/satellite_images/SanJose/satellite_37.345393_-121.80978.jpg\n",
      "Saved predicted segmentation to: /content/SanJose/satellite_37.345393_-121.80978.jpg\n",
      "Inferencing on: /content/House_price/satellite_images/SanJose/satellite_37.290581_-121.764494.jpg"
     ]
    },
    {
     "output_type": "stream",
     "name": "stderr",
     "text": [
      "Processing Images:  39%|███▉      | 1108/2837 [00:32<00:49, 34.69image/s]"
     ]
    },
    {
     "output_type": "stream",
     "name": "stdout",
     "text": [
      "\n",
      "Saved predicted segmentation to: /content/SanJose/satellite_37.290581_-121.764494.jpg\n",
      "Inferencing on: /content/House_price/satellite_images/SanJose/satellite_37.349926_-121.842653.jpg\n",
      "Saved predicted segmentation to: /content/SanJose/satellite_37.349926_-121.842653.jpg\n",
      "Inferencing on: /content/House_price/satellite_images/SanJose/satellite_37.283776_-121.894099.jpg\n",
      "Saved predicted segmentation to: /content/SanJose/satellite_37.283776_-121.894099.jpg\n",
      "Inferencing on: /content/House_price/satellite_images/SanJose/satellite_37.346539_-121.900091.jpg\n",
      "Saved predicted segmentation to: /content/SanJose/satellite_37.346539_-121.900091.jpg\n",
      "Inferencing on: /content/House_price/satellite_images/SanJose/satellite_37.356609_-121.831835.jpg\n",
      "Saved predicted segmentation to: /content/SanJose/satellite_37.356609_-121.831835.jpg\n",
      "Inferencing on: /content/House_price/satellite_images/SanJose/satellite_37.288739_-121.81981.jpg\n",
      "Saved predicted segmentation to: /content/SanJose/satellite_37.288739_-121.81981.jpg\n",
      "Inferencing on: /content/House_price/satellite_images/SanJose/satellite_37.379547_-121.856513.jpg\n"
     ]
    },
    {
     "output_type": "stream",
     "name": "stderr",
     "text": [
      "Processing Images:  39%|███▉      | 1116/2837 [00:32<00:49, 34.99image/s]"
     ]
    },
    {
     "output_type": "stream",
     "name": "stdout",
     "text": [
      "Saved predicted segmentation to: /content/SanJose/satellite_37.379547_-121.856513.jpg\n",
      "Inferencing on: /content/House_price/satellite_images/SanJose/satellite_37.316434_-121.781866.jpg\n",
      "Saved predicted segmentation to: /content/SanJose/satellite_37.316434_-121.781866.jpg\n",
      "Inferencing on: /content/House_price/satellite_images/SanJose/satellite_37.185759_-121.816303.jpg\n",
      "Saved predicted segmentation to: /content/SanJose/satellite_37.185759_-121.816303.jpg\n",
      "Inferencing on: /content/House_price/satellite_images/SanJose/satellite_37.326609_-121.907618.jpg\n",
      "Saved predicted segmentation to: /content/SanJose/satellite_37.326609_-121.907618.jpg\n",
      "Inferencing on: /content/House_price/satellite_images/SanJose/satellite_37.315579_-121.817344.jpg\n",
      "Saved predicted segmentation to: /content/SanJose/satellite_37.315579_-121.817344.jpg\n",
      "Inferencing on: /content/House_price/satellite_images/SanJose/satellite_37.326521_-121.879266.jpg\n",
      "Saved predicted segmentation to: /content/SanJose/satellite_37.326521_-121.879266.jpg\n",
      "Inferencing on: /content/House_price/satellite_images/SanJose/satellite_37.268379_-121.938241.jpg\n",
      "Saved predicted segmentation to: /content/SanJose/satellite_37.268379_-121.938241.jpg\n",
      "Inferencing on: /content/House_price/satellite_images/SanJose/satellite_37.239503_-121.858979.jpg\n",
      "Saved predicted segmentation to: /content/SanJose/satellite_37.239503_-121.858979.jpg\n",
      "Inferencing on: /content/House_price/satellite_images/SanJose/satellite_37.314612_-121.96681.jpg\n"
     ]
    },
    {
     "output_type": "stream",
     "name": "stderr",
     "text": [
      "Processing Images:  40%|███▉      | 1124/2837 [00:32<00:49, 34.79image/s]"
     ]
    },
    {
     "output_type": "stream",
     "name": "stdout",
     "text": [
      "Saved predicted segmentation to: /content/SanJose/satellite_37.314612_-121.96681.jpg\n",
      "Inferencing on: /content/House_price/satellite_images/SanJose/satellite_37.328979_-121.919047.jpg\n",
      "Saved predicted segmentation to: /content/SanJose/satellite_37.328979_-121.919047.jpg\n",
      "Inferencing on: /content/House_price/satellite_images/SanJose/satellite_37.302292_-121.780363.jpg\n",
      "Saved predicted segmentation to: /content/SanJose/satellite_37.302292_-121.780363.jpg\n",
      "Inferencing on: /content/House_price/satellite_images/SanJose/satellite_37.2277_-121.80571.jpg\n",
      "Saved predicted segmentation to: /content/SanJose/satellite_37.2277_-121.80571.jpg\n",
      "Inferencing on: /content/House_price/satellite_images/SanJose/satellite_37.379157_-121.883155.jpg\n",
      "Saved predicted segmentation to: /content/SanJose/satellite_37.379157_-121.883155.jpg\n",
      "Inferencing on: /content/House_price/satellite_images/SanJose/satellite_37.361422_-121.845184.jpg\n",
      "Saved predicted segmentation to: /content/SanJose/satellite_37.361422_-121.845184.jpg\n",
      "Inferencing on: /content/House_price/satellite_images/SanJose/satellite_37.392734_-121.865506.jpg\n",
      "Saved predicted segmentation to: /content/SanJose/satellite_37.392734_-121.865506.jpg\n",
      "Inferencing on: /content/House_price/satellite_images/SanJose/satellite_37.224975_-121.774404.jpg\n"
     ]
    },
    {
     "output_type": "stream",
     "name": "stderr",
     "text": [
      "\rProcessing Images:  40%|███▉      | 1128/2837 [00:33<00:49, 34.62image/s]"
     ]
    },
    {
     "output_type": "stream",
     "name": "stdout",
     "text": [
      "Saved predicted segmentation to: /content/SanJose/satellite_37.224975_-121.774404.jpg\n",
      "Inferencing on: /content/House_price/satellite_images/SanJose/satellite_37.282095_-121.973816.jpg\n",
      "Saved predicted segmentation to: /content/SanJose/satellite_37.282095_-121.973816.jpg\n",
      "Inferencing on: /content/House_price/satellite_images/SanJose/satellite_37.267681_-121.872109.jpg\n",
      "Saved predicted segmentation to: /content/SanJose/satellite_37.267681_-121.872109.jpg\n",
      "Inferencing on: /content/House_price/satellite_images/SanJose/satellite_37.29299_-121.852856.jpg\n",
      "Saved predicted segmentation to: /content/SanJose/satellite_37.29299_-121.852856.jpg\n",
      "Inferencing on: /content/House_price/satellite_images/SanJose/satellite_37.253034_-121.81418.jpg\n",
      "Saved predicted segmentation to: /content/SanJose/satellite_37.253034_-121.81418.jpg\n",
      "Inferencing on: /content/House_price/satellite_images/SanJose/satellite_37.285582_-121.743527.jpg\n",
      "Saved predicted segmentation to: /content/SanJose/satellite_37.285582_-121.743527.jpg\n",
      "Inferencing on: /content/House_price/satellite_images/SanJose/satellite_37.248962_-121.941293.jpg\n",
      "Saved predicted segmentation to: /content/SanJose/satellite_37.248962_-121.941293.jpg\n",
      "Inferencing on: /content/House_price/satellite_images/SanJose/satellite_37.266575_-121.910706.jpg\n"
     ]
    },
    {
     "output_type": "stream",
     "name": "stderr",
     "text": [
      "Processing Images:  40%|████      | 1136/2837 [00:33<00:49, 34.57image/s]"
     ]
    },
    {
     "output_type": "stream",
     "name": "stdout",
     "text": [
      "Saved predicted segmentation to: /content/SanJose/satellite_37.266575_-121.910706.jpg\n",
      "Inferencing on: /content/House_price/satellite_images/SanJose/satellite_37.300339_-121.990613.jpg\n",
      "Saved predicted segmentation to: /content/SanJose/satellite_37.300339_-121.990613.jpg\n",
      "Inferencing on: /content/House_price/satellite_images/SanJose/satellite_37.341938_-121.89573.jpg\n",
      "Saved predicted segmentation to: /content/SanJose/satellite_37.341938_-121.89573.jpg\n",
      "Inferencing on: /content/House_price/satellite_images/SanJose/satellite_37.383588_-121.89172.jpg\n",
      "Saved predicted segmentation to: /content/SanJose/satellite_37.383588_-121.89172.jpg\n",
      "Inferencing on: /content/House_price/satellite_images/SanJose/satellite_37.273865_-121.744438.jpg\n",
      "Saved predicted segmentation to: /content/SanJose/satellite_37.273865_-121.744438.jpg\n",
      "Inferencing on: /content/House_price/satellite_images/SanJose/satellite_37.301379_-121.995502.jpg\n",
      "Saved predicted segmentation to: /content/SanJose/satellite_37.301379_-121.995502.jpg\n",
      "Inferencing on: /content/House_price/satellite_images/SanJose/satellite_37.273634_-121.889403.jpg\n",
      "Saved predicted segmentation to: /content/SanJose/satellite_37.273634_-121.889403.jpg\n",
      "Inferencing on: /content/House_price/satellite_images/SanJose/satellite_37.283342_-121.753294.jpg\n"
     ]
    },
    {
     "output_type": "stream",
     "name": "stderr",
     "text": [
      "Processing Images:  40%|████      | 1144/2837 [00:33<00:48, 34.62image/s]"
     ]
    },
    {
     "output_type": "stream",
     "name": "stdout",
     "text": [
      "Saved predicted segmentation to: /content/SanJose/satellite_37.283342_-121.753294.jpg\n",
      "Inferencing on: /content/House_price/satellite_images/SanJose/satellite_37.368895_-121.842641.jpg\n",
      "Saved predicted segmentation to: /content/SanJose/satellite_37.368895_-121.842641.jpg\n",
      "Inferencing on: /content/House_price/satellite_images/SanJose/satellite_37.320996_-121.901528.jpg\n",
      "Saved predicted segmentation to: /content/SanJose/satellite_37.320996_-121.901528.jpg\n",
      "Inferencing on: /content/House_price/satellite_images/SanJose/satellite_37.376269_-121.877632.jpg\n",
      "Saved predicted segmentation to: /content/SanJose/satellite_37.376269_-121.877632.jpg\n",
      "Inferencing on: /content/House_price/satellite_images/SanJose/satellite_37.227993_-121.814072.jpg\n",
      "Saved predicted segmentation to: /content/SanJose/satellite_37.227993_-121.814072.jpg\n",
      "Inferencing on: /content/House_price/satellite_images/SanJose/satellite_37.375921_-121.822243.jpg\n",
      "Saved predicted segmentation to: /content/SanJose/satellite_37.375921_-121.822243.jpg\n",
      "Inferencing on: /content/House_price/satellite_images/SanJose/satellite_37.349764_-121.790344.jpg\n",
      "Saved predicted segmentation to: /content/SanJose/satellite_37.349764_-121.790344.jpg\n",
      "Inferencing on: /content/House_price/satellite_images/SanJose/satellite_37.337247_-121.791294.jpg\n"
     ]
    },
    {
     "output_type": "stream",
     "name": "stderr",
     "text": [
      "Processing Images:  41%|████      | 1152/2837 [00:33<00:49, 34.02image/s]"
     ]
    },
    {
     "output_type": "stream",
     "name": "stdout",
     "text": [
      "Saved predicted segmentation to: /content/SanJose/satellite_37.337247_-121.791294.jpg\n",
      "Inferencing on: /content/House_price/satellite_images/SanJose/satellite_37.320262_-121.801114.jpg\n",
      "Saved predicted segmentation to: /content/SanJose/satellite_37.320262_-121.801114.jpg\n",
      "Inferencing on: /content/House_price/satellite_images/SanJose/satellite_37.299399_-121.891915.jpg\n",
      "Saved predicted segmentation to: /content/SanJose/satellite_37.299399_-121.891915.jpg\n",
      "Inferencing on: /content/House_price/satellite_images/SanJose/satellite_37.377046_-121.886538.jpg\n",
      "Saved predicted segmentation to: /content/SanJose/satellite_37.377046_-121.886538.jpg\n",
      "Inferencing on: /content/House_price/satellite_images/SanJose/satellite_37.421904_-121.860688.jpg\n",
      "Saved predicted segmentation to: /content/SanJose/satellite_37.421904_-121.860688.jpg\n",
      "Inferencing on: /content/House_price/satellite_images/SanJose/satellite_37.421353_-121.858498.jpg\n",
      "Saved predicted segmentation to: /content/SanJose/satellite_37.421353_-121.858498.jpg\n",
      "Inferencing on: /content/House_price/satellite_images/SanJose/satellite_37.218319_-121.864091.jpg\n",
      "Saved predicted segmentation to: /content/SanJose/satellite_37.218319_-121.864091.jpg\n",
      "Inferencing on: /content/House_price/satellite_images/SanJose/satellite_37.371431_-121.881284.jpg\n"
     ]
    },
    {
     "output_type": "stream",
     "name": "stderr",
     "text": [
      "Processing Images:  41%|████      | 1160/2837 [00:33<00:48, 34.37image/s]"
     ]
    },
    {
     "output_type": "stream",
     "name": "stdout",
     "text": [
      "Saved predicted segmentation to: /content/SanJose/satellite_37.371431_-121.881284.jpg\n",
      "Inferencing on: /content/House_price/satellite_images/SanJose/satellite_37.346682_-121.820533.jpg\n",
      "Saved predicted segmentation to: /content/SanJose/satellite_37.346682_-121.820533.jpg\n",
      "Inferencing on: /content/House_price/satellite_images/SanJose/satellite_37.345156_-121.882507.jpg\n",
      "Saved predicted segmentation to: /content/SanJose/satellite_37.345156_-121.882507.jpg\n",
      "Inferencing on: /content/House_price/satellite_images/SanJose/satellite_37.234941_-121.875042.jpg\n",
      "Saved predicted segmentation to: /content/SanJose/satellite_37.234941_-121.875042.jpg\n",
      "Inferencing on: /content/House_price/satellite_images/SanJose/satellite_37.308685_-121.886783.jpg\n",
      "Saved predicted segmentation to: /content/SanJose/satellite_37.308685_-121.886783.jpg\n",
      "Inferencing on: /content/House_price/satellite_images/SanJose/satellite_37.311054_-121.874426.jpg\n",
      "Saved predicted segmentation to: /content/SanJose/satellite_37.311054_-121.874426.jpg\n",
      "Inferencing on: /content/House_price/satellite_images/SanJose/satellite_37.3618_-121.829188.jpg\n",
      "Saved predicted segmentation to: /content/SanJose/satellite_37.3618_-121.829188.jpg\n",
      "Inferencing on: /content/House_price/satellite_images/SanJose/satellite_37.379601_-121.868339.jpg\n",
      "Saved predicted segmentation to: /content/SanJose/satellite_37.379601_-121.868339.jpg\n"
     ]
    },
    {
     "output_type": "stream",
     "name": "stderr",
     "text": [
      "\rProcessing Images:  41%|████      | 1164/2837 [00:34<00:48, 34.40image/s]"
     ]
    },
    {
     "output_type": "stream",
     "name": "stdout",
     "text": [
      "Inferencing on: /content/House_price/satellite_images/SanJose/satellite_37.224693_-121.775579.jpg\n",
      "Saved predicted segmentation to: /content/SanJose/satellite_37.224693_-121.775579.jpg\n",
      "Inferencing on: /content/House_price/satellite_images/SanJose/satellite_37.252902_-121.828015.jpg\n",
      "Saved predicted segmentation to: /content/SanJose/satellite_37.252902_-121.828015.jpg\n",
      "Inferencing on: /content/House_price/satellite_images/SanJose/satellite_37.353491_-121.842179.jpg\n",
      "Saved predicted segmentation to: /content/SanJose/satellite_37.353491_-121.842179.jpg\n",
      "Inferencing on: /content/House_price/satellite_images/SanJose/satellite_37.235955_-121.901177.jpg\n",
      "Saved predicted segmentation to: /content/SanJose/satellite_37.235955_-121.901177.jpg\n",
      "Inferencing on: /content/House_price/satellite_images/SanJose/satellite_37.407999_-121.876888.jpg\n",
      "Saved predicted segmentation to: /content/SanJose/satellite_37.407999_-121.876888.jpg\n",
      "Inferencing on: /content/House_price/satellite_images/SanJose/satellite_37.359586_-121.909763.jpg\n",
      "Saved predicted segmentation to: /content/SanJose/satellite_37.359586_-121.909763.jpg\n",
      "Inferencing on: /content/House_price/satellite_images/SanJose/satellite_37.409288_-121.877674.jpg\n"
     ]
    },
    {
     "output_type": "stream",
     "name": "stderr",
     "text": [
      "Processing Images:  41%|████▏     | 1172/2837 [00:34<00:48, 34.44image/s]"
     ]
    },
    {
     "output_type": "stream",
     "name": "stdout",
     "text": [
      "Saved predicted segmentation to: /content/SanJose/satellite_37.409288_-121.877674.jpg\n",
      "Inferencing on: /content/House_price/satellite_images/SanJose/satellite_37.256902_-121.816132.jpg\n",
      "Saved predicted segmentation to: /content/SanJose/satellite_37.256902_-121.816132.jpg\n",
      "Inferencing on: /content/House_price/satellite_images/SanJose/satellite_37.388394_-121.557878.jpg\n",
      "Saved predicted segmentation to: /content/SanJose/satellite_37.388394_-121.557878.jpg\n",
      "Inferencing on: /content/House_price/satellite_images/SanJose/satellite_37.262562_-121.818176.jpg\n",
      "Saved predicted segmentation to: /content/SanJose/satellite_37.262562_-121.818176.jpg\n",
      "Inferencing on: /content/House_price/satellite_images/SanJose/satellite_37.377163_-121.828053.jpg\n",
      "Saved predicted segmentation to: /content/SanJose/satellite_37.377163_-121.828053.jpg\n",
      "Inferencing on: /content/House_price/satellite_images/SanJose/satellite_37.286243_-121.829193.jpg\n",
      "Saved predicted segmentation to: /content/SanJose/satellite_37.286243_-121.829193.jpg\n",
      "Inferencing on: /content/House_price/satellite_images/SanJose/satellite_37.30183_-121.879962.jpg\n",
      "Saved predicted segmentation to: /content/SanJose/satellite_37.30183_-121.879962.jpg\n",
      "Inferencing on: /content/House_price/satellite_images/SanJose/satellite_37.321782_-121.98812.jpg\n"
     ]
    },
    {
     "output_type": "stream",
     "name": "stderr",
     "text": [
      "Processing Images:  42%|████▏     | 1180/2837 [00:34<00:47, 34.65image/s]"
     ]
    },
    {
     "output_type": "stream",
     "name": "stdout",
     "text": [
      "Saved predicted segmentation to: /content/SanJose/satellite_37.321782_-121.98812.jpg\n",
      "Inferencing on: /content/House_price/satellite_images/SanJose/satellite_37.387052_-121.841468.jpg\n",
      "Saved predicted segmentation to: /content/SanJose/satellite_37.387052_-121.841468.jpg\n",
      "Inferencing on: /content/House_price/satellite_images/SanJose/satellite_37.306916_-121.914796.jpg\n",
      "Saved predicted segmentation to: /content/SanJose/satellite_37.306916_-121.914796.jpg\n",
      "Inferencing on: /content/House_price/satellite_images/SanJose/satellite_37.341806_-121.887886.jpg\n",
      "Saved predicted segmentation to: /content/SanJose/satellite_37.341806_-121.887886.jpg\n",
      "Inferencing on: /content/House_price/satellite_images/SanJose/satellite_37.199843_-121.828374.jpg\n",
      "Saved predicted segmentation to: /content/SanJose/satellite_37.199843_-121.828374.jpg\n",
      "Inferencing on: /content/House_price/satellite_images/SanJose/satellite_37.353522_-121.840898.jpg\n",
      "Saved predicted segmentation to: /content/SanJose/satellite_37.353522_-121.840898.jpg\n",
      "Inferencing on: /content/House_price/satellite_images/SanJose/satellite_37.320877_-121.892547.jpg\n",
      "Saved predicted segmentation to: /content/SanJose/satellite_37.320877_-121.892547.jpg\n",
      "Inferencing on: /content/House_price/satellite_images/SanJose/satellite_37.245516_-121.882711.jpg\n",
      "Saved predicted segmentation to: /content/SanJose/satellite_37.245516_-121.882711.jpg\n",
      "Inferencing on: /content/House_price/satellite_images/SanJose/satellite_37.265481_-121.862369.jpg"
     ]
    },
    {
     "output_type": "stream",
     "name": "stderr",
     "text": [
      "Processing Images:  42%|████▏     | 1188/2837 [00:34<00:47, 34.88image/s]"
     ]
    },
    {
     "output_type": "stream",
     "name": "stdout",
     "text": [
      "\n",
      "Saved predicted segmentation to: /content/SanJose/satellite_37.265481_-121.862369.jpg\n",
      "Inferencing on: /content/House_price/satellite_images/SanJose/satellite_37.396853_-121.902387.jpg\n",
      "Saved predicted segmentation to: /content/SanJose/satellite_37.396853_-121.902387.jpg\n",
      "Inferencing on: /content/House_price/satellite_images/SanJose/satellite_37.286292_-121.988349.jpg\n",
      "Saved predicted segmentation to: /content/SanJose/satellite_37.286292_-121.988349.jpg\n",
      "Inferencing on: /content/House_price/satellite_images/SanJose/satellite_37.318545_-121.945174.jpg\n",
      "Saved predicted segmentation to: /content/SanJose/satellite_37.318545_-121.945174.jpg\n",
      "Inferencing on: /content/House_price/satellite_images/SanJose/satellite_37.238074_-121.835892.jpg\n",
      "Saved predicted segmentation to: /content/SanJose/satellite_37.238074_-121.835892.jpg\n",
      "Inferencing on: /content/House_price/satellite_images/SanJose/satellite_37.304993_-121.841446.jpg\n",
      "Saved predicted segmentation to: /content/SanJose/satellite_37.304993_-121.841446.jpg\n",
      "Inferencing on: /content/House_price/satellite_images/SanJose/satellite_37.271647_-121.907551.jpg\n",
      "Saved predicted segmentation to: /content/SanJose/satellite_37.271647_-121.907551.jpg\n",
      "Inferencing on: /content/House_price/satellite_images/SanJose/satellite_37.236458_-121.809541.jpg\n"
     ]
    },
    {
     "output_type": "stream",
     "name": "stderr",
     "text": [
      "Processing Images:  42%|████▏     | 1196/2837 [00:35<00:47, 34.87image/s]"
     ]
    },
    {
     "output_type": "stream",
     "name": "stdout",
     "text": [
      "Saved predicted segmentation to: /content/SanJose/satellite_37.236458_-121.809541.jpg\n",
      "Inferencing on: /content/House_price/satellite_images/SanJose/satellite_37.371931_-121.880915.jpg\n",
      "Saved predicted segmentation to: /content/SanJose/satellite_37.371931_-121.880915.jpg\n",
      "Inferencing on: /content/House_price/satellite_images/SanJose/satellite_37.36368_-121.913231.jpg\n",
      "Saved predicted segmentation to: /content/SanJose/satellite_37.36368_-121.913231.jpg\n",
      "Inferencing on: /content/House_price/satellite_images/SanJose/satellite_37.281004_-121.907629.jpg\n",
      "Saved predicted segmentation to: /content/SanJose/satellite_37.281004_-121.907629.jpg\n",
      "Inferencing on: /content/House_price/satellite_images/SanJose/satellite_37.295891_-122.030393.jpg\n",
      "Saved predicted segmentation to: /content/SanJose/satellite_37.295891_-122.030393.jpg\n",
      "Inferencing on: /content/House_price/satellite_images/SanJose/satellite_37.246756_-121.822355.jpg\n",
      "Saved predicted segmentation to: /content/SanJose/satellite_37.246756_-121.822355.jpg\n",
      "Inferencing on: /content/House_price/satellite_images/SanJose/satellite_37.287953_-121.920115.jpg\n",
      "Saved predicted segmentation to: /content/SanJose/satellite_37.287953_-121.920115.jpg\n",
      "Inferencing on: /content/House_price/satellite_images/SanJose/satellite_37.30089_-122.020713.jpg\n",
      "Saved predicted segmentation to: /content/SanJose/satellite_37.30089_-122.020713.jpg\n",
      "Inferencing on: /content/House_price/satellite_images/SanJose/satellite_37.284341_-121.975338.jpg\n"
     ]
    },
    {
     "output_type": "stream",
     "name": "stderr",
     "text": [
      "Processing Images:  42%|████▏     | 1204/2837 [00:35<00:46, 34.75image/s]"
     ]
    },
    {
     "output_type": "stream",
     "name": "stdout",
     "text": [
      "Saved predicted segmentation to: /content/SanJose/satellite_37.284341_-121.975338.jpg\n",
      "Inferencing on: /content/House_price/satellite_images/SanJose/satellite_37.379314_-121.854233.jpg\n",
      "Saved predicted segmentation to: /content/SanJose/satellite_37.379314_-121.854233.jpg\n",
      "Inferencing on: /content/House_price/satellite_images/SanJose/satellite_37.308598_-121.791794.jpg\n",
      "Saved predicted segmentation to: /content/SanJose/satellite_37.308598_-121.791794.jpg\n",
      "Inferencing on: /content/House_price/satellite_images/SanJose/satellite_37.345472_-121.866546.jpg\n",
      "Saved predicted segmentation to: /content/SanJose/satellite_37.345472_-121.866546.jpg\n",
      "Inferencing on: /content/House_price/satellite_images/SanJose/satellite_37.274199_-121.852574.jpg\n",
      "Saved predicted segmentation to: /content/SanJose/satellite_37.274199_-121.852574.jpg\n",
      "Inferencing on: /content/House_price/satellite_images/SanJose/satellite_37.300546_-121.999354.jpg\n",
      "Saved predicted segmentation to: /content/SanJose/satellite_37.300546_-121.999354.jpg\n",
      "Inferencing on: /content/House_price/satellite_images/SanJose/satellite_37.319691_-121.841672.jpg\n",
      "Saved predicted segmentation to: /content/SanJose/satellite_37.319691_-121.841672.jpg\n",
      "Inferencing on: /content/House_price/satellite_images/SanJose/satellite_37.326568_-121.832058.jpg\n",
      "Saved predicted segmentation to: /content/SanJose/satellite_37.326568_-121.832058.jpg\n"
     ]
    },
    {
     "output_type": "stream",
     "name": "stderr",
     "text": [
      "\rProcessing Images:  43%|████▎     | 1208/2837 [00:35<00:47, 34.63image/s]"
     ]
    },
    {
     "output_type": "stream",
     "name": "stdout",
     "text": [
      "Inferencing on: /content/House_price/satellite_images/SanJose/satellite_37.362084_-121.839976.jpg\n",
      "Saved predicted segmentation to: /content/SanJose/satellite_37.362084_-121.839976.jpg\n",
      "Inferencing on: /content/House_price/satellite_images/SanJose/satellite_37.25259_-121.837448.jpg\n",
      "Saved predicted segmentation to: /content/SanJose/satellite_37.25259_-121.837448.jpg\n",
      "Inferencing on: /content/House_price/satellite_images/SanJose/satellite_37.238355_-121.901181.jpg\n",
      "Saved predicted segmentation to: /content/SanJose/satellite_37.238355_-121.901181.jpg\n",
      "Inferencing on: /content/House_price/satellite_images/SanJose/satellite_37.371452_-121.879566.jpg\n",
      "Saved predicted segmentation to: /content/SanJose/satellite_37.371452_-121.879566.jpg\n",
      "Inferencing on: /content/House_price/satellite_images/SanJose/satellite_37.242331_-121.797048.jpg\n",
      "Saved predicted segmentation to: /content/SanJose/satellite_37.242331_-121.797048.jpg\n",
      "Inferencing on: /content/House_price/satellite_images/SanJose/satellite_37.364757_-121.816023.jpg\n",
      "Saved predicted segmentation to: /content/SanJose/satellite_37.364757_-121.816023.jpg\n",
      "Inferencing on: /content/House_price/satellite_images/SanJose/satellite_37.217823_-121.858385.jpg\n",
      "Saved predicted segmentation to: /content/SanJose/satellite_37.217823_-121.858385.jpg\n",
      "Inferencing on: /content/House_price/satellite_images/SanJose/satellite_37.382411_-121.882183.jpg\n"
     ]
    },
    {
     "output_type": "stream",
     "name": "stderr",
     "text": [
      "Processing Images:  43%|████▎     | 1216/2837 [00:35<00:46, 34.65image/s]"
     ]
    },
    {
     "output_type": "stream",
     "name": "stdout",
     "text": [
      "Saved predicted segmentation to: /content/SanJose/satellite_37.382411_-121.882183.jpg\n",
      "Inferencing on: /content/House_price/satellite_images/SanJose/satellite_37.317681_-121.927075.jpg\n",
      "Saved predicted segmentation to: /content/SanJose/satellite_37.317681_-121.927075.jpg\n",
      "Inferencing on: /content/House_price/satellite_images/SanJose/satellite_37.39497_-121.902262.jpg\n",
      "Saved predicted segmentation to: /content/SanJose/satellite_37.39497_-121.902262.jpg\n",
      "Inferencing on: /content/House_price/satellite_images/SanJose/satellite_37.264885_-121.925655.jpg\n",
      "Saved predicted segmentation to: /content/SanJose/satellite_37.264885_-121.925655.jpg\n",
      "Inferencing on: /content/House_price/satellite_images/SanJose/satellite_37.290539_-121.807807.jpg\n",
      "Saved predicted segmentation to: /content/SanJose/satellite_37.290539_-121.807807.jpg\n",
      "Inferencing on: /content/House_price/satellite_images/SanJose/satellite_37.318499_-121.894988.jpg\n",
      "Saved predicted segmentation to: /content/SanJose/satellite_37.318499_-121.894988.jpg\n",
      "Inferencing on: /content/House_price/satellite_images/SanJose/satellite_37.309983_-121.945185.jpg\n",
      "Saved predicted segmentation to: /content/SanJose/satellite_37.309983_-121.945185.jpg\n",
      "Inferencing on: /content/House_price/satellite_images/SanJose/satellite_37.253074_-121.887433.jpg\n"
     ]
    },
    {
     "output_type": "stream",
     "name": "stderr",
     "text": [
      "Processing Images:  43%|████▎     | 1224/2837 [00:35<00:46, 34.70image/s]"
     ]
    },
    {
     "output_type": "stream",
     "name": "stdout",
     "text": [
      "Saved predicted segmentation to: /content/SanJose/satellite_37.253074_-121.887433.jpg\n",
      "Inferencing on: /content/House_price/satellite_images/SanJose/satellite_37.375444_-121.872322.jpg\n",
      "Saved predicted segmentation to: /content/SanJose/satellite_37.375444_-121.872322.jpg\n",
      "Inferencing on: /content/House_price/satellite_images/SanJose/satellite_37.297885_-121.879978.jpg\n",
      "Saved predicted segmentation to: /content/SanJose/satellite_37.297885_-121.879978.jpg\n",
      "Inferencing on: /content/House_price/satellite_images/SanJose/satellite_37.256992_-121.804445.jpg\n",
      "Saved predicted segmentation to: /content/SanJose/satellite_37.256992_-121.804445.jpg\n",
      "Inferencing on: /content/House_price/satellite_images/SanJose/satellite_37.347349_-121.926576.jpg\n",
      "Saved predicted segmentation to: /content/SanJose/satellite_37.347349_-121.926576.jpg\n",
      "Inferencing on: /content/House_price/satellite_images/SanJose/satellite_37.301697_-121.880308.jpg\n",
      "Saved predicted segmentation to: /content/SanJose/satellite_37.301697_-121.880308.jpg\n",
      "Inferencing on: /content/House_price/satellite_images/SanJose/satellite_37.279842_-121.766207.jpg\n",
      "Saved predicted segmentation to: /content/SanJose/satellite_37.279842_-121.766207.jpg\n",
      "Inferencing on: /content/House_price/satellite_images/SanJose/satellite_37.344974_-121.854114.jpg\n"
     ]
    },
    {
     "output_type": "stream",
     "name": "stderr",
     "text": [
      "Processing Images:  43%|████▎     | 1232/2837 [00:36<00:46, 34.39image/s]"
     ]
    },
    {
     "output_type": "stream",
     "name": "stdout",
     "text": [
      "Saved predicted segmentation to: /content/SanJose/satellite_37.344974_-121.854114.jpg\n",
      "Inferencing on: /content/House_price/satellite_images/SanJose/satellite_37.253752_-121.857673.jpg\n",
      "Saved predicted segmentation to: /content/SanJose/satellite_37.253752_-121.857673.jpg\n",
      "Inferencing on: /content/House_price/satellite_images/SanJose/satellite_37.24374_-121.859314.jpg\n",
      "Saved predicted segmentation to: /content/SanJose/satellite_37.24374_-121.859314.jpg\n",
      "Inferencing on: /content/House_price/satellite_images/SanJose/satellite_37.296718_-121.755289.jpg\n",
      "Saved predicted segmentation to: /content/SanJose/satellite_37.296718_-121.755289.jpg\n",
      "Inferencing on: /content/House_price/satellite_images/SanJose/satellite_37.281046_-121.883299.jpg\n",
      "Saved predicted segmentation to: /content/SanJose/satellite_37.281046_-121.883299.jpg\n",
      "Inferencing on: /content/House_price/satellite_images/SanJose/satellite_37.257213_-121.823456.jpg\n",
      "Saved predicted segmentation to: /content/SanJose/satellite_37.257213_-121.823456.jpg\n",
      "Inferencing on: /content/House_price/satellite_images/SanJose/satellite_37.273615_-121.883844.jpg\n",
      "Saved predicted segmentation to: /content/SanJose/satellite_37.273615_-121.883844.jpg\n",
      "Inferencing on: /content/House_price/satellite_images/SanJose/satellite_37.281983_-121.860572.jpg\n"
     ]
    },
    {
     "output_type": "stream",
     "name": "stderr",
     "text": [
      "\rProcessing Images:  44%|████▎     | 1236/2837 [00:36<00:46, 34.44image/s]"
     ]
    },
    {
     "output_type": "stream",
     "name": "stdout",
     "text": [
      "Saved predicted segmentation to: /content/SanJose/satellite_37.281983_-121.860572.jpg\n",
      "Inferencing on: /content/House_price/satellite_images/SanJose/satellite_37.241598_-121.843846.jpg\n",
      "Saved predicted segmentation to: /content/SanJose/satellite_37.241598_-121.843846.jpg\n",
      "Inferencing on: /content/House_price/satellite_images/SanJose/satellite_37.319721_-121.932198.jpg\n",
      "Saved predicted segmentation to: /content/SanJose/satellite_37.319721_-121.932198.jpg\n",
      "Inferencing on: /content/House_price/satellite_images/SanJose/satellite_37.217512_-121.868769.jpg\n",
      "Saved predicted segmentation to: /content/SanJose/satellite_37.217512_-121.868769.jpg\n",
      "Inferencing on: /content/House_price/satellite_images/SanJose/satellite_37.328571_-121.829292.jpg\n",
      "Saved predicted segmentation to: /content/SanJose/satellite_37.328571_-121.829292.jpg\n",
      "Inferencing on: /content/House_price/satellite_images/SanJose/satellite_37.327023_-121.795657.jpg\n",
      "Saved predicted segmentation to: /content/SanJose/satellite_37.327023_-121.795657.jpg\n",
      "Inferencing on: /content/House_price/satellite_images/SanJose/satellite_37.297719_-121.937965.jpg\n",
      "Saved predicted segmentation to: /content/SanJose/satellite_37.297719_-121.937965.jpg\n",
      "Inferencing on: /content/House_price/satellite_images/SanJose/satellite_37.303676_-121.956081.jpg\n"
     ]
    },
    {
     "output_type": "stream",
     "name": "stderr",
     "text": [
      "Processing Images:  44%|████▍     | 1244/2837 [00:36<00:46, 34.09image/s]"
     ]
    },
    {
     "output_type": "stream",
     "name": "stdout",
     "text": [
      "Saved predicted segmentation to: /content/SanJose/satellite_37.303676_-121.956081.jpg\n",
      "Inferencing on: /content/House_price/satellite_images/SanJose/satellite_37.270829_-121.853364.jpg\n",
      "Saved predicted segmentation to: /content/SanJose/satellite_37.270829_-121.853364.jpg\n",
      "Inferencing on: /content/House_price/satellite_images/SanJose/satellite_37.287603_-121.755315.jpg\n",
      "Saved predicted segmentation to: /content/SanJose/satellite_37.287603_-121.755315.jpg\n",
      "Inferencing on: /content/House_price/satellite_images/SanJose/satellite_37.329303_-121.873001.jpg\n",
      "Saved predicted segmentation to: /content/SanJose/satellite_37.329303_-121.873001.jpg\n",
      "Inferencing on: /content/House_price/satellite_images/SanJose/satellite_37.326782_-121.87931.jpg\n",
      "Saved predicted segmentation to: /content/SanJose/satellite_37.326782_-121.87931.jpg\n",
      "Inferencing on: /content/House_price/satellite_images/SanJose/satellite_37.235529_-121.766506.jpg\n",
      "Saved predicted segmentation to: /content/SanJose/satellite_37.235529_-121.766506.jpg\n",
      "Inferencing on: /content/House_price/satellite_images/SanJose/satellite_37.30705_-121.892164.jpg\n",
      "Saved predicted segmentation to: /content/SanJose/satellite_37.30705_-121.892164.jpg\n",
      "Inferencing on: /content/House_price/satellite_images/SanJose/satellite_37.303397_-121.922445.jpg\n"
     ]
    },
    {
     "output_type": "stream",
     "name": "stderr",
     "text": [
      "Processing Images:  44%|████▍     | 1252/2837 [00:36<00:46, 34.25image/s]"
     ]
    },
    {
     "output_type": "stream",
     "name": "stdout",
     "text": [
      "Saved predicted segmentation to: /content/SanJose/satellite_37.303397_-121.922445.jpg\n",
      "Inferencing on: /content/House_price/satellite_images/SanJose/satellite_37.278549_-121.757675.jpg\n",
      "Saved predicted segmentation to: /content/SanJose/satellite_37.278549_-121.757675.jpg\n",
      "Inferencing on: /content/House_price/satellite_images/SanJose/satellite_37.294298_-121.903603.jpg\n",
      "Saved predicted segmentation to: /content/SanJose/satellite_37.294298_-121.903603.jpg\n",
      "Inferencing on: /content/House_price/satellite_images/SanJose/satellite_37.239345_-121.797098.jpg\n",
      "Saved predicted segmentation to: /content/SanJose/satellite_37.239345_-121.797098.jpg\n",
      "Inferencing on: /content/House_price/satellite_images/SanJose/satellite_37.245266_-121.837844.jpg\n",
      "Saved predicted segmentation to: /content/SanJose/satellite_37.245266_-121.837844.jpg\n",
      "Inferencing on: /content/House_price/satellite_images/SanJose/satellite_37.204095_-121.862356.jpg\n",
      "Saved predicted segmentation to: /content/SanJose/satellite_37.204095_-121.862356.jpg\n",
      "Inferencing on: /content/House_price/satellite_images/SanJose/satellite_37.263129_-121.821529.jpg\n",
      "Saved predicted segmentation to: /content/SanJose/satellite_37.263129_-121.821529.jpg\n",
      "Inferencing on: /content/House_price/satellite_images/SanJose/satellite_37.308179_-122.030953.jpg\n"
     ]
    },
    {
     "output_type": "stream",
     "name": "stderr",
     "text": [
      "Processing Images:  44%|████▍     | 1260/2837 [00:36<00:47, 33.48image/s]"
     ]
    },
    {
     "output_type": "stream",
     "name": "stdout",
     "text": [
      "Saved predicted segmentation to: /content/SanJose/satellite_37.308179_-122.030953.jpg\n",
      "Inferencing on: /content/House_price/satellite_images/SanJose/satellite_37.399269_-121.906433.jpg\n",
      "Saved predicted segmentation to: /content/SanJose/satellite_37.399269_-121.906433.jpg\n",
      "Inferencing on: /content/House_price/satellite_images/SanJose/satellite_37.310169_-121.825215.jpg\n",
      "Saved predicted segmentation to: /content/SanJose/satellite_37.310169_-121.825215.jpg\n",
      "Inferencing on: /content/House_price/satellite_images/SanJose/satellite_37.284235_-121.838638.jpg\n",
      "Saved predicted segmentation to: /content/SanJose/satellite_37.284235_-121.838638.jpg\n",
      "Inferencing on: /content/House_price/satellite_images/SanJose/satellite_37.400008_-121.90678.jpg\n",
      "Saved predicted segmentation to: /content/SanJose/satellite_37.400008_-121.90678.jpg\n",
      "Inferencing on: /content/House_price/satellite_images/SanJose/satellite_37.319101_-121.958824.jpg\n",
      "Saved predicted segmentation to: /content/SanJose/satellite_37.319101_-121.958824.jpg\n",
      "Inferencing on: /content/House_price/satellite_images/SanJose/satellite_37.402468_-121.922386.jpg\n",
      "Saved predicted segmentation to: /content/SanJose/satellite_37.402468_-121.922386.jpg\n",
      "Inferencing on: /content/House_price/satellite_images/SanJose/satellite_37.29517_-121.8703.jpg\n"
     ]
    },
    {
     "output_type": "stream",
     "name": "stderr",
     "text": [
      "\rProcessing Images:  45%|████▍     | 1264/2837 [00:37<00:46, 33.76image/s]"
     ]
    },
    {
     "output_type": "stream",
     "name": "stdout",
     "text": [
      "Saved predicted segmentation to: /content/SanJose/satellite_37.29517_-121.8703.jpg\n",
      "Inferencing on: /content/House_price/satellite_images/SanJose/satellite_37.254331_-121.942679.jpg\n",
      "Saved predicted segmentation to: /content/SanJose/satellite_37.254331_-121.942679.jpg\n",
      "Inferencing on: /content/House_price/satellite_images/SanJose/satellite_37.253412_-121.923365.jpg\n",
      "Saved predicted segmentation to: /content/SanJose/satellite_37.253412_-121.923365.jpg\n",
      "Inferencing on: /content/House_price/satellite_images/SanJose/satellite_37.39403_-121.854886.jpg\n",
      "Saved predicted segmentation to: /content/SanJose/satellite_37.39403_-121.854886.jpg\n",
      "Inferencing on: /content/House_price/satellite_images/SanJose/satellite_37.247393_-121.844215.jpg\n",
      "Saved predicted segmentation to: /content/SanJose/satellite_37.247393_-121.844215.jpg\n",
      "Inferencing on: /content/House_price/satellite_images/SanJose/satellite_37.320378_-121.923526.jpg\n",
      "Saved predicted segmentation to: /content/SanJose/satellite_37.320378_-121.923526.jpg\n",
      "Inferencing on: /content/House_price/satellite_images/SanJose/satellite_37.227861_-121.794687.jpg\n",
      "Saved predicted segmentation to: /content/SanJose/satellite_37.227861_-121.794687.jpg\n",
      "Inferencing on: /content/House_price/satellite_images/SanJose/satellite_37.334522_-121.887496.jpg\n"
     ]
    },
    {
     "output_type": "stream",
     "name": "stderr",
     "text": [
      "Processing Images:  45%|████▍     | 1272/2837 [00:37<00:46, 33.51image/s]"
     ]
    },
    {
     "output_type": "stream",
     "name": "stdout",
     "text": [
      "Saved predicted segmentation to: /content/SanJose/satellite_37.334522_-121.887496.jpg\n",
      "Inferencing on: /content/House_price/satellite_images/SanJose/satellite_37.240433_-121.886285.jpg\n",
      "Saved predicted segmentation to: /content/SanJose/satellite_37.240433_-121.886285.jpg\n",
      "Inferencing on: /content/House_price/satellite_images/SanJose/satellite_37.317814_-121.954926.jpg\n",
      "Saved predicted segmentation to: /content/SanJose/satellite_37.317814_-121.954926.jpg\n",
      "Inferencing on: /content/House_price/satellite_images/SanJose/satellite_37.282432_-121.836872.jpg\n",
      "Saved predicted segmentation to: /content/SanJose/satellite_37.282432_-121.836872.jpg\n",
      "Inferencing on: /content/House_price/satellite_images/SanJose/satellite_37.315976_-121.803103.jpg\n",
      "Saved predicted segmentation to: /content/SanJose/satellite_37.315976_-121.803103.jpg\n",
      "Inferencing on: /content/House_price/satellite_images/SanJose/satellite_37.250331_-121.788165.jpg\n",
      "Saved predicted segmentation to: /content/SanJose/satellite_37.250331_-121.788165.jpg\n",
      "Inferencing on: /content/House_price/satellite_images/SanJose/satellite_37.318549_-121.885654.jpg\n",
      "Saved predicted segmentation to: /content/SanJose/satellite_37.318549_-121.885654.jpg\n",
      "Inferencing on: /content/House_price/satellite_images/SanJose/satellite_37.253337_-121.873683.jpg\n"
     ]
    },
    {
     "output_type": "stream",
     "name": "stderr",
     "text": [
      "Processing Images:  45%|████▌     | 1280/2837 [00:37<00:45, 34.03image/s]"
     ]
    },
    {
     "output_type": "stream",
     "name": "stdout",
     "text": [
      "Saved predicted segmentation to: /content/SanJose/satellite_37.253337_-121.873683.jpg\n",
      "Inferencing on: /content/House_price/satellite_images/SanJose/satellite_37.380746_-121.855206.jpg\n",
      "Saved predicted segmentation to: /content/SanJose/satellite_37.380746_-121.855206.jpg\n",
      "Inferencing on: /content/House_price/satellite_images/SanJose/satellite_37.32387_-121.916118.jpg\n",
      "Saved predicted segmentation to: /content/SanJose/satellite_37.32387_-121.916118.jpg\n",
      "Inferencing on: /content/House_price/satellite_images/SanJose/satellite_37.314877_-121.873525.jpg\n",
      "Saved predicted segmentation to: /content/SanJose/satellite_37.314877_-121.873525.jpg\n",
      "Inferencing on: /content/House_price/satellite_images/SanJose/satellite_37.27085_-121.801729.jpg\n",
      "Saved predicted segmentation to: /content/SanJose/satellite_37.27085_-121.801729.jpg\n",
      "Inferencing on: /content/House_price/satellite_images/SanJose/satellite_37.298838_-121.96403.jpg\n",
      "Saved predicted segmentation to: /content/SanJose/satellite_37.298838_-121.96403.jpg\n",
      "Inferencing on: /content/House_price/satellite_images/SanJose/satellite_37.225837_-121.779728.jpg\n",
      "Saved predicted segmentation to: /content/SanJose/satellite_37.225837_-121.779728.jpg\n",
      "Inferencing on: /content/House_price/satellite_images/SanJose/satellite_37.203387_-121.839235.jpg\n"
     ]
    },
    {
     "output_type": "stream",
     "name": "stderr",
     "text": [
      "Processing Images:  45%|████▌     | 1288/2837 [00:37<00:45, 33.74image/s]"
     ]
    },
    {
     "output_type": "stream",
     "name": "stdout",
     "text": [
      "Saved predicted segmentation to: /content/SanJose/satellite_37.203387_-121.839235.jpg\n",
      "Inferencing on: /content/House_price/satellite_images/SanJose/satellite_37.305489_-121.955276.jpg\n",
      "Saved predicted segmentation to: /content/SanJose/satellite_37.305489_-121.955276.jpg\n",
      "Inferencing on: /content/House_price/satellite_images/SanJose/satellite_37.230674_-121.817936.jpg\n",
      "Saved predicted segmentation to: /content/SanJose/satellite_37.230674_-121.817936.jpg\n",
      "Inferencing on: /content/House_price/satellite_images/SanJose/satellite_37.286688_-121.884562.jpg\n",
      "Saved predicted segmentation to: /content/SanJose/satellite_37.286688_-121.884562.jpg\n",
      "Inferencing on: /content/House_price/satellite_images/SanJose/satellite_37.399576_-121.922315.jpg\n",
      "Saved predicted segmentation to: /content/SanJose/satellite_37.399576_-121.922315.jpg\n",
      "Inferencing on: /content/House_price/satellite_images/SanJose/satellite_37.277825_-121.920446.jpg\n",
      "Saved predicted segmentation to: /content/SanJose/satellite_37.277825_-121.920446.jpg\n",
      "Inferencing on: /content/House_price/satellite_images/SanJose/satellite_37.225473_-121.780668.jpg\n",
      "Saved predicted segmentation to: /content/SanJose/satellite_37.225473_-121.780668.jpg\n",
      "Inferencing on: /content/House_price/satellite_images/SanJose/satellite_37.341178_-121.79323.jpg\n"
     ]
    },
    {
     "output_type": "stream",
     "name": "stderr",
     "text": [
      "\rProcessing Images:  46%|████▌     | 1292/2837 [00:37<00:45, 33.85image/s]"
     ]
    },
    {
     "output_type": "stream",
     "name": "stdout",
     "text": [
      "Saved predicted segmentation to: /content/SanJose/satellite_37.341178_-121.79323.jpg\n",
      "Inferencing on: /content/House_price/satellite_images/SanJose/satellite_37.221675_-121.771887.jpg\n",
      "Saved predicted segmentation to: /content/SanJose/satellite_37.221675_-121.771887.jpg\n",
      "Inferencing on: /content/House_price/satellite_images/SanJose/satellite_37.300787_-121.929391.jpg\n",
      "Saved predicted segmentation to: /content/SanJose/satellite_37.300787_-121.929391.jpg\n",
      "Inferencing on: /content/House_price/satellite_images/SanJose/satellite_37.297293_-121.923058.jpg\n",
      "Saved predicted segmentation to: /content/SanJose/satellite_37.297293_-121.923058.jpg\n",
      "Inferencing on: /content/House_price/satellite_images/SanJose/satellite_37.374788_-121.85001.jpg\n",
      "Saved predicted segmentation to: /content/SanJose/satellite_37.374788_-121.85001.jpg\n",
      "Inferencing on: /content/House_price/satellite_images/SanJose/satellite_37.336477_-121.935005.jpg\n",
      "Saved predicted segmentation to: /content/SanJose/satellite_37.336477_-121.935005.jpg\n",
      "Inferencing on: /content/House_price/satellite_images/SanJose/satellite_37.289778_-121.830398.jpg\n",
      "Saved predicted segmentation to: /content/SanJose/satellite_37.289778_-121.830398.jpg\n",
      "Inferencing on: /content/House_price/satellite_images/SanJose/satellite_37.206944_-121.842693.jpg\n"
     ]
    },
    {
     "output_type": "stream",
     "name": "stderr",
     "text": [
      "Processing Images:  46%|████▌     | 1300/2837 [00:38<00:45, 33.55image/s]"
     ]
    },
    {
     "output_type": "stream",
     "name": "stdout",
     "text": [
      "Saved predicted segmentation to: /content/SanJose/satellite_37.206944_-121.842693.jpg\n",
      "Inferencing on: /content/House_price/satellite_images/SanJose/satellite_37.34081_-121.809294.jpg\n",
      "Saved predicted segmentation to: /content/SanJose/satellite_37.34081_-121.809294.jpg\n",
      "Inferencing on: /content/House_price/satellite_images/SanJose/satellite_37.345425_-121.881056.jpg\n",
      "Saved predicted segmentation to: /content/SanJose/satellite_37.345425_-121.881056.jpg\n",
      "Inferencing on: /content/House_price/satellite_images/SanJose/satellite_37.289815_-121.806454.jpg\n",
      "Saved predicted segmentation to: /content/SanJose/satellite_37.289815_-121.806454.jpg\n",
      "Inferencing on: /content/House_price/satellite_images/SanJose/satellite_37.34375_-121.807443.jpg\n",
      "Saved predicted segmentation to: /content/SanJose/satellite_37.34375_-121.807443.jpg\n",
      "Inferencing on: /content/House_price/satellite_images/SanJose/satellite_37.334607_-121.885551.jpg\n",
      "Saved predicted segmentation to: /content/SanJose/satellite_37.334607_-121.885551.jpg\n",
      "Inferencing on: /content/House_price/satellite_images/SanJose/satellite_37.309527_-122.024076.jpg\n",
      "Saved predicted segmentation to: /content/SanJose/satellite_37.309527_-122.024076.jpg\n",
      "Inferencing on: /content/House_price/satellite_images/SanJose/satellite_37.263763_-121.859986.jpg\n"
     ]
    },
    {
     "output_type": "stream",
     "name": "stderr",
     "text": [
      "Processing Images:  46%|████▌     | 1308/2837 [00:38<00:45, 33.60image/s]"
     ]
    },
    {
     "output_type": "stream",
     "name": "stdout",
     "text": [
      "Saved predicted segmentation to: /content/SanJose/satellite_37.263763_-121.859986.jpg\n",
      "Inferencing on: /content/House_price/satellite_images/SanJose/satellite_37.317291_-121.953125.jpg\n",
      "Saved predicted segmentation to: /content/SanJose/satellite_37.317291_-121.953125.jpg\n",
      "Inferencing on: /content/House_price/satellite_images/SanJose/satellite_37.29192_-121.856934.jpg\n",
      "Saved predicted segmentation to: /content/SanJose/satellite_37.29192_-121.856934.jpg\n",
      "Inferencing on: /content/House_price/satellite_images/SanJose/satellite_37.316758_-121.992227.jpg\n",
      "Saved predicted segmentation to: /content/SanJose/satellite_37.316758_-121.992227.jpg\n",
      "Inferencing on: /content/House_price/satellite_images/SanJose/satellite_37.374004_-121.824676.jpg\n",
      "Saved predicted segmentation to: /content/SanJose/satellite_37.374004_-121.824676.jpg\n",
      "Inferencing on: /content/House_price/satellite_images/SanJose/satellite_37.241136_-121.865645.jpg\n",
      "Saved predicted segmentation to: /content/SanJose/satellite_37.241136_-121.865645.jpg\n",
      "Inferencing on: /content/House_price/satellite_images/SanJose/satellite_37.238564_-121.918926.jpg\n",
      "Saved predicted segmentation to: /content/SanJose/satellite_37.238564_-121.918926.jpg\n",
      "Inferencing on: /content/House_price/satellite_images/SanJose/satellite_37.297189_-121.84169.jpg\n"
     ]
    },
    {
     "output_type": "stream",
     "name": "stderr",
     "text": [
      "Processing Images:  46%|████▋     | 1316/2837 [00:38<00:45, 33.69image/s]"
     ]
    },
    {
     "output_type": "stream",
     "name": "stdout",
     "text": [
      "Saved predicted segmentation to: /content/SanJose/satellite_37.297189_-121.84169.jpg\n",
      "Inferencing on: /content/House_price/satellite_images/SanJose/satellite_37.246966_-121.779371.jpg\n",
      "Saved predicted segmentation to: /content/SanJose/satellite_37.246966_-121.779371.jpg\n",
      "Inferencing on: /content/House_price/satellite_images/SanJose/satellite_37.204407_-121.83329.jpg\n",
      "Saved predicted segmentation to: /content/SanJose/satellite_37.204407_-121.83329.jpg\n",
      "Inferencing on: /content/House_price/satellite_images/SanJose/satellite_37.367657_-121.843381.jpg\n",
      "Saved predicted segmentation to: /content/SanJose/satellite_37.367657_-121.843381.jpg\n",
      "Inferencing on: /content/House_price/satellite_images/SanJose/satellite_37.389103_-121.837969.jpg\n",
      "Saved predicted segmentation to: /content/SanJose/satellite_37.389103_-121.837969.jpg\n",
      "Inferencing on: /content/House_price/satellite_images/SanJose/satellite_37.272233_-121.907164.jpg\n",
      "Saved predicted segmentation to: /content/SanJose/satellite_37.272233_-121.907164.jpg\n",
      "Inferencing on: /content/House_price/satellite_images/SanJose/satellite_37.321536_-121.876416.jpg\n",
      "Saved predicted segmentation to: /content/SanJose/satellite_37.321536_-121.876416.jpg\n",
      "Inferencing on: /content/House_price/satellite_images/SanJose/satellite_37.28856_-121.842646.jpg\n"
     ]
    },
    {
     "output_type": "stream",
     "name": "stderr",
     "text": [
      "\rProcessing Images:  47%|████▋     | 1320/2837 [00:38<00:45, 33.66image/s]"
     ]
    },
    {
     "output_type": "stream",
     "name": "stdout",
     "text": [
      "Saved predicted segmentation to: /content/SanJose/satellite_37.28856_-121.842646.jpg\n",
      "Inferencing on: /content/House_price/satellite_images/SanJose/satellite_37.279513_-121.981301.jpg\n",
      "Saved predicted segmentation to: /content/SanJose/satellite_37.279513_-121.981301.jpg\n",
      "Inferencing on: /content/House_price/satellite_images/SanJose/satellite_37.292609_-121.892521.jpg\n",
      "Saved predicted segmentation to: /content/SanJose/satellite_37.292609_-121.892521.jpg\n",
      "Inferencing on: /content/House_price/satellite_images/SanJose/satellite_37.262093_-121.852285.jpg\n",
      "Saved predicted segmentation to: /content/SanJose/satellite_37.262093_-121.852285.jpg\n",
      "Inferencing on: /content/House_price/satellite_images/SanJose/satellite_37.380278_-121.880095.jpg\n",
      "Saved predicted segmentation to: /content/SanJose/satellite_37.380278_-121.880095.jpg\n",
      "Inferencing on: /content/House_price/satellite_images/SanJose/satellite_37.271132_-121.992044.jpg\n",
      "Saved predicted segmentation to: /content/SanJose/satellite_37.271132_-121.992044.jpg\n",
      "Inferencing on: /content/House_price/satellite_images/SanJose/satellite_37.295619_-121.880095.jpg\n",
      "Saved predicted segmentation to: /content/SanJose/satellite_37.295619_-121.880095.jpg\n",
      "Inferencing on: /content/House_price/satellite_images/SanJose/satellite_37.335039_-121.886612.jpg\n"
     ]
    },
    {
     "output_type": "stream",
     "name": "stderr",
     "text": [
      "Processing Images:  47%|████▋     | 1328/2837 [00:38<00:45, 33.16image/s]"
     ]
    },
    {
     "output_type": "stream",
     "name": "stdout",
     "text": [
      "Saved predicted segmentation to: /content/SanJose/satellite_37.335039_-121.886612.jpg\n",
      "Inferencing on: /content/House_price/satellite_images/SanJose/satellite_37.298961_-121.991244.jpg\n",
      "Saved predicted segmentation to: /content/SanJose/satellite_37.298961_-121.991244.jpg\n",
      "Inferencing on: /content/House_price/satellite_images/SanJose/satellite_37.257601_-121.824684.jpg\n",
      "Saved predicted segmentation to: /content/SanJose/satellite_37.257601_-121.824684.jpg\n",
      "Inferencing on: /content/House_price/satellite_images/SanJose/satellite_37.318603_-121.875636.jpg\n",
      "Saved predicted segmentation to: /content/SanJose/satellite_37.318603_-121.875636.jpg\n",
      "Inferencing on: /content/House_price/satellite_images/SanJose/satellite_37.271268_-121.937994.jpg\n",
      "Saved predicted segmentation to: /content/SanJose/satellite_37.271268_-121.937994.jpg\n",
      "Inferencing on: /content/House_price/satellite_images/SanJose/satellite_37.283617_-121.857273.jpg\n",
      "Saved predicted segmentation to: /content/SanJose/satellite_37.283617_-121.857273.jpg\n",
      "Inferencing on: /content/House_price/satellite_images/SanJose/satellite_37.295044_-121.878433.jpg\n",
      "Saved predicted segmentation to: /content/SanJose/satellite_37.295044_-121.878433.jpg\n",
      "Inferencing on: /content/House_price/satellite_images/SanJose/satellite_37.353603_-121.848864.jpg\n"
     ]
    },
    {
     "output_type": "stream",
     "name": "stderr",
     "text": [
      "Processing Images:  47%|████▋     | 1336/2837 [00:39<00:45, 33.32image/s]"
     ]
    },
    {
     "output_type": "stream",
     "name": "stdout",
     "text": [
      "Saved predicted segmentation to: /content/SanJose/satellite_37.353603_-121.848864.jpg\n",
      "Inferencing on: /content/House_price/satellite_images/SanJose/satellite_37.219156_-121.882316.jpg\n",
      "Saved predicted segmentation to: /content/SanJose/satellite_37.219156_-121.882316.jpg\n",
      "Inferencing on: /content/House_price/satellite_images/SanJose/satellite_37.240976_-121.863195.jpg\n",
      "Saved predicted segmentation to: /content/SanJose/satellite_37.240976_-121.863195.jpg\n",
      "Inferencing on: /content/House_price/satellite_images/SanJose/satellite_37.38058_-121.898216.jpg\n",
      "Saved predicted segmentation to: /content/SanJose/satellite_37.38058_-121.898216.jpg\n",
      "Inferencing on: /content/House_price/satellite_images/SanJose/satellite_37.383932_-121.82226.jpg\n",
      "Saved predicted segmentation to: /content/SanJose/satellite_37.383932_-121.82226.jpg\n",
      "Inferencing on: /content/House_price/satellite_images/SanJose/satellite_37.378071_-121.869994.jpg\n",
      "Saved predicted segmentation to: /content/SanJose/satellite_37.378071_-121.869994.jpg\n",
      "Inferencing on: /content/House_price/satellite_images/SanJose/satellite_37.25111_-121.767655.jpg\n",
      "Saved predicted segmentation to: /content/SanJose/satellite_37.25111_-121.767655.jpg\n",
      "Inferencing on: /content/House_price/satellite_images/SanJose/satellite_37.3008_-121.888951.jpg\n"
     ]
    },
    {
     "output_type": "stream",
     "name": "stderr",
     "text": [
      "Processing Images:  47%|████▋     | 1344/2837 [00:39<00:44, 33.29image/s]"
     ]
    },
    {
     "output_type": "stream",
     "name": "stdout",
     "text": [
      "Saved predicted segmentation to: /content/SanJose/satellite_37.3008_-121.888951.jpg\n",
      "Inferencing on: /content/House_price/satellite_images/SanJose/satellite_37.304432_-121.905289.jpg\n",
      "Saved predicted segmentation to: /content/SanJose/satellite_37.304432_-121.905289.jpg\n",
      "Inferencing on: /content/House_price/satellite_images/SanJose/satellite_37.223058_-121.770589.jpg\n",
      "Saved predicted segmentation to: /content/SanJose/satellite_37.223058_-121.770589.jpg\n",
      "Inferencing on: /content/House_price/satellite_images/SanJose/satellite_37.360637_-121.839664.jpg\n",
      "Saved predicted segmentation to: /content/SanJose/satellite_37.360637_-121.839664.jpg\n",
      "Inferencing on: /content/House_price/satellite_images/SanJose/satellite_37.250689_-121.887765.jpg\n",
      "Saved predicted segmentation to: /content/SanJose/satellite_37.250689_-121.887765.jpg\n",
      "Inferencing on: /content/House_price/satellite_images/SanJose/satellite_37.310763_-121.957617.jpg\n",
      "Saved predicted segmentation to: /content/SanJose/satellite_37.310763_-121.957617.jpg\n",
      "Inferencing on: /content/House_price/satellite_images/SanJose/satellite_37.337157_-121.93596.jpg\n",
      "Saved predicted segmentation to: /content/SanJose/satellite_37.337157_-121.93596.jpg\n",
      "Inferencing on: /content/House_price/satellite_images/SanJose/satellite_37.224618_-121.77852.jpg\n"
     ]
    },
    {
     "output_type": "stream",
     "name": "stderr",
     "text": [
      "\rProcessing Images:  48%|████▊     | 1348/2837 [00:39<00:44, 33.44image/s]"
     ]
    },
    {
     "output_type": "stream",
     "name": "stdout",
     "text": [
      "Saved predicted segmentation to: /content/SanJose/satellite_37.224618_-121.77852.jpg\n",
      "Inferencing on: /content/House_price/satellite_images/SanJose/satellite_37.26933_-121.935993.jpg\n",
      "Saved predicted segmentation to: /content/SanJose/satellite_37.26933_-121.935993.jpg\n",
      "Inferencing on: /content/House_price/satellite_images/SanJose/satellite_37.256891_-121.910653.jpg\n",
      "Saved predicted segmentation to: /content/SanJose/satellite_37.256891_-121.910653.jpg\n",
      "Inferencing on: /content/House_price/satellite_images/SanJose/satellite_37.257327_-121.81678.jpg\n",
      "Saved predicted segmentation to: /content/SanJose/satellite_37.257327_-121.81678.jpg\n",
      "Inferencing on: /content/House_price/satellite_images/SanJose/satellite_37.229066_-121.797955.jpg\n",
      "Saved predicted segmentation to: /content/SanJose/satellite_37.229066_-121.797955.jpg\n",
      "Inferencing on: /content/House_price/satellite_images/SanJose/satellite_37.275998_-121.776854.jpg\n",
      "Saved predicted segmentation to: /content/SanJose/satellite_37.275998_-121.776854.jpg\n",
      "Inferencing on: /content/House_price/satellite_images/SanJose/satellite_37.317291_-121.953369.jpg\n",
      "Saved predicted segmentation to: /content/SanJose/satellite_37.317291_-121.953369.jpg\n",
      "Inferencing on: /content/House_price/satellite_images/SanJose/satellite_37.295797_-121.865066.jpg\n"
     ]
    },
    {
     "output_type": "stream",
     "name": "stderr",
     "text": [
      "Processing Images:  48%|████▊     | 1356/2837 [00:39<00:44, 33.52image/s]"
     ]
    },
    {
     "output_type": "stream",
     "name": "stdout",
     "text": [
      "Saved predicted segmentation to: /content/SanJose/satellite_37.295797_-121.865066.jpg\n",
      "Inferencing on: /content/House_price/satellite_images/SanJose/satellite_37.241381_-121.865049.jpg\n",
      "Saved predicted segmentation to: /content/SanJose/satellite_37.241381_-121.865049.jpg\n",
      "Inferencing on: /content/House_price/satellite_images/SanJose/satellite_37.26786_-121.906145.jpg\n",
      "Saved predicted segmentation to: /content/SanJose/satellite_37.26786_-121.906145.jpg\n",
      "Inferencing on: /content/House_price/satellite_images/SanJose/satellite_37.250899_-121.941256.jpg\n",
      "Saved predicted segmentation to: /content/SanJose/satellite_37.250899_-121.941256.jpg\n",
      "Inferencing on: /content/House_price/satellite_images/SanJose/satellite_37.275_-121.984622.jpg\n",
      "Saved predicted segmentation to: /content/SanJose/satellite_37.275_-121.984622.jpg\n",
      "Inferencing on: /content/House_price/satellite_images/SanJose/satellite_37.335116_-121.862007.jpg\n",
      "Saved predicted segmentation to: /content/SanJose/satellite_37.335116_-121.862007.jpg\n",
      "Inferencing on: /content/House_price/satellite_images/SanJose/satellite_37.317543_-121.954918.jpg\n",
      "Saved predicted segmentation to: /content/SanJose/satellite_37.317543_-121.954918.jpg\n",
      "Inferencing on: /content/House_price/satellite_images/SanJose/satellite_37.317745_-121.955521.jpg\n"
     ]
    },
    {
     "output_type": "stream",
     "name": "stderr",
     "text": [
      "Processing Images:  48%|████▊     | 1364/2837 [00:39<00:43, 33.73image/s]"
     ]
    },
    {
     "output_type": "stream",
     "name": "stdout",
     "text": [
      "Saved predicted segmentation to: /content/SanJose/satellite_37.317745_-121.955521.jpg\n",
      "Inferencing on: /content/House_price/satellite_images/SanJose/satellite_37.265907_-121.886251.jpg\n",
      "Saved predicted segmentation to: /content/SanJose/satellite_37.265907_-121.886251.jpg\n",
      "Inferencing on: /content/House_price/satellite_images/SanJose/satellite_37.248075_-121.840119.jpg\n",
      "Saved predicted segmentation to: /content/SanJose/satellite_37.248075_-121.840119.jpg\n",
      "Inferencing on: /content/House_price/satellite_images/SanJose/satellite_37.335717_-121.792646.jpg\n",
      "Saved predicted segmentation to: /content/SanJose/satellite_37.335717_-121.792646.jpg\n",
      "Inferencing on: /content/House_price/satellite_images/SanJose/satellite_37.263475_-121.941576.jpg\n",
      "Saved predicted segmentation to: /content/SanJose/satellite_37.263475_-121.941576.jpg\n",
      "Inferencing on: /content/House_price/satellite_images/SanJose/satellite_37.368548_-121.847991.jpg\n",
      "Saved predicted segmentation to: /content/SanJose/satellite_37.368548_-121.847991.jpg\n",
      "Inferencing on: /content/House_price/satellite_images/SanJose/satellite_37.225462_-121.781276.jpg\n",
      "Saved predicted segmentation to: /content/SanJose/satellite_37.225462_-121.781276.jpg\n",
      "Inferencing on: /content/House_price/satellite_images/SanJose/satellite_37.299534_-121.887805.jpg\n"
     ]
    },
    {
     "output_type": "stream",
     "name": "stderr",
     "text": [
      "Processing Images:  48%|████▊     | 1372/2837 [00:40<00:43, 33.81image/s]"
     ]
    },
    {
     "output_type": "stream",
     "name": "stdout",
     "text": [
      "Saved predicted segmentation to: /content/SanJose/satellite_37.299534_-121.887805.jpg\n",
      "Inferencing on: /content/House_price/satellite_images/SanJose/satellite_37.253726_-121.828151.jpg\n",
      "Saved predicted segmentation to: /content/SanJose/satellite_37.253726_-121.828151.jpg\n",
      "Inferencing on: /content/House_price/satellite_images/SanJose/satellite_37.306847_-122.005995.jpg\n",
      "Saved predicted segmentation to: /content/SanJose/satellite_37.306847_-122.005995.jpg\n",
      "Inferencing on: /content/House_price/satellite_images/SanJose/satellite_37.322938_-121.933587.jpg\n",
      "Saved predicted segmentation to: /content/SanJose/satellite_37.322938_-121.933587.jpg\n",
      "Inferencing on: /content/House_price/satellite_images/SanJose/satellite_37.299924_-121.963047.jpg\n",
      "Saved predicted segmentation to: /content/SanJose/satellite_37.299924_-121.963047.jpg\n",
      "Inferencing on: /content/House_price/satellite_images/SanJose/satellite_37.376742_-121.797173.jpg\n",
      "Saved predicted segmentation to: /content/SanJose/satellite_37.376742_-121.797173.jpg\n",
      "Inferencing on: /content/House_price/satellite_images/SanJose/satellite_37.307498_-121.960684.jpg\n",
      "Saved predicted segmentation to: /content/SanJose/satellite_37.307498_-121.960684.jpg\n",
      "Inferencing on: /content/House_price/satellite_images/SanJose/satellite_37.262298_-121.828278.jpg\n"
     ]
    },
    {
     "output_type": "stream",
     "name": "stderr",
     "text": [
      "\rProcessing Images:  49%|████▊     | 1376/2837 [00:40<00:43, 33.82image/s]"
     ]
    },
    {
     "output_type": "stream",
     "name": "stdout",
     "text": [
      "Saved predicted segmentation to: /content/SanJose/satellite_37.262298_-121.828278.jpg\n",
      "Inferencing on: /content/House_price/satellite_images/SanJose/satellite_37.246554_-121.805845.jpg\n",
      "Saved predicted segmentation to: /content/SanJose/satellite_37.246554_-121.805845.jpg\n",
      "Inferencing on: /content/House_price/satellite_images/SanJose/satellite_37.310773_-121.767091.jpg\n",
      "Saved predicted segmentation to: /content/SanJose/satellite_37.310773_-121.767091.jpg\n",
      "Inferencing on: /content/House_price/satellite_images/SanJose/satellite_37.299565_-121.935199.jpg\n",
      "Saved predicted segmentation to: /content/SanJose/satellite_37.299565_-121.935199.jpg\n",
      "Inferencing on: /content/House_price/satellite_images/SanJose/satellite_37.242585_-121.794787.jpg\n",
      "Saved predicted segmentation to: /content/SanJose/satellite_37.242585_-121.794787.jpg\n",
      "Inferencing on: /content/House_price/satellite_images/SanJose/satellite_37.247122_-121.844136.jpg\n",
      "Saved predicted segmentation to: /content/SanJose/satellite_37.247122_-121.844136.jpg\n",
      "Inferencing on: /content/House_price/satellite_images/SanJose/satellite_37.351073_-121.793076.jpg\n",
      "Saved predicted segmentation to: /content/SanJose/satellite_37.351073_-121.793076.jpg\n",
      "Inferencing on: /content/House_price/satellite_images/SanJose/satellite_37.290139_-121.811535.jpg\n"
     ]
    },
    {
     "output_type": "stream",
     "name": "stderr",
     "text": [
      "Processing Images:  49%|████▉     | 1384/2837 [00:40<00:43, 33.71image/s]"
     ]
    },
    {
     "output_type": "stream",
     "name": "stdout",
     "text": [
      "Saved predicted segmentation to: /content/SanJose/satellite_37.290139_-121.811535.jpg\n",
      "Inferencing on: /content/House_price/satellite_images/SanJose/satellite_37.270771_-121.932922.jpg\n",
      "Saved predicted segmentation to: /content/SanJose/satellite_37.270771_-121.932922.jpg\n",
      "Inferencing on: /content/House_price/satellite_images/SanJose/satellite_37.291381_-121.832256.jpg\n",
      "Saved predicted segmentation to: /content/SanJose/satellite_37.291381_-121.832256.jpg\n",
      "Inferencing on: /content/House_price/satellite_images/SanJose/satellite_37.300455_-121.904296.jpg\n",
      "Saved predicted segmentation to: /content/SanJose/satellite_37.300455_-121.904296.jpg\n",
      "Inferencing on: /content/House_price/satellite_images/SanJose/satellite_37.31906_-121.764453.jpg\n",
      "Saved predicted segmentation to: /content/SanJose/satellite_37.31906_-121.764453.jpg\n",
      "Inferencing on: /content/House_price/satellite_images/SanJose/satellite_37.244294_-121.814714.jpg\n",
      "Saved predicted segmentation to: /content/SanJose/satellite_37.244294_-121.814714.jpg\n",
      "Inferencing on: /content/House_price/satellite_images/SanJose/satellite_37.297366_-122.029783.jpg\n",
      "Saved predicted segmentation to: /content/SanJose/satellite_37.297366_-122.029783.jpg\n",
      "Inferencing on: /content/House_price/satellite_images/SanJose/satellite_37.307028_-122.003916.jpg\n"
     ]
    },
    {
     "output_type": "stream",
     "name": "stderr",
     "text": [
      "Processing Images:  49%|████▉     | 1392/2837 [00:40<00:42, 34.15image/s]"
     ]
    },
    {
     "output_type": "stream",
     "name": "stdout",
     "text": [
      "Saved predicted segmentation to: /content/SanJose/satellite_37.307028_-122.003916.jpg\n",
      "Inferencing on: /content/House_price/satellite_images/SanJose/satellite_37.311361_-121.916267.jpg\n",
      "Saved predicted segmentation to: /content/SanJose/satellite_37.311361_-121.916267.jpg\n",
      "Inferencing on: /content/House_price/satellite_images/SanJose/satellite_37.302072_-121.839139.jpg\n",
      "Saved predicted segmentation to: /content/SanJose/satellite_37.302072_-121.839139.jpg\n",
      "Inferencing on: /content/House_price/satellite_images/SanJose/satellite_37.349077_-121.802122.jpg\n",
      "Saved predicted segmentation to: /content/SanJose/satellite_37.349077_-121.802122.jpg\n",
      "Inferencing on: /content/House_price/satellite_images/SanJose/satellite_37.272297_-121.801505.jpg\n",
      "Saved predicted segmentation to: /content/SanJose/satellite_37.272297_-121.801505.jpg\n",
      "Inferencing on: /content/House_price/satellite_images/SanJose/satellite_37.379909_-121.854893.jpg\n",
      "Saved predicted segmentation to: /content/SanJose/satellite_37.379909_-121.854893.jpg\n",
      "Inferencing on: /content/House_price/satellite_images/SanJose/satellite_37.311188_-121.770397.jpg\n",
      "Saved predicted segmentation to: /content/SanJose/satellite_37.311188_-121.770397.jpg\n",
      "Inferencing on: /content/House_price/satellite_images/SanJose/satellite_37.273104_-121.928358.jpg\n"
     ]
    },
    {
     "output_type": "stream",
     "name": "stderr",
     "text": [
      "Processing Images:  49%|████▉     | 1400/2837 [00:41<00:42, 34.17image/s]"
     ]
    },
    {
     "output_type": "stream",
     "name": "stdout",
     "text": [
      "Saved predicted segmentation to: /content/SanJose/satellite_37.273104_-121.928358.jpg\n",
      "Inferencing on: /content/House_price/satellite_images/SanJose/satellite_37.298351_-121.840508.jpg\n",
      "Saved predicted segmentation to: /content/SanJose/satellite_37.298351_-121.840508.jpg\n",
      "Inferencing on: /content/House_price/satellite_images/SanJose/satellite_37.317291_-121.953362.jpg\n",
      "Saved predicted segmentation to: /content/SanJose/satellite_37.317291_-121.953362.jpg\n",
      "Inferencing on: /content/House_price/satellite_images/SanJose/satellite_37.340254_-121.896255.jpg\n",
      "Saved predicted segmentation to: /content/SanJose/satellite_37.340254_-121.896255.jpg\n",
      "Inferencing on: /content/House_price/satellite_images/SanJose/satellite_37.305447_-121.941639.jpg\n",
      "Saved predicted segmentation to: /content/SanJose/satellite_37.305447_-121.941639.jpg\n",
      "Inferencing on: /content/House_price/satellite_images/SanJose/satellite_37.316394_-121.93755.jpg\n",
      "Saved predicted segmentation to: /content/SanJose/satellite_37.316394_-121.93755.jpg\n",
      "Inferencing on: /content/House_price/satellite_images/SanJose/satellite_37.319657_-121.981013.jpg\n",
      "Saved predicted segmentation to: /content/SanJose/satellite_37.319657_-121.981013.jpg\n",
      "Inferencing on: /content/House_price/satellite_images/SanJose/satellite_37.41709_-121.854541.jpg\n"
     ]
    },
    {
     "output_type": "stream",
     "name": "stderr",
     "text": [
      "\rProcessing Images:  49%|████▉     | 1404/2837 [00:41<00:42, 34.00image/s]"
     ]
    },
    {
     "output_type": "stream",
     "name": "stdout",
     "text": [
      "Saved predicted segmentation to: /content/SanJose/satellite_37.41709_-121.854541.jpg\n",
      "Inferencing on: /content/House_price/satellite_images/SanJose/satellite_37.334712_-121.887066.jpg\n",
      "Saved predicted segmentation to: /content/SanJose/satellite_37.334712_-121.887066.jpg\n",
      "Inferencing on: /content/House_price/satellite_images/SanJose/satellite_37.383352_-121.858528.jpg\n",
      "Saved predicted segmentation to: /content/SanJose/satellite_37.383352_-121.858528.jpg\n",
      "Inferencing on: /content/House_price/satellite_images/SanJose/satellite_37.327778_-121.903868.jpg\n",
      "Saved predicted segmentation to: /content/SanJose/satellite_37.327778_-121.903868.jpg\n",
      "Inferencing on: /content/House_price/satellite_images/SanJose/satellite_37.261085_-121.904306.jpg\n",
      "Saved predicted segmentation to: /content/SanJose/satellite_37.261085_-121.904306.jpg\n",
      "Inferencing on: /content/House_price/satellite_images/SanJose/satellite_37.231157_-121.883848.jpg\n",
      "Saved predicted segmentation to: /content/SanJose/satellite_37.231157_-121.883848.jpg\n",
      "Inferencing on: /content/House_price/satellite_images/SanJose/satellite_37.347422_-121.925892.jpg\n",
      "Saved predicted segmentation to: /content/SanJose/satellite_37.347422_-121.925892.jpg\n",
      "Inferencing on: /content/House_price/satellite_images/SanJose/satellite_37.327002_-121.869145.jpg\n"
     ]
    },
    {
     "output_type": "stream",
     "name": "stderr",
     "text": [
      "Processing Images:  50%|████▉     | 1412/2837 [00:41<00:41, 33.94image/s]"
     ]
    },
    {
     "output_type": "stream",
     "name": "stdout",
     "text": [
      "Saved predicted segmentation to: /content/SanJose/satellite_37.327002_-121.869145.jpg\n",
      "Inferencing on: /content/House_price/satellite_images/SanJose/satellite_37.322215_-121.850328.jpg\n",
      "Saved predicted segmentation to: /content/SanJose/satellite_37.322215_-121.850328.jpg\n",
      "Inferencing on: /content/House_price/satellite_images/SanJose/satellite_37.304703_-121.903704.jpg\n",
      "Saved predicted segmentation to: /content/SanJose/satellite_37.304703_-121.903704.jpg\n",
      "Inferencing on: /content/House_price/satellite_images/SanJose/satellite_37.309573_-121.881129.jpg\n",
      "Saved predicted segmentation to: /content/SanJose/satellite_37.309573_-121.881129.jpg\n",
      "Inferencing on: /content/House_price/satellite_images/SanJose/satellite_37.241899_-121.761301.jpg\n",
      "Saved predicted segmentation to: /content/SanJose/satellite_37.241899_-121.761301.jpg\n",
      "Inferencing on: /content/House_price/satellite_images/SanJose/satellite_37.251164_-121.81347.jpg\n",
      "Saved predicted segmentation to: /content/SanJose/satellite_37.251164_-121.81347.jpg\n",
      "Inferencing on: /content/House_price/satellite_images/SanJose/satellite_37.317619_-121.955513.jpg\n",
      "Saved predicted segmentation to: /content/SanJose/satellite_37.317619_-121.955513.jpg\n",
      "Inferencing on: /content/House_price/satellite_images/SanJose/satellite_37.302653_-121.954714.jpg\n"
     ]
    },
    {
     "output_type": "stream",
     "name": "stderr",
     "text": [
      "Processing Images:  50%|█████     | 1420/2837 [00:41<00:41, 34.17image/s]"
     ]
    },
    {
     "output_type": "stream",
     "name": "stdout",
     "text": [
      "Saved predicted segmentation to: /content/SanJose/satellite_37.302653_-121.954714.jpg\n",
      "Inferencing on: /content/House_price/satellite_images/SanJose/satellite_37.352298_-121.811485.jpg\n",
      "Saved predicted segmentation to: /content/SanJose/satellite_37.352298_-121.811485.jpg\n",
      "Inferencing on: /content/House_price/satellite_images/SanJose/satellite_37.401244_-121.920797.jpg\n",
      "Saved predicted segmentation to: /content/SanJose/satellite_37.401244_-121.920797.jpg\n",
      "Inferencing on: /content/House_price/satellite_images/SanJose/satellite_37.401483_-121.919768.jpg\n",
      "Saved predicted segmentation to: /content/SanJose/satellite_37.401483_-121.919768.jpg\n",
      "Inferencing on: /content/House_price/satellite_images/SanJose/satellite_37.369732_-121.86298.jpg\n",
      "Saved predicted segmentation to: /content/SanJose/satellite_37.369732_-121.86298.jpg\n",
      "Inferencing on: /content/House_price/satellite_images/SanJose/satellite_37.285056_-121.852349.jpg\n",
      "Saved predicted segmentation to: /content/SanJose/satellite_37.285056_-121.852349.jpg\n",
      "Inferencing on: /content/House_price/satellite_images/SanJose/satellite_37.383788_-121.835248.jpg\n",
      "Saved predicted segmentation to: /content/SanJose/satellite_37.383788_-121.835248.jpg\n",
      "Inferencing on: /content/House_price/satellite_images/SanJose/satellite_37.361552_-121.845.jpg\n"
     ]
    },
    {
     "output_type": "stream",
     "name": "stderr",
     "text": [
      "Processing Images:  50%|█████     | 1428/2837 [00:41<00:41, 34.14image/s]"
     ]
    },
    {
     "output_type": "stream",
     "name": "stdout",
     "text": [
      "Saved predicted segmentation to: /content/SanJose/satellite_37.361552_-121.845.jpg\n",
      "Inferencing on: /content/House_price/satellite_images/SanJose/satellite_37.292289_-121.973468.jpg\n",
      "Saved predicted segmentation to: /content/SanJose/satellite_37.292289_-121.973468.jpg\n",
      "Inferencing on: /content/House_price/satellite_images/SanJose/satellite_37.249573_-121.88669.jpg\n",
      "Saved predicted segmentation to: /content/SanJose/satellite_37.249573_-121.88669.jpg\n",
      "Inferencing on: /content/House_price/satellite_images/SanJose/satellite_37.296818_-121.899704.jpg\n",
      "Saved predicted segmentation to: /content/SanJose/satellite_37.296818_-121.899704.jpg\n",
      "Inferencing on: /content/House_price/satellite_images/SanJose/satellite_37.2788_-121.857636.jpg\n",
      "Saved predicted segmentation to: /content/SanJose/satellite_37.2788_-121.857636.jpg\n",
      "Inferencing on: /content/House_price/satellite_images/SanJose/satellite_37.25139_-121.809069.jpg\n",
      "Saved predicted segmentation to: /content/SanJose/satellite_37.25139_-121.809069.jpg\n",
      "Inferencing on: /content/House_price/satellite_images/SanJose/satellite_37.266692_-121.804201.jpg\n",
      "Saved predicted segmentation to: /content/SanJose/satellite_37.266692_-121.804201.jpg\n",
      "Inferencing on: /content/House_price/satellite_images/SanJose/satellite_37.318903_-121.981017.jpg\n"
     ]
    },
    {
     "output_type": "stream",
     "name": "stderr",
     "text": [
      "\rProcessing Images:  50%|█████     | 1432/2837 [00:41<00:41, 33.97image/s]"
     ]
    },
    {
     "output_type": "stream",
     "name": "stdout",
     "text": [
      "Saved predicted segmentation to: /content/SanJose/satellite_37.318903_-121.981017.jpg\n",
      "Inferencing on: /content/House_price/satellite_images/SanJose/satellite_37.272006_-121.837134.jpg\n",
      "Saved predicted segmentation to: /content/SanJose/satellite_37.272006_-121.837134.jpg\n",
      "Inferencing on: /content/House_price/satellite_images/SanJose/satellite_37.347009_-121.893821.jpg\n",
      "Saved predicted segmentation to: /content/SanJose/satellite_37.347009_-121.893821.jpg\n",
      "Inferencing on: /content/House_price/satellite_images/SanJose/satellite_37.255997_-121.926171.jpg\n",
      "Saved predicted segmentation to: /content/SanJose/satellite_37.255997_-121.926171.jpg\n",
      "Inferencing on: /content/House_price/satellite_images/SanJose/satellite_37.263512_-121.795875.jpg\n",
      "Saved predicted segmentation to: /content/SanJose/satellite_37.263512_-121.795875.jpg\n",
      "Inferencing on: /content/House_price/satellite_images/SanJose/satellite_37.301734_-122.02887.jpg\n",
      "Saved predicted segmentation to: /content/SanJose/satellite_37.301734_-122.02887.jpg\n",
      "Inferencing on: /content/House_price/satellite_images/SanJose/satellite_37.267889_-121.799038.jpg\n",
      "Saved predicted segmentation to: /content/SanJose/satellite_37.267889_-121.799038.jpg\n",
      "Inferencing on: /content/House_price/satellite_images/SanJose/satellite_37.369837_-121.824058.jpg\n"
     ]
    },
    {
     "output_type": "stream",
     "name": "stderr",
     "text": [
      "Processing Images:  51%|█████     | 1440/2837 [00:42<00:41, 33.91image/s]"
     ]
    },
    {
     "output_type": "stream",
     "name": "stdout",
     "text": [
      "Saved predicted segmentation to: /content/SanJose/satellite_37.369837_-121.824058.jpg\n",
      "Inferencing on: /content/House_price/satellite_images/SanJose/satellite_37.243549_-121.90847.jpg\n",
      "Saved predicted segmentation to: /content/SanJose/satellite_37.243549_-121.90847.jpg\n",
      "Inferencing on: /content/House_price/satellite_images/SanJose/satellite_37.237248_-121.875571.jpg\n",
      "Saved predicted segmentation to: /content/SanJose/satellite_37.237248_-121.875571.jpg\n",
      "Inferencing on: /content/House_price/satellite_images/SanJose/satellite_37.342628_-121.801443.jpg\n",
      "Saved predicted segmentation to: /content/SanJose/satellite_37.342628_-121.801443.jpg\n",
      "Inferencing on: /content/House_price/satellite_images/SanJose/satellite_37.305306_-121.917925.jpg\n",
      "Saved predicted segmentation to: /content/SanJose/satellite_37.305306_-121.917925.jpg\n",
      "Inferencing on: /content/House_price/satellite_images/SanJose/satellite_37.311729_-121.828118.jpg\n",
      "Saved predicted segmentation to: /content/SanJose/satellite_37.311729_-121.828118.jpg\n",
      "Inferencing on: /content/House_price/satellite_images/SanJose/satellite_37.415489_-121.818086.jpg\n",
      "Saved predicted segmentation to: /content/SanJose/satellite_37.415489_-121.818086.jpg\n",
      "Inferencing on: /content/House_price/satellite_images/SanJose/satellite_37.371481_-121.855862.jpg\n"
     ]
    },
    {
     "output_type": "stream",
     "name": "stderr",
     "text": [
      "Processing Images:  51%|█████     | 1448/2837 [00:42<00:40, 34.02image/s]"
     ]
    },
    {
     "output_type": "stream",
     "name": "stdout",
     "text": [
      "Saved predicted segmentation to: /content/SanJose/satellite_37.371481_-121.855862.jpg\n",
      "Inferencing on: /content/House_price/satellite_images/SanJose/satellite_37.316933_-121.955498.jpg\n",
      "Saved predicted segmentation to: /content/SanJose/satellite_37.316933_-121.955498.jpg\n",
      "Inferencing on: /content/House_price/satellite_images/SanJose/satellite_37.283168_-121.75205.jpg\n",
      "Saved predicted segmentation to: /content/SanJose/satellite_37.283168_-121.75205.jpg\n",
      "Inferencing on: /content/House_price/satellite_images/SanJose/satellite_37.344732_-121.89153.jpg\n",
      "Saved predicted segmentation to: /content/SanJose/satellite_37.344732_-121.89153.jpg\n",
      "Inferencing on: /content/House_price/satellite_images/SanJose/satellite_37.31768_-121.955521.jpg\n",
      "Saved predicted segmentation to: /content/SanJose/satellite_37.31768_-121.955521.jpg\n",
      "Inferencing on: /content/House_price/satellite_images/SanJose/satellite_37.349497_-121.801329.jpg\n",
      "Saved predicted segmentation to: /content/SanJose/satellite_37.349497_-121.801329.jpg\n",
      "Inferencing on: /content/House_price/satellite_images/SanJose/satellite_37.365169_-121.81384.jpg\n",
      "Saved predicted segmentation to: /content/SanJose/satellite_37.365169_-121.81384.jpg\n",
      "Inferencing on: /content/House_price/satellite_images/SanJose/satellite_37.264786_-121.863915.jpg\n"
     ]
    },
    {
     "output_type": "stream",
     "name": "stderr",
     "text": [
      "Processing Images:  51%|█████▏    | 1456/2837 [00:42<00:40, 34.11image/s]"
     ]
    },
    {
     "output_type": "stream",
     "name": "stdout",
     "text": [
      "Saved predicted segmentation to: /content/SanJose/satellite_37.264786_-121.863915.jpg\n",
      "Inferencing on: /content/House_price/satellite_images/SanJose/satellite_37.306225_-121.843536.jpg\n",
      "Saved predicted segmentation to: /content/SanJose/satellite_37.306225_-121.843536.jpg\n",
      "Inferencing on: /content/House_price/satellite_images/SanJose/satellite_37.301595_-121.880321.jpg\n",
      "Saved predicted segmentation to: /content/SanJose/satellite_37.301595_-121.880321.jpg\n",
      "Inferencing on: /content/House_price/satellite_images/SanJose/satellite_37.345148_-121.927936.jpg\n",
      "Saved predicted segmentation to: /content/SanJose/satellite_37.345148_-121.927936.jpg\n",
      "Inferencing on: /content/House_price/satellite_images/SanJose/satellite_37.253186_-121.827587.jpg\n",
      "Saved predicted segmentation to: /content/SanJose/satellite_37.253186_-121.827587.jpg\n",
      "Inferencing on: /content/House_price/satellite_images/SanJose/satellite_37.322376_-121.9876.jpg\n",
      "Saved predicted segmentation to: /content/SanJose/satellite_37.322376_-121.9876.jpg\n",
      "Inferencing on: /content/House_price/satellite_images/SanJose/satellite_37.239383_-121.847418.jpg\n",
      "Saved predicted segmentation to: /content/SanJose/satellite_37.239383_-121.847418.jpg\n",
      "Inferencing on: /content/House_price/satellite_images/SanJose/satellite_37.307813_-121.843636.jpg\n"
     ]
    },
    {
     "output_type": "stream",
     "name": "stderr",
     "text": [
      "\rProcessing Images:  51%|█████▏    | 1460/2837 [00:42<00:40, 33.95image/s]"
     ]
    },
    {
     "output_type": "stream",
     "name": "stdout",
     "text": [
      "Saved predicted segmentation to: /content/SanJose/satellite_37.307813_-121.843636.jpg\n",
      "Inferencing on: /content/House_price/satellite_images/SanJose/satellite_37.334103_-121.885022.jpg\n",
      "Saved predicted segmentation to: /content/SanJose/satellite_37.334103_-121.885022.jpg\n",
      "Inferencing on: /content/House_price/satellite_images/SanJose/satellite_37.298963_-121.777297.jpg\n",
      "Saved predicted segmentation to: /content/SanJose/satellite_37.298963_-121.777297.jpg\n",
      "Inferencing on: /content/House_price/satellite_images/SanJose/satellite_37.318962_-121.761616.jpg\n",
      "Saved predicted segmentation to: /content/SanJose/satellite_37.318962_-121.761616.jpg\n",
      "Inferencing on: /content/House_price/satellite_images/SanJose/satellite_37.245178_-121.765153.jpg\n",
      "Saved predicted segmentation to: /content/SanJose/satellite_37.245178_-121.765153.jpg\n",
      "Inferencing on: /content/House_price/satellite_images/SanJose/satellite_37.33874_-121.856581.jpg\n",
      "Saved predicted segmentation to: /content/SanJose/satellite_37.33874_-121.856581.jpg\n",
      "Inferencing on: /content/House_price/satellite_images/SanJose/satellite_37.263627_-121.941164.jpg\n",
      "Saved predicted segmentation to: /content/SanJose/satellite_37.263627_-121.941164.jpg\n",
      "Inferencing on: /content/House_price/satellite_images/SanJose/satellite_37.29829_-122.006539.jpg\n"
     ]
    },
    {
     "output_type": "stream",
     "name": "stderr",
     "text": [
      "Processing Images:  52%|█████▏    | 1468/2837 [00:43<00:40, 33.73image/s]"
     ]
    },
    {
     "output_type": "stream",
     "name": "stdout",
     "text": [
      "Saved predicted segmentation to: /content/SanJose/satellite_37.29829_-122.006539.jpg\n",
      "Inferencing on: /content/House_price/satellite_images/SanJose/satellite_37.310789_-121.899348.jpg\n",
      "Saved predicted segmentation to: /content/SanJose/satellite_37.310789_-121.899348.jpg\n",
      "Inferencing on: /content/House_price/satellite_images/SanJose/satellite_37.205156_-121.840998.jpg\n",
      "Saved predicted segmentation to: /content/SanJose/satellite_37.205156_-121.840998.jpg\n",
      "Inferencing on: /content/House_price/satellite_images/SanJose/satellite_37.316559_-121.816369.jpg\n",
      "Saved predicted segmentation to: /content/SanJose/satellite_37.316559_-121.816369.jpg\n",
      "Inferencing on: /content/House_price/satellite_images/SanJose/satellite_37.2718_-121.815192.jpg\n",
      "Saved predicted segmentation to: /content/SanJose/satellite_37.2718_-121.815192.jpg\n",
      "Inferencing on: /content/House_price/satellite_images/SanJose/satellite_37.307586_-121.96909.jpg\n",
      "Saved predicted segmentation to: /content/SanJose/satellite_37.307586_-121.96909.jpg\n",
      "Inferencing on: /content/House_price/satellite_images/SanJose/satellite_37.27514_-121.847541.jpg\n",
      "Saved predicted segmentation to: /content/SanJose/satellite_37.27514_-121.847541.jpg\n",
      "Inferencing on: /content/House_price/satellite_images/SanJose/satellite_37.357487_-121.854427.jpg\n"
     ]
    },
    {
     "output_type": "stream",
     "name": "stderr",
     "text": [
      "Processing Images:  52%|█████▏    | 1476/2837 [00:43<00:39, 34.20image/s]"
     ]
    },
    {
     "output_type": "stream",
     "name": "stdout",
     "text": [
      "Saved predicted segmentation to: /content/SanJose/satellite_37.357487_-121.854427.jpg\n",
      "Inferencing on: /content/House_price/satellite_images/SanJose/satellite_37.226011_-121.763085.jpg\n",
      "Saved predicted segmentation to: /content/SanJose/satellite_37.226011_-121.763085.jpg\n",
      "Inferencing on: /content/House_price/satellite_images/SanJose/satellite_37.304356_-121.979507.jpg\n",
      "Saved predicted segmentation to: /content/SanJose/satellite_37.304356_-121.979507.jpg\n",
      "Inferencing on: /content/House_price/satellite_images/SanJose/satellite_37.240786_-121.923014.jpg\n",
      "Saved predicted segmentation to: /content/SanJose/satellite_37.240786_-121.923014.jpg\n",
      "Inferencing on: /content/House_price/satellite_images/SanJose/satellite_37.326918_-121.879595.jpg\n",
      "Saved predicted segmentation to: /content/SanJose/satellite_37.326918_-121.879595.jpg\n",
      "Inferencing on: /content/House_price/satellite_images/SanJose/satellite_37.329926_-121.841238.jpg\n",
      "Saved predicted segmentation to: /content/SanJose/satellite_37.329926_-121.841238.jpg\n",
      "Inferencing on: /content/House_price/satellite_images/SanJose/satellite_37.234229_-121.76964.jpg\n",
      "Saved predicted segmentation to: /content/SanJose/satellite_37.234229_-121.76964.jpg\n",
      "Inferencing on: /content/House_price/satellite_images/SanJose/satellite_37.281167_-121.86105.jpg\n"
     ]
    },
    {
     "output_type": "stream",
     "name": "stderr",
     "text": [
      "Processing Images:  52%|█████▏    | 1484/2837 [00:43<00:39, 34.41image/s]"
     ]
    },
    {
     "output_type": "stream",
     "name": "stdout",
     "text": [
      "Saved predicted segmentation to: /content/SanJose/satellite_37.281167_-121.86105.jpg\n",
      "Inferencing on: /content/House_price/satellite_images/SanJose/satellite_37.303756_-121.955861.jpg\n",
      "Saved predicted segmentation to: /content/SanJose/satellite_37.303756_-121.955861.jpg\n",
      "Inferencing on: /content/House_price/satellite_images/SanJose/satellite_37.260354_-121.81969.jpg\n",
      "Saved predicted segmentation to: /content/SanJose/satellite_37.260354_-121.81969.jpg\n",
      "Inferencing on: /content/House_price/satellite_images/SanJose/satellite_37.29262_-121.973066.jpg\n",
      "Saved predicted segmentation to: /content/SanJose/satellite_37.29262_-121.973066.jpg\n",
      "Inferencing on: /content/House_price/satellite_images/SanJose/satellite_37.282415_-121.860648.jpg\n",
      "Saved predicted segmentation to: /content/SanJose/satellite_37.282415_-121.860648.jpg\n",
      "Inferencing on: /content/House_price/satellite_images/SanJose/satellite_37.317886_-121.954712.jpg\n",
      "Saved predicted segmentation to: /content/SanJose/satellite_37.317886_-121.954712.jpg\n",
      "Inferencing on: /content/House_price/satellite_images/SanJose/satellite_37.304498_-122.001483.jpg\n",
      "Saved predicted segmentation to: /content/SanJose/satellite_37.304498_-122.001483.jpg\n",
      "Inferencing on: /content/House_price/satellite_images/SanJose/satellite_37.204784_-121.833313.jpg\n"
     ]
    },
    {
     "output_type": "stream",
     "name": "stderr",
     "text": [
      "\rProcessing Images:  52%|█████▏    | 1488/2837 [00:43<00:39, 34.08image/s]"
     ]
    },
    {
     "output_type": "stream",
     "name": "stdout",
     "text": [
      "Saved predicted segmentation to: /content/SanJose/satellite_37.204784_-121.833313.jpg\n",
      "Inferencing on: /content/House_price/satellite_images/SanJose/satellite_37.32319_-121.90372.jpg\n",
      "Saved predicted segmentation to: /content/SanJose/satellite_37.32319_-121.90372.jpg\n",
      "Inferencing on: /content/House_price/satellite_images/SanJose/satellite_37.390051_-121.874276.jpg\n",
      "Saved predicted segmentation to: /content/SanJose/satellite_37.390051_-121.874276.jpg\n",
      "Inferencing on: /content/House_price/satellite_images/SanJose/satellite_37.348421_-121.929616.jpg\n",
      "Saved predicted segmentation to: /content/SanJose/satellite_37.348421_-121.929616.jpg\n",
      "Inferencing on: /content/House_price/satellite_images/SanJose/satellite_37.329043_-121.784929.jpg\n",
      "Saved predicted segmentation to: /content/SanJose/satellite_37.329043_-121.784929.jpg\n",
      "Inferencing on: /content/House_price/satellite_images/SanJose/satellite_37.317287_-121.953102.jpg\n",
      "Saved predicted segmentation to: /content/SanJose/satellite_37.317287_-121.953102.jpg\n",
      "Inferencing on: /content/House_price/satellite_images/SanJose/satellite_37.363757_-121.847498.jpg\n",
      "Saved predicted segmentation to: /content/SanJose/satellite_37.363757_-121.847498.jpg\n",
      "Inferencing on: /content/House_price/satellite_images/SanJose/satellite_37.295489_-121.838202.jpg\n"
     ]
    },
    {
     "output_type": "stream",
     "name": "stderr",
     "text": [
      "Processing Images:  53%|█████▎    | 1496/2837 [00:43<00:39, 34.08image/s]"
     ]
    },
    {
     "output_type": "stream",
     "name": "stdout",
     "text": [
      "Saved predicted segmentation to: /content/SanJose/satellite_37.295489_-121.838202.jpg\n",
      "Inferencing on: /content/House_price/satellite_images/SanJose/satellite_37.29066_-121.741695.jpg\n",
      "Saved predicted segmentation to: /content/SanJose/satellite_37.29066_-121.741695.jpg\n",
      "Inferencing on: /content/House_price/satellite_images/SanJose/satellite_37.348839_-121.848197.jpg\n",
      "Saved predicted segmentation to: /content/SanJose/satellite_37.348839_-121.848197.jpg\n",
      "Inferencing on: /content/House_price/satellite_images/SanJose/satellite_37.267544_-121.854979.jpg\n",
      "Saved predicted segmentation to: /content/SanJose/satellite_37.267544_-121.854979.jpg\n",
      "Inferencing on: /content/House_price/satellite_images/SanJose/satellite_37.320071_-121.980699.jpg\n",
      "Saved predicted segmentation to: /content/SanJose/satellite_37.320071_-121.980699.jpg\n",
      "Inferencing on: /content/House_price/satellite_images/SanJose/satellite_37.296939_-121.925544.jpg\n",
      "Saved predicted segmentation to: /content/SanJose/satellite_37.296939_-121.925544.jpg\n",
      "Inferencing on: /content/House_price/satellite_images/SanJose/satellite_37.296952_-121.756287.jpg\n",
      "Saved predicted segmentation to: /content/SanJose/satellite_37.296952_-121.756287.jpg\n",
      "Inferencing on: /content/House_price/satellite_images/SanJose/satellite_37.311908_-121.956925.jpg\n"
     ]
    },
    {
     "output_type": "stream",
     "name": "stderr",
     "text": [
      "Processing Images:  53%|█████▎    | 1504/2837 [00:44<00:39, 34.12image/s]"
     ]
    },
    {
     "output_type": "stream",
     "name": "stdout",
     "text": [
      "Saved predicted segmentation to: /content/SanJose/satellite_37.311908_-121.956925.jpg\n",
      "Inferencing on: /content/House_price/satellite_images/SanJose/satellite_37.310162_-121.965271.jpg\n",
      "Saved predicted segmentation to: /content/SanJose/satellite_37.310162_-121.965271.jpg\n",
      "Inferencing on: /content/House_price/satellite_images/SanJose/satellite_37.254539_-121.811623.jpg\n",
      "Saved predicted segmentation to: /content/SanJose/satellite_37.254539_-121.811623.jpg\n",
      "Inferencing on: /content/House_price/satellite_images/SanJose/satellite_37.305991_-121.769813.jpg\n",
      "Saved predicted segmentation to: /content/SanJose/satellite_37.305991_-121.769813.jpg\n",
      "Inferencing on: /content/House_price/satellite_images/SanJose/satellite_37.270512_-121.921214.jpg\n",
      "Saved predicted segmentation to: /content/SanJose/satellite_37.270512_-121.921214.jpg\n",
      "Inferencing on: /content/House_price/satellite_images/SanJose/satellite_37.359176_-121.828237.jpg\n",
      "Saved predicted segmentation to: /content/SanJose/satellite_37.359176_-121.828237.jpg\n",
      "Inferencing on: /content/House_price/satellite_images/SanJose/satellite_37.39198_-121.865631.jpg\n",
      "Saved predicted segmentation to: /content/SanJose/satellite_37.39198_-121.865631.jpg\n",
      "Inferencing on: /content/House_price/satellite_images/SanJose/satellite_37.310519_-121.879273.jpg\n"
     ]
    },
    {
     "output_type": "stream",
     "name": "stderr",
     "text": [
      "Processing Images:  53%|█████▎    | 1512/2837 [00:44<00:38, 34.25image/s]"
     ]
    },
    {
     "output_type": "stream",
     "name": "stdout",
     "text": [
      "Saved predicted segmentation to: /content/SanJose/satellite_37.310519_-121.879273.jpg\n",
      "Inferencing on: /content/House_price/satellite_images/SanJose/satellite_37.231662_-121.87491.jpg\n",
      "Saved predicted segmentation to: /content/SanJose/satellite_37.231662_-121.87491.jpg\n",
      "Inferencing on: /content/House_price/satellite_images/SanJose/satellite_37.327163_-121.869061.jpg\n",
      "Saved predicted segmentation to: /content/SanJose/satellite_37.327163_-121.869061.jpg\n",
      "Inferencing on: /content/House_price/satellite_images/SanJose/satellite_37.397636_-121.907379.jpg\n",
      "Saved predicted segmentation to: /content/SanJose/satellite_37.397636_-121.907379.jpg\n",
      "Inferencing on: /content/House_price/satellite_images/SanJose/satellite_37.382739_-121.818993.jpg\n",
      "Saved predicted segmentation to: /content/SanJose/satellite_37.382739_-121.818993.jpg\n",
      "Inferencing on: /content/House_price/satellite_images/SanJose/satellite_37.289498_-121.835026.jpg\n",
      "Saved predicted segmentation to: /content/SanJose/satellite_37.289498_-121.835026.jpg\n",
      "Inferencing on: /content/House_price/satellite_images/SanJose/satellite_37.287414_-121.921234.jpg\n",
      "Saved predicted segmentation to: /content/SanJose/satellite_37.287414_-121.921234.jpg\n",
      "Inferencing on: /content/House_price/satellite_images/SanJose/satellite_37.229723_-121.836732.jpg\n"
     ]
    },
    {
     "output_type": "stream",
     "name": "stderr",
     "text": [
      "\rProcessing Images:  53%|█████▎    | 1516/2837 [00:44<00:38, 34.35image/s]"
     ]
    },
    {
     "output_type": "stream",
     "name": "stdout",
     "text": [
      "Saved predicted segmentation to: /content/SanJose/satellite_37.229723_-121.836732.jpg\n",
      "Inferencing on: /content/House_price/satellite_images/SanJose/satellite_37.216868_-121.853684.jpg\n",
      "Saved predicted segmentation to: /content/SanJose/satellite_37.216868_-121.853684.jpg\n",
      "Inferencing on: /content/House_price/satellite_images/SanJose/satellite_37.286446_-121.860439.jpg\n",
      "Saved predicted segmentation to: /content/SanJose/satellite_37.286446_-121.860439.jpg\n",
      "Inferencing on: /content/House_price/satellite_images/SanJose/satellite_37.311929_-121.939102.jpg\n",
      "Saved predicted segmentation to: /content/SanJose/satellite_37.311929_-121.939102.jpg\n",
      "Inferencing on: /content/House_price/satellite_images/SanJose/satellite_37.377798_-121.853745.jpg\n",
      "Saved predicted segmentation to: /content/SanJose/satellite_37.377798_-121.853745.jpg\n",
      "Inferencing on: /content/House_price/satellite_images/SanJose/satellite_37.254163_-121.886811.jpg\n",
      "Saved predicted segmentation to: /content/SanJose/satellite_37.254163_-121.886811.jpg\n",
      "Inferencing on: /content/House_price/satellite_images/SanJose/satellite_37.222974_-121.764992.jpg\n",
      "Saved predicted segmentation to: /content/SanJose/satellite_37.222974_-121.764992.jpg\n",
      "Inferencing on: /content/House_price/satellite_images/SanJose/satellite_37.378735_-121.836075.jpg\n"
     ]
    },
    {
     "output_type": "stream",
     "name": "stderr",
     "text": [
      "Processing Images:  54%|█████▎    | 1524/2837 [00:44<00:38, 34.25image/s]"
     ]
    },
    {
     "output_type": "stream",
     "name": "stdout",
     "text": [
      "Saved predicted segmentation to: /content/SanJose/satellite_37.378735_-121.836075.jpg\n",
      "Inferencing on: /content/House_price/satellite_images/SanJose/satellite_37.335078_-121.840582.jpg\n",
      "Saved predicted segmentation to: /content/SanJose/satellite_37.335078_-121.840582.jpg\n",
      "Inferencing on: /content/House_price/satellite_images/SanJose/satellite_37.375255_-121.865831.jpg\n",
      "Saved predicted segmentation to: /content/SanJose/satellite_37.375255_-121.865831.jpg\n",
      "Inferencing on: /content/House_price/satellite_images/SanJose/satellite_37.356967_-121.894831.jpg\n",
      "Saved predicted segmentation to: /content/SanJose/satellite_37.356967_-121.894831.jpg\n",
      "Inferencing on: /content/House_price/satellite_images/SanJose/satellite_37.380583_-121.854509.jpg\n",
      "Saved predicted segmentation to: /content/SanJose/satellite_37.380583_-121.854509.jpg\n",
      "Inferencing on: /content/House_price/satellite_images/SanJose/satellite_37.297217_-121.877514.jpg\n",
      "Saved predicted segmentation to: /content/SanJose/satellite_37.297217_-121.877514.jpg\n",
      "Inferencing on: /content/House_price/satellite_images/SanJose/satellite_37.215493_-121.832131.jpg\n",
      "Saved predicted segmentation to: /content/SanJose/satellite_37.215493_-121.832131.jpg\n",
      "Inferencing on: /content/House_price/satellite_images/SanJose/satellite_37.381117_-121.885488.jpg\n"
     ]
    },
    {
     "output_type": "stream",
     "name": "stderr",
     "text": [
      "Processing Images:  54%|█████▍    | 1532/2837 [00:44<00:38, 34.11image/s]"
     ]
    },
    {
     "output_type": "stream",
     "name": "stdout",
     "text": [
      "Saved predicted segmentation to: /content/SanJose/satellite_37.381117_-121.885488.jpg\n",
      "Inferencing on: /content/House_price/satellite_images/SanJose/satellite_37.319653_-121.98142.jpg\n",
      "Saved predicted segmentation to: /content/SanJose/satellite_37.319653_-121.98142.jpg\n",
      "Inferencing on: /content/House_price/satellite_images/SanJose/satellite_37.364398_-121.836887.jpg\n",
      "Saved predicted segmentation to: /content/SanJose/satellite_37.364398_-121.836887.jpg\n",
      "Inferencing on: /content/House_price/satellite_images/SanJose/satellite_37.261148_-121.863595.jpg\n",
      "Saved predicted segmentation to: /content/SanJose/satellite_37.261148_-121.863595.jpg\n",
      "Inferencing on: /content/House_price/satellite_images/SanJose/satellite_37.298757_-121.87739.jpg\n",
      "Saved predicted segmentation to: /content/SanJose/satellite_37.298757_-121.87739.jpg\n",
      "Inferencing on: /content/House_price/satellite_images/SanJose/satellite_37.358346_-121.887473.jpg\n",
      "Saved predicted segmentation to: /content/SanJose/satellite_37.358346_-121.887473.jpg\n",
      "Inferencing on: /content/House_price/satellite_images/SanJose/satellite_37.363388_-121.914027.jpg\n",
      "Saved predicted segmentation to: /content/SanJose/satellite_37.363388_-121.914027.jpg\n",
      "Inferencing on: /content/House_price/satellite_images/SanJose/satellite_37.345558_-121.868721.jpg\n"
     ]
    },
    {
     "output_type": "stream",
     "name": "stderr",
     "text": [
      "Processing Images:  54%|█████▍    | 1540/2837 [00:45<00:37, 34.14image/s]"
     ]
    },
    {
     "output_type": "stream",
     "name": "stdout",
     "text": [
      "Saved predicted segmentation to: /content/SanJose/satellite_37.345558_-121.868721.jpg\n",
      "Inferencing on: /content/House_price/satellite_images/SanJose/satellite_37.257887_-121.883981.jpg\n",
      "Saved predicted segmentation to: /content/SanJose/satellite_37.257887_-121.883981.jpg\n",
      "Inferencing on: /content/House_price/satellite_images/SanJose/satellite_37.207641_-121.871483.jpg\n",
      "Saved predicted segmentation to: /content/SanJose/satellite_37.207641_-121.871483.jpg\n",
      "Inferencing on: /content/House_price/satellite_images/SanJose/satellite_37.285892_-121.85467.jpg\n",
      "Saved predicted segmentation to: /content/SanJose/satellite_37.285892_-121.85467.jpg\n",
      "Inferencing on: /content/House_price/satellite_images/SanJose/satellite_37.409548_-121.862603.jpg\n",
      "Saved predicted segmentation to: /content/SanJose/satellite_37.409548_-121.862603.jpg\n",
      "Inferencing on: /content/House_price/satellite_images/SanJose/satellite_37.326966_-121.776031.jpg\n",
      "Saved predicted segmentation to: /content/SanJose/satellite_37.326966_-121.776031.jpg\n",
      "Inferencing on: /content/House_price/satellite_images/SanJose/satellite_37.320168_-121.842019.jpg\n",
      "Saved predicted segmentation to: /content/SanJose/satellite_37.320168_-121.842019.jpg\n",
      "Inferencing on: /content/House_price/satellite_images/SanJose/satellite_37.277382_-121.903056.jpg\n"
     ]
    },
    {
     "output_type": "stream",
     "name": "stderr",
     "text": [
      "\rProcessing Images:  54%|█████▍    | 1544/2837 [00:45<00:37, 34.25image/s]"
     ]
    },
    {
     "output_type": "stream",
     "name": "stdout",
     "text": [
      "Saved predicted segmentation to: /content/SanJose/satellite_37.277382_-121.903056.jpg\n",
      "Inferencing on: /content/House_price/satellite_images/SanJose/satellite_37.277284_-121.907704.jpg\n",
      "Saved predicted segmentation to: /content/SanJose/satellite_37.277284_-121.907704.jpg\n",
      "Inferencing on: /content/House_price/satellite_images/SanJose/satellite_37.277088_-121.857929.jpg\n",
      "Saved predicted segmentation to: /content/SanJose/satellite_37.277088_-121.857929.jpg\n",
      "Inferencing on: /content/House_price/satellite_images/SanJose/satellite_37.301742_-121.879881.jpg\n",
      "Saved predicted segmentation to: /content/SanJose/satellite_37.301742_-121.879881.jpg\n",
      "Inferencing on: /content/House_price/satellite_images/SanJose/satellite_37.309699_-121.891229.jpg\n",
      "Saved predicted segmentation to: /content/SanJose/satellite_37.309699_-121.891229.jpg\n",
      "Inferencing on: /content/House_price/satellite_images/SanJose/satellite_37.409322_-121.864394.jpg\n",
      "Saved predicted segmentation to: /content/SanJose/satellite_37.409322_-121.864394.jpg\n",
      "Inferencing on: /content/House_price/satellite_images/SanJose/satellite_37.283306_-121.862572.jpg\n",
      "Saved predicted segmentation to: /content/SanJose/satellite_37.283306_-121.862572.jpg\n",
      "Inferencing on: /content/House_price/satellite_images/SanJose/satellite_37.38928_-121.880196.jpg\n"
     ]
    },
    {
     "output_type": "stream",
     "name": "stderr",
     "text": [
      "Processing Images:  55%|█████▍    | 1552/2837 [00:45<00:37, 34.57image/s]"
     ]
    },
    {
     "output_type": "stream",
     "name": "stdout",
     "text": [
      "Saved predicted segmentation to: /content/SanJose/satellite_37.38928_-121.880196.jpg\n",
      "Inferencing on: /content/House_price/satellite_images/SanJose/satellite_37.242261_-121.859834.jpg\n",
      "Saved predicted segmentation to: /content/SanJose/satellite_37.242261_-121.859834.jpg\n",
      "Inferencing on: /content/House_price/satellite_images/SanJose/satellite_37.279768_-121.895643.jpg\n",
      "Saved predicted segmentation to: /content/SanJose/satellite_37.279768_-121.895643.jpg\n",
      "Inferencing on: /content/House_price/satellite_images/SanJose/satellite_37.322739_-121.830789.jpg\n",
      "Saved predicted segmentation to: /content/SanJose/satellite_37.322739_-121.830789.jpg\n",
      "Inferencing on: /content/House_price/satellite_images/SanJose/satellite_37.314989_-121.908525.jpg\n",
      "Saved predicted segmentation to: /content/SanJose/satellite_37.314989_-121.908525.jpg\n",
      "Inferencing on: /content/House_price/satellite_images/SanJose/satellite_37.339411_-121.860739.jpg\n",
      "Saved predicted segmentation to: /content/SanJose/satellite_37.339411_-121.860739.jpg\n",
      "Inferencing on: /content/House_price/satellite_images/SanJose/satellite_37.289572_-121.764314.jpg\n",
      "Saved predicted segmentation to: /content/SanJose/satellite_37.289572_-121.764314.jpg\n",
      "Inferencing on: /content/House_price/satellite_images/SanJose/satellite_37.342932_-121.86604.jpg\n"
     ]
    },
    {
     "output_type": "stream",
     "name": "stderr",
     "text": [
      "Processing Images:  55%|█████▍    | 1560/2837 [00:45<00:36, 34.52image/s]"
     ]
    },
    {
     "output_type": "stream",
     "name": "stdout",
     "text": [
      "Saved predicted segmentation to: /content/SanJose/satellite_37.342932_-121.86604.jpg\n",
      "Inferencing on: /content/House_price/satellite_images/SanJose/satellite_37.348382_-121.875644.jpg\n",
      "Saved predicted segmentation to: /content/SanJose/satellite_37.348382_-121.875644.jpg\n",
      "Inferencing on: /content/House_price/satellite_images/SanJose/satellite_37.354821_-121.88147.jpg\n",
      "Saved predicted segmentation to: /content/SanJose/satellite_37.354821_-121.88147.jpg\n",
      "Inferencing on: /content/House_price/satellite_images/SanJose/satellite_37.201568_-121.85656.jpg\n",
      "Saved predicted segmentation to: /content/SanJose/satellite_37.201568_-121.85656.jpg\n",
      "Inferencing on: /content/House_price/satellite_images/SanJose/satellite_37.231795_-121.806186.jpg\n",
      "Saved predicted segmentation to: /content/SanJose/satellite_37.231795_-121.806186.jpg\n",
      "Inferencing on: /content/House_price/satellite_images/SanJose/satellite_37.314721_-121.885203.jpg\n",
      "Saved predicted segmentation to: /content/SanJose/satellite_37.314721_-121.885203.jpg\n",
      "Inferencing on: /content/House_price/satellite_images/SanJose/satellite_37.295107_-121.923123.jpg\n",
      "Saved predicted segmentation to: /content/SanJose/satellite_37.295107_-121.923123.jpg\n",
      "Inferencing on: /content/House_price/satellite_images/SanJose/satellite_37.401653_-121.854964.jpg\n"
     ]
    },
    {
     "output_type": "stream",
     "name": "stderr",
     "text": [
      "Processing Images:  55%|█████▌    | 1568/2837 [00:45<00:37, 34.22image/s]"
     ]
    },
    {
     "output_type": "stream",
     "name": "stdout",
     "text": [
      "Saved predicted segmentation to: /content/SanJose/satellite_37.401653_-121.854964.jpg\n",
      "Inferencing on: /content/House_price/satellite_images/SanJose/satellite_37.269217_-121.828473.jpg\n",
      "Saved predicted segmentation to: /content/SanJose/satellite_37.269217_-121.828473.jpg\n",
      "Inferencing on: /content/House_price/satellite_images/SanJose/satellite_37.340248_-121.861282.jpg\n",
      "Saved predicted segmentation to: /content/SanJose/satellite_37.340248_-121.861282.jpg\n",
      "Inferencing on: /content/House_price/satellite_images/SanJose/satellite_37.269623_-121.852703.jpg\n",
      "Saved predicted segmentation to: /content/SanJose/satellite_37.269623_-121.852703.jpg\n",
      "Inferencing on: /content/House_price/satellite_images/SanJose/satellite_37.300858_-122.027696.jpg\n",
      "Saved predicted segmentation to: /content/SanJose/satellite_37.300858_-122.027696.jpg\n",
      "Inferencing on: /content/House_price/satellite_images/SanJose/satellite_37.335475_-121.783675.jpg\n",
      "Saved predicted segmentation to: /content/SanJose/satellite_37.335475_-121.783675.jpg\n",
      "Inferencing on: /content/House_price/satellite_images/SanJose/satellite_37.232555_-121.834818.jpg\n",
      "Saved predicted segmentation to: /content/SanJose/satellite_37.232555_-121.834818.jpg\n",
      "Inferencing on: /content/House_price/satellite_images/SanJose/satellite_37.372381_-121.864009.jpg\n"
     ]
    },
    {
     "output_type": "stream",
     "name": "stderr",
     "text": [
      "\rProcessing Images:  55%|█████▌    | 1572/2837 [00:46<00:37, 34.04image/s]"
     ]
    },
    {
     "output_type": "stream",
     "name": "stdout",
     "text": [
      "Saved predicted segmentation to: /content/SanJose/satellite_37.372381_-121.864009.jpg\n",
      "Inferencing on: /content/House_price/satellite_images/SanJose/satellite_37.350506_-121.806227.jpg\n",
      "Saved predicted segmentation to: /content/SanJose/satellite_37.350506_-121.806227.jpg\n",
      "Inferencing on: /content/House_price/satellite_images/SanJose/satellite_37.252421_-121.822598.jpg\n",
      "Saved predicted segmentation to: /content/SanJose/satellite_37.252421_-121.822598.jpg\n",
      "Inferencing on: /content/House_price/satellite_images/SanJose/satellite_37.340292_-121.869168.jpg\n",
      "Saved predicted segmentation to: /content/SanJose/satellite_37.340292_-121.869168.jpg\n",
      "Inferencing on: /content/House_price/satellite_images/SanJose/satellite_37.313063_-121.841915.jpg\n",
      "Saved predicted segmentation to: /content/SanJose/satellite_37.313063_-121.841915.jpg\n",
      "Inferencing on: /content/House_price/satellite_images/SanJose/satellite_37.260985_-121.812496.jpg\n",
      "Saved predicted segmentation to: /content/SanJose/satellite_37.260985_-121.812496.jpg\n",
      "Inferencing on: /content/House_price/satellite_images/SanJose/satellite_37.237534_-121.812207.jpg\n",
      "Saved predicted segmentation to: /content/SanJose/satellite_37.237534_-121.812207.jpg\n",
      "Inferencing on: /content/House_price/satellite_images/SanJose/satellite_37.259893_-121.822421.jpg\n"
     ]
    },
    {
     "output_type": "stream",
     "name": "stderr",
     "text": [
      "Processing Images:  56%|█████▌    | 1580/2837 [00:46<00:37, 33.80image/s]"
     ]
    },
    {
     "output_type": "stream",
     "name": "stdout",
     "text": [
      "Saved predicted segmentation to: /content/SanJose/satellite_37.259893_-121.822421.jpg\n",
      "Inferencing on: /content/House_price/satellite_images/SanJose/satellite_37.271381_-121.933742.jpg\n",
      "Saved predicted segmentation to: /content/SanJose/satellite_37.271381_-121.933742.jpg\n",
      "Inferencing on: /content/House_price/satellite_images/SanJose/satellite_37.33125_-121.791749.jpg\n",
      "Saved predicted segmentation to: /content/SanJose/satellite_37.33125_-121.791749.jpg\n",
      "Inferencing on: /content/House_price/satellite_images/SanJose/satellite_37.270942_-121.931425.jpg\n",
      "Saved predicted segmentation to: /content/SanJose/satellite_37.270942_-121.931425.jpg\n",
      "Inferencing on: /content/House_price/satellite_images/SanJose/satellite_37.224611_-121.783333.jpg\n",
      "Saved predicted segmentation to: /content/SanJose/satellite_37.224611_-121.783333.jpg\n",
      "Inferencing on: /content/House_price/satellite_images/SanJose/satellite_37.307024_-121.897474.jpg\n",
      "Saved predicted segmentation to: /content/SanJose/satellite_37.307024_-121.897474.jpg\n",
      "Inferencing on: /content/House_price/satellite_images/SanJose/satellite_37.353651_-121.876227.jpg\n",
      "Saved predicted segmentation to: /content/SanJose/satellite_37.353651_-121.876227.jpg\n",
      "Inferencing on: /content/House_price/satellite_images/SanJose/satellite_37.355214_-121.808185.jpg\n"
     ]
    },
    {
     "output_type": "stream",
     "name": "stderr",
     "text": [
      "Processing Images:  56%|█████▌    | 1588/2837 [00:46<00:36, 33.90image/s]"
     ]
    },
    {
     "output_type": "stream",
     "name": "stdout",
     "text": [
      "Saved predicted segmentation to: /content/SanJose/satellite_37.355214_-121.808185.jpg\n",
      "Inferencing on: /content/House_price/satellite_images/SanJose/satellite_37.353663_-121.862957.jpg\n",
      "Saved predicted segmentation to: /content/SanJose/satellite_37.353663_-121.862957.jpg\n",
      "Inferencing on: /content/House_price/satellite_images/SanJose/satellite_37.318027_-121.807152.jpg\n",
      "Saved predicted segmentation to: /content/SanJose/satellite_37.318027_-121.807152.jpg\n",
      "Inferencing on: /content/House_price/satellite_images/SanJose/satellite_37.25272_-121.888808.jpg\n",
      "Saved predicted segmentation to: /content/SanJose/satellite_37.25272_-121.888808.jpg\n",
      "Inferencing on: /content/House_price/satellite_images/SanJose/satellite_37.29461_-122.010055.jpg\n",
      "Saved predicted segmentation to: /content/SanJose/satellite_37.29461_-122.010055.jpg\n",
      "Inferencing on: /content/House_price/satellite_images/SanJose/satellite_37.253779_-121.837664.jpg\n",
      "Saved predicted segmentation to: /content/SanJose/satellite_37.253779_-121.837664.jpg\n",
      "Inferencing on: /content/House_price/satellite_images/SanJose/satellite_37.330347_-121.850412.jpg\n",
      "Saved predicted segmentation to: /content/SanJose/satellite_37.330347_-121.850412.jpg\n",
      "Inferencing on: /content/House_price/satellite_images/SanJose/satellite_37.228538_-121.814667.jpg\n"
     ]
    },
    {
     "output_type": "stream",
     "name": "stderr",
     "text": [
      "Processing Images:  56%|█████▋    | 1596/2837 [00:46<00:36, 33.79image/s]"
     ]
    },
    {
     "output_type": "stream",
     "name": "stdout",
     "text": [
      "Saved predicted segmentation to: /content/SanJose/satellite_37.228538_-121.814667.jpg\n",
      "Inferencing on: /content/House_price/satellite_images/SanJose/satellite_37.317467_-121.955513.jpg\n",
      "Saved predicted segmentation to: /content/SanJose/satellite_37.317467_-121.955513.jpg\n",
      "Inferencing on: /content/House_price/satellite_images/SanJose/satellite_37.286722_-121.803833.jpg\n",
      "Saved predicted segmentation to: /content/SanJose/satellite_37.286722_-121.803833.jpg\n",
      "Inferencing on: /content/House_price/satellite_images/SanJose/satellite_37.342443_-121.894435.jpg\n",
      "Saved predicted segmentation to: /content/SanJose/satellite_37.342443_-121.894435.jpg\n",
      "Inferencing on: /content/House_price/satellite_images/SanJose/satellite_37.241111_-121.789276.jpg\n",
      "Saved predicted segmentation to: /content/SanJose/satellite_37.241111_-121.789276.jpg\n",
      "Inferencing on: /content/House_price/satellite_images/SanJose/satellite_37.260843_-121.896167.jpg\n",
      "Saved predicted segmentation to: /content/SanJose/satellite_37.260843_-121.896167.jpg\n",
      "Inferencing on: /content/House_price/satellite_images/SanJose/satellite_37.273741_-121.817122.jpg\n",
      "Saved predicted segmentation to: /content/SanJose/satellite_37.273741_-121.817122.jpg\n",
      "Inferencing on: /content/House_price/satellite_images/SanJose/satellite_37.294633_-121.755721.jpg\n"
     ]
    },
    {
     "output_type": "stream",
     "name": "stderr",
     "text": [
      "\rProcessing Images:  56%|█████▋    | 1600/2837 [00:46<00:36, 33.78image/s]"
     ]
    },
    {
     "output_type": "stream",
     "name": "stdout",
     "text": [
      "Saved predicted segmentation to: /content/SanJose/satellite_37.294633_-121.755721.jpg\n",
      "Inferencing on: /content/House_price/satellite_images/SanJose/satellite_37.288944_-121.885756.jpg\n",
      "Saved predicted segmentation to: /content/SanJose/satellite_37.288944_-121.885756.jpg\n",
      "Inferencing on: /content/House_price/satellite_images/SanJose/satellite_37.408645_-121.836878.jpg\n",
      "Saved predicted segmentation to: /content/SanJose/satellite_37.408645_-121.836878.jpg\n",
      "Inferencing on: /content/House_price/satellite_images/SanJose/satellite_37.335263_-121.791202.jpg\n",
      "Saved predicted segmentation to: /content/SanJose/satellite_37.335263_-121.791202.jpg\n",
      "Inferencing on: /content/House_price/satellite_images/SanJose/satellite_37.258168_-121.918001.jpg\n",
      "Saved predicted segmentation to: /content/SanJose/satellite_37.258168_-121.918001.jpg\n",
      "Inferencing on: /content/House_price/satellite_images/SanJose/satellite_37.302862_-121.936595.jpg\n",
      "Saved predicted segmentation to: /content/SanJose/satellite_37.302862_-121.936595.jpg\n",
      "Inferencing on: /content/House_price/satellite_images/SanJose/satellite_37.245512_-121.943336.jpg\n",
      "Saved predicted segmentation to: /content/SanJose/satellite_37.245512_-121.943336.jpg\n",
      "Inferencing on: /content/House_price/satellite_images/SanJose/satellite_37.312268_-121.895874.jpg\n"
     ]
    },
    {
     "output_type": "stream",
     "name": "stderr",
     "text": [
      "Processing Images:  57%|█████▋    | 1608/2837 [00:47<00:36, 33.70image/s]"
     ]
    },
    {
     "output_type": "stream",
     "name": "stdout",
     "text": [
      "Saved predicted segmentation to: /content/SanJose/satellite_37.312268_-121.895874.jpg\n",
      "Inferencing on: /content/House_price/satellite_images/SanJose/satellite_37.264612_-121.861407.jpg\n",
      "Saved predicted segmentation to: /content/SanJose/satellite_37.264612_-121.861407.jpg\n",
      "Inferencing on: /content/House_price/satellite_images/SanJose/satellite_37.360966_-121.821572.jpg\n",
      "Saved predicted segmentation to: /content/SanJose/satellite_37.360966_-121.821572.jpg\n",
      "Inferencing on: /content/House_price/satellite_images/SanJose/satellite_37.344968_-121.869473.jpg\n",
      "Saved predicted segmentation to: /content/SanJose/satellite_37.344968_-121.869473.jpg\n",
      "Inferencing on: /content/House_price/satellite_images/SanJose/satellite_37.198773_-121.828755.jpg\n",
      "Saved predicted segmentation to: /content/SanJose/satellite_37.198773_-121.828755.jpg\n",
      "Inferencing on: /content/House_price/satellite_images/SanJose/satellite_37.411826_-121.87621.jpg\n",
      "Saved predicted segmentation to: /content/SanJose/satellite_37.411826_-121.87621.jpg\n",
      "Inferencing on: /content/House_price/satellite_images/SanJose/satellite_37.236333_-121.767221.jpg\n",
      "Saved predicted segmentation to: /content/SanJose/satellite_37.236333_-121.767221.jpg\n",
      "Inferencing on: /content/House_price/satellite_images/SanJose/satellite_37.315206_-121.907919.jpg\n"
     ]
    },
    {
     "output_type": "stream",
     "name": "stderr",
     "text": [
      "Processing Images:  57%|█████▋    | 1616/2837 [00:47<00:35, 33.97image/s]"
     ]
    },
    {
     "output_type": "stream",
     "name": "stdout",
     "text": [
      "Saved predicted segmentation to: /content/SanJose/satellite_37.315206_-121.907919.jpg\n",
      "Inferencing on: /content/House_price/satellite_images/SanJose/satellite_37.385191_-121.855434.jpg\n",
      "Saved predicted segmentation to: /content/SanJose/satellite_37.385191_-121.855434.jpg\n",
      "Inferencing on: /content/House_price/satellite_images/SanJose/satellite_37.357397_-121.81216.jpg\n",
      "Saved predicted segmentation to: /content/SanJose/satellite_37.357397_-121.81216.jpg\n",
      "Inferencing on: /content/House_price/satellite_images/SanJose/satellite_37.260032_-121.940153.jpg\n",
      "Saved predicted segmentation to: /content/SanJose/satellite_37.260032_-121.940153.jpg\n",
      "Inferencing on: /content/House_price/satellite_images/SanJose/satellite_37.313938_-121.891183.jpg\n",
      "Saved predicted segmentation to: /content/SanJose/satellite_37.313938_-121.891183.jpg\n",
      "Inferencing on: /content/House_price/satellite_images/SanJose/satellite_37.332262_-121.939821.jpg\n",
      "Saved predicted segmentation to: /content/SanJose/satellite_37.332262_-121.939821.jpg\n",
      "Inferencing on: /content/House_price/satellite_images/SanJose/satellite_37.321973_-121.881746.jpg\n",
      "Saved predicted segmentation to: /content/SanJose/satellite_37.321973_-121.881746.jpg\n",
      "Inferencing on: /content/House_price/satellite_images/SanJose/satellite_37.246677_-121.83201.jpg\n"
     ]
    },
    {
     "output_type": "stream",
     "name": "stderr",
     "text": [
      "Processing Images:  57%|█████▋    | 1624/2837 [00:47<00:35, 33.80image/s]"
     ]
    },
    {
     "output_type": "stream",
     "name": "stdout",
     "text": [
      "Saved predicted segmentation to: /content/SanJose/satellite_37.246677_-121.83201.jpg\n",
      "Inferencing on: /content/House_price/satellite_images/SanJose/satellite_37.246769_-121.809331.jpg\n",
      "Saved predicted segmentation to: /content/SanJose/satellite_37.246769_-121.809331.jpg\n",
      "Inferencing on: /content/House_price/satellite_images/SanJose/satellite_37.37332_-121.856441.jpg\n",
      "Saved predicted segmentation to: /content/SanJose/satellite_37.37332_-121.856441.jpg\n",
      "Inferencing on: /content/House_price/satellite_images/SanJose/satellite_37.350714_-121.857039.jpg\n",
      "Saved predicted segmentation to: /content/SanJose/satellite_37.350714_-121.857039.jpg\n",
      "Inferencing on: /content/House_price/satellite_images/SanJose/satellite_37.279854_-121.90926.jpg\n",
      "Saved predicted segmentation to: /content/SanJose/satellite_37.279854_-121.90926.jpg\n",
      "Inferencing on: /content/House_price/satellite_images/SanJose/satellite_37.2318_-121.823225.jpg\n",
      "Saved predicted segmentation to: /content/SanJose/satellite_37.2318_-121.823225.jpg\n",
      "Inferencing on: /content/House_price/satellite_images/SanJose/satellite_37.229082_-121.871937.jpg\n",
      "Saved predicted segmentation to: /content/SanJose/satellite_37.229082_-121.871937.jpg\n",
      "Inferencing on: /content/House_price/satellite_images/SanJose/satellite_37.357894_-121.851858.jpg\n"
     ]
    },
    {
     "output_type": "stream",
     "name": "stderr",
     "text": [
      "\rProcessing Images:  57%|█████▋    | 1628/2837 [00:47<00:35, 33.72image/s]"
     ]
    },
    {
     "output_type": "stream",
     "name": "stdout",
     "text": [
      "Saved predicted segmentation to: /content/SanJose/satellite_37.357894_-121.851858.jpg\n",
      "Inferencing on: /content/House_price/satellite_images/SanJose/satellite_37.328691_-121.897408.jpg\n",
      "Saved predicted segmentation to: /content/SanJose/satellite_37.328691_-121.897408.jpg\n",
      "Inferencing on: /content/House_price/satellite_images/SanJose/satellite_37.30683_-121.796017.jpg\n",
      "Saved predicted segmentation to: /content/SanJose/satellite_37.30683_-121.796017.jpg\n",
      "Inferencing on: /content/House_price/satellite_images/SanJose/satellite_37.230599_-121.90005.jpg\n",
      "Saved predicted segmentation to: /content/SanJose/satellite_37.230599_-121.90005.jpg\n",
      "Inferencing on: /content/House_price/satellite_images/SanJose/satellite_37.214613_-121.859986.jpg\n",
      "Saved predicted segmentation to: /content/SanJose/satellite_37.214613_-121.859986.jpg\n",
      "Inferencing on: /content/House_price/satellite_images/SanJose/satellite_37.381347_-121.865145.jpg\n",
      "Saved predicted segmentation to: /content/SanJose/satellite_37.381347_-121.865145.jpg\n",
      "Inferencing on: /content/House_price/satellite_images/SanJose/satellite_37.335549_-121.869799.jpg\n",
      "Saved predicted segmentation to: /content/SanJose/satellite_37.335549_-121.869799.jpg\n",
      "Inferencing on: /content/House_price/satellite_images/SanJose/satellite_37.227485_-121.796409.jpg\n"
     ]
    },
    {
     "output_type": "stream",
     "name": "stderr",
     "text": [
      "Processing Images:  58%|█████▊    | 1636/2837 [00:47<00:35, 33.65image/s]"
     ]
    },
    {
     "output_type": "stream",
     "name": "stdout",
     "text": [
      "Saved predicted segmentation to: /content/SanJose/satellite_37.227485_-121.796409.jpg\n",
      "Inferencing on: /content/House_price/satellite_images/SanJose/satellite_37.389643_-121.83268.jpg\n",
      "Saved predicted segmentation to: /content/SanJose/satellite_37.389643_-121.83268.jpg\n",
      "Inferencing on: /content/House_price/satellite_images/SanJose/satellite_37.319526_-121.812244.jpg\n",
      "Saved predicted segmentation to: /content/SanJose/satellite_37.319526_-121.812244.jpg\n",
      "Inferencing on: /content/House_price/satellite_images/SanJose/satellite_37.356227_-121.890869.jpg\n",
      "Saved predicted segmentation to: /content/SanJose/satellite_37.356227_-121.890869.jpg\n",
      "Inferencing on: /content/House_price/satellite_images/SanJose/satellite_37.337598_-121.935067.jpg\n",
      "Saved predicted segmentation to: /content/SanJose/satellite_37.337598_-121.935067.jpg\n",
      "Inferencing on: /content/House_price/satellite_images/SanJose/satellite_37.316186_-121.876418.jpg\n",
      "Saved predicted segmentation to: /content/SanJose/satellite_37.316186_-121.876418.jpg\n",
      "Inferencing on: /content/House_price/satellite_images/SanJose/satellite_37.335497_-121.796865.jpg\n",
      "Saved predicted segmentation to: /content/SanJose/satellite_37.335497_-121.796865.jpg\n",
      "Inferencing on: /content/House_price/satellite_images/SanJose/satellite_37.361029_-121.892729.jpg\n"
     ]
    },
    {
     "output_type": "stream",
     "name": "stderr",
     "text": [
      "Processing Images:  58%|█████▊    | 1644/2837 [00:48<00:35, 33.31image/s]"
     ]
    },
    {
     "output_type": "stream",
     "name": "stdout",
     "text": [
      "Saved predicted segmentation to: /content/SanJose/satellite_37.361029_-121.892729.jpg\n",
      "Inferencing on: /content/House_price/satellite_images/SanJose/satellite_37.36002_-121.837967.jpg\n",
      "Saved predicted segmentation to: /content/SanJose/satellite_37.36002_-121.837967.jpg\n",
      "Inferencing on: /content/House_price/satellite_images/SanJose/satellite_37.27586_-121.930584.jpg\n",
      "Saved predicted segmentation to: /content/SanJose/satellite_37.27586_-121.930584.jpg\n",
      "Inferencing on: /content/House_price/satellite_images/SanJose/satellite_37.300806_-121.919838.jpg\n",
      "Saved predicted segmentation to: /content/SanJose/satellite_37.300806_-121.919838.jpg\n",
      "Inferencing on: /content/House_price/satellite_images/SanJose/satellite_37.278984_-121.988429.jpg\n",
      "Saved predicted segmentation to: /content/SanJose/satellite_37.278984_-121.988429.jpg\n",
      "Inferencing on: /content/House_price/satellite_images/SanJose/satellite_37.245024_-121.86721.jpg\n",
      "Saved predicted segmentation to: /content/SanJose/satellite_37.245024_-121.86721.jpg\n",
      "Inferencing on: /content/House_price/satellite_images/SanJose/satellite_37.220218_-121.906664.jpg\n",
      "Saved predicted segmentation to: /content/SanJose/satellite_37.220218_-121.906664.jpg\n",
      "Inferencing on: /content/House_price/satellite_images/SanJose/satellite_37.415665_-121.945946.jpg\n"
     ]
    },
    {
     "output_type": "stream",
     "name": "stderr",
     "text": [
      "Processing Images:  58%|█████▊    | 1652/2837 [00:48<00:35, 33.45image/s]"
     ]
    },
    {
     "output_type": "stream",
     "name": "stdout",
     "text": [
      "Saved predicted segmentation to: /content/SanJose/satellite_37.415665_-121.945946.jpg\n",
      "Inferencing on: /content/House_price/satellite_images/SanJose/satellite_37.382328_-121.884806.jpg\n",
      "Saved predicted segmentation to: /content/SanJose/satellite_37.382328_-121.884806.jpg\n",
      "Inferencing on: /content/House_price/satellite_images/SanJose/satellite_37.322557_-121.928239.jpg\n",
      "Saved predicted segmentation to: /content/SanJose/satellite_37.322557_-121.928239.jpg\n",
      "Inferencing on: /content/House_price/satellite_images/SanJose/satellite_37.331407_-121.742556.jpg\n",
      "Saved predicted segmentation to: /content/SanJose/satellite_37.331407_-121.742556.jpg\n",
      "Inferencing on: /content/House_price/satellite_images/SanJose/satellite_37.344856_-121.891983.jpg\n",
      "Saved predicted segmentation to: /content/SanJose/satellite_37.344856_-121.891983.jpg\n",
      "Inferencing on: /content/House_price/satellite_images/SanJose/satellite_37.274195_-121.852732.jpg\n",
      "Saved predicted segmentation to: /content/SanJose/satellite_37.274195_-121.852732.jpg\n",
      "Inferencing on: /content/House_price/satellite_images/SanJose/satellite_37.317684_-121.926502.jpg\n",
      "Saved predicted segmentation to: /content/SanJose/satellite_37.317684_-121.926502.jpg\n",
      "Inferencing on: /content/House_price/satellite_images/SanJose/satellite_37.274328_-121.900067.jpg\n"
     ]
    },
    {
     "output_type": "stream",
     "name": "stderr",
     "text": [
      "\rProcessing Images:  58%|█████▊    | 1656/2837 [00:48<00:35, 33.63image/s]"
     ]
    },
    {
     "output_type": "stream",
     "name": "stdout",
     "text": [
      "Saved predicted segmentation to: /content/SanJose/satellite_37.274328_-121.900067.jpg\n",
      "Inferencing on: /content/House_price/satellite_images/SanJose/satellite_37.383299_-121.881631.jpg\n",
      "Saved predicted segmentation to: /content/SanJose/satellite_37.383299_-121.881631.jpg\n",
      "Inferencing on: /content/House_price/satellite_images/SanJose/satellite_37.387965_-121.877118.jpg\n",
      "Saved predicted segmentation to: /content/SanJose/satellite_37.387965_-121.877118.jpg\n",
      "Inferencing on: /content/House_price/satellite_images/SanJose/satellite_37.410656_-121.944977.jpg\n",
      "Saved predicted segmentation to: /content/SanJose/satellite_37.410656_-121.944977.jpg\n",
      "Inferencing on: /content/House_price/satellite_images/SanJose/satellite_37.334703_-121.941649.jpg\n",
      "Saved predicted segmentation to: /content/SanJose/satellite_37.334703_-121.941649.jpg\n",
      "Inferencing on: /content/House_price/satellite_images/SanJose/satellite_37.301373_-121.889811.jpg\n",
      "Saved predicted segmentation to: /content/SanJose/satellite_37.301373_-121.889811.jpg\n",
      "Inferencing on: /content/House_price/satellite_images/SanJose/satellite_37.337917_-121.946015.jpg\n",
      "Saved predicted segmentation to: /content/SanJose/satellite_37.337917_-121.946015.jpg\n",
      "Inferencing on: /content/House_price/satellite_images/SanJose/satellite_37.281628_-121.992726.jpg\n"
     ]
    },
    {
     "output_type": "stream",
     "name": "stderr",
     "text": [
      "Processing Images:  59%|█████▊    | 1664/2837 [00:48<00:34, 33.79image/s]"
     ]
    },
    {
     "output_type": "stream",
     "name": "stdout",
     "text": [
      "Saved predicted segmentation to: /content/SanJose/satellite_37.281628_-121.992726.jpg\n",
      "Inferencing on: /content/House_price/satellite_images/SanJose/satellite_37.303359_-121.842509.jpg\n",
      "Saved predicted segmentation to: /content/SanJose/satellite_37.303359_-121.842509.jpg\n",
      "Inferencing on: /content/House_price/satellite_images/SanJose/satellite_37.379675_-121.884216.jpg\n",
      "Saved predicted segmentation to: /content/SanJose/satellite_37.379675_-121.884216.jpg\n",
      "Inferencing on: /content/House_price/satellite_images/SanJose/satellite_37.3745_-121.849815.jpg\n",
      "Saved predicted segmentation to: /content/SanJose/satellite_37.3745_-121.849815.jpg\n",
      "Inferencing on: /content/House_price/satellite_images/SanJose/satellite_37.265837_-121.811885.jpg\n",
      "Saved predicted segmentation to: /content/SanJose/satellite_37.265837_-121.811885.jpg\n",
      "Inferencing on: /content/House_price/satellite_images/SanJose/satellite_37.357072_-121.88767.jpg\n",
      "Saved predicted segmentation to: /content/SanJose/satellite_37.357072_-121.88767.jpg\n",
      "Inferencing on: /content/House_price/satellite_images/SanJose/satellite_37.252391_-121.836975.jpg\n",
      "Saved predicted segmentation to: /content/SanJose/satellite_37.252391_-121.836975.jpg\n",
      "Inferencing on: /content/House_price/satellite_images/SanJose/satellite_37.236565_-121.898988.jpg\n"
     ]
    },
    {
     "output_type": "stream",
     "name": "stderr",
     "text": [
      "Processing Images:  59%|█████▉    | 1672/2837 [00:49<00:34, 34.03image/s]"
     ]
    },
    {
     "output_type": "stream",
     "name": "stdout",
     "text": [
      "Saved predicted segmentation to: /content/SanJose/satellite_37.236565_-121.898988.jpg\n",
      "Inferencing on: /content/House_price/satellite_images/SanJose/satellite_37.312531_-121.985076.jpg\n",
      "Saved predicted segmentation to: /content/SanJose/satellite_37.312531_-121.985076.jpg\n",
      "Inferencing on: /content/House_price/satellite_images/SanJose/satellite_37.408164_-121.88669.jpg\n",
      "Saved predicted segmentation to: /content/SanJose/satellite_37.408164_-121.88669.jpg\n",
      "Inferencing on: /content/House_price/satellite_images/SanJose/satellite_37.372589_-121.879991.jpg\n",
      "Saved predicted segmentation to: /content/SanJose/satellite_37.372589_-121.879991.jpg\n",
      "Inferencing on: /content/House_price/satellite_images/SanJose/satellite_37.25289_-121.824746.jpg\n",
      "Saved predicted segmentation to: /content/SanJose/satellite_37.25289_-121.824746.jpg\n",
      "Inferencing on: /content/House_price/satellite_images/SanJose/satellite_37.374838_-121.831021.jpg\n",
      "Saved predicted segmentation to: /content/SanJose/satellite_37.374838_-121.831021.jpg\n",
      "Inferencing on: /content/House_price/satellite_images/SanJose/satellite_37.244212_-121.765729.jpg\n",
      "Saved predicted segmentation to: /content/SanJose/satellite_37.244212_-121.765729.jpg\n",
      "Inferencing on: /content/House_price/satellite_images/SanJose/satellite_37.384349_-121.889865.jpg\n"
     ]
    },
    {
     "output_type": "stream",
     "name": "stderr",
     "text": [
      "Processing Images:  59%|█████▉    | 1680/2837 [00:49<00:34, 33.99image/s]"
     ]
    },
    {
     "output_type": "stream",
     "name": "stdout",
     "text": [
      "Saved predicted segmentation to: /content/SanJose/satellite_37.384349_-121.889865.jpg\n",
      "Inferencing on: /content/House_price/satellite_images/SanJose/satellite_37.358592_-121.882013.jpg\n",
      "Saved predicted segmentation to: /content/SanJose/satellite_37.358592_-121.882013.jpg\n",
      "Inferencing on: /content/House_price/satellite_images/SanJose/satellite_37.3091_-121.953059.jpg\n",
      "Saved predicted segmentation to: /content/SanJose/satellite_37.3091_-121.953059.jpg\n",
      "Inferencing on: /content/House_price/satellite_images/SanJose/satellite_37.289845_-121.893564.jpg\n",
      "Saved predicted segmentation to: /content/SanJose/satellite_37.289845_-121.893564.jpg\n",
      "Inferencing on: /content/House_price/satellite_images/SanJose/satellite_37.278229_-121.740556.jpg\n",
      "Saved predicted segmentation to: /content/SanJose/satellite_37.278229_-121.740556.jpg\n",
      "Inferencing on: /content/House_price/satellite_images/SanJose/satellite_37.257085_-121.878268.jpg\n",
      "Saved predicted segmentation to: /content/SanJose/satellite_37.257085_-121.878268.jpg\n",
      "Inferencing on: /content/House_price/satellite_images/SanJose/satellite_37.305745_-121.91325.jpg\n",
      "Saved predicted segmentation to: /content/SanJose/satellite_37.305745_-121.91325.jpg\n",
      "Inferencing on: /content/House_price/satellite_images/SanJose/satellite_37.317783_-121.955246.jpg\n"
     ]
    },
    {
     "output_type": "stream",
     "name": "stderr",
     "text": [
      "\rProcessing Images:  59%|█████▉    | 1684/2837 [00:49<00:33, 34.10image/s]"
     ]
    },
    {
     "output_type": "stream",
     "name": "stdout",
     "text": [
      "Saved predicted segmentation to: /content/SanJose/satellite_37.317783_-121.955246.jpg\n",
      "Inferencing on: /content/House_price/satellite_images/SanJose/satellite_37.241932_-121.787872.jpg\n",
      "Saved predicted segmentation to: /content/SanJose/satellite_37.241932_-121.787872.jpg\n",
      "Inferencing on: /content/House_price/satellite_images/SanJose/satellite_37.304932_-121.822122.jpg\n",
      "Saved predicted segmentation to: /content/SanJose/satellite_37.304932_-121.822122.jpg\n",
      "Inferencing on: /content/House_price/satellite_images/SanJose/satellite_37.243191_-121.859123.jpg\n",
      "Saved predicted segmentation to: /content/SanJose/satellite_37.243191_-121.859123.jpg\n",
      "Inferencing on: /content/House_price/satellite_images/SanJose/satellite_37.33801_-121.895472.jpg\n",
      "Saved predicted segmentation to: /content/SanJose/satellite_37.33801_-121.895472.jpg\n",
      "Inferencing on: /content/House_price/satellite_images/SanJose/satellite_37.23014_-121.877831.jpg\n",
      "Saved predicted segmentation to: /content/SanJose/satellite_37.23014_-121.877831.jpg\n",
      "Inferencing on: /content/House_price/satellite_images/SanJose/satellite_37.26698_-121.903913.jpg\n",
      "Saved predicted segmentation to: /content/SanJose/satellite_37.26698_-121.903913.jpg\n",
      "Inferencing on: /content/House_price/satellite_images/SanJose/satellite_37.268258_-121.902324.jpg\n"
     ]
    },
    {
     "output_type": "stream",
     "name": "stderr",
     "text": [
      "Processing Images:  60%|█████▉    | 1692/2837 [00:49<00:33, 34.32image/s]"
     ]
    },
    {
     "output_type": "stream",
     "name": "stdout",
     "text": [
      "Saved predicted segmentation to: /content/SanJose/satellite_37.268258_-121.902324.jpg\n",
      "Inferencing on: /content/House_price/satellite_images/SanJose/satellite_37.235751_-121.901076.jpg\n",
      "Saved predicted segmentation to: /content/SanJose/satellite_37.235751_-121.901076.jpg\n",
      "Inferencing on: /content/House_price/satellite_images/SanJose/satellite_37.293732_-121.879455.jpg\n",
      "Saved predicted segmentation to: /content/SanJose/satellite_37.293732_-121.879455.jpg\n",
      "Inferencing on: /content/House_price/satellite_images/SanJose/satellite_37.3727_-121.89138.jpg\n",
      "Saved predicted segmentation to: /content/SanJose/satellite_37.3727_-121.89138.jpg\n",
      "Inferencing on: /content/House_price/satellite_images/SanJose/satellite_37.330196_-121.846784.jpg\n",
      "Saved predicted segmentation to: /content/SanJose/satellite_37.330196_-121.846784.jpg\n",
      "Inferencing on: /content/House_price/satellite_images/SanJose/satellite_37.369436_-121.800689.jpg\n",
      "Saved predicted segmentation to: /content/SanJose/satellite_37.369436_-121.800689.jpg\n",
      "Inferencing on: /content/House_price/satellite_images/SanJose/satellite_37.203598_-121.839366.jpg\n",
      "Saved predicted segmentation to: /content/SanJose/satellite_37.203598_-121.839366.jpg\n",
      "Inferencing on: /content/House_price/satellite_images/SanJose/satellite_37.189184_-121.794016.jpg\n"
     ]
    },
    {
     "output_type": "stream",
     "name": "stderr",
     "text": [
      "Processing Images:  60%|█████▉    | 1700/2837 [00:49<00:33, 34.36image/s]"
     ]
    },
    {
     "output_type": "stream",
     "name": "stdout",
     "text": [
      "Saved predicted segmentation to: /content/SanJose/satellite_37.189184_-121.794016.jpg\n",
      "Inferencing on: /content/House_price/satellite_images/SanJose/satellite_37.21643_-121.864874.jpg\n",
      "Saved predicted segmentation to: /content/SanJose/satellite_37.21643_-121.864874.jpg\n",
      "Inferencing on: /content/House_price/satellite_images/SanJose/satellite_37.312884_-121.943222.jpg\n",
      "Saved predicted segmentation to: /content/SanJose/satellite_37.312884_-121.943222.jpg\n",
      "Inferencing on: /content/House_price/satellite_images/SanJose/satellite_37.34992_-121.884872.jpg\n",
      "Saved predicted segmentation to: /content/SanJose/satellite_37.34992_-121.884872.jpg\n",
      "Inferencing on: /content/House_price/satellite_images/SanJose/satellite_37.244533_-121.923331.jpg\n",
      "Saved predicted segmentation to: /content/SanJose/satellite_37.244533_-121.923331.jpg\n",
      "Inferencing on: /content/House_price/satellite_images/SanJose/satellite_37.315835_-121.772106.jpg\n",
      "Saved predicted segmentation to: /content/SanJose/satellite_37.315835_-121.772106.jpg\n",
      "Inferencing on: /content/House_price/satellite_images/SanJose/satellite_37.317231_-121.981807.jpg\n",
      "Saved predicted segmentation to: /content/SanJose/satellite_37.317231_-121.981807.jpg\n",
      "Inferencing on: /content/House_price/satellite_images/SanJose/satellite_37.392321_-121.851315.jpg\n"
     ]
    },
    {
     "output_type": "stream",
     "name": "stderr",
     "text": [
      "Processing Images:  60%|██████    | 1708/2837 [00:50<00:32, 34.34image/s]"
     ]
    },
    {
     "output_type": "stream",
     "name": "stdout",
     "text": [
      "Saved predicted segmentation to: /content/SanJose/satellite_37.392321_-121.851315.jpg\n",
      "Inferencing on: /content/House_price/satellite_images/SanJose/satellite_37.339115_-121.925922.jpg\n",
      "Saved predicted segmentation to: /content/SanJose/satellite_37.339115_-121.925922.jpg\n",
      "Inferencing on: /content/House_price/satellite_images/SanJose/satellite_37.333907_-121.919208.jpg\n",
      "Saved predicted segmentation to: /content/SanJose/satellite_37.333907_-121.919208.jpg\n",
      "Inferencing on: /content/House_price/satellite_images/SanJose/satellite_37.403758_-121.860257.jpg\n",
      "Saved predicted segmentation to: /content/SanJose/satellite_37.403758_-121.860257.jpg\n",
      "Inferencing on: /content/House_price/satellite_images/SanJose/satellite_37.290332_-121.759031.jpg\n",
      "Saved predicted segmentation to: /content/SanJose/satellite_37.290332_-121.759031.jpg\n",
      "Inferencing on: /content/House_price/satellite_images/SanJose/satellite_37.254673_-121.930316.jpg\n",
      "Saved predicted segmentation to: /content/SanJose/satellite_37.254673_-121.930316.jpg\n",
      "Inferencing on: /content/House_price/satellite_images/SanJose/satellite_37.326654_-121.87985.jpg\n",
      "Saved predicted segmentation to: /content/SanJose/satellite_37.326654_-121.87985.jpg\n",
      "Inferencing on: /content/House_price/satellite_images/SanJose/satellite_37.253242_-121.824185.jpg\n"
     ]
    },
    {
     "output_type": "stream",
     "name": "stderr",
     "text": [
      "\rProcessing Images:  60%|██████    | 1712/2837 [00:50<00:32, 34.21image/s]"
     ]
    },
    {
     "output_type": "stream",
     "name": "stdout",
     "text": [
      "Saved predicted segmentation to: /content/SanJose/satellite_37.253242_-121.824185.jpg\n",
      "Inferencing on: /content/House_price/satellite_images/SanJose/satellite_37.276871_-121.917954.jpg\n",
      "Saved predicted segmentation to: /content/SanJose/satellite_37.276871_-121.917954.jpg\n",
      "Inferencing on: /content/House_price/satellite_images/SanJose/satellite_37.281522_-121.860895.jpg\n",
      "Saved predicted segmentation to: /content/SanJose/satellite_37.281522_-121.860895.jpg\n",
      "Inferencing on: /content/House_price/satellite_images/SanJose/satellite_37.234393_-121.816512.jpg\n",
      "Saved predicted segmentation to: /content/SanJose/satellite_37.234393_-121.816512.jpg\n",
      "Inferencing on: /content/House_price/satellite_images/SanJose/satellite_37.225109_-121.887486.jpg\n",
      "Saved predicted segmentation to: /content/SanJose/satellite_37.225109_-121.887486.jpg\n",
      "Inferencing on: /content/House_price/satellite_images/SanJose/satellite_37.272487_-121.753191.jpg\n",
      "Saved predicted segmentation to: /content/SanJose/satellite_37.272487_-121.753191.jpg\n",
      "Inferencing on: /content/House_price/satellite_images/SanJose/satellite_37.276376_-121.759073.jpg\n",
      "Saved predicted segmentation to: /content/SanJose/satellite_37.276376_-121.759073.jpg\n",
      "Inferencing on: /content/House_price/satellite_images/SanJose/satellite_37.327205_-121.931607.jpg\n"
     ]
    },
    {
     "output_type": "stream",
     "name": "stderr",
     "text": [
      "Processing Images:  61%|██████    | 1720/2837 [00:50<00:32, 34.21image/s]"
     ]
    },
    {
     "output_type": "stream",
     "name": "stdout",
     "text": [
      "Saved predicted segmentation to: /content/SanJose/satellite_37.327205_-121.931607.jpg\n",
      "Inferencing on: /content/House_price/satellite_images/SanJose/satellite_37.320885_-121.886803.jpg\n",
      "Saved predicted segmentation to: /content/SanJose/satellite_37.320885_-121.886803.jpg\n",
      "Inferencing on: /content/House_price/satellite_images/SanJose/satellite_37.290657_-121.825383.jpg\n",
      "Saved predicted segmentation to: /content/SanJose/satellite_37.290657_-121.825383.jpg\n",
      "Inferencing on: /content/House_price/satellite_images/SanJose/satellite_37.282984_-121.906971.jpg\n",
      "Saved predicted segmentation to: /content/SanJose/satellite_37.282984_-121.906971.jpg\n",
      "Inferencing on: /content/House_price/satellite_images/SanJose/satellite_37.261225_-121.917312.jpg\n",
      "Saved predicted segmentation to: /content/SanJose/satellite_37.261225_-121.917312.jpg\n",
      "Inferencing on: /content/House_price/satellite_images/SanJose/satellite_37.32759_-121.826744.jpg\n",
      "Saved predicted segmentation to: /content/SanJose/satellite_37.32759_-121.826744.jpg\n",
      "Inferencing on: /content/House_price/satellite_images/SanJose/satellite_37.351485_-121.847374.jpg\n",
      "Saved predicted segmentation to: /content/SanJose/satellite_37.351485_-121.847374.jpg\n",
      "Inferencing on: /content/House_price/satellite_images/SanJose/satellite_37.3201_-121.902063.jpg\n"
     ]
    },
    {
     "output_type": "stream",
     "name": "stderr",
     "text": [
      "Processing Images:  61%|██████    | 1728/2837 [00:50<00:32, 34.26image/s]"
     ]
    },
    {
     "output_type": "stream",
     "name": "stdout",
     "text": [
      "Saved predicted segmentation to: /content/SanJose/satellite_37.3201_-121.902063.jpg\n",
      "Inferencing on: /content/House_price/satellite_images/SanJose/satellite_37.371552_-121.851533.jpg\n",
      "Saved predicted segmentation to: /content/SanJose/satellite_37.371552_-121.851533.jpg\n",
      "Inferencing on: /content/House_price/satellite_images/SanJose/satellite_37.390795_-121.902355.jpg\n",
      "Saved predicted segmentation to: /content/SanJose/satellite_37.390795_-121.902355.jpg\n",
      "Inferencing on: /content/House_price/satellite_images/SanJose/satellite_37.231262_-121.90019.jpg\n",
      "Saved predicted segmentation to: /content/SanJose/satellite_37.231262_-121.90019.jpg\n",
      "Inferencing on: /content/House_price/satellite_images/SanJose/satellite_37.252563_-121.910268.jpg\n",
      "Saved predicted segmentation to: /content/SanJose/satellite_37.252563_-121.910268.jpg\n",
      "Inferencing on: /content/House_price/satellite_images/SanJose/satellite_37.285359_-121.855772.jpg\n",
      "Saved predicted segmentation to: /content/SanJose/satellite_37.285359_-121.855772.jpg\n",
      "Inferencing on: /content/House_price/satellite_images/SanJose/satellite_37.329555_-121.904321.jpg\n",
      "Saved predicted segmentation to: /content/SanJose/satellite_37.329555_-121.904321.jpg\n",
      "Inferencing on: /content/House_price/satellite_images/SanJose/satellite_37.273655_-121.891868.jpg\n"
     ]
    },
    {
     "output_type": "stream",
     "name": "stderr",
     "text": [
      "Processing Images:  61%|██████    | 1736/2837 [00:50<00:32, 33.92image/s]"
     ]
    },
    {
     "output_type": "stream",
     "name": "stdout",
     "text": [
      "Saved predicted segmentation to: /content/SanJose/satellite_37.273655_-121.891868.jpg\n",
      "Inferencing on: /content/House_price/satellite_images/SanJose/satellite_37.363076_-121.824127.jpg\n",
      "Saved predicted segmentation to: /content/SanJose/satellite_37.363076_-121.824127.jpg\n",
      "Inferencing on: /content/House_price/satellite_images/SanJose/satellite_37.337295_-121.895657.jpg\n",
      "Saved predicted segmentation to: /content/SanJose/satellite_37.337295_-121.895657.jpg\n",
      "Inferencing on: /content/House_price/satellite_images/SanJose/satellite_37.330906_-121.943399.jpg\n",
      "Saved predicted segmentation to: /content/SanJose/satellite_37.330906_-121.943399.jpg\n",
      "Inferencing on: /content/House_price/satellite_images/SanJose/satellite_37.372266_-121.83486.jpg\n",
      "Saved predicted segmentation to: /content/SanJose/satellite_37.372266_-121.83486.jpg\n",
      "Inferencing on: /content/House_price/satellite_images/SanJose/satellite_37.320767_-121.93045.jpg\n",
      "Saved predicted segmentation to: /content/SanJose/satellite_37.320767_-121.93045.jpg\n",
      "Inferencing on: /content/House_price/satellite_images/SanJose/satellite_37.418629_-121.961861.jpg\n",
      "Saved predicted segmentation to: /content/SanJose/satellite_37.418629_-121.961861.jpg\n",
      "Inferencing on: /content/House_price/satellite_images/SanJose/satellite_37.299827_-121.778913.jpg\n"
     ]
    },
    {
     "output_type": "stream",
     "name": "stderr",
     "text": [
      "\rProcessing Images:  61%|██████▏   | 1740/2837 [00:51<00:32, 33.98image/s]"
     ]
    },
    {
     "output_type": "stream",
     "name": "stdout",
     "text": [
      "Saved predicted segmentation to: /content/SanJose/satellite_37.299827_-121.778913.jpg\n",
      "Inferencing on: /content/House_price/satellite_images/SanJose/satellite_37.391167_-121.871903.jpg\n",
      "Saved predicted segmentation to: /content/SanJose/satellite_37.391167_-121.871903.jpg\n",
      "Inferencing on: /content/House_price/satellite_images/SanJose/satellite_37.33109_-121.939709.jpg\n",
      "Saved predicted segmentation to: /content/SanJose/satellite_37.33109_-121.939709.jpg\n",
      "Inferencing on: /content/House_price/satellite_images/SanJose/satellite_37.312716_-121.88242.jpg\n",
      "Saved predicted segmentation to: /content/SanJose/satellite_37.312716_-121.88242.jpg\n",
      "Inferencing on: /content/House_price/satellite_images/SanJose/satellite_37.410684_-121.861509.jpg\n",
      "Saved predicted segmentation to: /content/SanJose/satellite_37.410684_-121.861509.jpg\n",
      "Inferencing on: /content/House_price/satellite_images/SanJose/satellite_37.344246_-121.900927.jpg\n",
      "Saved predicted segmentation to: /content/SanJose/satellite_37.344246_-121.900927.jpg\n",
      "Inferencing on: /content/House_price/satellite_images/SanJose/satellite_37.384792_-121.889816.jpg\n",
      "Saved predicted segmentation to: /content/SanJose/satellite_37.384792_-121.889816.jpg\n",
      "Inferencing on: /content/House_price/satellite_images/SanJose/satellite_37.251816_-121.943233.jpg\n"
     ]
    },
    {
     "output_type": "stream",
     "name": "stderr",
     "text": [
      "Processing Images:  62%|██████▏   | 1748/2837 [00:51<00:32, 33.94image/s]"
     ]
    },
    {
     "output_type": "stream",
     "name": "stdout",
     "text": [
      "Saved predicted segmentation to: /content/SanJose/satellite_37.251816_-121.943233.jpg\n",
      "Inferencing on: /content/House_price/satellite_images/SanJose/satellite_37.287516_-121.804629.jpg\n",
      "Saved predicted segmentation to: /content/SanJose/satellite_37.287516_-121.804629.jpg\n",
      "Inferencing on: /content/House_price/satellite_images/SanJose/satellite_37.279791_-121.985314.jpg\n",
      "Saved predicted segmentation to: /content/SanJose/satellite_37.279791_-121.985314.jpg\n",
      "Inferencing on: /content/House_price/satellite_images/SanJose/satellite_37.395229_-121.903992.jpg\n",
      "Saved predicted segmentation to: /content/SanJose/satellite_37.395229_-121.903992.jpg\n",
      "Inferencing on: /content/House_price/satellite_images/SanJose/satellite_37.29898_-122.015382.jpg\n",
      "Saved predicted segmentation to: /content/SanJose/satellite_37.29898_-122.015382.jpg\n",
      "Inferencing on: /content/House_price/satellite_images/SanJose/satellite_37.290809_-121.737027.jpg\n",
      "Saved predicted segmentation to: /content/SanJose/satellite_37.290809_-121.737027.jpg\n",
      "Inferencing on: /content/House_price/satellite_images/SanJose/satellite_37.348803_-121.929316.jpg\n",
      "Saved predicted segmentation to: /content/SanJose/satellite_37.348803_-121.929316.jpg\n",
      "Inferencing on: /content/House_price/satellite_images/SanJose/satellite_37.363188_-121.914104.jpg\n"
     ]
    },
    {
     "output_type": "stream",
     "name": "stderr",
     "text": [
      "Processing Images:  62%|██████▏   | 1756/2837 [00:51<00:31, 34.23image/s]"
     ]
    },
    {
     "output_type": "stream",
     "name": "stdout",
     "text": [
      "Saved predicted segmentation to: /content/SanJose/satellite_37.363188_-121.914104.jpg\n",
      "Inferencing on: /content/House_price/satellite_images/SanJose/satellite_37.230066_-121.87034.jpg\n",
      "Saved predicted segmentation to: /content/SanJose/satellite_37.230066_-121.87034.jpg\n",
      "Inferencing on: /content/House_price/satellite_images/SanJose/satellite_37.280533_-121.929335.jpg\n",
      "Saved predicted segmentation to: /content/SanJose/satellite_37.280533_-121.929335.jpg\n",
      "Inferencing on: /content/House_price/satellite_images/SanJose/satellite_37.244345_-121.913694.jpg\n",
      "Saved predicted segmentation to: /content/SanJose/satellite_37.244345_-121.913694.jpg\n",
      "Inferencing on: /content/House_price/satellite_images/SanJose/satellite_37.357285_-121.807048.jpg\n",
      "Saved predicted segmentation to: /content/SanJose/satellite_37.357285_-121.807048.jpg\n",
      "Inferencing on: /content/House_price/satellite_images/SanJose/satellite_37.242335_-121.789441.jpg\n",
      "Saved predicted segmentation to: /content/SanJose/satellite_37.242335_-121.789441.jpg\n",
      "Inferencing on: /content/House_price/satellite_images/SanJose/satellite_37.415501_-121.956791.jpg\n",
      "Saved predicted segmentation to: /content/SanJose/satellite_37.415501_-121.956791.jpg\n",
      "Inferencing on: /content/House_price/satellite_images/SanJose/satellite_37.300691_-121.898726.jpg\n"
     ]
    },
    {
     "output_type": "stream",
     "name": "stderr",
     "text": [
      "Processing Images:  62%|██████▏   | 1764/2837 [00:51<00:31, 34.14image/s]"
     ]
    },
    {
     "output_type": "stream",
     "name": "stdout",
     "text": [
      "Saved predicted segmentation to: /content/SanJose/satellite_37.300691_-121.898726.jpg\n",
      "Inferencing on: /content/House_price/satellite_images/SanJose/satellite_37.323921_-121.849215.jpg\n",
      "Saved predicted segmentation to: /content/SanJose/satellite_37.323921_-121.849215.jpg\n",
      "Inferencing on: /content/House_price/satellite_images/SanJose/satellite_37.321099_-121.924138.jpg\n",
      "Saved predicted segmentation to: /content/SanJose/satellite_37.321099_-121.924138.jpg\n",
      "Inferencing on: /content/House_price/satellite_images/SanJose/satellite_37.3092_-121.892108.jpg\n",
      "Saved predicted segmentation to: /content/SanJose/satellite_37.3092_-121.892108.jpg\n",
      "Inferencing on: /content/House_price/satellite_images/SanJose/satellite_37.238353_-121.830363.jpg\n",
      "Saved predicted segmentation to: /content/SanJose/satellite_37.238353_-121.830363.jpg\n",
      "Inferencing on: /content/House_price/satellite_images/SanJose/satellite_37.296472_-121.925958.jpg\n",
      "Saved predicted segmentation to: /content/SanJose/satellite_37.296472_-121.925958.jpg\n",
      "Inferencing on: /content/House_price/satellite_images/SanJose/satellite_37.262384_-121.92262.jpg\n",
      "Saved predicted segmentation to: /content/SanJose/satellite_37.262384_-121.92262.jpg\n",
      "Inferencing on: /content/House_price/satellite_images/SanJose/satellite_37.315479_-121.799167.jpg\n"
     ]
    },
    {
     "output_type": "stream",
     "name": "stderr",
     "text": [
      "\rProcessing Images:  62%|██████▏   | 1768/2837 [00:51<00:31, 33.47image/s]"
     ]
    },
    {
     "output_type": "stream",
     "name": "stdout",
     "text": [
      "Saved predicted segmentation to: /content/SanJose/satellite_37.315479_-121.799167.jpg\n",
      "Inferencing on: /content/House_price/satellite_images/SanJose/satellite_37.265958_-121.867905.jpg\n",
      "Saved predicted segmentation to: /content/SanJose/satellite_37.265958_-121.867905.jpg\n",
      "Inferencing on: /content/House_price/satellite_images/SanJose/satellite_37.317371_-121.953377.jpg\n",
      "Saved predicted segmentation to: /content/SanJose/satellite_37.317371_-121.953377.jpg\n",
      "Inferencing on: /content/House_price/satellite_images/SanJose/satellite_37.389246_-121.87863.jpg\n",
      "Saved predicted segmentation to: /content/SanJose/satellite_37.389246_-121.87863.jpg\n",
      "Inferencing on: /content/House_price/satellite_images/SanJose/satellite_37.395351_-121.905701.jpg\n",
      "Saved predicted segmentation to: /content/SanJose/satellite_37.395351_-121.905701.jpg\n",
      "Inferencing on: /content/House_price/satellite_images/SanJose/satellite_37.302017_-121.879951.jpg\n",
      "Saved predicted segmentation to: /content/SanJose/satellite_37.302017_-121.879951.jpg\n",
      "Inferencing on: /content/House_price/satellite_images/SanJose/satellite_37.262183_-121.899445.jpg\n",
      "Saved predicted segmentation to: /content/SanJose/satellite_37.262183_-121.899445.jpg\n",
      "Inferencing on: /content/House_price/satellite_images/SanJose/satellite_37.283978_-121.859038.jpg\n"
     ]
    },
    {
     "output_type": "stream",
     "name": "stderr",
     "text": [
      "Processing Images:  63%|██████▎   | 1776/2837 [00:52<00:34, 31.03image/s]"
     ]
    },
    {
     "output_type": "stream",
     "name": "stdout",
     "text": [
      "Saved predicted segmentation to: /content/SanJose/satellite_37.283978_-121.859038.jpg\n",
      "Inferencing on: /content/House_price/satellite_images/SanJose/satellite_37.334203_-121.797372.jpg\n",
      "Saved predicted segmentation to: /content/SanJose/satellite_37.334203_-121.797372.jpg\n",
      "Inferencing on: /content/House_price/satellite_images/SanJose/satellite_37.276895_-121.858244.jpg\n",
      "Saved predicted segmentation to: /content/SanJose/satellite_37.276895_-121.858244.jpg\n",
      "Inferencing on: /content/House_price/satellite_images/SanJose/satellite_37.329445_-121.81945.jpg\n",
      "Saved predicted segmentation to: /content/SanJose/satellite_37.329445_-121.81945.jpg\n",
      "Inferencing on: /content/House_price/satellite_images/SanJose/satellite_37.303213_-121.989705.jpg\n",
      "Saved predicted segmentation to: /content/SanJose/satellite_37.303213_-121.989705.jpg\n",
      "Inferencing on: /content/House_price/satellite_images/SanJose/satellite_37.314058_-121.903163.jpg\n",
      "Saved predicted segmentation to: /content/SanJose/satellite_37.314058_-121.903163.jpg\n",
      "Inferencing on: /content/House_price/satellite_images/SanJose/satellite_37.375826_-121.850211.jpg\n"
     ]
    },
    {
     "output_type": "stream",
     "name": "stderr",
     "text": [
      "Processing Images:  63%|██████▎   | 1784/2837 [00:52<00:32, 32.32image/s]"
     ]
    },
    {
     "output_type": "stream",
     "name": "stdout",
     "text": [
      "Saved predicted segmentation to: /content/SanJose/satellite_37.375826_-121.850211.jpg\n",
      "Inferencing on: /content/House_price/satellite_images/SanJose/satellite_37.268238_-121.938611.jpg\n",
      "Saved predicted segmentation to: /content/SanJose/satellite_37.268238_-121.938611.jpg\n",
      "Inferencing on: /content/House_price/satellite_images/SanJose/satellite_37.295549_-121.754957.jpg\n",
      "Saved predicted segmentation to: /content/SanJose/satellite_37.295549_-121.754957.jpg\n",
      "Inferencing on: /content/House_price/satellite_images/SanJose/satellite_37.373791_-121.849325.jpg\n",
      "Saved predicted segmentation to: /content/SanJose/satellite_37.373791_-121.849325.jpg\n",
      "Inferencing on: /content/House_price/satellite_images/SanJose/satellite_37.392025_-121.875933.jpg\n",
      "Saved predicted segmentation to: /content/SanJose/satellite_37.392025_-121.875933.jpg\n",
      "Inferencing on: /content/House_price/satellite_images/SanJose/satellite_37.234122_-121.789666.jpg\n",
      "Saved predicted segmentation to: /content/SanJose/satellite_37.234122_-121.789666.jpg\n",
      "Inferencing on: /content/House_price/satellite_images/SanJose/satellite_37.263408_-121.914967.jpg\n",
      "Saved predicted segmentation to: /content/SanJose/satellite_37.263408_-121.914967.jpg\n",
      "Inferencing on: /content/House_price/satellite_images/SanJose/satellite_37.284787_-121.750511.jpg\n"
     ]
    },
    {
     "output_type": "stream",
     "name": "stderr",
     "text": [
      "\rProcessing Images:  63%|██████▎   | 1788/2837 [00:52<00:31, 32.95image/s]"
     ]
    },
    {
     "output_type": "stream",
     "name": "stdout",
     "text": [
      "Saved predicted segmentation to: /content/SanJose/satellite_37.284787_-121.750511.jpg\n",
      "Inferencing on: /content/House_price/satellite_images/SanJose/satellite_37.297504_-121.933815.jpg\n",
      "Saved predicted segmentation to: /content/SanJose/satellite_37.297504_-121.933815.jpg\n",
      "Inferencing on: /content/House_price/satellite_images/SanJose/satellite_37.368341_-121.842962.jpg\n",
      "Saved predicted segmentation to: /content/SanJose/satellite_37.368341_-121.842962.jpg\n",
      "Inferencing on: /content/House_price/satellite_images/SanJose/satellite_37.238789_-121.821098.jpg\n",
      "Saved predicted segmentation to: /content/SanJose/satellite_37.238789_-121.821098.jpg\n",
      "Inferencing on: /content/House_price/satellite_images/SanJose/satellite_37.289263_-121.885465.jpg\n",
      "Saved predicted segmentation to: /content/SanJose/satellite_37.289263_-121.885465.jpg\n",
      "Inferencing on: /content/House_price/satellite_images/SanJose/satellite_37.374661_-121.849058.jpg\n",
      "Saved predicted segmentation to: /content/SanJose/satellite_37.374661_-121.849058.jpg\n",
      "Inferencing on: /content/House_price/satellite_images/SanJose/satellite_37.323861_-121.840784.jpg\n",
      "Saved predicted segmentation to: /content/SanJose/satellite_37.323861_-121.840784.jpg\n",
      "Inferencing on: /content/House_price/satellite_images/SanJose/satellite_37.397113_-121.90244.jpg\n"
     ]
    },
    {
     "output_type": "stream",
     "name": "stderr",
     "text": [
      "Processing Images:  63%|██████▎   | 1796/2837 [00:52<00:31, 33.55image/s]"
     ]
    },
    {
     "output_type": "stream",
     "name": "stdout",
     "text": [
      "Saved predicted segmentation to: /content/SanJose/satellite_37.397113_-121.90244.jpg\n",
      "Inferencing on: /content/House_price/satellite_images/SanJose/satellite_37.327455_-121.881646.jpg\n",
      "Saved predicted segmentation to: /content/SanJose/satellite_37.327455_-121.881646.jpg\n",
      "Inferencing on: /content/House_price/satellite_images/SanJose/satellite_37.313002_-121.985869.jpg\n",
      "Saved predicted segmentation to: /content/SanJose/satellite_37.313002_-121.985869.jpg\n",
      "Inferencing on: /content/House_price/satellite_images/SanJose/satellite_37.254265_-121.853284.jpg\n",
      "Saved predicted segmentation to: /content/SanJose/satellite_37.254265_-121.853284.jpg\n",
      "Inferencing on: /content/House_price/satellite_images/SanJose/satellite_37.248979_-121.904302.jpg\n",
      "Saved predicted segmentation to: /content/SanJose/satellite_37.248979_-121.904302.jpg\n",
      "Inferencing on: /content/House_price/satellite_images/SanJose/satellite_37.296328_-121.894539.jpg\n",
      "Saved predicted segmentation to: /content/SanJose/satellite_37.296328_-121.894539.jpg\n",
      "Inferencing on: /content/House_price/satellite_images/SanJose/satellite_37.228204_-121.779738.jpg\n",
      "Saved predicted segmentation to: /content/SanJose/satellite_37.228204_-121.779738.jpg\n",
      "Inferencing on: /content/House_price/satellite_images/SanJose/satellite_37.380232_-121.865381.jpg\n"
     ]
    },
    {
     "output_type": "stream",
     "name": "stderr",
     "text": [
      "Processing Images:  64%|██████▎   | 1804/2837 [00:52<00:30, 33.78image/s]"
     ]
    },
    {
     "output_type": "stream",
     "name": "stdout",
     "text": [
      "Saved predicted segmentation to: /content/SanJose/satellite_37.380232_-121.865381.jpg\n",
      "Inferencing on: /content/House_price/satellite_images/SanJose/satellite_37.336312_-121.828829.jpg\n",
      "Saved predicted segmentation to: /content/SanJose/satellite_37.336312_-121.828829.jpg\n",
      "Inferencing on: /content/House_price/satellite_images/SanJose/satellite_37.393351_-121.858552.jpg\n",
      "Saved predicted segmentation to: /content/SanJose/satellite_37.393351_-121.858552.jpg\n",
      "Inferencing on: /content/House_price/satellite_images/SanJose/satellite_37.342078_-121.820229.jpg\n",
      "Saved predicted segmentation to: /content/SanJose/satellite_37.342078_-121.820229.jpg\n",
      "Inferencing on: /content/House_price/satellite_images/SanJose/satellite_37.368631_-121.842091.jpg\n",
      "Saved predicted segmentation to: /content/SanJose/satellite_37.368631_-121.842091.jpg\n",
      "Inferencing on: /content/House_price/satellite_images/SanJose/satellite_37.289122_-121.912189.jpg\n",
      "Saved predicted segmentation to: /content/SanJose/satellite_37.289122_-121.912189.jpg\n",
      "Inferencing on: /content/House_price/satellite_images/SanJose/satellite_37.263025_-121.861466.jpg\n",
      "Saved predicted segmentation to: /content/SanJose/satellite_37.263025_-121.861466.jpg\n",
      "Inferencing on: /content/House_price/satellite_images/SanJose/satellite_37.236813_-121.770839.jpg\n"
     ]
    },
    {
     "output_type": "stream",
     "name": "stderr",
     "text": [
      "Processing Images:  64%|██████▍   | 1812/2837 [00:53<00:30, 33.76image/s]"
     ]
    },
    {
     "output_type": "stream",
     "name": "stdout",
     "text": [
      "Saved predicted segmentation to: /content/SanJose/satellite_37.236813_-121.770839.jpg\n",
      "Inferencing on: /content/House_price/satellite_images/SanJose/satellite_37.231309_-121.787742.jpg\n",
      "Saved predicted segmentation to: /content/SanJose/satellite_37.231309_-121.787742.jpg\n",
      "Inferencing on: /content/House_price/satellite_images/SanJose/satellite_37.240333_-121.785901.jpg\n",
      "Saved predicted segmentation to: /content/SanJose/satellite_37.240333_-121.785901.jpg\n",
      "Inferencing on: /content/House_price/satellite_images/SanJose/satellite_37.306107_-121.891687.jpg\n",
      "Saved predicted segmentation to: /content/SanJose/satellite_37.306107_-121.891687.jpg\n",
      "Inferencing on: /content/House_price/satellite_images/SanJose/satellite_37.350549_-121.800857.jpg\n",
      "Saved predicted segmentation to: /content/SanJose/satellite_37.350549_-121.800857.jpg\n",
      "Inferencing on: /content/House_price/satellite_images/SanJose/satellite_37.309149_-121.895856.jpg\n",
      "Saved predicted segmentation to: /content/SanJose/satellite_37.309149_-121.895856.jpg\n",
      "Inferencing on: /content/House_price/satellite_images/SanJose/satellite_37.389669_-121.858936.jpg\n",
      "Saved predicted segmentation to: /content/SanJose/satellite_37.389669_-121.858936.jpg\n",
      "Inferencing on: /content/House_price/satellite_images/SanJose/satellite_37.233671_-121.848041.jpg\n"
     ]
    },
    {
     "output_type": "stream",
     "name": "stderr",
     "text": [
      "\rProcessing Images:  64%|██████▍   | 1816/2837 [00:53<00:30, 33.82image/s]"
     ]
    },
    {
     "output_type": "stream",
     "name": "stdout",
     "text": [
      "Saved predicted segmentation to: /content/SanJose/satellite_37.233671_-121.848041.jpg\n",
      "Inferencing on: /content/House_price/satellite_images/SanJose/satellite_37.333527_-121.782847.jpg\n",
      "Saved predicted segmentation to: /content/SanJose/satellite_37.333527_-121.782847.jpg\n",
      "Inferencing on: /content/House_price/satellite_images/SanJose/satellite_37.301276_-121.930529.jpg\n",
      "Saved predicted segmentation to: /content/SanJose/satellite_37.301276_-121.930529.jpg\n",
      "Inferencing on: /content/House_price/satellite_images/SanJose/satellite_37.304379_-121.813286.jpg\n",
      "Saved predicted segmentation to: /content/SanJose/satellite_37.304379_-121.813286.jpg\n",
      "Inferencing on: /content/House_price/satellite_images/SanJose/satellite_37.226801_-121.799753.jpg\n",
      "Saved predicted segmentation to: /content/SanJose/satellite_37.226801_-121.799753.jpg\n",
      "Inferencing on: /content/House_price/satellite_images/SanJose/satellite_37.255192_-121.822348.jpg\n",
      "Saved predicted segmentation to: /content/SanJose/satellite_37.255192_-121.822348.jpg\n",
      "Inferencing on: /content/House_price/satellite_images/SanJose/satellite_37.344834_-121.836461.jpg\n",
      "Saved predicted segmentation to: /content/SanJose/satellite_37.344834_-121.836461.jpg\n",
      "Inferencing on: /content/House_price/satellite_images/SanJose/satellite_37.31191_-121.91882.jpg\n"
     ]
    },
    {
     "output_type": "stream",
     "name": "stderr",
     "text": [
      "Processing Images:  64%|██████▍   | 1824/2837 [00:53<00:29, 33.79image/s]"
     ]
    },
    {
     "output_type": "stream",
     "name": "stdout",
     "text": [
      "Saved predicted segmentation to: /content/SanJose/satellite_37.31191_-121.91882.jpg\n",
      "Inferencing on: /content/House_price/satellite_images/SanJose/satellite_37.416935_-121.960452.jpg\n",
      "Saved predicted segmentation to: /content/SanJose/satellite_37.416935_-121.960452.jpg\n",
      "Inferencing on: /content/House_price/satellite_images/SanJose/satellite_37.340564_-121.892972.jpg\n",
      "Saved predicted segmentation to: /content/SanJose/satellite_37.340564_-121.892972.jpg\n",
      "Inferencing on: /content/House_price/satellite_images/SanJose/satellite_37.354404_-121.7994.jpg\n",
      "Saved predicted segmentation to: /content/SanJose/satellite_37.354404_-121.7994.jpg\n",
      "Inferencing on: /content/House_price/satellite_images/SanJose/satellite_37.340789_-121.783948.jpg\n",
      "Saved predicted segmentation to: /content/SanJose/satellite_37.340789_-121.783948.jpg\n",
      "Inferencing on: /content/House_price/satellite_images/SanJose/satellite_37.290767_-121.895451.jpg\n",
      "Saved predicted segmentation to: /content/SanJose/satellite_37.290767_-121.895451.jpg\n",
      "Inferencing on: /content/House_price/satellite_images/SanJose/satellite_37.344964_-121.890201.jpg\n",
      "Saved predicted segmentation to: /content/SanJose/satellite_37.344964_-121.890201.jpg\n",
      "Inferencing on: /content/House_price/satellite_images/SanJose/satellite_37.380484_-121.895829.jpg\n"
     ]
    },
    {
     "output_type": "stream",
     "name": "stderr",
     "text": [
      "Processing Images:  65%|██████▍   | 1832/2837 [00:53<00:29, 33.58image/s]"
     ]
    },
    {
     "output_type": "stream",
     "name": "stdout",
     "text": [
      "Saved predicted segmentation to: /content/SanJose/satellite_37.380484_-121.895829.jpg\n",
      "Inferencing on: /content/House_price/satellite_images/SanJose/satellite_37.317779_-121.953816.jpg\n",
      "Saved predicted segmentation to: /content/SanJose/satellite_37.317779_-121.953816.jpg\n",
      "Inferencing on: /content/House_price/satellite_images/SanJose/satellite_37.298526_-122.017918.jpg\n",
      "Saved predicted segmentation to: /content/SanJose/satellite_37.298526_-122.017918.jpg\n",
      "Inferencing on: /content/House_price/satellite_images/SanJose/satellite_37.295766_-121.881626.jpg\n",
      "Saved predicted segmentation to: /content/SanJose/satellite_37.295766_-121.881626.jpg\n",
      "Inferencing on: /content/House_price/satellite_images/SanJose/satellite_37.381555_-121.865027.jpg\n",
      "Saved predicted segmentation to: /content/SanJose/satellite_37.381555_-121.865027.jpg\n",
      "Inferencing on: /content/House_price/satellite_images/SanJose/satellite_37.267223_-121.850206.jpg\n",
      "Saved predicted segmentation to: /content/SanJose/satellite_37.267223_-121.850206.jpg\n",
      "Inferencing on: /content/House_price/satellite_images/SanJose/satellite_37.380988_-121.885288.jpg\n",
      "Saved predicted segmentation to: /content/SanJose/satellite_37.380988_-121.885288.jpg\n",
      "Inferencing on: /content/House_price/satellite_images/SanJose/satellite_37.263384_-121.865553.jpg\n"
     ]
    },
    {
     "output_type": "stream",
     "name": "stderr",
     "text": [
      "Processing Images:  65%|██████▍   | 1840/2837 [00:54<00:29, 33.29image/s]"
     ]
    },
    {
     "output_type": "stream",
     "name": "stdout",
     "text": [
      "Saved predicted segmentation to: /content/SanJose/satellite_37.263384_-121.865553.jpg\n",
      "Inferencing on: /content/House_price/satellite_images/SanJose/satellite_37.232428_-121.763966.jpg\n",
      "Saved predicted segmentation to: /content/SanJose/satellite_37.232428_-121.763966.jpg\n",
      "Inferencing on: /content/House_price/satellite_images/SanJose/satellite_37.311109_-121.882377.jpg\n",
      "Saved predicted segmentation to: /content/SanJose/satellite_37.311109_-121.882377.jpg\n",
      "Inferencing on: /content/House_price/satellite_images/SanJose/satellite_37.341009_-121.825275.jpg\n",
      "Saved predicted segmentation to: /content/SanJose/satellite_37.341009_-121.825275.jpg\n",
      "Inferencing on: /content/House_price/satellite_images/SanJose/satellite_37.284193_-121.757415.jpg\n",
      "Saved predicted segmentation to: /content/SanJose/satellite_37.284193_-121.757415.jpg\n",
      "Inferencing on: /content/House_price/satellite_images/SanJose/satellite_37.368033_-121.848646.jpg\n",
      "Saved predicted segmentation to: /content/SanJose/satellite_37.368033_-121.848646.jpg\n",
      "Inferencing on: /content/House_price/satellite_images/SanJose/satellite_37.31031_-121.786049.jpg\n",
      "Saved predicted segmentation to: /content/SanJose/satellite_37.31031_-121.786049.jpg\n",
      "Inferencing on: /content/House_price/satellite_images/SanJose/satellite_37.287438_-121.889407.jpg\n"
     ]
    },
    {
     "output_type": "stream",
     "name": "stderr",
     "text": [
      "\rProcessing Images:  65%|██████▍   | 1844/2837 [00:54<00:29, 33.61image/s]"
     ]
    },
    {
     "output_type": "stream",
     "name": "stdout",
     "text": [
      "Saved predicted segmentation to: /content/SanJose/satellite_37.287438_-121.889407.jpg\n",
      "Inferencing on: /content/House_price/satellite_images/SanJose/satellite_37.372768_-121.867916.jpg\n",
      "Saved predicted segmentation to: /content/SanJose/satellite_37.372768_-121.867916.jpg\n",
      "Inferencing on: /content/House_price/satellite_images/SanJose/satellite_37.252781_-121.809303.jpg\n",
      "Saved predicted segmentation to: /content/SanJose/satellite_37.252781_-121.809303.jpg\n",
      "Inferencing on: /content/House_price/satellite_images/SanJose/satellite_37.238522_-121.893046.jpg\n",
      "Saved predicted segmentation to: /content/SanJose/satellite_37.238522_-121.893046.jpg\n",
      "Inferencing on: /content/House_price/satellite_images/SanJose/satellite_37.292719_-121.885485.jpg\n",
      "Saved predicted segmentation to: /content/SanJose/satellite_37.292719_-121.885485.jpg\n",
      "Inferencing on: /content/House_price/satellite_images/SanJose/satellite_37.366637_-121.842728.jpg\n",
      "Saved predicted segmentation to: /content/SanJose/satellite_37.366637_-121.842728.jpg\n",
      "Inferencing on: /content/House_price/satellite_images/SanJose/satellite_37.375634_-121.849991.jpg\n",
      "Saved predicted segmentation to: /content/SanJose/satellite_37.375634_-121.849991.jpg\n",
      "Inferencing on: /content/House_price/satellite_images/SanJose/satellite_37.26667_-121.837735.jpg\n"
     ]
    },
    {
     "output_type": "stream",
     "name": "stderr",
     "text": [
      "Processing Images:  65%|██████▌   | 1852/2837 [00:54<00:29, 33.60image/s]"
     ]
    },
    {
     "output_type": "stream",
     "name": "stdout",
     "text": [
      "Saved predicted segmentation to: /content/SanJose/satellite_37.26667_-121.837735.jpg\n",
      "Inferencing on: /content/House_price/satellite_images/SanJose/satellite_37.291494_-121.835696.jpg\n",
      "Saved predicted segmentation to: /content/SanJose/satellite_37.291494_-121.835696.jpg\n",
      "Inferencing on: /content/House_price/satellite_images/SanJose/satellite_37.330185_-121.787917.jpg\n",
      "Saved predicted segmentation to: /content/SanJose/satellite_37.330185_-121.787917.jpg\n",
      "Inferencing on: /content/House_price/satellite_images/SanJose/satellite_37.418535_-121.772096.jpg\n",
      "Saved predicted segmentation to: /content/SanJose/satellite_37.418535_-121.772096.jpg\n",
      "Inferencing on: /content/House_price/satellite_images/SanJose/satellite_37.334888_-121.887407.jpg\n",
      "Saved predicted segmentation to: /content/SanJose/satellite_37.334888_-121.887407.jpg\n",
      "Inferencing on: /content/House_price/satellite_images/SanJose/satellite_37.260468_-121.798423.jpg\n",
      "Saved predicted segmentation to: /content/SanJose/satellite_37.260468_-121.798423.jpg\n",
      "Inferencing on: /content/House_price/satellite_images/SanJose/satellite_37.31467_-121.803121.jpg\n",
      "Saved predicted segmentation to: /content/SanJose/satellite_37.31467_-121.803121.jpg\n",
      "Inferencing on: /content/House_price/satellite_images/SanJose/satellite_37.316793_-121.898667.jpg\n"
     ]
    },
    {
     "output_type": "stream",
     "name": "stderr",
     "text": [
      "Processing Images:  66%|██████▌   | 1860/2837 [00:54<00:28, 33.94image/s]"
     ]
    },
    {
     "output_type": "stream",
     "name": "stdout",
     "text": [
      "Saved predicted segmentation to: /content/SanJose/satellite_37.316793_-121.898667.jpg\n",
      "Inferencing on: /content/House_price/satellite_images/SanJose/satellite_37.247999_-121.835637.jpg\n",
      "Saved predicted segmentation to: /content/SanJose/satellite_37.247999_-121.835637.jpg\n",
      "Inferencing on: /content/House_price/satellite_images/SanJose/satellite_37.35162_-121.847466.jpg\n",
      "Saved predicted segmentation to: /content/SanJose/satellite_37.35162_-121.847466.jpg\n",
      "Inferencing on: /content/House_price/satellite_images/SanJose/satellite_37.301845_-121.880179.jpg\n",
      "Saved predicted segmentation to: /content/SanJose/satellite_37.301845_-121.880179.jpg\n",
      "Inferencing on: /content/House_price/satellite_images/SanJose/satellite_37.227053_-121.909346.jpg\n",
      "Saved predicted segmentation to: /content/SanJose/satellite_37.227053_-121.909346.jpg\n",
      "Inferencing on: /content/House_price/satellite_images/SanJose/satellite_37.348123_-121.846157.jpg\n",
      "Saved predicted segmentation to: /content/SanJose/satellite_37.348123_-121.846157.jpg\n",
      "Inferencing on: /content/House_price/satellite_images/SanJose/satellite_37.40182_-121.921869.jpg\n",
      "Saved predicted segmentation to: /content/SanJose/satellite_37.40182_-121.921869.jpg\n",
      "Inferencing on: /content/House_price/satellite_images/SanJose/satellite_37.227993_-121.773867.jpg\n"
     ]
    },
    {
     "output_type": "stream",
     "name": "stderr",
     "text": [
      "Processing Images:  66%|██████▌   | 1868/2837 [00:54<00:28, 34.29image/s]"
     ]
    },
    {
     "output_type": "stream",
     "name": "stdout",
     "text": [
      "Saved predicted segmentation to: /content/SanJose/satellite_37.227993_-121.773867.jpg\n",
      "Inferencing on: /content/House_price/satellite_images/SanJose/satellite_37.305878_-121.860153.jpg\n",
      "Saved predicted segmentation to: /content/SanJose/satellite_37.305878_-121.860153.jpg\n",
      "Inferencing on: /content/House_price/satellite_images/SanJose/satellite_37.292653_-121.912113.jpg\n",
      "Saved predicted segmentation to: /content/SanJose/satellite_37.292653_-121.912113.jpg\n",
      "Inferencing on: /content/House_price/satellite_images/SanJose/satellite_37.318841_-121.765218.jpg\n",
      "Saved predicted segmentation to: /content/SanJose/satellite_37.318841_-121.765218.jpg\n",
      "Inferencing on: /content/House_price/satellite_images/SanJose/satellite_37.300225_-121.869182.jpg\n",
      "Saved predicted segmentation to: /content/SanJose/satellite_37.300225_-121.869182.jpg\n",
      "Inferencing on: /content/House_price/satellite_images/SanJose/satellite_37.282885_-121.749365.jpg\n",
      "Saved predicted segmentation to: /content/SanJose/satellite_37.282885_-121.749365.jpg\n",
      "Inferencing on: /content/House_price/satellite_images/SanJose/satellite_37.301656_-121.969305.jpg\n",
      "Saved predicted segmentation to: /content/SanJose/satellite_37.301656_-121.969305.jpg\n",
      "Inferencing on: /content/House_price/satellite_images/SanJose/satellite_37.29654_-121.963783.jpg\n"
     ]
    },
    {
     "output_type": "stream",
     "name": "stderr",
     "text": [
      "\rProcessing Images:  66%|██████▌   | 1872/2837 [00:54<00:28, 34.33image/s]"
     ]
    },
    {
     "output_type": "stream",
     "name": "stdout",
     "text": [
      "Saved predicted segmentation to: /content/SanJose/satellite_37.29654_-121.963783.jpg\n",
      "Inferencing on: /content/House_price/satellite_images/SanJose/satellite_37.310285_-121.978306.jpg\n",
      "Saved predicted segmentation to: /content/SanJose/satellite_37.310285_-121.978306.jpg\n",
      "Inferencing on: /content/House_price/satellite_images/SanJose/satellite_37.293234_-121.856968.jpg\n",
      "Saved predicted segmentation to: /content/SanJose/satellite_37.293234_-121.856968.jpg\n",
      "Inferencing on: /content/House_price/satellite_images/SanJose/satellite_37.304408_-121.773593.jpg\n",
      "Saved predicted segmentation to: /content/SanJose/satellite_37.304408_-121.773593.jpg\n",
      "Inferencing on: /content/House_price/satellite_images/SanJose/satellite_37.242255_-121.818788.jpg\n",
      "Saved predicted segmentation to: /content/SanJose/satellite_37.242255_-121.818788.jpg\n",
      "Inferencing on: /content/House_price/satellite_images/SanJose/satellite_37.234691_-121.851377.jpg\n",
      "Saved predicted segmentation to: /content/SanJose/satellite_37.234691_-121.851377.jpg\n",
      "Inferencing on: /content/House_price/satellite_images/SanJose/satellite_37.382179_-121.859382.jpg\n",
      "Saved predicted segmentation to: /content/SanJose/satellite_37.382179_-121.859382.jpg\n",
      "Inferencing on: /content/House_price/satellite_images/SanJose/satellite_37.247231_-121.849855.jpg\n"
     ]
    },
    {
     "output_type": "stream",
     "name": "stderr",
     "text": [
      "Processing Images:  66%|██████▋   | 1880/2837 [00:55<00:27, 34.37image/s]"
     ]
    },
    {
     "output_type": "stream",
     "name": "stdout",
     "text": [
      "Saved predicted segmentation to: /content/SanJose/satellite_37.247231_-121.849855.jpg\n",
      "Inferencing on: /content/House_price/satellite_images/SanJose/satellite_37.235205_-121.766987.jpg\n",
      "Saved predicted segmentation to: /content/SanJose/satellite_37.235205_-121.766987.jpg\n",
      "Inferencing on: /content/House_price/satellite_images/SanJose/satellite_37.336667_-121.929257.jpg\n",
      "Saved predicted segmentation to: /content/SanJose/satellite_37.336667_-121.929257.jpg\n",
      "Inferencing on: /content/House_price/satellite_images/SanJose/satellite_37.257378_-121.87842.jpg\n",
      "Saved predicted segmentation to: /content/SanJose/satellite_37.257378_-121.87842.jpg\n",
      "Inferencing on: /content/House_price/satellite_images/SanJose/satellite_37.294485_-121.834789.jpg\n",
      "Saved predicted segmentation to: /content/SanJose/satellite_37.294485_-121.834789.jpg\n",
      "Inferencing on: /content/House_price/satellite_images/SanJose/satellite_37.244781_-121.892311.jpg\n",
      "Saved predicted segmentation to: /content/SanJose/satellite_37.244781_-121.892311.jpg\n",
      "Inferencing on: /content/House_price/satellite_images/SanJose/satellite_37.365466_-121.835857.jpg\n",
      "Saved predicted segmentation to: /content/SanJose/satellite_37.365466_-121.835857.jpg\n",
      "Inferencing on: /content/House_price/satellite_images/SanJose/satellite_37.308196_-121.898569.jpg\n"
     ]
    },
    {
     "output_type": "stream",
     "name": "stderr",
     "text": [
      "Processing Images:  67%|██████▋   | 1888/2837 [00:55<00:27, 34.28image/s]"
     ]
    },
    {
     "output_type": "stream",
     "name": "stdout",
     "text": [
      "Saved predicted segmentation to: /content/SanJose/satellite_37.308196_-121.898569.jpg\n",
      "Inferencing on: /content/House_price/satellite_images/SanJose/satellite_37.262776_-121.807733.jpg\n",
      "Saved predicted segmentation to: /content/SanJose/satellite_37.262776_-121.807733.jpg\n",
      "Inferencing on: /content/House_price/satellite_images/SanJose/satellite_37.288135_-121.74198.jpg\n",
      "Saved predicted segmentation to: /content/SanJose/satellite_37.288135_-121.74198.jpg\n",
      "Inferencing on: /content/House_price/satellite_images/SanJose/satellite_37.229309_-121.806827.jpg\n",
      "Saved predicted segmentation to: /content/SanJose/satellite_37.229309_-121.806827.jpg\n",
      "Inferencing on: /content/House_price/satellite_images/SanJose/satellite_37.317283_-121.877277.jpg\n",
      "Saved predicted segmentation to: /content/SanJose/satellite_37.317283_-121.877277.jpg\n",
      "Inferencing on: /content/House_price/satellite_images/SanJose/satellite_37.38448_-121.827192.jpg\n",
      "Saved predicted segmentation to: /content/SanJose/satellite_37.38448_-121.827192.jpg\n",
      "Inferencing on: /content/House_price/satellite_images/SanJose/satellite_37.282733_-121.855605.jpg\n",
      "Saved predicted segmentation to: /content/SanJose/satellite_37.282733_-121.855605.jpg\n",
      "Inferencing on: /content/House_price/satellite_images/SanJose/satellite_37.241212_-121.787077.jpg\n"
     ]
    },
    {
     "output_type": "stream",
     "name": "stderr",
     "text": [
      "Processing Images:  67%|██████▋   | 1896/2837 [00:55<00:27, 34.31image/s]"
     ]
    },
    {
     "output_type": "stream",
     "name": "stdout",
     "text": [
      "Saved predicted segmentation to: /content/SanJose/satellite_37.241212_-121.787077.jpg\n",
      "Inferencing on: /content/House_price/satellite_images/SanJose/satellite_37.373107_-121.815573.jpg\n",
      "Saved predicted segmentation to: /content/SanJose/satellite_37.373107_-121.815573.jpg\n",
      "Inferencing on: /content/House_price/satellite_images/SanJose/satellite_37.265944_-121.904143.jpg\n",
      "Saved predicted segmentation to: /content/SanJose/satellite_37.265944_-121.904143.jpg\n",
      "Inferencing on: /content/House_price/satellite_images/SanJose/satellite_37.28587_-121.748137.jpg\n",
      "Saved predicted segmentation to: /content/SanJose/satellite_37.28587_-121.748137.jpg\n",
      "Inferencing on: /content/House_price/satellite_images/SanJose/satellite_37.255526_-121.900476.jpg\n",
      "Saved predicted segmentation to: /content/SanJose/satellite_37.255526_-121.900476.jpg\n",
      "Inferencing on: /content/House_price/satellite_images/SanJose/satellite_37.259173_-121.900478.jpg\n",
      "Saved predicted segmentation to: /content/SanJose/satellite_37.259173_-121.900478.jpg\n",
      "Inferencing on: /content/House_price/satellite_images/SanJose/satellite_37.29541_-121.88841.jpg\n",
      "Saved predicted segmentation to: /content/SanJose/satellite_37.29541_-121.88841.jpg\n",
      "Inferencing on: /content/House_price/satellite_images/SanJose/satellite_37.287552_-121.842605.jpg\n"
     ]
    },
    {
     "output_type": "stream",
     "name": "stderr",
     "text": [
      "\rProcessing Images:  67%|██████▋   | 1900/2837 [00:55<00:27, 34.42image/s]"
     ]
    },
    {
     "output_type": "stream",
     "name": "stdout",
     "text": [
      "Saved predicted segmentation to: /content/SanJose/satellite_37.287552_-121.842605.jpg\n",
      "Inferencing on: /content/House_price/satellite_images/SanJose/satellite_37.410949_-121.849097.jpg\n",
      "Saved predicted segmentation to: /content/SanJose/satellite_37.410949_-121.849097.jpg\n",
      "Inferencing on: /content/House_price/satellite_images/SanJose/satellite_37.308525_-121.88669.jpg\n",
      "Saved predicted segmentation to: /content/SanJose/satellite_37.308525_-121.88669.jpg\n",
      "Inferencing on: /content/House_price/satellite_images/SanJose/satellite_37.324056_-121.802023.jpg\n",
      "Saved predicted segmentation to: /content/SanJose/satellite_37.324056_-121.802023.jpg\n",
      "Inferencing on: /content/House_price/satellite_images/SanJose/satellite_37.378952_-121.844752.jpg\n",
      "Saved predicted segmentation to: /content/SanJose/satellite_37.378952_-121.844752.jpg\n",
      "Inferencing on: /content/House_price/satellite_images/SanJose/satellite_37.298047_-121.952116.jpg\n",
      "Saved predicted segmentation to: /content/SanJose/satellite_37.298047_-121.952116.jpg\n",
      "Inferencing on: /content/House_price/satellite_images/SanJose/satellite_37.208933_-121.851519.jpg\n",
      "Saved predicted segmentation to: /content/SanJose/satellite_37.208933_-121.851519.jpg\n",
      "Inferencing on: /content/House_price/satellite_images/SanJose/satellite_37.382107_-121.859052.jpg\n"
     ]
    },
    {
     "output_type": "stream",
     "name": "stderr",
     "text": [
      "Processing Images:  67%|██████▋   | 1908/2837 [00:56<00:26, 34.50image/s]"
     ]
    },
    {
     "output_type": "stream",
     "name": "stdout",
     "text": [
      "Saved predicted segmentation to: /content/SanJose/satellite_37.382107_-121.859052.jpg\n",
      "Inferencing on: /content/House_price/satellite_images/SanJose/satellite_37.298091_-121.977031.jpg\n",
      "Saved predicted segmentation to: /content/SanJose/satellite_37.298091_-121.977031.jpg\n",
      "Inferencing on: /content/House_price/satellite_images/SanJose/satellite_37.334655_-121.789333.jpg\n",
      "Saved predicted segmentation to: /content/SanJose/satellite_37.334655_-121.789333.jpg\n",
      "Inferencing on: /content/House_price/satellite_images/SanJose/satellite_37.317245_-121.955505.jpg\n",
      "Saved predicted segmentation to: /content/SanJose/satellite_37.317245_-121.955505.jpg\n",
      "Inferencing on: /content/House_price/satellite_images/SanJose/satellite_37.336754_-121.792759.jpg\n",
      "Saved predicted segmentation to: /content/SanJose/satellite_37.336754_-121.792759.jpg\n",
      "Inferencing on: /content/House_price/satellite_images/SanJose/satellite_37.349688_-121.816354.jpg\n",
      "Saved predicted segmentation to: /content/SanJose/satellite_37.349688_-121.816354.jpg\n",
      "Inferencing on: /content/House_price/satellite_images/SanJose/satellite_37.294065_-121.978657.jpg\n",
      "Saved predicted segmentation to: /content/SanJose/satellite_37.294065_-121.978657.jpg\n",
      "Inferencing on: /content/House_price/satellite_images/SanJose/satellite_37.320403_-121.916418.jpg\n"
     ]
    },
    {
     "output_type": "stream",
     "name": "stderr",
     "text": [
      "Processing Images:  68%|██████▊   | 1916/2837 [00:56<00:26, 34.30image/s]"
     ]
    },
    {
     "output_type": "stream",
     "name": "stdout",
     "text": [
      "Saved predicted segmentation to: /content/SanJose/satellite_37.320403_-121.916418.jpg\n",
      "Inferencing on: /content/House_price/satellite_images/SanJose/satellite_37.251439_-121.937397.jpg\n",
      "Saved predicted segmentation to: /content/SanJose/satellite_37.251439_-121.937397.jpg\n",
      "Inferencing on: /content/House_price/satellite_images/SanJose/satellite_37.319962_-121.816439.jpg\n",
      "Saved predicted segmentation to: /content/SanJose/satellite_37.319962_-121.816439.jpg\n",
      "Inferencing on: /content/House_price/satellite_images/SanJose/satellite_37.37904_-121.896247.jpg\n",
      "Saved predicted segmentation to: /content/SanJose/satellite_37.37904_-121.896247.jpg\n",
      "Inferencing on: /content/House_price/satellite_images/SanJose/satellite_37.25819_-121.800585.jpg\n",
      "Saved predicted segmentation to: /content/SanJose/satellite_37.25819_-121.800585.jpg\n",
      "Inferencing on: /content/House_price/satellite_images/SanJose/satellite_37.308768_-122.002243.jpg\n",
      "Saved predicted segmentation to: /content/SanJose/satellite_37.308768_-122.002243.jpg\n",
      "Inferencing on: /content/House_price/satellite_images/SanJose/satellite_37.297089_-121.926854.jpg\n",
      "Saved predicted segmentation to: /content/SanJose/satellite_37.297089_-121.926854.jpg\n",
      "Inferencing on: /content/House_price/satellite_images/SanJose/satellite_37.356557_-121.85667.jpg\n"
     ]
    },
    {
     "output_type": "stream",
     "name": "stderr",
     "text": [
      "Processing Images:  68%|██████▊   | 1924/2837 [00:56<00:26, 34.41image/s]"
     ]
    },
    {
     "output_type": "stream",
     "name": "stdout",
     "text": [
      "Saved predicted segmentation to: /content/SanJose/satellite_37.356557_-121.85667.jpg\n",
      "Inferencing on: /content/House_price/satellite_images/SanJose/satellite_37.311448_-121.826694.jpg\n",
      "Saved predicted segmentation to: /content/SanJose/satellite_37.311448_-121.826694.jpg\n",
      "Inferencing on: /content/House_price/satellite_images/SanJose/satellite_37.216784_-121.865893.jpg\n",
      "Saved predicted segmentation to: /content/SanJose/satellite_37.216784_-121.865893.jpg\n",
      "Inferencing on: /content/House_price/satellite_images/SanJose/satellite_37.334427_-121.778602.jpg\n",
      "Saved predicted segmentation to: /content/SanJose/satellite_37.334427_-121.778602.jpg\n",
      "Inferencing on: /content/House_price/satellite_images/SanJose/satellite_37.41097_-121.861067.jpg\n",
      "Saved predicted segmentation to: /content/SanJose/satellite_37.41097_-121.861067.jpg\n",
      "Inferencing on: /content/House_price/satellite_images/SanJose/satellite_37.301953_-121.791743.jpg\n",
      "Saved predicted segmentation to: /content/SanJose/satellite_37.301953_-121.791743.jpg\n",
      "Inferencing on: /content/House_price/satellite_images/SanJose/satellite_37.319983_-121.912151.jpg\n",
      "Saved predicted segmentation to: /content/SanJose/satellite_37.319983_-121.912151.jpg\n",
      "Inferencing on: /content/House_price/satellite_images/SanJose/satellite_37.32074_-121.877228.jpg\n"
     ]
    },
    {
     "output_type": "stream",
     "name": "stderr",
     "text": [
      "Processing Images:  68%|██████▊   | 1932/2837 [00:56<00:26, 34.70image/s]"
     ]
    },
    {
     "output_type": "stream",
     "name": "stdout",
     "text": [
      "Saved predicted segmentation to: /content/SanJose/satellite_37.32074_-121.877228.jpg\n",
      "Inferencing on: /content/House_price/satellite_images/SanJose/satellite_37.315601_-121.837759.jpg\n",
      "Saved predicted segmentation to: /content/SanJose/satellite_37.315601_-121.837759.jpg\n",
      "Inferencing on: /content/House_price/satellite_images/SanJose/satellite_37.346823_-121.803492.jpg\n",
      "Saved predicted segmentation to: /content/SanJose/satellite_37.346823_-121.803492.jpg\n",
      "Inferencing on: /content/House_price/satellite_images/SanJose/satellite_37.244397_-121.797429.jpg\n",
      "Saved predicted segmentation to: /content/SanJose/satellite_37.244397_-121.797429.jpg\n",
      "Inferencing on: /content/House_price/satellite_images/SanJose/satellite_37.241559_-121.828576.jpg\n",
      "Saved predicted segmentation to: /content/SanJose/satellite_37.241559_-121.828576.jpg\n",
      "Inferencing on: /content/House_price/satellite_images/SanJose/satellite_37.283022_-121.83731.jpg\n",
      "Saved predicted segmentation to: /content/SanJose/satellite_37.283022_-121.83731.jpg\n",
      "Inferencing on: /content/House_price/satellite_images/SanJose/satellite_37.289243_-121.982423.jpg\n",
      "Saved predicted segmentation to: /content/SanJose/satellite_37.289243_-121.982423.jpg\n",
      "Inferencing on: /content/House_price/satellite_images/SanJose/satellite_37.23237_-121.806492.jpg\n",
      "Saved predicted segmentation to: /content/SanJose/satellite_37.23237_-121.806492.jpg\n",
      "Inferencing on: /content/House_price/satellite_images/SanJose/satellite_37.241542_-121.877264.jpg\n"
     ]
    },
    {
     "output_type": "stream",
     "name": "stderr",
     "text": [
      "\rProcessing Images:  68%|██████▊   | 1936/2837 [00:56<00:26, 34.60image/s]"
     ]
    },
    {
     "output_type": "stream",
     "name": "stdout",
     "text": [
      "Saved predicted segmentation to: /content/SanJose/satellite_37.241542_-121.877264.jpg\n",
      "Inferencing on: /content/House_price/satellite_images/SanJose/satellite_37.25662_-121.809065.jpg\n",
      "Saved predicted segmentation to: /content/SanJose/satellite_37.25662_-121.809065.jpg\n",
      "Inferencing on: /content/House_price/satellite_images/SanJose/satellite_37.23078_-121.888728.jpg\n",
      "Saved predicted segmentation to: /content/SanJose/satellite_37.23078_-121.888728.jpg\n",
      "Inferencing on: /content/House_price/satellite_images/SanJose/satellite_37.232363_-121.767283.jpg\n",
      "Saved predicted segmentation to: /content/SanJose/satellite_37.232363_-121.767283.jpg\n",
      "Inferencing on: /content/House_price/satellite_images/SanJose/satellite_37.305964_-121.939406.jpg\n",
      "Saved predicted segmentation to: /content/SanJose/satellite_37.305964_-121.939406.jpg\n",
      "Inferencing on: /content/House_price/satellite_images/SanJose/satellite_37.334042_-121.793897.jpg\n",
      "Saved predicted segmentation to: /content/SanJose/satellite_37.334042_-121.793897.jpg\n",
      "Inferencing on: /content/House_price/satellite_images/SanJose/satellite_37.361989_-121.825556.jpg\n",
      "Saved predicted segmentation to: /content/SanJose/satellite_37.361989_-121.825556.jpg\n",
      "Inferencing on: /content/House_price/satellite_images/SanJose/satellite_37.317856_-121.92197.jpg\n"
     ]
    },
    {
     "output_type": "stream",
     "name": "stderr",
     "text": [
      "Processing Images:  69%|██████▊   | 1944/2837 [00:57<00:25, 34.55image/s]"
     ]
    },
    {
     "output_type": "stream",
     "name": "stdout",
     "text": [
      "Saved predicted segmentation to: /content/SanJose/satellite_37.317856_-121.92197.jpg\n",
      "Inferencing on: /content/House_price/satellite_images/SanJose/satellite_37.299186_-121.95948.jpg\n",
      "Saved predicted segmentation to: /content/SanJose/satellite_37.299186_-121.95948.jpg\n",
      "Inferencing on: /content/House_price/satellite_images/SanJose/satellite_37.292663_-121.857964.jpg\n",
      "Saved predicted segmentation to: /content/SanJose/satellite_37.292663_-121.857964.jpg\n",
      "Inferencing on: /content/House_price/satellite_images/SanJose/satellite_37.353988_-121.802488.jpg\n",
      "Saved predicted segmentation to: /content/SanJose/satellite_37.353988_-121.802488.jpg\n",
      "Inferencing on: /content/House_price/satellite_images/SanJose/satellite_37.35904_-121.913447.jpg\n",
      "Saved predicted segmentation to: /content/SanJose/satellite_37.35904_-121.913447.jpg\n",
      "Inferencing on: /content/House_price/satellite_images/SanJose/satellite_37.277628_-121.883273.jpg\n",
      "Saved predicted segmentation to: /content/SanJose/satellite_37.277628_-121.883273.jpg\n",
      "Inferencing on: /content/House_price/satellite_images/SanJose/satellite_37.363648_-121.847662.jpg\n",
      "Saved predicted segmentation to: /content/SanJose/satellite_37.363648_-121.847662.jpg\n",
      "Inferencing on: /content/House_price/satellite_images/SanJose/satellite_37.329408_-121.922627.jpg\n"
     ]
    },
    {
     "output_type": "stream",
     "name": "stderr",
     "text": [
      "Processing Images:  69%|██████▉   | 1952/2837 [00:57<00:25, 34.54image/s]"
     ]
    },
    {
     "output_type": "stream",
     "name": "stdout",
     "text": [
      "Saved predicted segmentation to: /content/SanJose/satellite_37.329408_-121.922627.jpg\n",
      "Inferencing on: /content/House_price/satellite_images/SanJose/satellite_37.287107_-121.878079.jpg\n",
      "Saved predicted segmentation to: /content/SanJose/satellite_37.287107_-121.878079.jpg\n",
      "Inferencing on: /content/House_price/satellite_images/SanJose/satellite_37.409988_-121.861768.jpg\n",
      "Saved predicted segmentation to: /content/SanJose/satellite_37.409988_-121.861768.jpg\n",
      "Inferencing on: /content/House_price/satellite_images/SanJose/satellite_37.420329_-121.860387.jpg\n",
      "Saved predicted segmentation to: /content/SanJose/satellite_37.420329_-121.860387.jpg\n",
      "Inferencing on: /content/House_price/satellite_images/SanJose/satellite_37.288686_-121.742691.jpg\n",
      "Saved predicted segmentation to: /content/SanJose/satellite_37.288686_-121.742691.jpg\n",
      "Inferencing on: /content/House_price/satellite_images/SanJose/satellite_37.216556_-121.881116.jpg\n",
      "Saved predicted segmentation to: /content/SanJose/satellite_37.216556_-121.881116.jpg\n",
      "Inferencing on: /content/House_price/satellite_images/SanJose/satellite_37.242907_-121.818307.jpg\n",
      "Saved predicted segmentation to: /content/SanJose/satellite_37.242907_-121.818307.jpg\n",
      "Inferencing on: /content/House_price/satellite_images/SanJose/satellite_37.252581_-121.824299.jpg\n"
     ]
    },
    {
     "output_type": "stream",
     "name": "stderr",
     "text": [
      "Processing Images:  69%|██████▉   | 1960/2837 [00:57<00:25, 34.88image/s]"
     ]
    },
    {
     "output_type": "stream",
     "name": "stdout",
     "text": [
      "Saved predicted segmentation to: /content/SanJose/satellite_37.252581_-121.824299.jpg\n",
      "Inferencing on: /content/House_price/satellite_images/SanJose/satellite_37.320116_-121.913334.jpg\n",
      "Saved predicted segmentation to: /content/SanJose/satellite_37.320116_-121.913334.jpg\n",
      "Inferencing on: /content/House_price/satellite_images/SanJose/satellite_37.317524_-121.98562.jpg\n",
      "Saved predicted segmentation to: /content/SanJose/satellite_37.317524_-121.98562.jpg\n",
      "Inferencing on: /content/House_price/satellite_images/SanJose/satellite_37.309025_-121.756982.jpg\n",
      "Saved predicted segmentation to: /content/SanJose/satellite_37.309025_-121.756982.jpg\n",
      "Inferencing on: /content/House_price/satellite_images/SanJose/satellite_37.317371_-121.953362.jpg\n",
      "Saved predicted segmentation to: /content/SanJose/satellite_37.317371_-121.953362.jpg\n",
      "Inferencing on: /content/House_price/satellite_images/SanJose/satellite_37.222294_-121.781971.jpg\n",
      "Saved predicted segmentation to: /content/SanJose/satellite_37.222294_-121.781971.jpg\n",
      "Inferencing on: /content/House_price/satellite_images/SanJose/satellite_37.291722_-121.852888.jpg\n",
      "Saved predicted segmentation to: /content/SanJose/satellite_37.291722_-121.852888.jpg\n",
      "Inferencing on: /content/House_price/satellite_images/SanJose/satellite_37.251099_-121.9166.jpg\n",
      "Saved predicted segmentation to: /content/SanJose/satellite_37.251099_-121.9166.jpg\n",
      "Inferencing on: /content/House_price/satellite_images/SanJose/satellite_37.269587_-121.887766.jpg\n"
     ]
    },
    {
     "output_type": "stream",
     "name": "stderr",
     "text": [
      "Processing Images:  69%|██████▉   | 1968/2837 [00:57<00:24, 35.03image/s]"
     ]
    },
    {
     "output_type": "stream",
     "name": "stdout",
     "text": [
      "Saved predicted segmentation to: /content/SanJose/satellite_37.269587_-121.887766.jpg\n",
      "Inferencing on: /content/House_price/satellite_images/SanJose/satellite_37.286777_-121.842346.jpg\n",
      "Saved predicted segmentation to: /content/SanJose/satellite_37.286777_-121.842346.jpg\n",
      "Inferencing on: /content/House_price/satellite_images/SanJose/satellite_37.388913_-121.872096.jpg\n",
      "Saved predicted segmentation to: /content/SanJose/satellite_37.388913_-121.872096.jpg\n",
      "Inferencing on: /content/House_price/satellite_images/SanJose/satellite_37.201242_-121.857275.jpg\n",
      "Saved predicted segmentation to: /content/SanJose/satellite_37.201242_-121.857275.jpg\n",
      "Inferencing on: /content/House_price/satellite_images/SanJose/satellite_37.324293_-121.935632.jpg\n",
      "Saved predicted segmentation to: /content/SanJose/satellite_37.324293_-121.935632.jpg\n",
      "Inferencing on: /content/House_price/satellite_images/SanJose/satellite_37.243208_-121.775703.jpg\n",
      "Saved predicted segmentation to: /content/SanJose/satellite_37.243208_-121.775703.jpg\n",
      "Inferencing on: /content/House_price/satellite_images/SanJose/satellite_37.388841_-121.859226.jpg\n",
      "Saved predicted segmentation to: /content/SanJose/satellite_37.388841_-121.859226.jpg\n",
      "Inferencing on: /content/House_price/satellite_images/SanJose/satellite_37.29331_-121.886697.jpg\n",
      "Saved predicted segmentation to: /content/SanJose/satellite_37.29331_-121.886697.jpg\n",
      "Inferencing on: /content/House_price/satellite_images/SanJose/satellite_37.433396_-121.815784.jpg\n"
     ]
    },
    {
     "output_type": "stream",
     "name": "stderr",
     "text": [
      "Processing Images:  70%|██████▉   | 1976/2837 [00:57<00:24, 34.99image/s]"
     ]
    },
    {
     "output_type": "stream",
     "name": "stdout",
     "text": [
      "Saved predicted segmentation to: /content/SanJose/satellite_37.433396_-121.815784.jpg\n",
      "Inferencing on: /content/House_price/satellite_images/SanJose/satellite_37.23197_-121.84601.jpg\n",
      "Saved predicted segmentation to: /content/SanJose/satellite_37.23197_-121.84601.jpg\n",
      "Inferencing on: /content/House_price/satellite_images/SanJose/satellite_37.285977_-121.881871.jpg\n",
      "Saved predicted segmentation to: /content/SanJose/satellite_37.285977_-121.881871.jpg\n",
      "Inferencing on: /content/House_price/satellite_images/SanJose/satellite_37.312619_-121.971465.jpg\n",
      "Saved predicted segmentation to: /content/SanJose/satellite_37.312619_-121.971465.jpg\n",
      "Inferencing on: /content/House_price/satellite_images/SanJose/satellite_37.340871_-121.866869.jpg\n",
      "Saved predicted segmentation to: /content/SanJose/satellite_37.340871_-121.866869.jpg\n",
      "Inferencing on: /content/House_price/satellite_images/SanJose/satellite_37.330886_-121.932566.jpg\n",
      "Saved predicted segmentation to: /content/SanJose/satellite_37.330886_-121.932566.jpg\n",
      "Inferencing on: /content/House_price/satellite_images/SanJose/satellite_37.230785_-121.826238.jpg\n",
      "Saved predicted segmentation to: /content/SanJose/satellite_37.230785_-121.826238.jpg\n",
      "Inferencing on: /content/House_price/satellite_images/SanJose/satellite_37.405523_-121.86212.jpg\n"
     ]
    },
    {
     "output_type": "stream",
     "name": "stderr",
     "text": [
      "Processing Images:  70%|██████▉   | 1984/2837 [00:58<00:24, 34.94image/s]"
     ]
    },
    {
     "output_type": "stream",
     "name": "stdout",
     "text": [
      "Saved predicted segmentation to: /content/SanJose/satellite_37.405523_-121.86212.jpg\n",
      "Inferencing on: /content/House_price/satellite_images/SanJose/satellite_37.297327_-121.927411.jpg\n",
      "Saved predicted segmentation to: /content/SanJose/satellite_37.297327_-121.927411.jpg\n",
      "Inferencing on: /content/House_price/satellite_images/SanJose/satellite_37.236343_-121.840412.jpg\n",
      "Saved predicted segmentation to: /content/SanJose/satellite_37.236343_-121.840412.jpg\n",
      "Inferencing on: /content/House_price/satellite_images/SanJose/satellite_37.244625_-121.853351.jpg\n",
      "Saved predicted segmentation to: /content/SanJose/satellite_37.244625_-121.853351.jpg\n",
      "Inferencing on: /content/House_price/satellite_images/SanJose/satellite_37.198139_-121.828649.jpg\n",
      "Saved predicted segmentation to: /content/SanJose/satellite_37.198139_-121.828649.jpg\n",
      "Inferencing on: /content/House_price/satellite_images/SanJose/satellite_37.306963_-121.894477.jpg\n",
      "Saved predicted segmentation to: /content/SanJose/satellite_37.306963_-121.894477.jpg\n",
      "Inferencing on: /content/House_price/satellite_images/SanJose/satellite_37.358342_-121.823753.jpg\n",
      "Saved predicted segmentation to: /content/SanJose/satellite_37.358342_-121.823753.jpg\n",
      "Inferencing on: /content/House_price/satellite_images/SanJose/satellite_37.335492_-121.886276.jpg\n",
      "Saved predicted segmentation to: /content/SanJose/satellite_37.335492_-121.886276.jpg\n"
     ]
    },
    {
     "output_type": "stream",
     "name": "stderr",
     "text": [
      "Processing Images:  70%|███████   | 1992/2837 [00:58<00:24, 34.80image/s]"
     ]
    },
    {
     "output_type": "stream",
     "name": "stdout",
     "text": [
      "Inferencing on: /content/House_price/satellite_images/SanJose/satellite_37.364094_-121.913381.jpg\n",
      "Saved predicted segmentation to: /content/SanJose/satellite_37.364094_-121.913381.jpg\n",
      "Inferencing on: /content/House_price/satellite_images/SanJose/satellite_37.254345_-121.805855.jpg\n",
      "Saved predicted segmentation to: /content/SanJose/satellite_37.254345_-121.805855.jpg\n",
      "Inferencing on: /content/House_price/satellite_images/SanJose/satellite_37.270253_-121.80004.jpg\n",
      "Saved predicted segmentation to: /content/SanJose/satellite_37.270253_-121.80004.jpg\n",
      "Inferencing on: /content/House_price/satellite_images/SanJose/satellite_37.345006_-121.790395.jpg\n",
      "Saved predicted segmentation to: /content/SanJose/satellite_37.345006_-121.790395.jpg\n",
      "Inferencing on: /content/House_price/satellite_images/SanJose/satellite_37.225965_-121.869213.jpg\n",
      "Saved predicted segmentation to: /content/SanJose/satellite_37.225965_-121.869213.jpg\n",
      "Inferencing on: /content/House_price/satellite_images/SanJose/satellite_37.267662_-121.861595.jpg\n",
      "Saved predicted segmentation to: /content/SanJose/satellite_37.267662_-121.861595.jpg\n",
      "Inferencing on: /content/House_price/satellite_images/SanJose/satellite_37.280952_-121.856163.jpg\n",
      "Saved predicted segmentation to: /content/SanJose/satellite_37.280952_-121.856163.jpg\n",
      "Inferencing on: /content/House_price/satellite_images/SanJose/satellite_37.368868_-121.843833.jpg\n",
      "Saved predicted segmentation to: /content/SanJose/satellite_37.368868_-121.843833.jpg\n"
     ]
    },
    {
     "output_type": "stream",
     "name": "stderr",
     "text": [
      "\rProcessing Images:  70%|███████   | 1996/2837 [00:58<00:24, 34.68image/s]"
     ]
    },
    {
     "output_type": "stream",
     "name": "stdout",
     "text": [
      "Inferencing on: /content/House_price/satellite_images/SanJose/satellite_37.249323_-121.910801.jpg\n",
      "Saved predicted segmentation to: /content/SanJose/satellite_37.249323_-121.910801.jpg\n",
      "Inferencing on: /content/House_price/satellite_images/SanJose/satellite_37.31877_-121.887119.jpg\n",
      "Saved predicted segmentation to: /content/SanJose/satellite_37.31877_-121.887119.jpg\n",
      "Inferencing on: /content/House_price/satellite_images/SanJose/satellite_37.37634_-121.816213.jpg\n",
      "Saved predicted segmentation to: /content/SanJose/satellite_37.37634_-121.816213.jpg\n",
      "Inferencing on: /content/House_price/satellite_images/SanJose/satellite_37.322013_-121.958699.jpg\n",
      "Saved predicted segmentation to: /content/SanJose/satellite_37.322013_-121.958699.jpg\n",
      "Inferencing on: /content/House_price/satellite_images/SanJose/satellite_37.317676_-121.804582.jpg\n",
      "Saved predicted segmentation to: /content/SanJose/satellite_37.317676_-121.804582.jpg\n",
      "Inferencing on: /content/House_price/satellite_images/SanJose/satellite_37.260717_-121.82949.jpg\n",
      "Saved predicted segmentation to: /content/SanJose/satellite_37.260717_-121.82949.jpg\n",
      "Inferencing on: /content/House_price/satellite_images/SanJose/satellite_37.254397_-121.824624.jpg\n",
      "Saved predicted segmentation to: /content/SanJose/satellite_37.254397_-121.824624.jpg\n",
      "Inferencing on: /content/House_price/satellite_images/SanJose/satellite_37.364034_-121.913326.jpg\n"
     ]
    },
    {
     "output_type": "stream",
     "name": "stderr",
     "text": [
      "Processing Images:  71%|███████   | 2004/2837 [00:58<00:23, 34.75image/s]"
     ]
    },
    {
     "output_type": "stream",
     "name": "stdout",
     "text": [
      "Saved predicted segmentation to: /content/SanJose/satellite_37.364034_-121.913326.jpg\n",
      "Inferencing on: /content/House_price/satellite_images/SanJose/satellite_37.35679_-121.838021.jpg\n",
      "Saved predicted segmentation to: /content/SanJose/satellite_37.35679_-121.838021.jpg\n",
      "Inferencing on: /content/House_price/satellite_images/SanJose/satellite_37.335648_-121.930391.jpg\n",
      "Saved predicted segmentation to: /content/SanJose/satellite_37.335648_-121.930391.jpg\n",
      "Inferencing on: /content/House_price/satellite_images/SanJose/satellite_37.305024_-121.952398.jpg\n",
      "Saved predicted segmentation to: /content/SanJose/satellite_37.305024_-121.952398.jpg\n",
      "Inferencing on: /content/House_price/satellite_images/SanJose/satellite_37.226968_-121.772614.jpg\n",
      "Saved predicted segmentation to: /content/SanJose/satellite_37.226968_-121.772614.jpg\n",
      "Inferencing on: /content/House_price/satellite_images/SanJose/satellite_37.282497_-121.898279.jpg\n",
      "Saved predicted segmentation to: /content/SanJose/satellite_37.282497_-121.898279.jpg\n",
      "Inferencing on: /content/House_price/satellite_images/SanJose/satellite_37.29491_-121.994197.jpg\n",
      "Saved predicted segmentation to: /content/SanJose/satellite_37.29491_-121.994197.jpg\n",
      "Inferencing on: /content/House_price/satellite_images/SanJose/satellite_37.315063_-121.947314.jpg\n"
     ]
    },
    {
     "output_type": "stream",
     "name": "stderr",
     "text": [
      "Processing Images:  71%|███████   | 2012/2837 [00:59<00:23, 35.01image/s]"
     ]
    },
    {
     "output_type": "stream",
     "name": "stdout",
     "text": [
      "Saved predicted segmentation to: /content/SanJose/satellite_37.315063_-121.947314.jpg\n",
      "Inferencing on: /content/House_price/satellite_images/SanJose/satellite_37.243487_-121.868526.jpg\n",
      "Saved predicted segmentation to: /content/SanJose/satellite_37.243487_-121.868526.jpg\n",
      "Inferencing on: /content/House_price/satellite_images/SanJose/satellite_37.317261_-121.955254.jpg\n",
      "Saved predicted segmentation to: /content/SanJose/satellite_37.317261_-121.955254.jpg\n",
      "Inferencing on: /content/House_price/satellite_images/SanJose/satellite_37.317806_-121.955521.jpg\n",
      "Saved predicted segmentation to: /content/SanJose/satellite_37.317806_-121.955521.jpg\n",
      "Inferencing on: /content/House_price/satellite_images/SanJose/satellite_37.384597_-121.889568.jpg\n",
      "Saved predicted segmentation to: /content/SanJose/satellite_37.384597_-121.889568.jpg\n",
      "Inferencing on: /content/House_price/satellite_images/SanJose/satellite_37.310516_-121.962379.jpg\n",
      "Saved predicted segmentation to: /content/SanJose/satellite_37.310516_-121.962379.jpg\n",
      "Inferencing on: /content/House_price/satellite_images/SanJose/satellite_37.258574_-121.824337.jpg\n",
      "Saved predicted segmentation to: /content/SanJose/satellite_37.258574_-121.824337.jpg\n",
      "Inferencing on: /content/House_price/satellite_images/SanJose/satellite_37.298434_-121.773895.jpg\n",
      "Saved predicted segmentation to: /content/SanJose/satellite_37.298434_-121.773895.jpg\n",
      "Inferencing on: /content/House_price/satellite_images/SanJose/satellite_37.32347_-121.886008.jpg\n"
     ]
    },
    {
     "output_type": "stream",
     "name": "stderr",
     "text": [
      "Processing Images:  71%|███████   | 2020/2837 [00:59<00:23, 35.02image/s]"
     ]
    },
    {
     "output_type": "stream",
     "name": "stdout",
     "text": [
      "Saved predicted segmentation to: /content/SanJose/satellite_37.32347_-121.886008.jpg\n",
      "Inferencing on: /content/House_price/satellite_images/SanJose/satellite_37.237815_-121.920219.jpg\n",
      "Saved predicted segmentation to: /content/SanJose/satellite_37.237815_-121.920219.jpg\n",
      "Inferencing on: /content/House_price/satellite_images/SanJose/satellite_37.255187_-121.822934.jpg\n",
      "Saved predicted segmentation to: /content/SanJose/satellite_37.255187_-121.822934.jpg\n",
      "Inferencing on: /content/House_price/satellite_images/SanJose/satellite_37.253321_-121.851231.jpg\n",
      "Saved predicted segmentation to: /content/SanJose/satellite_37.253321_-121.851231.jpg\n",
      "Inferencing on: /content/House_price/satellite_images/SanJose/satellite_37.257766_-121.895569.jpg\n",
      "Saved predicted segmentation to: /content/SanJose/satellite_37.257766_-121.895569.jpg\n",
      "Inferencing on: /content/House_price/satellite_images/SanJose/satellite_37.287866_-121.891925.jpg\n",
      "Saved predicted segmentation to: /content/SanJose/satellite_37.287866_-121.891925.jpg\n",
      "Inferencing on: /content/House_price/satellite_images/SanJose/satellite_37.241488_-121.834152.jpg\n",
      "Saved predicted segmentation to: /content/SanJose/satellite_37.241488_-121.834152.jpg\n",
      "Inferencing on: /content/House_price/satellite_images/SanJose/satellite_37.202866_-121.842682.jpg\n"
     ]
    },
    {
     "output_type": "stream",
     "name": "stderr",
     "text": [
      "Processing Images:  71%|███████▏  | 2028/2837 [00:59<00:23, 34.81image/s]"
     ]
    },
    {
     "output_type": "stream",
     "name": "stdout",
     "text": [
      "Saved predicted segmentation to: /content/SanJose/satellite_37.202866_-121.842682.jpg\n",
      "Inferencing on: /content/House_price/satellite_images/SanJose/satellite_37.352988_-121.832179.jpg\n",
      "Saved predicted segmentation to: /content/SanJose/satellite_37.352988_-121.832179.jpg\n",
      "Inferencing on: /content/House_price/satellite_images/SanJose/satellite_37.284416_-121.889684.jpg\n",
      "Saved predicted segmentation to: /content/SanJose/satellite_37.284416_-121.889684.jpg\n",
      "Inferencing on: /content/House_price/satellite_images/SanJose/satellite_37.279064_-121.889603.jpg\n",
      "Saved predicted segmentation to: /content/SanJose/satellite_37.279064_-121.889603.jpg\n",
      "Inferencing on: /content/House_price/satellite_images/SanJose/satellite_37.224301_-121.776473.jpg\n",
      "Saved predicted segmentation to: /content/SanJose/satellite_37.224301_-121.776473.jpg\n",
      "Inferencing on: /content/House_price/satellite_images/SanJose/satellite_37.317291_-121.955254.jpg\n",
      "Saved predicted segmentation to: /content/SanJose/satellite_37.317291_-121.955254.jpg\n",
      "Inferencing on: /content/House_price/satellite_images/SanJose/satellite_37.375134_-121.775833.jpg\n",
      "Saved predicted segmentation to: /content/SanJose/satellite_37.375134_-121.775833.jpg\n",
      "Inferencing on: /content/House_price/satellite_images/SanJose/satellite_37.300833_-121.98239.jpg\n"
     ]
    },
    {
     "output_type": "stream",
     "name": "stderr",
     "text": [
      "Processing Images:  72%|███████▏  | 2036/2837 [00:59<00:22, 34.94image/s]"
     ]
    },
    {
     "output_type": "stream",
     "name": "stdout",
     "text": [
      "Saved predicted segmentation to: /content/SanJose/satellite_37.300833_-121.98239.jpg\n",
      "Inferencing on: /content/House_price/satellite_images/SanJose/satellite_37.257335_-121.94665.jpg\n",
      "Saved predicted segmentation to: /content/SanJose/satellite_37.257335_-121.94665.jpg\n",
      "Inferencing on: /content/House_price/satellite_images/SanJose/satellite_37.2223_-121.765244.jpg\n",
      "Saved predicted segmentation to: /content/SanJose/satellite_37.2223_-121.765244.jpg\n",
      "Inferencing on: /content/House_price/satellite_images/SanJose/satellite_37.283589_-121.834801.jpg\n",
      "Saved predicted segmentation to: /content/SanJose/satellite_37.283589_-121.834801.jpg\n",
      "Inferencing on: /content/House_price/satellite_images/SanJose/satellite_37.201169_-121.832703.jpg\n",
      "Saved predicted segmentation to: /content/SanJose/satellite_37.201169_-121.832703.jpg\n",
      "Inferencing on: /content/House_price/satellite_images/SanJose/satellite_37.332955_-121.879075.jpg\n",
      "Saved predicted segmentation to: /content/SanJose/satellite_37.332955_-121.879075.jpg\n",
      "Inferencing on: /content/House_price/satellite_images/SanJose/satellite_37.297446_-121.802977.jpg\n",
      "Saved predicted segmentation to: /content/SanJose/satellite_37.297446_-121.802977.jpg\n",
      "Inferencing on: /content/House_price/satellite_images/SanJose/satellite_37.300208_-121.8864.jpg\n",
      "Saved predicted segmentation to: /content/SanJose/satellite_37.300208_-121.8864.jpg\n",
      "Inferencing on: /content/House_price/satellite_images/SanJose/satellite_37.19578_-121.834719.jpg\n"
     ]
    },
    {
     "output_type": "stream",
     "name": "stderr",
     "text": [
      "\rProcessing Images:  72%|███████▏  | 2040/2837 [00:59<00:23, 34.55image/s]"
     ]
    },
    {
     "output_type": "stream",
     "name": "stdout",
     "text": [
      "Saved predicted segmentation to: /content/SanJose/satellite_37.19578_-121.834719.jpg\n",
      "Inferencing on: /content/House_price/satellite_images/SanJose/satellite_37.311377_-121.916079.jpg\n",
      "Saved predicted segmentation to: /content/SanJose/satellite_37.311377_-121.916079.jpg\n",
      "Inferencing on: /content/House_price/satellite_images/SanJose/satellite_37.421919_-121.859635.jpg\n",
      "Saved predicted segmentation to: /content/SanJose/satellite_37.421919_-121.859635.jpg\n",
      "Inferencing on: /content/House_price/satellite_images/SanJose/satellite_37.323793_-121.896232.jpg\n",
      "Saved predicted segmentation to: /content/SanJose/satellite_37.323793_-121.896232.jpg\n",
      "Inferencing on: /content/House_price/satellite_images/SanJose/satellite_37.31275_-121.824576.jpg\n",
      "Saved predicted segmentation to: /content/SanJose/satellite_37.31275_-121.824576.jpg\n",
      "Inferencing on: /content/House_price/satellite_images/SanJose/satellite_37.319225_-121.762111.jpg\n",
      "Saved predicted segmentation to: /content/SanJose/satellite_37.319225_-121.762111.jpg\n",
      "Inferencing on: /content/House_price/satellite_images/SanJose/satellite_37.384771_-121.808555.jpg\n",
      "Saved predicted segmentation to: /content/SanJose/satellite_37.384771_-121.808555.jpg\n",
      "Inferencing on: /content/House_price/satellite_images/SanJose/satellite_37.301915_-121.95424.jpg\n"
     ]
    },
    {
     "output_type": "stream",
     "name": "stderr",
     "text": [
      "Processing Images:  72%|███████▏  | 2048/2837 [01:00<00:22, 34.45image/s]"
     ]
    },
    {
     "output_type": "stream",
     "name": "stdout",
     "text": [
      "Saved predicted segmentation to: /content/SanJose/satellite_37.301915_-121.95424.jpg\n",
      "Inferencing on: /content/House_price/satellite_images/SanJose/satellite_37.310154_-121.906456.jpg\n",
      "Saved predicted segmentation to: /content/SanJose/satellite_37.310154_-121.906456.jpg\n",
      "Inferencing on: /content/House_price/satellite_images/SanJose/satellite_37.27427_-121.893267.jpg\n",
      "Saved predicted segmentation to: /content/SanJose/satellite_37.27427_-121.893267.jpg\n",
      "Inferencing on: /content/House_price/satellite_images/SanJose/satellite_37.306209_-122.023104.jpg\n",
      "Saved predicted segmentation to: /content/SanJose/satellite_37.306209_-122.023104.jpg\n",
      "Inferencing on: /content/House_price/satellite_images/SanJose/satellite_37.329023_-121.929339.jpg\n",
      "Saved predicted segmentation to: /content/SanJose/satellite_37.329023_-121.929339.jpg\n",
      "Inferencing on: /content/House_price/satellite_images/SanJose/satellite_37.393768_-121.902003.jpg\n",
      "Saved predicted segmentation to: /content/SanJose/satellite_37.393768_-121.902003.jpg\n",
      "Inferencing on: /content/House_price/satellite_images/SanJose/satellite_37.264146_-121.85193.jpg\n",
      "Saved predicted segmentation to: /content/SanJose/satellite_37.264146_-121.85193.jpg\n",
      "Inferencing on: /content/House_price/satellite_images/SanJose/satellite_37.249213_-121.767964.jpg\n"
     ]
    },
    {
     "output_type": "stream",
     "name": "stderr",
     "text": [
      "Processing Images:  72%|███████▏  | 2056/2837 [01:00<00:22, 34.64image/s]"
     ]
    },
    {
     "output_type": "stream",
     "name": "stdout",
     "text": [
      "Saved predicted segmentation to: /content/SanJose/satellite_37.249213_-121.767964.jpg\n",
      "Inferencing on: /content/House_price/satellite_images/SanJose/satellite_37.240433_-121.786103.jpg\n",
      "Saved predicted segmentation to: /content/SanJose/satellite_37.240433_-121.786103.jpg\n",
      "Inferencing on: /content/House_price/satellite_images/SanJose/satellite_37.352728_-121.872363.jpg\n",
      "Saved predicted segmentation to: /content/SanJose/satellite_37.352728_-121.872363.jpg\n",
      "Inferencing on: /content/House_price/satellite_images/SanJose/satellite_37.27916_-121.858886.jpg\n",
      "Saved predicted segmentation to: /content/SanJose/satellite_37.27916_-121.858886.jpg\n",
      "Inferencing on: /content/House_price/satellite_images/SanJose/satellite_37.240833_-121.816547.jpg\n",
      "Saved predicted segmentation to: /content/SanJose/satellite_37.240833_-121.816547.jpg\n",
      "Inferencing on: /content/House_price/satellite_images/SanJose/satellite_37.254617_-121.822169.jpg\n",
      "Saved predicted segmentation to: /content/SanJose/satellite_37.254617_-121.822169.jpg\n",
      "Inferencing on: /content/House_price/satellite_images/SanJose/satellite_37.33307_-121.800609.jpg\n",
      "Saved predicted segmentation to: /content/SanJose/satellite_37.33307_-121.800609.jpg\n",
      "Inferencing on: /content/House_price/satellite_images/SanJose/satellite_37.221653_-121.903866.jpg\n"
     ]
    },
    {
     "output_type": "stream",
     "name": "stderr",
     "text": [
      "Processing Images:  73%|███████▎  | 2064/2837 [01:00<00:22, 34.61image/s]"
     ]
    },
    {
     "output_type": "stream",
     "name": "stdout",
     "text": [
      "Saved predicted segmentation to: /content/SanJose/satellite_37.221653_-121.903866.jpg\n",
      "Inferencing on: /content/House_price/satellite_images/SanJose/satellite_37.313943_-121.960055.jpg\n",
      "Saved predicted segmentation to: /content/SanJose/satellite_37.313943_-121.960055.jpg\n",
      "Inferencing on: /content/House_price/satellite_images/SanJose/satellite_37.290149_-121.83316.jpg\n",
      "Saved predicted segmentation to: /content/SanJose/satellite_37.290149_-121.83316.jpg\n",
      "Inferencing on: /content/House_price/satellite_images/SanJose/satellite_37.30557_-121.980145.jpg\n",
      "Saved predicted segmentation to: /content/SanJose/satellite_37.30557_-121.980145.jpg\n",
      "Inferencing on: /content/House_price/satellite_images/SanJose/satellite_37.24971_-121.850874.jpg\n",
      "Saved predicted segmentation to: /content/SanJose/satellite_37.24971_-121.850874.jpg\n",
      "Inferencing on: /content/House_price/satellite_images/SanJose/satellite_37.292773_-121.98139.jpg\n",
      "Saved predicted segmentation to: /content/SanJose/satellite_37.292773_-121.98139.jpg\n",
      "Inferencing on: /content/House_price/satellite_images/SanJose/satellite_37.391383_-121.806719.jpg\n",
      "Saved predicted segmentation to: /content/SanJose/satellite_37.391383_-121.806719.jpg\n",
      "Inferencing on: /content/House_price/satellite_images/SanJose/satellite_37.321955_-121.944736.jpg\n"
     ]
    },
    {
     "output_type": "stream",
     "name": "stderr",
     "text": [
      "Processing Images:  73%|███████▎  | 2072/2837 [01:00<00:22, 34.71image/s]"
     ]
    },
    {
     "output_type": "stream",
     "name": "stdout",
     "text": [
      "Saved predicted segmentation to: /content/SanJose/satellite_37.321955_-121.944736.jpg\n",
      "Inferencing on: /content/House_price/satellite_images/SanJose/satellite_37.319934_-121.918725.jpg\n",
      "Saved predicted segmentation to: /content/SanJose/satellite_37.319934_-121.918725.jpg\n",
      "Inferencing on: /content/House_price/satellite_images/SanJose/satellite_37.327315_-121.945465.jpg\n",
      "Saved predicted segmentation to: /content/SanJose/satellite_37.327315_-121.945465.jpg\n",
      "Inferencing on: /content/House_price/satellite_images/SanJose/satellite_37.200437_-121.83294.jpg\n",
      "Saved predicted segmentation to: /content/SanJose/satellite_37.200437_-121.83294.jpg\n",
      "Inferencing on: /content/House_price/satellite_images/SanJose/satellite_37.411693_-121.863692.jpg\n",
      "Saved predicted segmentation to: /content/SanJose/satellite_37.411693_-121.863692.jpg\n",
      "Inferencing on: /content/House_price/satellite_images/SanJose/satellite_37.265419_-121.92825.jpg\n",
      "Saved predicted segmentation to: /content/SanJose/satellite_37.265419_-121.92825.jpg\n",
      "Inferencing on: /content/House_price/satellite_images/SanJose/satellite_37.421399_-121.861898.jpg\n",
      "Saved predicted segmentation to: /content/SanJose/satellite_37.421399_-121.861898.jpg\n",
      "Inferencing on: /content/House_price/satellite_images/SanJose/satellite_37.32676_-121.879442.jpg\n",
      "Saved predicted segmentation to: /content/SanJose/satellite_37.32676_-121.879442.jpg\n"
     ]
    },
    {
     "output_type": "stream",
     "name": "stderr",
     "text": [
      "\rProcessing Images:  73%|███████▎  | 2076/2837 [01:00<00:21, 34.62image/s]"
     ]
    },
    {
     "output_type": "stream",
     "name": "stdout",
     "text": [
      "Inferencing on: /content/House_price/satellite_images/SanJose/satellite_37.263627_-121.864618.jpg\n",
      "Saved predicted segmentation to: /content/SanJose/satellite_37.263627_-121.864618.jpg\n",
      "Inferencing on: /content/House_price/satellite_images/SanJose/satellite_37.312353_-121.807236.jpg\n",
      "Saved predicted segmentation to: /content/SanJose/satellite_37.312353_-121.807236.jpg\n",
      "Inferencing on: /content/House_price/satellite_images/SanJose/satellite_37.261568_-121.914558.jpg\n",
      "Saved predicted segmentation to: /content/SanJose/satellite_37.261568_-121.914558.jpg\n",
      "Inferencing on: /content/House_price/satellite_images/SanJose/satellite_37.359015_-121.820143.jpg\n",
      "Saved predicted segmentation to: /content/SanJose/satellite_37.359015_-121.820143.jpg\n",
      "Inferencing on: /content/House_price/satellite_images/SanJose/satellite_37.343896_-121.841867.jpg\n",
      "Saved predicted segmentation to: /content/SanJose/satellite_37.343896_-121.841867.jpg\n",
      "Inferencing on: /content/House_price/satellite_images/SanJose/satellite_37.216613_-121.859609.jpg\n",
      "Saved predicted segmentation to: /content/SanJose/satellite_37.216613_-121.859609.jpg\n",
      "Inferencing on: /content/House_price/satellite_images/SanJose/satellite_37.336318_-121.833643.jpg\n"
     ]
    },
    {
     "output_type": "stream",
     "name": "stderr",
     "text": [
      "Processing Images:  73%|███████▎  | 2084/2837 [01:01<00:21, 34.67image/s]"
     ]
    },
    {
     "output_type": "stream",
     "name": "stdout",
     "text": [
      "Saved predicted segmentation to: /content/SanJose/satellite_37.336318_-121.833643.jpg\n",
      "Inferencing on: /content/House_price/satellite_images/SanJose/satellite_37.205478_-121.834476.jpg\n",
      "Saved predicted segmentation to: /content/SanJose/satellite_37.205478_-121.834476.jpg\n",
      "Inferencing on: /content/House_price/satellite_images/SanJose/satellite_37.299821_-121.933997.jpg\n",
      "Saved predicted segmentation to: /content/SanJose/satellite_37.299821_-121.933997.jpg\n",
      "Inferencing on: /content/House_price/satellite_images/SanJose/satellite_37.292107_-121.749423.jpg\n",
      "Saved predicted segmentation to: /content/SanJose/satellite_37.292107_-121.749423.jpg\n",
      "Inferencing on: /content/House_price/satellite_images/SanJose/satellite_37.315265_-121.794465.jpg\n",
      "Saved predicted segmentation to: /content/SanJose/satellite_37.315265_-121.794465.jpg\n",
      "Inferencing on: /content/House_price/satellite_images/SanJose/satellite_37.229297_-121.782881.jpg\n",
      "Saved predicted segmentation to: /content/SanJose/satellite_37.229297_-121.782881.jpg\n",
      "Inferencing on: /content/House_price/satellite_images/SanJose/satellite_37.307723_-121.971199.jpg\n",
      "Saved predicted segmentation to: /content/SanJose/satellite_37.307723_-121.971199.jpg\n",
      "Inferencing on: /content/House_price/satellite_images/SanJose/satellite_37.303722_-121.919785.jpg\n",
      "Saved predicted segmentation to: /content/SanJose/satellite_37.303722_-121.919785.jpg\n",
      "Inferencing on: /content/House_price/satellite_images/SanJose/satellite_37.373969_-121.858166.jpg\n"
     ]
    },
    {
     "output_type": "stream",
     "name": "stderr",
     "text": [
      "Processing Images:  74%|███████▎  | 2092/2837 [01:01<00:21, 34.91image/s]"
     ]
    },
    {
     "output_type": "stream",
     "name": "stdout",
     "text": [
      "Saved predicted segmentation to: /content/SanJose/satellite_37.373969_-121.858166.jpg\n",
      "Inferencing on: /content/House_price/satellite_images/SanJose/satellite_37.247246_-121.866211.jpg\n",
      "Saved predicted segmentation to: /content/SanJose/satellite_37.247246_-121.866211.jpg\n",
      "Inferencing on: /content/House_price/satellite_images/SanJose/satellite_37.264897_-121.828923.jpg\n",
      "Saved predicted segmentation to: /content/SanJose/satellite_37.264897_-121.828923.jpg\n",
      "Inferencing on: /content/House_price/satellite_images/SanJose/satellite_37.27587_-121.767645.jpg\n",
      "Saved predicted segmentation to: /content/SanJose/satellite_37.27587_-121.767645.jpg\n",
      "Inferencing on: /content/House_price/satellite_images/SanJose/satellite_37.238996_-121.923013.jpg\n",
      "Saved predicted segmentation to: /content/SanJose/satellite_37.238996_-121.923013.jpg\n",
      "Inferencing on: /content/House_price/satellite_images/SanJose/satellite_37.241749_-121.865489.jpg\n",
      "Saved predicted segmentation to: /content/SanJose/satellite_37.241749_-121.865489.jpg\n",
      "Inferencing on: /content/House_price/satellite_images/SanJose/satellite_37.242269_-121.799181.jpg\n",
      "Saved predicted segmentation to: /content/SanJose/satellite_37.242269_-121.799181.jpg\n",
      "Inferencing on: /content/House_price/satellite_images/SanJose/satellite_37.419751_-121.856815.jpg\n"
     ]
    },
    {
     "output_type": "stream",
     "name": "stderr",
     "text": [
      "Processing Images:  74%|███████▍  | 2100/2837 [01:01<00:21, 34.99image/s]"
     ]
    },
    {
     "output_type": "stream",
     "name": "stdout",
     "text": [
      "Saved predicted segmentation to: /content/SanJose/satellite_37.419751_-121.856815.jpg\n",
      "Inferencing on: /content/House_price/satellite_images/SanJose/satellite_37.336559_-121.934236.jpg\n",
      "Saved predicted segmentation to: /content/SanJose/satellite_37.336559_-121.934236.jpg\n",
      "Inferencing on: /content/House_price/satellite_images/SanJose/satellite_37.24122_-121.909659.jpg\n",
      "Saved predicted segmentation to: /content/SanJose/satellite_37.24122_-121.909659.jpg\n",
      "Inferencing on: /content/House_price/satellite_images/SanJose/satellite_37.297186_-121.92553.jpg\n",
      "Saved predicted segmentation to: /content/SanJose/satellite_37.297186_-121.92553.jpg\n",
      "Inferencing on: /content/House_price/satellite_images/SanJose/satellite_37.357299_-121.887854.jpg\n",
      "Saved predicted segmentation to: /content/SanJose/satellite_37.357299_-121.887854.jpg\n",
      "Inferencing on: /content/House_price/satellite_images/SanJose/satellite_37.307696_-121.933229.jpg\n",
      "Saved predicted segmentation to: /content/SanJose/satellite_37.307696_-121.933229.jpg\n",
      "Inferencing on: /content/House_price/satellite_images/SanJose/satellite_37.319051_-121.842065.jpg\n",
      "Saved predicted segmentation to: /content/SanJose/satellite_37.319051_-121.842065.jpg\n",
      "Inferencing on: /content/House_price/satellite_images/SanJose/satellite_37.294545_-121.760898.jpg\n",
      "Saved predicted segmentation to: /content/SanJose/satellite_37.294545_-121.760898.jpg\n",
      "Inferencing on: /content/House_price/satellite_images/SanJose/satellite_37.253993_-121.832558.jpg\n"
     ]
    },
    {
     "output_type": "stream",
     "name": "stderr",
     "text": [
      "Processing Images:  74%|███████▍  | 2108/2837 [01:01<00:20, 34.96image/s]"
     ]
    },
    {
     "output_type": "stream",
     "name": "stdout",
     "text": [
      "Saved predicted segmentation to: /content/SanJose/satellite_37.253993_-121.832558.jpg\n",
      "Inferencing on: /content/House_price/satellite_images/SanJose/satellite_37.354068_-121.899149.jpg\n",
      "Saved predicted segmentation to: /content/SanJose/satellite_37.354068_-121.899149.jpg\n",
      "Inferencing on: /content/House_price/satellite_images/SanJose/satellite_37.315265_-121.838258.jpg\n",
      "Saved predicted segmentation to: /content/SanJose/satellite_37.315265_-121.838258.jpg\n",
      "Inferencing on: /content/House_price/satellite_images/SanJose/satellite_37.336885_-121.934996.jpg\n",
      "Saved predicted segmentation to: /content/SanJose/satellite_37.336885_-121.934996.jpg\n",
      "Inferencing on: /content/House_price/satellite_images/SanJose/satellite_37.255216_-121.829837.jpg\n",
      "Saved predicted segmentation to: /content/SanJose/satellite_37.255216_-121.829837.jpg\n",
      "Inferencing on: /content/House_price/satellite_images/SanJose/satellite_37.343187_-121.824834.jpg\n",
      "Saved predicted segmentation to: /content/SanJose/satellite_37.343187_-121.824834.jpg\n",
      "Inferencing on: /content/House_price/satellite_images/SanJose/satellite_37.380301_-121.856683.jpg\n",
      "Saved predicted segmentation to: /content/SanJose/satellite_37.380301_-121.856683.jpg\n",
      "Inferencing on: /content/House_price/satellite_images/SanJose/satellite_37.371435_-121.879499.jpg\n",
      "Saved predicted segmentation to: /content/SanJose/satellite_37.371435_-121.879499.jpg\n",
      "Inferencing on: /content/House_price/satellite_images/SanJose/satellite_37.256827_-121.832018.jpg\n"
     ]
    },
    {
     "output_type": "stream",
     "name": "stderr",
     "text": [
      "Processing Images:  75%|███████▍  | 2116/2837 [01:02<00:20, 35.13image/s]"
     ]
    },
    {
     "output_type": "stream",
     "name": "stdout",
     "text": [
      "Saved predicted segmentation to: /content/SanJose/satellite_37.256827_-121.832018.jpg\n",
      "Inferencing on: /content/House_price/satellite_images/SanJose/satellite_37.291636_-121.798887.jpg\n",
      "Saved predicted segmentation to: /content/SanJose/satellite_37.291636_-121.798887.jpg\n",
      "Inferencing on: /content/House_price/satellite_images/SanJose/satellite_37.258222_-121.88831.jpg\n",
      "Saved predicted segmentation to: /content/SanJose/satellite_37.258222_-121.88831.jpg\n",
      "Inferencing on: /content/House_price/satellite_images/SanJose/satellite_37.345085_-121.92923.jpg\n",
      "Saved predicted segmentation to: /content/SanJose/satellite_37.345085_-121.92923.jpg\n",
      "Inferencing on: /content/House_price/satellite_images/SanJose/satellite_37.250065_-121.817272.jpg\n",
      "Saved predicted segmentation to: /content/SanJose/satellite_37.250065_-121.817272.jpg\n",
      "Inferencing on: /content/House_price/satellite_images/SanJose/satellite_37.291991_-121.976927.jpg\n",
      "Saved predicted segmentation to: /content/SanJose/satellite_37.291991_-121.976927.jpg\n",
      "Inferencing on: /content/House_price/satellite_images/SanJose/satellite_37.317383_-121.953102.jpg\n",
      "Saved predicted segmentation to: /content/SanJose/satellite_37.317383_-121.953102.jpg\n",
      "Inferencing on: /content/House_price/satellite_images/SanJose/satellite_37.251488_-121.78742.jpg\n",
      "Saved predicted segmentation to: /content/SanJose/satellite_37.251488_-121.78742.jpg\n",
      "Inferencing on: /content/House_price/satellite_images/SanJose/satellite_37.342487_-121.851563.jpg\n"
     ]
    },
    {
     "output_type": "stream",
     "name": "stderr",
     "text": [
      "Processing Images:  75%|███████▍  | 2124/2837 [01:02<00:20, 35.01image/s]"
     ]
    },
    {
     "output_type": "stream",
     "name": "stdout",
     "text": [
      "Saved predicted segmentation to: /content/SanJose/satellite_37.342487_-121.851563.jpg\n",
      "Inferencing on: /content/House_price/satellite_images/SanJose/satellite_37.204095_-121.827553.jpg\n",
      "Saved predicted segmentation to: /content/SanJose/satellite_37.204095_-121.827553.jpg\n",
      "Inferencing on: /content/House_price/satellite_images/SanJose/satellite_37.205226_-121.872004.jpg\n",
      "Saved predicted segmentation to: /content/SanJose/satellite_37.205226_-121.872004.jpg\n",
      "Inferencing on: /content/House_price/satellite_images/SanJose/satellite_37.317326_-121.955254.jpg\n",
      "Saved predicted segmentation to: /content/SanJose/satellite_37.317326_-121.955254.jpg\n",
      "Inferencing on: /content/House_price/satellite_images/SanJose/satellite_37.311821_-121.842361.jpg\n",
      "Saved predicted segmentation to: /content/SanJose/satellite_37.311821_-121.842361.jpg\n",
      "Inferencing on: /content/House_price/satellite_images/SanJose/satellite_37.347348_-121.833352.jpg\n",
      "Saved predicted segmentation to: /content/SanJose/satellite_37.347348_-121.833352.jpg\n",
      "Inferencing on: /content/House_price/satellite_images/SanJose/satellite_37.293049_-121.868561.jpg\n",
      "Saved predicted segmentation to: /content/SanJose/satellite_37.293049_-121.868561.jpg\n",
      "Inferencing on: /content/House_price/satellite_images/SanJose/satellite_37.261989_-121.868366.jpg\n",
      "Saved predicted segmentation to: /content/SanJose/satellite_37.261989_-121.868366.jpg\n",
      "Inferencing on: /content/House_price/satellite_images/SanJose/satellite_37.266387_-121.92372.jpg\n"
     ]
    },
    {
     "output_type": "stream",
     "name": "stderr",
     "text": [
      "Processing Images:  75%|███████▌  | 2132/2837 [01:02<00:20, 34.99image/s]"
     ]
    },
    {
     "output_type": "stream",
     "name": "stdout",
     "text": [
      "Saved predicted segmentation to: /content/SanJose/satellite_37.266387_-121.92372.jpg\n",
      "Inferencing on: /content/House_price/satellite_images/SanJose/satellite_37.290848_-121.856101.jpg\n",
      "Saved predicted segmentation to: /content/SanJose/satellite_37.290848_-121.856101.jpg\n",
      "Inferencing on: /content/House_price/satellite_images/SanJose/satellite_37.314516_-121.891765.jpg\n",
      "Saved predicted segmentation to: /content/SanJose/satellite_37.314516_-121.891765.jpg\n",
      "Inferencing on: /content/House_price/satellite_images/SanJose/satellite_37.263715_-121.795538.jpg\n",
      "Saved predicted segmentation to: /content/SanJose/satellite_37.263715_-121.795538.jpg\n",
      "Inferencing on: /content/House_price/satellite_images/SanJose/satellite_37.358341_-121.859308.jpg\n",
      "Saved predicted segmentation to: /content/SanJose/satellite_37.358341_-121.859308.jpg\n",
      "Inferencing on: /content/House_price/satellite_images/SanJose/satellite_37.229214_-121.758158.jpg\n",
      "Saved predicted segmentation to: /content/SanJose/satellite_37.229214_-121.758158.jpg\n",
      "Inferencing on: /content/House_price/satellite_images/SanJose/satellite_37.23837_-121.93525.jpg\n",
      "Saved predicted segmentation to: /content/SanJose/satellite_37.23837_-121.93525.jpg\n",
      "Inferencing on: /content/House_price/satellite_images/SanJose/satellite_37.319948_-121.967543.jpg\n",
      "Saved predicted segmentation to: /content/SanJose/satellite_37.319948_-121.967543.jpg\n",
      "Inferencing on: /content/House_price/satellite_images/SanJose/satellite_37.272993_-121.899321.jpg\n"
     ]
    },
    {
     "output_type": "stream",
     "name": "stderr",
     "text": [
      "Processing Images:  75%|███████▌  | 2140/2837 [01:02<00:19, 35.12image/s]"
     ]
    },
    {
     "output_type": "stream",
     "name": "stdout",
     "text": [
      "Saved predicted segmentation to: /content/SanJose/satellite_37.272993_-121.899321.jpg\n",
      "Inferencing on: /content/House_price/satellite_images/SanJose/satellite_37.314015_-121.902215.jpg\n",
      "Saved predicted segmentation to: /content/SanJose/satellite_37.314015_-121.902215.jpg\n",
      "Inferencing on: /content/House_price/satellite_images/SanJose/satellite_37.299569_-121.884987.jpg\n",
      "Saved predicted segmentation to: /content/SanJose/satellite_37.299569_-121.884987.jpg\n",
      "Inferencing on: /content/House_price/satellite_images/SanJose/satellite_37.249837_-121.812447.jpg\n",
      "Saved predicted segmentation to: /content/SanJose/satellite_37.249837_-121.812447.jpg\n",
      "Inferencing on: /content/House_price/satellite_images/SanJose/satellite_37.321809_-121.875441.jpg\n",
      "Saved predicted segmentation to: /content/SanJose/satellite_37.321809_-121.875441.jpg\n",
      "Inferencing on: /content/House_price/satellite_images/SanJose/satellite_37.339888_-121.894549.jpg\n",
      "Saved predicted segmentation to: /content/SanJose/satellite_37.339888_-121.894549.jpg\n",
      "Inferencing on: /content/House_price/satellite_images/SanJose/satellite_37.34951_-121.86982.jpg\n",
      "Saved predicted segmentation to: /content/SanJose/satellite_37.34951_-121.86982.jpg\n",
      "Inferencing on: /content/House_price/satellite_images/SanJose/satellite_37.318913_-121.995008.jpg\n",
      "Saved predicted segmentation to: /content/SanJose/satellite_37.318913_-121.995008.jpg\n",
      "Inferencing on: /content/House_price/satellite_images/SanJose/satellite_37.228204_-121.773053.jpg\n"
     ]
    },
    {
     "output_type": "stream",
     "name": "stderr",
     "text": [
      "Processing Images:  76%|███████▌  | 2148/2837 [01:02<00:19, 34.71image/s]"
     ]
    },
    {
     "output_type": "stream",
     "name": "stdout",
     "text": [
      "Saved predicted segmentation to: /content/SanJose/satellite_37.228204_-121.773053.jpg\n",
      "Inferencing on: /content/House_price/satellite_images/SanJose/satellite_37.343083_-121.899661.jpg\n",
      "Saved predicted segmentation to: /content/SanJose/satellite_37.343083_-121.899661.jpg\n",
      "Inferencing on: /content/House_price/satellite_images/SanJose/satellite_37.238715_-121.768356.jpg\n",
      "Saved predicted segmentation to: /content/SanJose/satellite_37.238715_-121.768356.jpg\n",
      "Inferencing on: /content/House_price/satellite_images/SanJose/satellite_37.260971_-121.878336.jpg\n",
      "Saved predicted segmentation to: /content/SanJose/satellite_37.260971_-121.878336.jpg\n",
      "Inferencing on: /content/House_price/satellite_images/SanJose/satellite_37.258489_-121.887901.jpg\n",
      "Saved predicted segmentation to: /content/SanJose/satellite_37.258489_-121.887901.jpg\n",
      "Inferencing on: /content/House_price/satellite_images/SanJose/satellite_37.248152_-121.852641.jpg\n",
      "Saved predicted segmentation to: /content/SanJose/satellite_37.248152_-121.852641.jpg\n",
      "Inferencing on: /content/House_price/satellite_images/SanJose/satellite_37.313241_-121.782377.jpg\n",
      "Saved predicted segmentation to: /content/SanJose/satellite_37.313241_-121.782377.jpg\n",
      "Inferencing on: /content/House_price/satellite_images/SanJose/satellite_37.210792_-121.838551.jpg\n"
     ]
    },
    {
     "output_type": "stream",
     "name": "stderr",
     "text": [
      "Processing Images:  76%|███████▌  | 2156/2837 [01:03<00:19, 34.80image/s]"
     ]
    },
    {
     "output_type": "stream",
     "name": "stdout",
     "text": [
      "Saved predicted segmentation to: /content/SanJose/satellite_37.210792_-121.838551.jpg\n",
      "Inferencing on: /content/House_price/satellite_images/SanJose/satellite_37.269193_-121.84736.jpg\n",
      "Saved predicted segmentation to: /content/SanJose/satellite_37.269193_-121.84736.jpg\n",
      "Inferencing on: /content/House_price/satellite_images/SanJose/satellite_37.244617_-121.817133.jpg\n",
      "Saved predicted segmentation to: /content/SanJose/satellite_37.244617_-121.817133.jpg\n",
      "Inferencing on: /content/House_price/satellite_images/SanJose/satellite_37.320148_-121.941406.jpg\n",
      "Saved predicted segmentation to: /content/SanJose/satellite_37.320148_-121.941406.jpg\n",
      "Inferencing on: /content/House_price/satellite_images/SanJose/satellite_37.263661_-121.8483.jpg\n",
      "Saved predicted segmentation to: /content/SanJose/satellite_37.263661_-121.8483.jpg\n",
      "Inferencing on: /content/House_price/satellite_images/SanJose/satellite_37.310115_-121.903414.jpg\n",
      "Saved predicted segmentation to: /content/SanJose/satellite_37.310115_-121.903414.jpg\n",
      "Inferencing on: /content/House_price/satellite_images/SanJose/satellite_37.368269_-121.85199.jpg\n",
      "Saved predicted segmentation to: /content/SanJose/satellite_37.368269_-121.85199.jpg\n",
      "Inferencing on: /content/House_price/satellite_images/SanJose/satellite_37.392721_-121.82356.jpg\n",
      "Saved predicted segmentation to: /content/SanJose/satellite_37.392721_-121.82356.jpg\n",
      "Inferencing on: /content/House_price/satellite_images/SanJose/satellite_37.249912_-121.92469.jpg\n"
     ]
    },
    {
     "output_type": "stream",
     "name": "stderr",
     "text": [
      "\rProcessing Images:  76%|███████▌  | 2160/2837 [01:03<00:19, 34.74image/s]"
     ]
    },
    {
     "output_type": "stream",
     "name": "stdout",
     "text": [
      "Saved predicted segmentation to: /content/SanJose/satellite_37.249912_-121.92469.jpg\n",
      "Inferencing on: /content/House_price/satellite_images/SanJose/satellite_37.23215_-121.891293.jpg\n",
      "Saved predicted segmentation to: /content/SanJose/satellite_37.23215_-121.891293.jpg\n",
      "Inferencing on: /content/House_price/satellite_images/SanJose/satellite_37.249977_-121.851587.jpg\n",
      "Saved predicted segmentation to: /content/SanJose/satellite_37.249977_-121.851587.jpg\n",
      "Inferencing on: /content/House_price/satellite_images/SanJose/satellite_37.300007_-121.889249.jpg\n",
      "Saved predicted segmentation to: /content/SanJose/satellite_37.300007_-121.889249.jpg\n",
      "Inferencing on: /content/House_price/satellite_images/SanJose/satellite_37.281743_-121.861451.jpg\n",
      "Saved predicted segmentation to: /content/SanJose/satellite_37.281743_-121.861451.jpg\n",
      "Inferencing on: /content/House_price/satellite_images/SanJose/satellite_37.357515_-121.879919.jpg\n",
      "Saved predicted segmentation to: /content/SanJose/satellite_37.357515_-121.879919.jpg\n",
      "Inferencing on: /content/House_price/satellite_images/SanJose/satellite_37.319382_-121.854025.jpg\n",
      "Saved predicted segmentation to: /content/SanJose/satellite_37.319382_-121.854025.jpg\n",
      "Inferencing on: /content/House_price/satellite_images/SanJose/satellite_37.229401_-121.895762.jpg\n"
     ]
    },
    {
     "output_type": "stream",
     "name": "stderr",
     "text": [
      "Processing Images:  76%|███████▋  | 2168/2837 [01:03<00:19, 34.35image/s]"
     ]
    },
    {
     "output_type": "stream",
     "name": "stdout",
     "text": [
      "Saved predicted segmentation to: /content/SanJose/satellite_37.229401_-121.895762.jpg\n",
      "Inferencing on: /content/House_price/satellite_images/SanJose/satellite_37.241977_-121.798561.jpg\n",
      "Saved predicted segmentation to: /content/SanJose/satellite_37.241977_-121.798561.jpg\n",
      "Inferencing on: /content/House_price/satellite_images/SanJose/satellite_37.376566_-121.851652.jpg\n",
      "Saved predicted segmentation to: /content/SanJose/satellite_37.376566_-121.851652.jpg\n",
      "Inferencing on: /content/House_price/satellite_images/SanJose/satellite_37.249951_-121.927969.jpg\n",
      "Saved predicted segmentation to: /content/SanJose/satellite_37.249951_-121.927969.jpg\n",
      "Inferencing on: /content/House_price/satellite_images/SanJose/satellite_37.296462_-121.877684.jpg\n",
      "Saved predicted segmentation to: /content/SanJose/satellite_37.296462_-121.877684.jpg\n",
      "Inferencing on: /content/House_price/satellite_images/SanJose/satellite_37.273066_-121.914848.jpg\n",
      "Saved predicted segmentation to: /content/SanJose/satellite_37.273066_-121.914848.jpg\n",
      "Inferencing on: /content/House_price/satellite_images/SanJose/satellite_37.281666_-121.837307.jpg\n",
      "Saved predicted segmentation to: /content/SanJose/satellite_37.281666_-121.837307.jpg\n",
      "Inferencing on: /content/House_price/satellite_images/SanJose/satellite_37.24708_-121.786427.jpg\n"
     ]
    },
    {
     "output_type": "stream",
     "name": "stderr",
     "text": [
      "Processing Images:  77%|███████▋  | 2176/2837 [01:03<00:19, 34.58image/s]"
     ]
    },
    {
     "output_type": "stream",
     "name": "stdout",
     "text": [
      "Saved predicted segmentation to: /content/SanJose/satellite_37.24708_-121.786427.jpg\n",
      "Inferencing on: /content/House_price/satellite_images/SanJose/satellite_37.241763_-121.762259.jpg\n",
      "Saved predicted segmentation to: /content/SanJose/satellite_37.241763_-121.762259.jpg\n",
      "Inferencing on: /content/House_price/satellite_images/SanJose/satellite_37.284234_-121.740659.jpg\n",
      "Saved predicted segmentation to: /content/SanJose/satellite_37.284234_-121.740659.jpg\n",
      "Inferencing on: /content/House_price/satellite_images/SanJose/satellite_37.305958_-121.769348.jpg\n",
      "Saved predicted segmentation to: /content/SanJose/satellite_37.305958_-121.769348.jpg\n",
      "Inferencing on: /content/House_price/satellite_images/SanJose/satellite_37.35028_-121.834894.jpg\n",
      "Saved predicted segmentation to: /content/SanJose/satellite_37.35028_-121.834894.jpg\n",
      "Inferencing on: /content/House_price/satellite_images/SanJose/satellite_37.275492_-121.904752.jpg\n",
      "Saved predicted segmentation to: /content/SanJose/satellite_37.275492_-121.904752.jpg\n",
      "Inferencing on: /content/House_price/satellite_images/SanJose/satellite_37.28117_-121.770488.jpg\n",
      "Saved predicted segmentation to: /content/SanJose/satellite_37.28117_-121.770488.jpg\n",
      "Inferencing on: /content/House_price/satellite_images/SanJose/satellite_37.389669_-121.823569.jpg\n"
     ]
    },
    {
     "output_type": "stream",
     "name": "stderr",
     "text": [
      "Processing Images:  77%|███████▋  | 2184/2837 [01:03<00:18, 34.65image/s]"
     ]
    },
    {
     "output_type": "stream",
     "name": "stdout",
     "text": [
      "Saved predicted segmentation to: /content/SanJose/satellite_37.389669_-121.823569.jpg\n",
      "Inferencing on: /content/House_price/satellite_images/SanJose/satellite_37.406043_-121.851143.jpg\n",
      "Saved predicted segmentation to: /content/SanJose/satellite_37.406043_-121.851143.jpg\n",
      "Inferencing on: /content/House_price/satellite_images/SanJose/satellite_37.321179_-121.947361.jpg\n",
      "Saved predicted segmentation to: /content/SanJose/satellite_37.321179_-121.947361.jpg\n",
      "Inferencing on: /content/House_price/satellite_images/SanJose/satellite_37.315368_-121.983157.jpg\n",
      "Saved predicted segmentation to: /content/SanJose/satellite_37.315368_-121.983157.jpg\n",
      "Inferencing on: /content/House_price/satellite_images/SanJose/satellite_37.361544_-121.814757.jpg\n",
      "Saved predicted segmentation to: /content/SanJose/satellite_37.361544_-121.814757.jpg\n",
      "Inferencing on: /content/House_price/satellite_images/SanJose/satellite_37.304193_-122.014598.jpg\n",
      "Saved predicted segmentation to: /content/SanJose/satellite_37.304193_-122.014598.jpg\n",
      "Inferencing on: /content/House_price/satellite_images/SanJose/satellite_37.345134_-121.843305.jpg\n",
      "Saved predicted segmentation to: /content/SanJose/satellite_37.345134_-121.843305.jpg\n",
      "Inferencing on: /content/House_price/satellite_images/SanJose/satellite_37.355281_-121.843851.jpg\n"
     ]
    },
    {
     "output_type": "stream",
     "name": "stderr",
     "text": [
      "Processing Images:  77%|███████▋  | 2192/2837 [01:04<00:18, 34.73image/s]"
     ]
    },
    {
     "output_type": "stream",
     "name": "stdout",
     "text": [
      "Saved predicted segmentation to: /content/SanJose/satellite_37.355281_-121.843851.jpg\n",
      "Inferencing on: /content/House_price/satellite_images/SanJose/satellite_37.330073_-121.854619.jpg\n",
      "Saved predicted segmentation to: /content/SanJose/satellite_37.330073_-121.854619.jpg\n",
      "Inferencing on: /content/House_price/satellite_images/SanJose/satellite_37.322006_-121.919852.jpg\n",
      "Saved predicted segmentation to: /content/SanJose/satellite_37.322006_-121.919852.jpg\n",
      "Inferencing on: /content/House_price/satellite_images/SanJose/satellite_37.273152_-121.81931.jpg\n",
      "Saved predicted segmentation to: /content/SanJose/satellite_37.273152_-121.81931.jpg\n",
      "Inferencing on: /content/House_price/satellite_images/SanJose/satellite_37.296483_-121.933912.jpg\n",
      "Saved predicted segmentation to: /content/SanJose/satellite_37.296483_-121.933912.jpg\n",
      "Inferencing on: /content/House_price/satellite_images/SanJose/satellite_37.301397_-121.880026.jpg\n",
      "Saved predicted segmentation to: /content/SanJose/satellite_37.301397_-121.880026.jpg\n",
      "Inferencing on: /content/House_price/satellite_images/SanJose/satellite_37.255434_-121.889965.jpg\n",
      "Saved predicted segmentation to: /content/SanJose/satellite_37.255434_-121.889965.jpg\n",
      "Inferencing on: /content/House_price/satellite_images/SanJose/satellite_37.353764_-121.860589.jpg\n",
      "Saved predicted segmentation to: /content/SanJose/satellite_37.353764_-121.860589.jpg\n"
     ]
    },
    {
     "output_type": "stream",
     "name": "stderr",
     "text": [
      "\rProcessing Images:  77%|███████▋  | 2196/2837 [01:04<00:18, 34.63image/s]"
     ]
    },
    {
     "output_type": "stream",
     "name": "stdout",
     "text": [
      "Inferencing on: /content/House_price/satellite_images/SanJose/satellite_37.281666_-121.863953.jpg\n",
      "Saved predicted segmentation to: /content/SanJose/satellite_37.281666_-121.863953.jpg\n",
      "Inferencing on: /content/House_price/satellite_images/SanJose/satellite_37.297977_-121.935875.jpg\n",
      "Saved predicted segmentation to: /content/SanJose/satellite_37.297977_-121.935875.jpg\n",
      "Inferencing on: /content/House_price/satellite_images/SanJose/satellite_37.215067_-121.840325.jpg\n",
      "Saved predicted segmentation to: /content/SanJose/satellite_37.215067_-121.840325.jpg\n",
      "Inferencing on: /content/House_price/satellite_images/SanJose/satellite_37.325325_-121.907045.jpg\n",
      "Saved predicted segmentation to: /content/SanJose/satellite_37.325325_-121.907045.jpg\n",
      "Inferencing on: /content/House_price/satellite_images/SanJose/satellite_37.330608_-121.942511.jpg\n",
      "Saved predicted segmentation to: /content/SanJose/satellite_37.330608_-121.942511.jpg\n",
      "Inferencing on: /content/House_price/satellite_images/SanJose/satellite_37.32492_-121.917112.jpg\n",
      "Saved predicted segmentation to: /content/SanJose/satellite_37.32492_-121.917112.jpg\n",
      "Inferencing on: /content/House_price/satellite_images/SanJose/satellite_37.319866_-121.970052.jpg\n",
      "Saved predicted segmentation to: /content/SanJose/satellite_37.319866_-121.970052.jpg\n",
      "Inferencing on: /content/House_price/satellite_images/SanJose/satellite_37.320021_-121.783165.jpg\n"
     ]
    },
    {
     "output_type": "stream",
     "name": "stderr",
     "text": [
      "Processing Images:  78%|███████▊  | 2204/2837 [01:04<00:18, 34.26image/s]"
     ]
    },
    {
     "output_type": "stream",
     "name": "stdout",
     "text": [
      "Saved predicted segmentation to: /content/SanJose/satellite_37.320021_-121.783165.jpg\n",
      "Inferencing on: /content/House_price/satellite_images/SanJose/satellite_37.242944_-121.890051.jpg\n",
      "Saved predicted segmentation to: /content/SanJose/satellite_37.242944_-121.890051.jpg\n",
      "Inferencing on: /content/House_price/satellite_images/SanJose/satellite_37.348165_-121.831506.jpg\n",
      "Saved predicted segmentation to: /content/SanJose/satellite_37.348165_-121.831506.jpg\n",
      "Inferencing on: /content/House_price/satellite_images/SanJose/satellite_37.35899_-121.892701.jpg\n",
      "Saved predicted segmentation to: /content/SanJose/satellite_37.35899_-121.892701.jpg\n",
      "Inferencing on: /content/House_price/satellite_images/SanJose/satellite_37.278264_-121.895505.jpg\n",
      "Saved predicted segmentation to: /content/SanJose/satellite_37.278264_-121.895505.jpg\n",
      "Inferencing on: /content/House_price/satellite_images/SanJose/satellite_37.236166_-121.765965.jpg\n",
      "Saved predicted segmentation to: /content/SanJose/satellite_37.236166_-121.765965.jpg\n",
      "Inferencing on: /content/House_price/satellite_images/SanJose/satellite_37.401234_-121.862412.jpg\n",
      "Saved predicted segmentation to: /content/SanJose/satellite_37.401234_-121.862412.jpg\n",
      "Inferencing on: /content/House_price/satellite_images/SanJose/satellite_37.301354_-121.812013.jpg\n"
     ]
    },
    {
     "output_type": "stream",
     "name": "stderr",
     "text": [
      "Processing Images:  78%|███████▊  | 2212/2837 [01:04<00:18, 34.28image/s]"
     ]
    },
    {
     "output_type": "stream",
     "name": "stdout",
     "text": [
      "Saved predicted segmentation to: /content/SanJose/satellite_37.301354_-121.812013.jpg\n",
      "Inferencing on: /content/House_price/satellite_images/SanJose/satellite_37.35668_-121.859923.jpg\n",
      "Saved predicted segmentation to: /content/SanJose/satellite_37.35668_-121.859923.jpg\n",
      "Inferencing on: /content/House_price/satellite_images/SanJose/satellite_37.290022_-121.762891.jpg\n",
      "Saved predicted segmentation to: /content/SanJose/satellite_37.290022_-121.762891.jpg\n",
      "Inferencing on: /content/House_price/satellite_images/SanJose/satellite_37.240483_-121.85885.jpg\n",
      "Saved predicted segmentation to: /content/SanJose/satellite_37.240483_-121.85885.jpg\n",
      "Inferencing on: /content/House_price/satellite_images/SanJose/satellite_37.244069_-121.764951.jpg\n",
      "Saved predicted segmentation to: /content/SanJose/satellite_37.244069_-121.764951.jpg\n",
      "Inferencing on: /content/House_price/satellite_images/SanJose/satellite_37.228955_-121.767056.jpg\n",
      "Saved predicted segmentation to: /content/SanJose/satellite_37.228955_-121.767056.jpg\n",
      "Inferencing on: /content/House_price/satellite_images/SanJose/satellite_37.279991_-121.827669.jpg\n",
      "Saved predicted segmentation to: /content/SanJose/satellite_37.279991_-121.827669.jpg\n",
      "Inferencing on: /content/House_price/satellite_images/SanJose/satellite_37.240176_-121.811687.jpg\n"
     ]
    },
    {
     "output_type": "stream",
     "name": "stderr",
     "text": [
      "Processing Images:  78%|███████▊  | 2220/2837 [01:05<00:18, 34.26image/s]"
     ]
    },
    {
     "output_type": "stream",
     "name": "stdout",
     "text": [
      "Saved predicted segmentation to: /content/SanJose/satellite_37.240176_-121.811687.jpg\n",
      "Inferencing on: /content/House_price/satellite_images/SanJose/satellite_37.340771_-121.893104.jpg\n",
      "Saved predicted segmentation to: /content/SanJose/satellite_37.340771_-121.893104.jpg\n",
      "Inferencing on: /content/House_price/satellite_images/SanJose/satellite_37.323972_-121.772884.jpg\n",
      "Saved predicted segmentation to: /content/SanJose/satellite_37.323972_-121.772884.jpg\n",
      "Inferencing on: /content/House_price/satellite_images/SanJose/satellite_37.364246_-121.820795.jpg\n",
      "Saved predicted segmentation to: /content/SanJose/satellite_37.364246_-121.820795.jpg\n",
      "Inferencing on: /content/House_price/satellite_images/SanJose/satellite_37.327763_-121.925838.jpg\n",
      "Saved predicted segmentation to: /content/SanJose/satellite_37.327763_-121.925838.jpg\n",
      "Inferencing on: /content/House_price/satellite_images/SanJose/satellite_37.362011_-121.890417.jpg\n",
      "Saved predicted segmentation to: /content/SanJose/satellite_37.362011_-121.890417.jpg\n",
      "Inferencing on: /content/House_price/satellite_images/SanJose/satellite_37.332816_-121.835354.jpg\n",
      "Saved predicted segmentation to: /content/SanJose/satellite_37.332816_-121.835354.jpg\n",
      "Inferencing on: /content/House_price/satellite_images/SanJose/satellite_37.396434_-121.840903.jpg\n"
     ]
    },
    {
     "output_type": "stream",
     "name": "stderr",
     "text": [
      "Processing Images:  79%|███████▊  | 2228/2837 [01:05<00:17, 34.63image/s]"
     ]
    },
    {
     "output_type": "stream",
     "name": "stdout",
     "text": [
      "Saved predicted segmentation to: /content/SanJose/satellite_37.396434_-121.840903.jpg\n",
      "Inferencing on: /content/House_price/satellite_images/SanJose/satellite_37.218443_-121.869103.jpg\n",
      "Saved predicted segmentation to: /content/SanJose/satellite_37.218443_-121.869103.jpg\n",
      "Inferencing on: /content/House_price/satellite_images/SanJose/satellite_37.315584_-121.773355.jpg\n",
      "Saved predicted segmentation to: /content/SanJose/satellite_37.315584_-121.773355.jpg\n",
      "Inferencing on: /content/House_price/satellite_images/SanJose/satellite_37.234455_-121.815912.jpg\n",
      "Saved predicted segmentation to: /content/SanJose/satellite_37.234455_-121.815912.jpg\n",
      "Inferencing on: /content/House_price/satellite_images/SanJose/satellite_37.253472_-121.840875.jpg\n",
      "Saved predicted segmentation to: /content/SanJose/satellite_37.253472_-121.840875.jpg\n",
      "Inferencing on: /content/House_price/satellite_images/SanJose/satellite_37.287738_-121.829075.jpg\n",
      "Saved predicted segmentation to: /content/SanJose/satellite_37.287738_-121.829075.jpg\n",
      "Inferencing on: /content/House_price/satellite_images/SanJose/satellite_37.382651_-121.859405.jpg\n",
      "Saved predicted segmentation to: /content/SanJose/satellite_37.382651_-121.859405.jpg\n",
      "Inferencing on: /content/House_price/satellite_images/SanJose/satellite_37.293467_-121.749919.jpg\n",
      "Saved predicted segmentation to: /content/SanJose/satellite_37.293467_-121.749919.jpg\n",
      "Inferencing on: /content/House_price/satellite_images/SanJose/satellite_37.282928_-121.86425.jpg\n"
     ]
    },
    {
     "output_type": "stream",
     "name": "stderr",
     "text": [
      "\rProcessing Images:  79%|███████▊  | 2232/2837 [01:05<00:17, 34.38image/s]"
     ]
    },
    {
     "output_type": "stream",
     "name": "stdout",
     "text": [
      "Saved predicted segmentation to: /content/SanJose/satellite_37.282928_-121.86425.jpg\n",
      "Inferencing on: /content/House_price/satellite_images/SanJose/satellite_37.314827_-121.898534.jpg\n",
      "Saved predicted segmentation to: /content/SanJose/satellite_37.314827_-121.898534.jpg\n",
      "Inferencing on: /content/House_price/satellite_images/SanJose/satellite_37.265626_-121.823055.jpg\n",
      "Saved predicted segmentation to: /content/SanJose/satellite_37.265626_-121.823055.jpg\n",
      "Inferencing on: /content/House_price/satellite_images/SanJose/satellite_37.242053_-121.759386.jpg\n",
      "Saved predicted segmentation to: /content/SanJose/satellite_37.242053_-121.759386.jpg\n",
      "Inferencing on: /content/House_price/satellite_images/SanJose/satellite_37.372756_-121.891381.jpg\n",
      "Saved predicted segmentation to: /content/SanJose/satellite_37.372756_-121.891381.jpg\n",
      "Inferencing on: /content/House_price/satellite_images/SanJose/satellite_37.404274_-121.860946.jpg\n",
      "Saved predicted segmentation to: /content/SanJose/satellite_37.404274_-121.860946.jpg\n",
      "Inferencing on: /content/House_price/satellite_images/SanJose/satellite_37.313054_-121.882875.jpg\n",
      "Saved predicted segmentation to: /content/SanJose/satellite_37.313054_-121.882875.jpg\n",
      "Inferencing on: /content/House_price/satellite_images/SanJose/satellite_37.32599_-121.871084.jpg\n"
     ]
    },
    {
     "output_type": "stream",
     "name": "stderr",
     "text": [
      "Processing Images:  79%|███████▉  | 2240/2837 [01:05<00:17, 34.35image/s]"
     ]
    },
    {
     "output_type": "stream",
     "name": "stdout",
     "text": [
      "Saved predicted segmentation to: /content/SanJose/satellite_37.32599_-121.871084.jpg\n",
      "Inferencing on: /content/House_price/satellite_images/SanJose/satellite_37.312414_-121.929571.jpg\n",
      "Saved predicted segmentation to: /content/SanJose/satellite_37.312414_-121.929571.jpg\n",
      "Inferencing on: /content/House_price/satellite_images/SanJose/satellite_37.219866_-121.906323.jpg\n",
      "Saved predicted segmentation to: /content/SanJose/satellite_37.219866_-121.906323.jpg\n",
      "Inferencing on: /content/House_price/satellite_images/SanJose/satellite_37.296388_-121.752624.jpg\n",
      "Saved predicted segmentation to: /content/SanJose/satellite_37.296388_-121.752624.jpg\n",
      "Inferencing on: /content/House_price/satellite_images/SanJose/satellite_37.314031_-121.938971.jpg\n",
      "Saved predicted segmentation to: /content/SanJose/satellite_37.314031_-121.938971.jpg\n",
      "Inferencing on: /content/House_price/satellite_images/SanJose/satellite_37.357346_-121.829182.jpg\n",
      "Saved predicted segmentation to: /content/SanJose/satellite_37.357346_-121.829182.jpg\n",
      "Inferencing on: /content/House_price/satellite_images/SanJose/satellite_37.379372_-121.856044.jpg\n",
      "Saved predicted segmentation to: /content/SanJose/satellite_37.379372_-121.856044.jpg\n",
      "Inferencing on: /content/House_price/satellite_images/SanJose/satellite_37.257388_-121.842921.jpg\n"
     ]
    },
    {
     "output_type": "stream",
     "name": "stderr",
     "text": [
      "Processing Images:  79%|███████▉  | 2248/2837 [01:05<00:17, 34.36image/s]"
     ]
    },
    {
     "output_type": "stream",
     "name": "stdout",
     "text": [
      "Saved predicted segmentation to: /content/SanJose/satellite_37.257388_-121.842921.jpg\n",
      "Inferencing on: /content/House_price/satellite_images/SanJose/satellite_37.277729_-121.863182.jpg\n",
      "Saved predicted segmentation to: /content/SanJose/satellite_37.277729_-121.863182.jpg\n",
      "Inferencing on: /content/House_price/satellite_images/SanJose/satellite_37.232459_-121.767803.jpg\n",
      "Saved predicted segmentation to: /content/SanJose/satellite_37.232459_-121.767803.jpg\n",
      "Inferencing on: /content/House_price/satellite_images/SanJose/satellite_37.33333_-121.83512.jpg\n",
      "Saved predicted segmentation to: /content/SanJose/satellite_37.33333_-121.83512.jpg\n",
      "Inferencing on: /content/House_price/satellite_images/SanJose/satellite_37.304183_-121.830798.jpg\n",
      "Saved predicted segmentation to: /content/SanJose/satellite_37.304183_-121.830798.jpg\n",
      "Inferencing on: /content/House_price/satellite_images/SanJose/satellite_37.364404_-121.80275.jpg\n",
      "Saved predicted segmentation to: /content/SanJose/satellite_37.364404_-121.80275.jpg\n",
      "Inferencing on: /content/House_price/satellite_images/SanJose/satellite_37.24115_-121.868531.jpg\n",
      "Saved predicted segmentation to: /content/SanJose/satellite_37.24115_-121.868531.jpg\n",
      "Inferencing on: /content/House_price/satellite_images/SanJose/satellite_37.240425_-121.813939.jpg\n",
      "Saved predicted segmentation to: /content/SanJose/satellite_37.240425_-121.813939.jpg\n",
      "Inferencing on: /content/House_price/satellite_images/SanJose/satellite_37.293715_-121.991069.jpg\n"
     ]
    },
    {
     "output_type": "stream",
     "name": "stderr",
     "text": [
      "Processing Images:  80%|███████▉  | 2256/2837 [01:06<00:17, 34.13image/s]"
     ]
    },
    {
     "output_type": "stream",
     "name": "stdout",
     "text": [
      "Saved predicted segmentation to: /content/SanJose/satellite_37.293715_-121.991069.jpg\n",
      "Inferencing on: /content/House_price/satellite_images/SanJose/satellite_37.291285_-121.881556.jpg\n",
      "Saved predicted segmentation to: /content/SanJose/satellite_37.291285_-121.881556.jpg\n",
      "Inferencing on: /content/House_price/satellite_images/SanJose/satellite_37.263892_-121.940947.jpg\n",
      "Saved predicted segmentation to: /content/SanJose/satellite_37.263892_-121.940947.jpg\n",
      "Inferencing on: /content/House_price/satellite_images/SanJose/satellite_37.303836_-121.888001.jpg\n",
      "Saved predicted segmentation to: /content/SanJose/satellite_37.303836_-121.888001.jpg\n",
      "Inferencing on: /content/House_price/satellite_images/SanJose/satellite_37.403988_-121.884079.jpg\n",
      "Saved predicted segmentation to: /content/SanJose/satellite_37.403988_-121.884079.jpg\n",
      "Inferencing on: /content/House_price/satellite_images/SanJose/satellite_37.363328_-121.914656.jpg\n",
      "Saved predicted segmentation to: /content/SanJose/satellite_37.363328_-121.914656.jpg\n",
      "Inferencing on: /content/House_price/satellite_images/SanJose/satellite_37.341122_-121.794458.jpg\n",
      "Saved predicted segmentation to: /content/SanJose/satellite_37.341122_-121.794458.jpg\n",
      "Inferencing on: /content/House_price/satellite_images/SanJose/satellite_37.323544_-121.82151.jpg\n"
     ]
    },
    {
     "output_type": "stream",
     "name": "stderr",
     "text": [
      "Processing Images:  80%|███████▉  | 2264/2837 [01:06<00:17, 33.42image/s]"
     ]
    },
    {
     "output_type": "stream",
     "name": "stdout",
     "text": [
      "Saved predicted segmentation to: /content/SanJose/satellite_37.323544_-121.82151.jpg\n",
      "Inferencing on: /content/House_price/satellite_images/SanJose/satellite_37.286032_-121.829437.jpg\n",
      "Saved predicted segmentation to: /content/SanJose/satellite_37.286032_-121.829437.jpg\n",
      "Inferencing on: /content/House_price/satellite_images/SanJose/satellite_37.368417_-121.844158.jpg\n",
      "Saved predicted segmentation to: /content/SanJose/satellite_37.368417_-121.844158.jpg\n",
      "Inferencing on: /content/House_price/satellite_images/SanJose/satellite_37.24488_-121.851731.jpg\n",
      "Saved predicted segmentation to: /content/SanJose/satellite_37.24488_-121.851731.jpg\n",
      "Inferencing on: /content/House_price/satellite_images/SanJose/satellite_37.223191_-121.789301.jpg\n",
      "Saved predicted segmentation to: /content/SanJose/satellite_37.223191_-121.789301.jpg\n",
      "Inferencing on: /content/House_price/satellite_images/SanJose/satellite_37.320119_-121.912914.jpg\n",
      "Saved predicted segmentation to: /content/SanJose/satellite_37.320119_-121.912914.jpg\n",
      "Inferencing on: /content/House_price/satellite_images/SanJose/satellite_37.317715_-121.955521.jpg\n",
      "Saved predicted segmentation to: /content/SanJose/satellite_37.317715_-121.955521.jpg\n",
      "Inferencing on: /content/House_price/satellite_images/SanJose/satellite_37.391728_-121.827084.jpg\n"
     ]
    },
    {
     "output_type": "stream",
     "name": "stderr",
     "text": [
      "\rProcessing Images:  80%|███████▉  | 2268/2837 [01:06<00:17, 33.33image/s]"
     ]
    },
    {
     "output_type": "stream",
     "name": "stdout",
     "text": [
      "Saved predicted segmentation to: /content/SanJose/satellite_37.391728_-121.827084.jpg\n",
      "Inferencing on: /content/House_price/satellite_images/SanJose/satellite_37.350238_-121.81661.jpg\n",
      "Saved predicted segmentation to: /content/SanJose/satellite_37.350238_-121.81661.jpg\n",
      "Inferencing on: /content/House_price/satellite_images/SanJose/satellite_37.343109_-121.884071.jpg\n",
      "Saved predicted segmentation to: /content/SanJose/satellite_37.343109_-121.884071.jpg\n",
      "Inferencing on: /content/House_price/satellite_images/SanJose/satellite_37.267169_-121.818483.jpg\n",
      "Saved predicted segmentation to: /content/SanJose/satellite_37.267169_-121.818483.jpg\n",
      "Inferencing on: /content/House_price/satellite_images/SanJose/satellite_37.326949_-121.850814.jpg\n",
      "Saved predicted segmentation to: /content/SanJose/satellite_37.326949_-121.850814.jpg\n",
      "Inferencing on: /content/House_price/satellite_images/SanJose/satellite_37.368774_-121.827015.jpg\n",
      "Saved predicted segmentation to: /content/SanJose/satellite_37.368774_-121.827015.jpg\n",
      "Inferencing on: /content/House_price/satellite_images/SanJose/satellite_37.387277_-121.894844.jpg\n",
      "Saved predicted segmentation to: /content/SanJose/satellite_37.387277_-121.894844.jpg\n",
      "Inferencing on: /content/House_price/satellite_images/SanJose/satellite_37.305388_-121.961515.jpg\n"
     ]
    },
    {
     "output_type": "stream",
     "name": "stderr",
     "text": [
      "Processing Images:  80%|████████  | 2276/2837 [01:06<00:16, 33.70image/s]"
     ]
    },
    {
     "output_type": "stream",
     "name": "stdout",
     "text": [
      "Saved predicted segmentation to: /content/SanJose/satellite_37.305388_-121.961515.jpg\n",
      "Inferencing on: /content/House_price/satellite_images/SanJose/satellite_37.362449_-121.852244.jpg\n",
      "Saved predicted segmentation to: /content/SanJose/satellite_37.362449_-121.852244.jpg\n",
      "Inferencing on: /content/House_price/satellite_images/SanJose/satellite_37.290564_-121.890659.jpg\n",
      "Saved predicted segmentation to: /content/SanJose/satellite_37.290564_-121.890659.jpg\n",
      "Inferencing on: /content/House_price/satellite_images/SanJose/satellite_37.284921_-121.849127.jpg\n",
      "Saved predicted segmentation to: /content/SanJose/satellite_37.284921_-121.849127.jpg\n",
      "Inferencing on: /content/House_price/satellite_images/SanJose/satellite_37.256362_-121.828193.jpg\n",
      "Saved predicted segmentation to: /content/SanJose/satellite_37.256362_-121.828193.jpg\n",
      "Inferencing on: /content/House_price/satellite_images/SanJose/satellite_37.309568_-121.756891.jpg\n",
      "Saved predicted segmentation to: /content/SanJose/satellite_37.309568_-121.756891.jpg\n",
      "Inferencing on: /content/House_price/satellite_images/SanJose/satellite_37.282473_-121.739259.jpg\n",
      "Saved predicted segmentation to: /content/SanJose/satellite_37.282473_-121.739259.jpg\n",
      "Inferencing on: /content/House_price/satellite_images/SanJose/satellite_37.276932_-121.857173.jpg\n"
     ]
    },
    {
     "output_type": "stream",
     "name": "stderr",
     "text": [
      "Processing Images:  81%|████████  | 2284/2837 [01:06<00:16, 33.76image/s]"
     ]
    },
    {
     "output_type": "stream",
     "name": "stdout",
     "text": [
      "Saved predicted segmentation to: /content/SanJose/satellite_37.276932_-121.857173.jpg\n",
      "Inferencing on: /content/House_price/satellite_images/SanJose/satellite_37.328542_-121.905876.jpg\n",
      "Saved predicted segmentation to: /content/SanJose/satellite_37.328542_-121.905876.jpg\n",
      "Inferencing on: /content/House_price/satellite_images/SanJose/satellite_37.301261_-121.912756.jpg\n",
      "Saved predicted segmentation to: /content/SanJose/satellite_37.301261_-121.912756.jpg\n",
      "Inferencing on: /content/House_price/satellite_images/SanJose/satellite_37.34507_-121.915554.jpg\n",
      "Saved predicted segmentation to: /content/SanJose/satellite_37.34507_-121.915554.jpg\n",
      "Inferencing on: /content/House_price/satellite_images/SanJose/satellite_37.308286_-121.992399.jpg\n",
      "Saved predicted segmentation to: /content/SanJose/satellite_37.308286_-121.992399.jpg\n",
      "Inferencing on: /content/House_price/satellite_images/SanJose/satellite_37.267422_-121.8372.jpg\n",
      "Saved predicted segmentation to: /content/SanJose/satellite_37.267422_-121.8372.jpg\n",
      "Inferencing on: /content/House_price/satellite_images/SanJose/satellite_37.302384_-121.780961.jpg\n",
      "Saved predicted segmentation to: /content/SanJose/satellite_37.302384_-121.780961.jpg\n",
      "Inferencing on: /content/House_price/satellite_images/SanJose/satellite_37.373449_-121.831937.jpg\n"
     ]
    },
    {
     "output_type": "stream",
     "name": "stderr",
     "text": [
      "Processing Images:  81%|████████  | 2292/2837 [01:07<00:16, 33.64image/s]"
     ]
    },
    {
     "output_type": "stream",
     "name": "stdout",
     "text": [
      "Saved predicted segmentation to: /content/SanJose/satellite_37.373449_-121.831937.jpg\n",
      "Inferencing on: /content/House_price/satellite_images/SanJose/satellite_37.291644_-121.853068.jpg\n",
      "Saved predicted segmentation to: /content/SanJose/satellite_37.291644_-121.853068.jpg\n",
      "Inferencing on: /content/House_price/satellite_images/SanJose/satellite_37.294441_-121.74945.jpg\n",
      "Saved predicted segmentation to: /content/SanJose/satellite_37.294441_-121.74945.jpg\n",
      "Inferencing on: /content/House_price/satellite_images/SanJose/satellite_37.309601_-121.98788.jpg\n",
      "Saved predicted segmentation to: /content/SanJose/satellite_37.309601_-121.98788.jpg\n",
      "Inferencing on: /content/House_price/satellite_images/SanJose/satellite_37.374743_-121.854071.jpg\n",
      "Saved predicted segmentation to: /content/SanJose/satellite_37.374743_-121.854071.jpg\n",
      "Inferencing on: /content/House_price/satellite_images/SanJose/satellite_37.206708_-121.84464.jpg\n",
      "Saved predicted segmentation to: /content/SanJose/satellite_37.206708_-121.84464.jpg\n",
      "Inferencing on: /content/House_price/satellite_images/SanJose/satellite_37.395494_-121.852946.jpg\n",
      "Saved predicted segmentation to: /content/SanJose/satellite_37.395494_-121.852946.jpg\n",
      "Inferencing on: /content/House_price/satellite_images/SanJose/satellite_37.373706_-121.874974.jpg\n"
     ]
    },
    {
     "output_type": "stream",
     "name": "stderr",
     "text": [
      "\rProcessing Images:  81%|████████  | 2296/2837 [01:07<00:16, 33.49image/s]"
     ]
    },
    {
     "output_type": "stream",
     "name": "stdout",
     "text": [
      "Saved predicted segmentation to: /content/SanJose/satellite_37.373706_-121.874974.jpg\n",
      "Inferencing on: /content/House_price/satellite_images/SanJose/satellite_37.244871_-121.868087.jpg\n",
      "Saved predicted segmentation to: /content/SanJose/satellite_37.244871_-121.868087.jpg\n",
      "Inferencing on: /content/House_price/satellite_images/SanJose/satellite_37.31423_-121.986821.jpg\n",
      "Saved predicted segmentation to: /content/SanJose/satellite_37.31423_-121.986821.jpg\n",
      "Inferencing on: /content/House_price/satellite_images/SanJose/satellite_37.27786_-121.778305.jpg\n",
      "Saved predicted segmentation to: /content/SanJose/satellite_37.27786_-121.778305.jpg\n",
      "Inferencing on: /content/House_price/satellite_images/SanJose/satellite_37.330278_-121.79296.jpg\n",
      "Saved predicted segmentation to: /content/SanJose/satellite_37.330278_-121.79296.jpg\n",
      "Inferencing on: /content/House_price/satellite_images/SanJose/satellite_37.218805_-121.76582.jpg\n",
      "Saved predicted segmentation to: /content/SanJose/satellite_37.218805_-121.76582.jpg\n",
      "Inferencing on: /content/House_price/satellite_images/SanJose/satellite_37.284364_-121.8569.jpg\n",
      "Saved predicted segmentation to: /content/SanJose/satellite_37.284364_-121.8569.jpg\n",
      "Inferencing on: /content/House_price/satellite_images/SanJose/satellite_37.24069_-121.859655.jpg\n"
     ]
    },
    {
     "output_type": "stream",
     "name": "stderr",
     "text": [
      "Processing Images:  81%|████████  | 2304/2837 [01:07<00:16, 32.90image/s]"
     ]
    },
    {
     "output_type": "stream",
     "name": "stdout",
     "text": [
      "Saved predicted segmentation to: /content/SanJose/satellite_37.24069_-121.859655.jpg\n",
      "Inferencing on: /content/House_price/satellite_images/SanJose/satellite_37.321834_-121.875628.jpg\n",
      "Saved predicted segmentation to: /content/SanJose/satellite_37.321834_-121.875628.jpg\n",
      "Inferencing on: /content/House_price/satellite_images/SanJose/satellite_37.330813_-121.870233.jpg\n",
      "Saved predicted segmentation to: /content/SanJose/satellite_37.330813_-121.870233.jpg\n",
      "Inferencing on: /content/House_price/satellite_images/SanJose/satellite_37.334547_-121.886256.jpg\n",
      "Saved predicted segmentation to: /content/SanJose/satellite_37.334547_-121.886256.jpg\n",
      "Inferencing on: /content/House_price/satellite_images/SanJose/satellite_37.323522_-121.791099.jpg\n",
      "Saved predicted segmentation to: /content/SanJose/satellite_37.323522_-121.791099.jpg\n",
      "Inferencing on: /content/House_price/satellite_images/SanJose/satellite_37.354644_-121.857057.jpg\n",
      "Saved predicted segmentation to: /content/SanJose/satellite_37.354644_-121.857057.jpg\n",
      "Inferencing on: /content/House_price/satellite_images/SanJose/satellite_37.236375_-121.757272.jpg\n",
      "Saved predicted segmentation to: /content/SanJose/satellite_37.236375_-121.757272.jpg\n",
      "Inferencing on: /content/House_price/satellite_images/SanJose/satellite_37.266121_-121.90771.jpg\n"
     ]
    },
    {
     "output_type": "stream",
     "name": "stderr",
     "text": [
      "Processing Images:  81%|████████▏ | 2312/2837 [01:07<00:15, 33.07image/s]"
     ]
    },
    {
     "output_type": "stream",
     "name": "stdout",
     "text": [
      "Saved predicted segmentation to: /content/SanJose/satellite_37.266121_-121.90771.jpg\n",
      "Inferencing on: /content/House_price/satellite_images/SanJose/satellite_37.376171_-121.819564.jpg\n",
      "Saved predicted segmentation to: /content/SanJose/satellite_37.376171_-121.819564.jpg\n",
      "Inferencing on: /content/House_price/satellite_images/SanJose/satellite_37.274664_-121.909529.jpg\n",
      "Saved predicted segmentation to: /content/SanJose/satellite_37.274664_-121.909529.jpg\n",
      "Inferencing on: /content/House_price/satellite_images/SanJose/satellite_37.364712_-121.822402.jpg\n",
      "Saved predicted segmentation to: /content/SanJose/satellite_37.364712_-121.822402.jpg\n",
      "Inferencing on: /content/House_price/satellite_images/SanJose/satellite_37.359901_-121.861357.jpg\n",
      "Saved predicted segmentation to: /content/SanJose/satellite_37.359901_-121.861357.jpg\n",
      "Inferencing on: /content/House_price/satellite_images/SanJose/satellite_37.391237_-121.871312.jpg\n",
      "Saved predicted segmentation to: /content/SanJose/satellite_37.391237_-121.871312.jpg\n",
      "Inferencing on: /content/House_price/satellite_images/SanJose/satellite_37.298663_-121.9508.jpg\n",
      "Saved predicted segmentation to: /content/SanJose/satellite_37.298663_-121.9508.jpg\n",
      "Inferencing on: /content/House_price/satellite_images/SanJose/satellite_37.314209_-121.958453.jpg\n"
     ]
    },
    {
     "output_type": "stream",
     "name": "stderr",
     "text": [
      "Processing Images:  82%|████████▏ | 2320/2837 [01:08<00:15, 33.49image/s]"
     ]
    },
    {
     "output_type": "stream",
     "name": "stdout",
     "text": [
      "Saved predicted segmentation to: /content/SanJose/satellite_37.314209_-121.958453.jpg\n",
      "Inferencing on: /content/House_price/satellite_images/SanJose/satellite_37.224397_-121.776987.jpg\n",
      "Saved predicted segmentation to: /content/SanJose/satellite_37.224397_-121.776987.jpg\n",
      "Inferencing on: /content/House_price/satellite_images/SanJose/satellite_37.230894_-121.879964.jpg\n",
      "Saved predicted segmentation to: /content/SanJose/satellite_37.230894_-121.879964.jpg\n",
      "Inferencing on: /content/House_price/satellite_images/SanJose/satellite_37.290631_-121.74069.jpg\n",
      "Saved predicted segmentation to: /content/SanJose/satellite_37.290631_-121.74069.jpg\n",
      "Inferencing on: /content/House_price/satellite_images/SanJose/satellite_37.314142_-121.972927.jpg\n",
      "Saved predicted segmentation to: /content/SanJose/satellite_37.314142_-121.972927.jpg\n",
      "Inferencing on: /content/House_price/satellite_images/SanJose/satellite_37.301616_-121.880077.jpg\n",
      "Saved predicted segmentation to: /content/SanJose/satellite_37.301616_-121.880077.jpg\n",
      "Inferencing on: /content/House_price/satellite_images/SanJose/satellite_37.415259_-121.960948.jpg\n",
      "Saved predicted segmentation to: /content/SanJose/satellite_37.415259_-121.960948.jpg\n",
      "Inferencing on: /content/House_price/satellite_images/SanJose/satellite_37.277209_-121.898631.jpg\n"
     ]
    },
    {
     "output_type": "stream",
     "name": "stderr",
     "text": [
      "\rProcessing Images:  82%|████████▏ | 2324/2837 [01:08<00:15, 33.48image/s]"
     ]
    },
    {
     "output_type": "stream",
     "name": "stdout",
     "text": [
      "Saved predicted segmentation to: /content/SanJose/satellite_37.277209_-121.898631.jpg\n",
      "Inferencing on: /content/House_price/satellite_images/SanJose/satellite_37.225655_-121.836865.jpg\n",
      "Saved predicted segmentation to: /content/SanJose/satellite_37.225655_-121.836865.jpg\n",
      "Inferencing on: /content/House_price/satellite_images/SanJose/satellite_37.302049_-121.880074.jpg\n",
      "Saved predicted segmentation to: /content/SanJose/satellite_37.302049_-121.880074.jpg\n",
      "Inferencing on: /content/House_price/satellite_images/SanJose/satellite_37.243237_-121.7876.jpg\n",
      "Saved predicted segmentation to: /content/SanJose/satellite_37.243237_-121.7876.jpg\n",
      "Inferencing on: /content/House_price/satellite_images/SanJose/satellite_37.406714_-121.872712.jpg\n",
      "Saved predicted segmentation to: /content/SanJose/satellite_37.406714_-121.872712.jpg\n",
      "Inferencing on: /content/House_price/satellite_images/SanJose/satellite_37.412643_-121.853788.jpg\n",
      "Saved predicted segmentation to: /content/SanJose/satellite_37.412643_-121.853788.jpg\n",
      "Inferencing on: /content/House_price/satellite_images/SanJose/satellite_37.267812_-121.924588.jpg\n",
      "Saved predicted segmentation to: /content/SanJose/satellite_37.267812_-121.924588.jpg\n",
      "Inferencing on: /content/House_price/satellite_images/SanJose/satellite_37.278853_-121.756328.jpg\n"
     ]
    },
    {
     "output_type": "stream",
     "name": "stderr",
     "text": [
      "Processing Images:  82%|████████▏ | 2332/2837 [01:08<00:14, 33.80image/s]"
     ]
    },
    {
     "output_type": "stream",
     "name": "stdout",
     "text": [
      "Saved predicted segmentation to: /content/SanJose/satellite_37.278853_-121.756328.jpg\n",
      "Inferencing on: /content/House_price/satellite_images/SanJose/satellite_37.338144_-121.834155.jpg\n",
      "Saved predicted segmentation to: /content/SanJose/satellite_37.338144_-121.834155.jpg\n",
      "Inferencing on: /content/House_price/satellite_images/SanJose/satellite_37.254654_-121.826207.jpg\n",
      "Saved predicted segmentation to: /content/SanJose/satellite_37.254654_-121.826207.jpg\n",
      "Inferencing on: /content/House_price/satellite_images/SanJose/satellite_37.342267_-121.881283.jpg\n",
      "Saved predicted segmentation to: /content/SanJose/satellite_37.342267_-121.881283.jpg\n",
      "Inferencing on: /content/House_price/satellite_images/SanJose/satellite_37.353214_-121.841496.jpg\n",
      "Saved predicted segmentation to: /content/SanJose/satellite_37.353214_-121.841496.jpg\n",
      "Inferencing on: /content/House_price/satellite_images/SanJose/satellite_37.409313_-121.863762.jpg\n",
      "Saved predicted segmentation to: /content/SanJose/satellite_37.409313_-121.863762.jpg\n",
      "Inferencing on: /content/House_price/satellite_images/SanJose/satellite_37.295834_-121.758464.jpg\n",
      "Saved predicted segmentation to: /content/SanJose/satellite_37.295834_-121.758464.jpg\n",
      "Inferencing on: /content/House_price/satellite_images/SanJose/satellite_37.295572_-121.903734.jpg\n"
     ]
    },
    {
     "output_type": "stream",
     "name": "stderr",
     "text": [
      "Processing Images:  82%|████████▏ | 2340/2837 [01:08<00:14, 34.07image/s]"
     ]
    },
    {
     "output_type": "stream",
     "name": "stdout",
     "text": [
      "Saved predicted segmentation to: /content/SanJose/satellite_37.295572_-121.903734.jpg\n",
      "Inferencing on: /content/House_price/satellite_images/SanJose/satellite_37.354829_-121.836806.jpg\n",
      "Saved predicted segmentation to: /content/SanJose/satellite_37.354829_-121.836806.jpg\n",
      "Inferencing on: /content/House_price/satellite_images/SanJose/satellite_37.230164_-121.768046.jpg\n",
      "Saved predicted segmentation to: /content/SanJose/satellite_37.230164_-121.768046.jpg\n",
      "Inferencing on: /content/House_price/satellite_images/SanJose/satellite_37.257416_-121.849314.jpg\n",
      "Saved predicted segmentation to: /content/SanJose/satellite_37.257416_-121.849314.jpg\n",
      "Inferencing on: /content/House_price/satellite_images/SanJose/satellite_37.337866_-121.832286.jpg\n",
      "Saved predicted segmentation to: /content/SanJose/satellite_37.337866_-121.832286.jpg\n",
      "Inferencing on: /content/House_price/satellite_images/SanJose/satellite_37.322476_-121.985311.jpg\n",
      "Saved predicted segmentation to: /content/SanJose/satellite_37.322476_-121.985311.jpg\n",
      "Inferencing on: /content/House_price/satellite_images/SanJose/satellite_37.282924_-121.985699.jpg\n",
      "Saved predicted segmentation to: /content/SanJose/satellite_37.282924_-121.985699.jpg\n",
      "Inferencing on: /content/House_price/satellite_images/SanJose/satellite_37.360245_-121.860351.jpg\n"
     ]
    },
    {
     "output_type": "stream",
     "name": "stderr",
     "text": [
      "Processing Images:  83%|████████▎ | 2348/2837 [01:08<00:14, 34.18image/s]"
     ]
    },
    {
     "output_type": "stream",
     "name": "stdout",
     "text": [
      "Saved predicted segmentation to: /content/SanJose/satellite_37.360245_-121.860351.jpg\n",
      "Inferencing on: /content/House_price/satellite_images/SanJose/satellite_37.235715_-121.836609.jpg\n",
      "Saved predicted segmentation to: /content/SanJose/satellite_37.235715_-121.836609.jpg\n",
      "Inferencing on: /content/House_price/satellite_images/SanJose/satellite_37.293746_-121.991281.jpg\n",
      "Saved predicted segmentation to: /content/SanJose/satellite_37.293746_-121.991281.jpg\n",
      "Inferencing on: /content/House_price/satellite_images/SanJose/satellite_37.243716_-121.868489.jpg\n",
      "Saved predicted segmentation to: /content/SanJose/satellite_37.243716_-121.868489.jpg\n",
      "Inferencing on: /content/House_price/satellite_images/SanJose/satellite_37.344739_-121.852516.jpg\n",
      "Saved predicted segmentation to: /content/SanJose/satellite_37.344739_-121.852516.jpg\n",
      "Inferencing on: /content/House_price/satellite_images/SanJose/satellite_37.316408_-121.87608.jpg\n",
      "Saved predicted segmentation to: /content/SanJose/satellite_37.316408_-121.87608.jpg\n",
      "Inferencing on: /content/House_price/satellite_images/SanJose/satellite_37.403337_-121.884706.jpg\n",
      "Saved predicted segmentation to: /content/SanJose/satellite_37.403337_-121.884706.jpg\n",
      "Inferencing on: /content/House_price/satellite_images/SanJose/satellite_37.289926_-121.832033.jpg\n"
     ]
    },
    {
     "output_type": "stream",
     "name": "stderr",
     "text": [
      "\rProcessing Images:  83%|████████▎ | 2352/2837 [01:08<00:14, 33.78image/s]"
     ]
    },
    {
     "output_type": "stream",
     "name": "stdout",
     "text": [
      "Saved predicted segmentation to: /content/SanJose/satellite_37.289926_-121.832033.jpg\n",
      "Inferencing on: /content/House_price/satellite_images/SanJose/satellite_37.308015_-122.030951.jpg\n",
      "Saved predicted segmentation to: /content/SanJose/satellite_37.308015_-122.030951.jpg\n",
      "Inferencing on: /content/House_price/satellite_images/SanJose/satellite_37.30747_-121.794509.jpg\n",
      "Saved predicted segmentation to: /content/SanJose/satellite_37.30747_-121.794509.jpg\n",
      "Inferencing on: /content/House_price/satellite_images/SanJose/satellite_37.34796_-121.867731.jpg\n",
      "Saved predicted segmentation to: /content/SanJose/satellite_37.34796_-121.867731.jpg\n",
      "Inferencing on: /content/House_price/satellite_images/SanJose/satellite_37.285556_-121.75936.jpg\n",
      "Saved predicted segmentation to: /content/SanJose/satellite_37.285556_-121.75936.jpg\n",
      "Inferencing on: /content/House_price/satellite_images/SanJose/satellite_37.395197_-121.86654.jpg\n",
      "Saved predicted segmentation to: /content/SanJose/satellite_37.395197_-121.86654.jpg\n",
      "Inferencing on: /content/House_price/satellite_images/SanJose/satellite_37.291461_-121.854139.jpg\n",
      "Saved predicted segmentation to: /content/SanJose/satellite_37.291461_-121.854139.jpg\n",
      "Inferencing on: /content/House_price/satellite_images/SanJose/satellite_37.234081_-121.791636.jpg\n"
     ]
    },
    {
     "output_type": "stream",
     "name": "stderr",
     "text": [
      "Processing Images:  83%|████████▎ | 2360/2837 [01:09<00:13, 34.10image/s]"
     ]
    },
    {
     "output_type": "stream",
     "name": "stdout",
     "text": [
      "Saved predicted segmentation to: /content/SanJose/satellite_37.234081_-121.791636.jpg\n",
      "Inferencing on: /content/House_price/satellite_images/SanJose/satellite_37.309069_-121.970405.jpg\n",
      "Saved predicted segmentation to: /content/SanJose/satellite_37.309069_-121.970405.jpg\n",
      "Inferencing on: /content/House_price/satellite_images/SanJose/satellite_37.255204_-121.824705.jpg\n",
      "Saved predicted segmentation to: /content/SanJose/satellite_37.255204_-121.824705.jpg\n",
      "Inferencing on: /content/House_price/satellite_images/SanJose/satellite_37.379578_-121.896712.jpg\n",
      "Saved predicted segmentation to: /content/SanJose/satellite_37.379578_-121.896712.jpg\n",
      "Inferencing on: /content/House_price/satellite_images/SanJose/satellite_37.325433_-121.843218.jpg\n",
      "Saved predicted segmentation to: /content/SanJose/satellite_37.325433_-121.843218.jpg\n",
      "Inferencing on: /content/House_price/satellite_images/SanJose/satellite_37.226926_-121.798727.jpg\n",
      "Saved predicted segmentation to: /content/SanJose/satellite_37.226926_-121.798727.jpg\n",
      "Inferencing on: /content/House_price/satellite_images/SanJose/satellite_37.341549_-121.87478.jpg\n",
      "Saved predicted segmentation to: /content/SanJose/satellite_37.341549_-121.87478.jpg\n",
      "Inferencing on: /content/House_price/satellite_images/SanJose/satellite_37.330827_-121.869289.jpg\n"
     ]
    },
    {
     "output_type": "stream",
     "name": "stderr",
     "text": [
      "Processing Images:  83%|████████▎ | 2368/2837 [01:09<00:13, 34.28image/s]"
     ]
    },
    {
     "output_type": "stream",
     "name": "stdout",
     "text": [
      "Saved predicted segmentation to: /content/SanJose/satellite_37.330827_-121.869289.jpg\n",
      "Inferencing on: /content/House_price/satellite_images/SanJose/satellite_37.277824_-121.846703.jpg\n",
      "Saved predicted segmentation to: /content/SanJose/satellite_37.277824_-121.846703.jpg\n",
      "Inferencing on: /content/House_price/satellite_images/SanJose/satellite_37.30193_-121.8798.jpg\n",
      "Saved predicted segmentation to: /content/SanJose/satellite_37.30193_-121.8798.jpg\n",
      "Inferencing on: /content/House_price/satellite_images/SanJose/satellite_37.211705_-121.834117.jpg\n",
      "Saved predicted segmentation to: /content/SanJose/satellite_37.211705_-121.834117.jpg\n",
      "Inferencing on: /content/House_price/satellite_images/SanJose/satellite_37.355226_-121.743294.jpg\n",
      "Saved predicted segmentation to: /content/SanJose/satellite_37.355226_-121.743294.jpg\n",
      "Inferencing on: /content/House_price/satellite_images/SanJose/satellite_37.3955_-121.907104.jpg\n",
      "Saved predicted segmentation to: /content/SanJose/satellite_37.3955_-121.907104.jpg\n",
      "Inferencing on: /content/House_price/satellite_images/SanJose/satellite_37.303784_-121.824724.jpg\n",
      "Saved predicted segmentation to: /content/SanJose/satellite_37.303784_-121.824724.jpg\n",
      "Inferencing on: /content/House_price/satellite_images/SanJose/satellite_37.410646_-121.852597.jpg\n"
     ]
    },
    {
     "output_type": "stream",
     "name": "stderr",
     "text": [
      "Processing Images:  84%|████████▍ | 2376/2837 [01:09<00:13, 34.02image/s]"
     ]
    },
    {
     "output_type": "stream",
     "name": "stdout",
     "text": [
      "Saved predicted segmentation to: /content/SanJose/satellite_37.410646_-121.852597.jpg\n",
      "Inferencing on: /content/House_price/satellite_images/SanJose/satellite_37.39811_-121.83951.jpg\n",
      "Saved predicted segmentation to: /content/SanJose/satellite_37.39811_-121.83951.jpg\n",
      "Inferencing on: /content/House_price/satellite_images/SanJose/satellite_37.239267_-121.908321.jpg\n",
      "Saved predicted segmentation to: /content/SanJose/satellite_37.239267_-121.908321.jpg\n",
      "Inferencing on: /content/House_price/satellite_images/SanJose/satellite_37.315019_-121.919102.jpg\n",
      "Saved predicted segmentation to: /content/SanJose/satellite_37.315019_-121.919102.jpg\n",
      "Inferencing on: /content/House_price/satellite_images/SanJose/satellite_37.228827_-121.795538.jpg\n",
      "Saved predicted segmentation to: /content/SanJose/satellite_37.228827_-121.795538.jpg\n",
      "Inferencing on: /content/House_price/satellite_images/SanJose/satellite_37.25519_-121.822739.jpg\n",
      "Saved predicted segmentation to: /content/SanJose/satellite_37.25519_-121.822739.jpg\n",
      "Inferencing on: /content/House_price/satellite_images/SanJose/satellite_37.350343_-121.834261.jpg\n",
      "Saved predicted segmentation to: /content/SanJose/satellite_37.350343_-121.834261.jpg\n",
      "Inferencing on: /content/House_price/satellite_images/SanJose/satellite_37.249233_-121.825698.jpg\n"
     ]
    },
    {
     "output_type": "stream",
     "name": "stderr",
     "text": [
      "\rProcessing Images:  84%|████████▍ | 2380/2837 [01:09<00:13, 34.05image/s]"
     ]
    },
    {
     "output_type": "stream",
     "name": "stdout",
     "text": [
      "Saved predicted segmentation to: /content/SanJose/satellite_37.249233_-121.825698.jpg\n",
      "Inferencing on: /content/House_price/satellite_images/SanJose/satellite_37.228521_-121.817674.jpg\n",
      "Saved predicted segmentation to: /content/SanJose/satellite_37.228521_-121.817674.jpg\n",
      "Inferencing on: /content/House_price/satellite_images/SanJose/satellite_37.303758_-121.92292.jpg\n",
      "Saved predicted segmentation to: /content/SanJose/satellite_37.303758_-121.92292.jpg\n",
      "Inferencing on: /content/House_price/satellite_images/SanJose/satellite_37.230747_-121.784365.jpg\n",
      "Saved predicted segmentation to: /content/SanJose/satellite_37.230747_-121.784365.jpg\n",
      "Inferencing on: /content/House_price/satellite_images/SanJose/satellite_37.357426_-121.815454.jpg\n",
      "Saved predicted segmentation to: /content/SanJose/satellite_37.357426_-121.815454.jpg\n",
      "Inferencing on: /content/House_price/satellite_images/SanJose/satellite_37.315142_-121.883068.jpg\n",
      "Saved predicted segmentation to: /content/SanJose/satellite_37.315142_-121.883068.jpg\n",
      "Inferencing on: /content/House_price/satellite_images/SanJose/satellite_37.249491_-121.949758.jpg\n",
      "Saved predicted segmentation to: /content/SanJose/satellite_37.249491_-121.949758.jpg\n",
      "Inferencing on: /content/House_price/satellite_images/SanJose/satellite_37.300806_-121.89396.jpg\n"
     ]
    },
    {
     "output_type": "stream",
     "name": "stderr",
     "text": [
      "Processing Images:  84%|████████▍ | 2388/2837 [01:09<00:13, 34.05image/s]"
     ]
    },
    {
     "output_type": "stream",
     "name": "stdout",
     "text": [
      "Saved predicted segmentation to: /content/SanJose/satellite_37.300806_-121.89396.jpg\n",
      "Inferencing on: /content/House_price/satellite_images/SanJose/satellite_37.233261_-121.792575.jpg\n",
      "Saved predicted segmentation to: /content/SanJose/satellite_37.233261_-121.792575.jpg\n",
      "Inferencing on: /content/House_price/satellite_images/SanJose/satellite_37.335544_-121.938019.jpg\n",
      "Saved predicted segmentation to: /content/SanJose/satellite_37.335544_-121.938019.jpg\n",
      "Inferencing on: /content/House_price/satellite_images/SanJose/satellite_37.255736_-121.829196.jpg\n",
      "Saved predicted segmentation to: /content/SanJose/satellite_37.255736_-121.829196.jpg\n",
      "Inferencing on: /content/House_price/satellite_images/SanJose/satellite_37.343754_-121.899676.jpg\n",
      "Saved predicted segmentation to: /content/SanJose/satellite_37.343754_-121.899676.jpg\n",
      "Inferencing on: /content/House_price/satellite_images/SanJose/satellite_37.313519_-121.93942.jpg\n",
      "Saved predicted segmentation to: /content/SanJose/satellite_37.313519_-121.93942.jpg\n",
      "Inferencing on: /content/House_price/satellite_images/SanJose/satellite_37.25762_-121.815749.jpg\n",
      "Saved predicted segmentation to: /content/SanJose/satellite_37.25762_-121.815749.jpg\n",
      "Inferencing on: /content/House_price/satellite_images/SanJose/satellite_37.282972_-121.850665.jpg\n"
     ]
    },
    {
     "output_type": "stream",
     "name": "stderr",
     "text": [
      "Processing Images:  84%|████████▍ | 2396/2837 [01:10<00:12, 34.01image/s]"
     ]
    },
    {
     "output_type": "stream",
     "name": "stdout",
     "text": [
      "Saved predicted segmentation to: /content/SanJose/satellite_37.282972_-121.850665.jpg\n",
      "Inferencing on: /content/House_price/satellite_images/SanJose/satellite_37.311605_-121.890808.jpg\n",
      "Saved predicted segmentation to: /content/SanJose/satellite_37.311605_-121.890808.jpg\n",
      "Inferencing on: /content/House_price/satellite_images/SanJose/satellite_37.285373_-121.855819.jpg\n",
      "Saved predicted segmentation to: /content/SanJose/satellite_37.285373_-121.855819.jpg\n",
      "Inferencing on: /content/House_price/satellite_images/SanJose/satellite_37.230014_-121.816134.jpg\n",
      "Saved predicted segmentation to: /content/SanJose/satellite_37.230014_-121.816134.jpg\n",
      "Inferencing on: /content/House_price/satellite_images/SanJose/satellite_37.34544_-121.915745.jpg\n",
      "Saved predicted segmentation to: /content/SanJose/satellite_37.34544_-121.915745.jpg\n",
      "Inferencing on: /content/House_price/satellite_images/SanJose/satellite_37.254988_-121.885855.jpg\n",
      "Saved predicted segmentation to: /content/SanJose/satellite_37.254988_-121.885855.jpg\n",
      "Inferencing on: /content/House_price/satellite_images/SanJose/satellite_37.271712_-121.90744.jpg\n",
      "Saved predicted segmentation to: /content/SanJose/satellite_37.271712_-121.90744.jpg\n",
      "Inferencing on: /content/House_price/satellite_images/SanJose/satellite_37.421885_-121.859326.jpg\n"
     ]
    },
    {
     "output_type": "stream",
     "name": "stderr",
     "text": [
      "Processing Images:  85%|████████▍ | 2404/2837 [01:10<00:12, 34.28image/s]"
     ]
    },
    {
     "output_type": "stream",
     "name": "stdout",
     "text": [
      "Saved predicted segmentation to: /content/SanJose/satellite_37.421885_-121.859326.jpg\n",
      "Inferencing on: /content/House_price/satellite_images/SanJose/satellite_37.324084_-121.825969.jpg\n",
      "Saved predicted segmentation to: /content/SanJose/satellite_37.324084_-121.825969.jpg\n",
      "Inferencing on: /content/House_price/satellite_images/SanJose/satellite_37.254412_-121.9015.jpg\n",
      "Saved predicted segmentation to: /content/SanJose/satellite_37.254412_-121.9015.jpg\n",
      "Inferencing on: /content/House_price/satellite_images/SanJose/satellite_37.302014_-121.879791.jpg\n",
      "Saved predicted segmentation to: /content/SanJose/satellite_37.302014_-121.879791.jpg\n",
      "Inferencing on: /content/House_price/satellite_images/SanJose/satellite_37.251972_-121.906144.jpg\n",
      "Saved predicted segmentation to: /content/SanJose/satellite_37.251972_-121.906144.jpg\n",
      "Inferencing on: /content/House_price/satellite_images/SanJose/satellite_37.371035_-121.833173.jpg\n",
      "Saved predicted segmentation to: /content/SanJose/satellite_37.371035_-121.833173.jpg\n",
      "Inferencing on: /content/House_price/satellite_images/SanJose/satellite_37.300506_-121.916489.jpg\n",
      "Saved predicted segmentation to: /content/SanJose/satellite_37.300506_-121.916489.jpg\n",
      "Inferencing on: /content/House_price/satellite_images/SanJose/satellite_37.38484_-121.87095.jpg\n"
     ]
    },
    {
     "output_type": "stream",
     "name": "stderr",
     "text": [
      "\rProcessing Images:  85%|████████▍ | 2408/2837 [01:10<00:12, 34.28image/s]"
     ]
    },
    {
     "output_type": "stream",
     "name": "stdout",
     "text": [
      "Saved predicted segmentation to: /content/SanJose/satellite_37.38484_-121.87095.jpg\n",
      "Inferencing on: /content/House_price/satellite_images/SanJose/satellite_37.297566_-121.902642.jpg\n",
      "Saved predicted segmentation to: /content/SanJose/satellite_37.297566_-121.902642.jpg\n",
      "Inferencing on: /content/House_price/satellite_images/SanJose/satellite_37.341293_-121.895877.jpg\n",
      "Saved predicted segmentation to: /content/SanJose/satellite_37.341293_-121.895877.jpg\n",
      "Inferencing on: /content/House_price/satellite_images/SanJose/satellite_37.311234_-121.900165.jpg\n",
      "Saved predicted segmentation to: /content/SanJose/satellite_37.311234_-121.900165.jpg\n",
      "Inferencing on: /content/House_price/satellite_images/SanJose/satellite_37.355074_-121.847258.jpg\n",
      "Saved predicted segmentation to: /content/SanJose/satellite_37.355074_-121.847258.jpg\n",
      "Inferencing on: /content/House_price/satellite_images/SanJose/satellite_37.361935_-121.890704.jpg\n",
      "Saved predicted segmentation to: /content/SanJose/satellite_37.361935_-121.890704.jpg\n",
      "Inferencing on: /content/House_price/satellite_images/SanJose/satellite_37.354775_-121.881591.jpg\n",
      "Saved predicted segmentation to: /content/SanJose/satellite_37.354775_-121.881591.jpg\n",
      "Inferencing on: /content/House_price/satellite_images/SanJose/satellite_37.317631_-121.954712.jpg\n"
     ]
    },
    {
     "output_type": "stream",
     "name": "stderr",
     "text": [
      "Processing Images:  85%|████████▌ | 2416/2837 [01:10<00:12, 34.25image/s]"
     ]
    },
    {
     "output_type": "stream",
     "name": "stdout",
     "text": [
      "Saved predicted segmentation to: /content/SanJose/satellite_37.317631_-121.954712.jpg\n",
      "Inferencing on: /content/House_price/satellite_images/SanJose/satellite_37.376664_-121.844431.jpg\n",
      "Saved predicted segmentation to: /content/SanJose/satellite_37.376664_-121.844431.jpg\n",
      "Inferencing on: /content/House_price/satellite_images/SanJose/satellite_37.342687_-121.894371.jpg\n",
      "Saved predicted segmentation to: /content/SanJose/satellite_37.342687_-121.894371.jpg\n",
      "Inferencing on: /content/House_price/satellite_images/SanJose/satellite_37.320566_-121.913478.jpg\n",
      "Saved predicted segmentation to: /content/SanJose/satellite_37.320566_-121.913478.jpg\n",
      "Inferencing on: /content/House_price/satellite_images/SanJose/satellite_37.32711_-121.867752.jpg\n",
      "Saved predicted segmentation to: /content/SanJose/satellite_37.32711_-121.867752.jpg\n",
      "Inferencing on: /content/House_price/satellite_images/SanJose/satellite_37.249345_-121.816208.jpg\n",
      "Saved predicted segmentation to: /content/SanJose/satellite_37.249345_-121.816208.jpg\n",
      "Inferencing on: /content/House_price/satellite_images/SanJose/satellite_37.244567_-121.922337.jpg\n",
      "Saved predicted segmentation to: /content/SanJose/satellite_37.244567_-121.922337.jpg\n",
      "Inferencing on: /content/House_price/satellite_images/SanJose/satellite_37.26246_-121.909072.jpg\n"
     ]
    },
    {
     "output_type": "stream",
     "name": "stderr",
     "text": [
      "Processing Images:  85%|████████▌ | 2424/2837 [01:11<00:12, 34.25image/s]"
     ]
    },
    {
     "output_type": "stream",
     "name": "stdout",
     "text": [
      "Saved predicted segmentation to: /content/SanJose/satellite_37.26246_-121.909072.jpg\n",
      "Inferencing on: /content/House_price/satellite_images/SanJose/satellite_37.254328_-121.852665.jpg\n",
      "Saved predicted segmentation to: /content/SanJose/satellite_37.254328_-121.852665.jpg\n",
      "Inferencing on: /content/House_price/satellite_images/SanJose/satellite_37.358706_-121.883844.jpg\n",
      "Saved predicted segmentation to: /content/SanJose/satellite_37.358706_-121.883844.jpg\n",
      "Inferencing on: /content/House_price/satellite_images/SanJose/satellite_37.421596_-121.858762.jpg\n",
      "Saved predicted segmentation to: /content/SanJose/satellite_37.421596_-121.858762.jpg\n",
      "Inferencing on: /content/House_price/satellite_images/SanJose/satellite_37.281473_-121.903052.jpg\n",
      "Saved predicted segmentation to: /content/SanJose/satellite_37.281473_-121.903052.jpg\n",
      "Inferencing on: /content/House_price/satellite_images/SanJose/satellite_37.329574_-121.843066.jpg\n",
      "Saved predicted segmentation to: /content/SanJose/satellite_37.329574_-121.843066.jpg\n",
      "Inferencing on: /content/House_price/satellite_images/SanJose/satellite_37.244146_-121.900735.jpg\n",
      "Saved predicted segmentation to: /content/SanJose/satellite_37.244146_-121.900735.jpg\n",
      "Inferencing on: /content/House_price/satellite_images/SanJose/satellite_37.315118_-121.953357.jpg\n"
     ]
    },
    {
     "output_type": "stream",
     "name": "stderr",
     "text": [
      "Processing Images:  86%|████████▌ | 2432/2837 [01:11<00:11, 34.21image/s]"
     ]
    },
    {
     "output_type": "stream",
     "name": "stdout",
     "text": [
      "Saved predicted segmentation to: /content/SanJose/satellite_37.315118_-121.953357.jpg\n",
      "Inferencing on: /content/House_price/satellite_images/SanJose/satellite_37.414478_-121.849957.jpg\n",
      "Saved predicted segmentation to: /content/SanJose/satellite_37.414478_-121.849957.jpg\n",
      "Inferencing on: /content/House_price/satellite_images/SanJose/satellite_37.265372_-121.9241.jpg\n",
      "Saved predicted segmentation to: /content/SanJose/satellite_37.265372_-121.9241.jpg\n",
      "Inferencing on: /content/House_price/satellite_images/SanJose/satellite_37.328858_-121.855595.jpg\n",
      "Saved predicted segmentation to: /content/SanJose/satellite_37.328858_-121.855595.jpg\n",
      "Inferencing on: /content/House_price/satellite_images/SanJose/satellite_37.30725_-121.77353.jpg\n",
      "Saved predicted segmentation to: /content/SanJose/satellite_37.30725_-121.77353.jpg\n",
      "Inferencing on: /content/House_price/satellite_images/SanJose/satellite_37.383241_-121.81935.jpg\n",
      "Saved predicted segmentation to: /content/SanJose/satellite_37.383241_-121.81935.jpg\n",
      "Inferencing on: /content/House_price/satellite_images/SanJose/satellite_37.370813_-121.832538.jpg\n",
      "Saved predicted segmentation to: /content/SanJose/satellite_37.370813_-121.832538.jpg\n",
      "Inferencing on: /content/House_price/satellite_images/SanJose/satellite_37.304837_-121.888146.jpg\n"
     ]
    },
    {
     "output_type": "stream",
     "name": "stderr",
     "text": [
      "\rProcessing Images:  86%|████████▌ | 2436/2837 [01:11<00:11, 34.17image/s]"
     ]
    },
    {
     "output_type": "stream",
     "name": "stdout",
     "text": [
      "Saved predicted segmentation to: /content/SanJose/satellite_37.304837_-121.888146.jpg\n",
      "Inferencing on: /content/House_price/satellite_images/SanJose/satellite_37.318291_-121.812856.jpg\n",
      "Saved predicted segmentation to: /content/SanJose/satellite_37.318291_-121.812856.jpg\n",
      "Inferencing on: /content/House_price/satellite_images/SanJose/satellite_37.327181_-121.868423.jpg\n",
      "Saved predicted segmentation to: /content/SanJose/satellite_37.327181_-121.868423.jpg\n",
      "Inferencing on: /content/House_price/satellite_images/SanJose/satellite_37.296258_-121.752287.jpg\n",
      "Saved predicted segmentation to: /content/SanJose/satellite_37.296258_-121.752287.jpg\n",
      "Inferencing on: /content/House_price/satellite_images/SanJose/satellite_37.386584_-121.892997.jpg\n",
      "Saved predicted segmentation to: /content/SanJose/satellite_37.386584_-121.892997.jpg\n",
      "Inferencing on: /content/House_price/satellite_images/SanJose/satellite_37.256858_-121.906854.jpg\n",
      "Saved predicted segmentation to: /content/SanJose/satellite_37.256858_-121.906854.jpg\n",
      "Inferencing on: /content/House_price/satellite_images/SanJose/satellite_37.262857_-121.824019.jpg\n",
      "Saved predicted segmentation to: /content/SanJose/satellite_37.262857_-121.824019.jpg\n",
      "Inferencing on: /content/House_price/satellite_images/SanJose/satellite_37.305775_-121.820735.jpg\n"
     ]
    },
    {
     "output_type": "stream",
     "name": "stderr",
     "text": [
      "Processing Images:  86%|████████▌ | 2444/2837 [01:11<00:11, 34.30image/s]"
     ]
    },
    {
     "output_type": "stream",
     "name": "stdout",
     "text": [
      "Saved predicted segmentation to: /content/SanJose/satellite_37.305775_-121.820735.jpg\n",
      "Inferencing on: /content/House_price/satellite_images/SanJose/satellite_37.412004_-121.866829.jpg\n",
      "Saved predicted segmentation to: /content/SanJose/satellite_37.412004_-121.866829.jpg\n",
      "Inferencing on: /content/House_price/satellite_images/SanJose/satellite_37.268207_-121.924805.jpg\n",
      "Saved predicted segmentation to: /content/SanJose/satellite_37.268207_-121.924805.jpg\n",
      "Inferencing on: /content/House_price/satellite_images/SanJose/satellite_37.312957_-121.950786.jpg\n",
      "Saved predicted segmentation to: /content/SanJose/satellite_37.312957_-121.950786.jpg\n",
      "Inferencing on: /content/House_price/satellite_images/SanJose/satellite_37.247417_-121.866493.jpg\n",
      "Saved predicted segmentation to: /content/SanJose/satellite_37.247417_-121.866493.jpg\n",
      "Inferencing on: /content/House_price/satellite_images/SanJose/satellite_37.421478_-121.859056.jpg\n",
      "Saved predicted segmentation to: /content/SanJose/satellite_37.421478_-121.859056.jpg\n",
      "Inferencing on: /content/House_price/satellite_images/SanJose/satellite_37.313314_-121.806806.jpg\n",
      "Saved predicted segmentation to: /content/SanJose/satellite_37.313314_-121.806806.jpg\n",
      "Inferencing on: /content/House_price/satellite_images/SanJose/satellite_37.282816_-121.914367.jpg\n"
     ]
    },
    {
     "output_type": "stream",
     "name": "stderr",
     "text": [
      "Processing Images:  86%|████████▋ | 2452/2837 [01:11<00:11, 34.32image/s]"
     ]
    },
    {
     "output_type": "stream",
     "name": "stdout",
     "text": [
      "Saved predicted segmentation to: /content/SanJose/satellite_37.282816_-121.914367.jpg\n",
      "Inferencing on: /content/House_price/satellite_images/SanJose/satellite_37.348704_-121.867677.jpg\n",
      "Saved predicted segmentation to: /content/SanJose/satellite_37.348704_-121.867677.jpg\n",
      "Inferencing on: /content/House_price/satellite_images/SanJose/satellite_37.253263_-121.822145.jpg\n",
      "Saved predicted segmentation to: /content/SanJose/satellite_37.253263_-121.822145.jpg\n",
      "Inferencing on: /content/House_price/satellite_images/SanJose/satellite_37.395524_-121.860891.jpg\n",
      "Saved predicted segmentation to: /content/SanJose/satellite_37.395524_-121.860891.jpg\n",
      "Inferencing on: /content/House_price/satellite_images/SanJose/satellite_37.311754_-121.901538.jpg\n",
      "Saved predicted segmentation to: /content/SanJose/satellite_37.311754_-121.901538.jpg\n",
      "Inferencing on: /content/House_price/satellite_images/SanJose/satellite_37.318127_-121.955521.jpg\n",
      "Saved predicted segmentation to: /content/SanJose/satellite_37.318127_-121.955521.jpg\n",
      "Inferencing on: /content/House_price/satellite_images/SanJose/satellite_37.257237_-121.837371.jpg\n",
      "Saved predicted segmentation to: /content/SanJose/satellite_37.257237_-121.837371.jpg\n",
      "Inferencing on: /content/House_price/satellite_images/SanJose/satellite_37.262314_-121.925573.jpg\n"
     ]
    },
    {
     "output_type": "stream",
     "name": "stderr",
     "text": [
      "Processing Images:  87%|████████▋ | 2460/2837 [01:12<00:10, 34.36image/s]"
     ]
    },
    {
     "output_type": "stream",
     "name": "stdout",
     "text": [
      "Saved predicted segmentation to: /content/SanJose/satellite_37.262314_-121.925573.jpg\n",
      "Inferencing on: /content/House_price/satellite_images/SanJose/satellite_37.379203_-121.854633.jpg\n",
      "Saved predicted segmentation to: /content/SanJose/satellite_37.379203_-121.854633.jpg\n",
      "Inferencing on: /content/House_price/satellite_images/SanJose/satellite_37.309424_-121.831308.jpg\n",
      "Saved predicted segmentation to: /content/SanJose/satellite_37.309424_-121.831308.jpg\n",
      "Inferencing on: /content/House_price/satellite_images/SanJose/satellite_37.355309_-121.894388.jpg\n",
      "Saved predicted segmentation to: /content/SanJose/satellite_37.355309_-121.894388.jpg\n",
      "Inferencing on: /content/House_price/satellite_images/SanJose/satellite_37.313157_-121.815794.jpg\n",
      "Saved predicted segmentation to: /content/SanJose/satellite_37.313157_-121.815794.jpg\n",
      "Inferencing on: /content/House_price/satellite_images/SanJose/satellite_37.258122_-121.816348.jpg\n",
      "Saved predicted segmentation to: /content/SanJose/satellite_37.258122_-121.816348.jpg\n",
      "Inferencing on: /content/House_price/satellite_images/SanJose/satellite_37.240009_-121.852031.jpg\n",
      "Saved predicted segmentation to: /content/SanJose/satellite_37.240009_-121.852031.jpg\n",
      "Inferencing on: /content/House_price/satellite_images/SanJose/satellite_37.415561_-121.820996.jpg\n"
     ]
    },
    {
     "output_type": "stream",
     "name": "stderr",
     "text": [
      "\rProcessing Images:  87%|████████▋ | 2464/2837 [01:12<00:10, 34.48image/s]"
     ]
    },
    {
     "output_type": "stream",
     "name": "stdout",
     "text": [
      "Saved predicted segmentation to: /content/SanJose/satellite_37.415561_-121.820996.jpg\n",
      "Inferencing on: /content/House_price/satellite_images/SanJose/satellite_37.317235_-121.991494.jpg\n",
      "Saved predicted segmentation to: /content/SanJose/satellite_37.317235_-121.991494.jpg\n",
      "Inferencing on: /content/House_price/satellite_images/SanJose/satellite_37.261639_-121.796393.jpg\n",
      "Saved predicted segmentation to: /content/SanJose/satellite_37.261639_-121.796393.jpg\n",
      "Inferencing on: /content/House_price/satellite_images/SanJose/satellite_37.344894_-121.891849.jpg\n",
      "Saved predicted segmentation to: /content/SanJose/satellite_37.344894_-121.891849.jpg\n",
      "Inferencing on: /content/House_price/satellite_images/SanJose/satellite_37.240846_-121.838027.jpg\n",
      "Saved predicted segmentation to: /content/SanJose/satellite_37.240846_-121.838027.jpg\n",
      "Inferencing on: /content/House_price/satellite_images/SanJose/satellite_37.262921_-121.82295.jpg\n",
      "Saved predicted segmentation to: /content/SanJose/satellite_37.262921_-121.82295.jpg\n",
      "Inferencing on: /content/House_price/satellite_images/SanJose/satellite_37.322289_-121.90456.jpg\n",
      "Saved predicted segmentation to: /content/SanJose/satellite_37.322289_-121.90456.jpg\n",
      "Inferencing on: /content/House_price/satellite_images/SanJose/satellite_37.252764_-121.822138.jpg\n"
     ]
    },
    {
     "output_type": "stream",
     "name": "stderr",
     "text": [
      "Processing Images:  87%|████████▋ | 2472/2837 [01:12<00:10, 34.39image/s]"
     ]
    },
    {
     "output_type": "stream",
     "name": "stdout",
     "text": [
      "Saved predicted segmentation to: /content/SanJose/satellite_37.252764_-121.822138.jpg\n",
      "Inferencing on: /content/House_price/satellite_images/SanJose/satellite_37.229276_-121.82843.jpg\n",
      "Saved predicted segmentation to: /content/SanJose/satellite_37.229276_-121.82843.jpg\n",
      "Inferencing on: /content/House_price/satellite_images/SanJose/satellite_37.341557_-121.881714.jpg\n",
      "Saved predicted segmentation to: /content/SanJose/satellite_37.341557_-121.881714.jpg\n",
      "Inferencing on: /content/House_price/satellite_images/SanJose/satellite_37.25088_-121.942092.jpg\n",
      "Saved predicted segmentation to: /content/SanJose/satellite_37.25088_-121.942092.jpg\n",
      "Inferencing on: /content/House_price/satellite_images/SanJose/satellite_37.301345_-121.839443.jpg\n",
      "Saved predicted segmentation to: /content/SanJose/satellite_37.301345_-121.839443.jpg\n",
      "Inferencing on: /content/House_price/satellite_images/SanJose/satellite_37.305538_-121.938147.jpg\n",
      "Saved predicted segmentation to: /content/SanJose/satellite_37.305538_-121.938147.jpg\n",
      "Inferencing on: /content/House_price/satellite_images/SanJose/satellite_37.322007_-121.876428.jpg\n",
      "Saved predicted segmentation to: /content/SanJose/satellite_37.322007_-121.876428.jpg\n",
      "Inferencing on: /content/House_price/satellite_images/SanJose/satellite_37.309075_-121.958171.jpg\n"
     ]
    },
    {
     "output_type": "stream",
     "name": "stderr",
     "text": [
      "Processing Images:  87%|████████▋ | 2480/2837 [01:12<00:10, 34.27image/s]"
     ]
    },
    {
     "output_type": "stream",
     "name": "stdout",
     "text": [
      "Saved predicted segmentation to: /content/SanJose/satellite_37.309075_-121.958171.jpg\n",
      "Inferencing on: /content/House_price/satellite_images/SanJose/satellite_37.241176_-121.888596.jpg\n",
      "Saved predicted segmentation to: /content/SanJose/satellite_37.241176_-121.888596.jpg\n",
      "Inferencing on: /content/House_price/satellite_images/SanJose/satellite_37.318879_-121.981623.jpg\n",
      "Saved predicted segmentation to: /content/SanJose/satellite_37.318879_-121.981623.jpg\n",
      "Inferencing on: /content/House_price/satellite_images/SanJose/satellite_37.379394_-121.896939.jpg\n",
      "Saved predicted segmentation to: /content/SanJose/satellite_37.379394_-121.896939.jpg\n",
      "Inferencing on: /content/House_price/satellite_images/SanJose/satellite_37.301662_-121.880204.jpg\n",
      "Saved predicted segmentation to: /content/SanJose/satellite_37.301662_-121.880204.jpg\n",
      "Inferencing on: /content/House_price/satellite_images/SanJose/satellite_37.323549_-121.868696.jpg\n",
      "Saved predicted segmentation to: /content/SanJose/satellite_37.323549_-121.868696.jpg\n",
      "Inferencing on: /content/House_price/satellite_images/SanJose/satellite_37.317109_-121.776144.jpg\n",
      "Saved predicted segmentation to: /content/SanJose/satellite_37.317109_-121.776144.jpg\n",
      "Inferencing on: /content/House_price/satellite_images/SanJose/satellite_37.270604_-121.864812.jpg\n"
     ]
    },
    {
     "output_type": "stream",
     "name": "stderr",
     "text": [
      "Processing Images:  88%|████████▊ | 2488/2837 [01:12<00:10, 34.14image/s]"
     ]
    },
    {
     "output_type": "stream",
     "name": "stdout",
     "text": [
      "Saved predicted segmentation to: /content/SanJose/satellite_37.270604_-121.864812.jpg\n",
      "Inferencing on: /content/House_price/satellite_images/SanJose/satellite_37.262463_-121.873887.jpg\n",
      "Saved predicted segmentation to: /content/SanJose/satellite_37.262463_-121.873887.jpg\n",
      "Inferencing on: /content/House_price/satellite_images/SanJose/satellite_37.345222_-121.819699.jpg\n",
      "Saved predicted segmentation to: /content/SanJose/satellite_37.345222_-121.819699.jpg\n",
      "Inferencing on: /content/House_price/satellite_images/SanJose/satellite_37.297021_-122.010498.jpg\n",
      "Saved predicted segmentation to: /content/SanJose/satellite_37.297021_-122.010498.jpg\n",
      "Inferencing on: /content/House_price/satellite_images/SanJose/satellite_37.217091_-121.860903.jpg\n",
      "Saved predicted segmentation to: /content/SanJose/satellite_37.217091_-121.860903.jpg\n",
      "Inferencing on: /content/House_price/satellite_images/SanJose/satellite_37.218481_-121.764314.jpg\n",
      "Saved predicted segmentation to: /content/SanJose/satellite_37.218481_-121.764314.jpg\n",
      "Inferencing on: /content/House_price/satellite_images/SanJose/satellite_37.270602_-121.911218.jpg\n",
      "Saved predicted segmentation to: /content/SanJose/satellite_37.270602_-121.911218.jpg\n",
      "Inferencing on: /content/House_price/satellite_images/SanJose/satellite_37.307174_-121.902307.jpg\n"
     ]
    },
    {
     "output_type": "stream",
     "name": "stderr",
     "text": [
      "\rProcessing Images:  88%|████████▊ | 2492/2837 [01:13<00:10, 33.93image/s]"
     ]
    },
    {
     "output_type": "stream",
     "name": "stdout",
     "text": [
      "Saved predicted segmentation to: /content/SanJose/satellite_37.307174_-121.902307.jpg\n",
      "Inferencing on: /content/House_price/satellite_images/SanJose/satellite_37.336035_-121.837346.jpg\n",
      "Saved predicted segmentation to: /content/SanJose/satellite_37.336035_-121.837346.jpg\n",
      "Inferencing on: /content/House_price/satellite_images/SanJose/satellite_37.298147_-121.877378.jpg\n",
      "Saved predicted segmentation to: /content/SanJose/satellite_37.298147_-121.877378.jpg\n",
      "Inferencing on: /content/House_price/satellite_images/SanJose/satellite_37.28894_-121.885029.jpg\n",
      "Saved predicted segmentation to: /content/SanJose/satellite_37.28894_-121.885029.jpg\n",
      "Inferencing on: /content/House_price/satellite_images/SanJose/satellite_37.407045_-121.846438.jpg\n",
      "Saved predicted segmentation to: /content/SanJose/satellite_37.407045_-121.846438.jpg\n",
      "Inferencing on: /content/House_price/satellite_images/SanJose/satellite_37.270465_-121.859665.jpg\n",
      "Saved predicted segmentation to: /content/SanJose/satellite_37.270465_-121.859665.jpg\n",
      "Inferencing on: /content/House_price/satellite_images/SanJose/satellite_37.317431_-121.923037.jpg\n",
      "Saved predicted segmentation to: /content/SanJose/satellite_37.317431_-121.923037.jpg\n",
      "Inferencing on: /content/House_price/satellite_images/SanJose/satellite_37.320201_-121.902043.jpg\n"
     ]
    },
    {
     "output_type": "stream",
     "name": "stderr",
     "text": [
      "Processing Images:  88%|████████▊ | 2500/2837 [01:13<00:09, 34.06image/s]"
     ]
    },
    {
     "output_type": "stream",
     "name": "stdout",
     "text": [
      "Saved predicted segmentation to: /content/SanJose/satellite_37.320201_-121.902043.jpg\n",
      "Inferencing on: /content/House_price/satellite_images/SanJose/satellite_37.279732_-121.86081.jpg\n",
      "Saved predicted segmentation to: /content/SanJose/satellite_37.279732_-121.86081.jpg\n",
      "Inferencing on: /content/House_price/satellite_images/SanJose/satellite_37.230628_-121.76382.jpg\n",
      "Saved predicted segmentation to: /content/SanJose/satellite_37.230628_-121.76382.jpg\n",
      "Inferencing on: /content/House_price/satellite_images/SanJose/satellite_37.228716_-121.834648.jpg\n",
      "Saved predicted segmentation to: /content/SanJose/satellite_37.228716_-121.834648.jpg\n",
      "Inferencing on: /content/House_price/satellite_images/SanJose/satellite_37.378789_-121.829749.jpg\n",
      "Saved predicted segmentation to: /content/SanJose/satellite_37.378789_-121.829749.jpg\n",
      "Inferencing on: /content/House_price/satellite_images/SanJose/satellite_37.322771_-121.986384.jpg\n",
      "Saved predicted segmentation to: /content/SanJose/satellite_37.322771_-121.986384.jpg\n",
      "Inferencing on: /content/House_price/satellite_images/SanJose/satellite_37.308014_-122.0312.jpg\n",
      "Saved predicted segmentation to: /content/SanJose/satellite_37.308014_-122.0312.jpg\n",
      "Inferencing on: /content/House_price/satellite_images/SanJose/satellite_37.411521_-121.853111.jpg\n"
     ]
    },
    {
     "output_type": "stream",
     "name": "stderr",
     "text": [
      "Processing Images:  88%|████████▊ | 2508/2837 [01:13<00:09, 34.25image/s]"
     ]
    },
    {
     "output_type": "stream",
     "name": "stdout",
     "text": [
      "Saved predicted segmentation to: /content/SanJose/satellite_37.411521_-121.853111.jpg\n",
      "Inferencing on: /content/House_price/satellite_images/SanJose/satellite_37.278643_-121.986465.jpg\n",
      "Saved predicted segmentation to: /content/SanJose/satellite_37.278643_-121.986465.jpg\n",
      "Inferencing on: /content/House_price/satellite_images/SanJose/satellite_37.297029_-121.754868.jpg\n",
      "Saved predicted segmentation to: /content/SanJose/satellite_37.297029_-121.754868.jpg\n",
      "Inferencing on: /content/House_price/satellite_images/SanJose/satellite_37.322179_-121.872007.jpg\n",
      "Saved predicted segmentation to: /content/SanJose/satellite_37.322179_-121.872007.jpg\n",
      "Inferencing on: /content/House_price/satellite_images/SanJose/satellite_37.296775_-121.938567.jpg\n",
      "Saved predicted segmentation to: /content/SanJose/satellite_37.296775_-121.938567.jpg\n",
      "Inferencing on: /content/House_price/satellite_images/SanJose/satellite_37.285374_-121.856483.jpg\n",
      "Saved predicted segmentation to: /content/SanJose/satellite_37.285374_-121.856483.jpg\n",
      "Inferencing on: /content/House_price/satellite_images/SanJose/satellite_37.296364_-121.869945.jpg\n",
      "Saved predicted segmentation to: /content/SanJose/satellite_37.296364_-121.869945.jpg\n",
      "Inferencing on: /content/House_price/satellite_images/SanJose/satellite_37.265717_-121.869878.jpg\n"
     ]
    },
    {
     "output_type": "stream",
     "name": "stderr",
     "text": [
      "Processing Images:  89%|████████▊ | 2516/2837 [01:13<00:09, 34.27image/s]"
     ]
    },
    {
     "output_type": "stream",
     "name": "stdout",
     "text": [
      "Saved predicted segmentation to: /content/SanJose/satellite_37.265717_-121.869878.jpg\n",
      "Inferencing on: /content/House_price/satellite_images/SanJose/satellite_37.254574_-121.808372.jpg\n",
      "Saved predicted segmentation to: /content/SanJose/satellite_37.254574_-121.808372.jpg\n",
      "Inferencing on: /content/House_price/satellite_images/SanJose/satellite_37.264711_-121.810608.jpg\n",
      "Saved predicted segmentation to: /content/SanJose/satellite_37.264711_-121.810608.jpg\n",
      "Inferencing on: /content/House_price/satellite_images/SanJose/satellite_37.31142_-121.775043.jpg\n",
      "Saved predicted segmentation to: /content/SanJose/satellite_37.31142_-121.775043.jpg\n",
      "Inferencing on: /content/House_price/satellite_images/SanJose/satellite_37.2599_-121.907436.jpg\n",
      "Saved predicted segmentation to: /content/SanJose/satellite_37.2599_-121.907436.jpg\n",
      "Inferencing on: /content/House_price/satellite_images/SanJose/satellite_37.294315_-122.019505.jpg\n",
      "Saved predicted segmentation to: /content/SanJose/satellite_37.294315_-122.019505.jpg\n",
      "Inferencing on: /content/House_price/satellite_images/SanJose/satellite_37.295026_-121.756278.jpg\n",
      "Saved predicted segmentation to: /content/SanJose/satellite_37.295026_-121.756278.jpg\n",
      "Inferencing on: /content/House_price/satellite_images/SanJose/satellite_37.240816_-121.832292.jpg\n"
     ]
    },
    {
     "output_type": "stream",
     "name": "stderr",
     "text": [
      "\rProcessing Images:  89%|████████▉ | 2520/2837 [01:13<00:09, 34.25image/s]"
     ]
    },
    {
     "output_type": "stream",
     "name": "stdout",
     "text": [
      "Saved predicted segmentation to: /content/SanJose/satellite_37.240816_-121.832292.jpg\n",
      "Inferencing on: /content/House_price/satellite_images/SanJose/satellite_37.33381_-121.885718.jpg\n",
      "Saved predicted segmentation to: /content/SanJose/satellite_37.33381_-121.885718.jpg\n",
      "Inferencing on: /content/House_price/satellite_images/SanJose/satellite_37.316376_-121.899299.jpg\n",
      "Saved predicted segmentation to: /content/SanJose/satellite_37.316376_-121.899299.jpg\n",
      "Inferencing on: /content/House_price/satellite_images/SanJose/satellite_37.361803_-121.839643.jpg\n",
      "Saved predicted segmentation to: /content/SanJose/satellite_37.361803_-121.839643.jpg\n",
      "Inferencing on: /content/House_price/satellite_images/SanJose/satellite_37.275262_-121.805376.jpg\n",
      "Saved predicted segmentation to: /content/SanJose/satellite_37.275262_-121.805376.jpg\n",
      "Inferencing on: /content/House_price/satellite_images/SanJose/satellite_37.296676_-121.757128.jpg\n",
      "Saved predicted segmentation to: /content/SanJose/satellite_37.296676_-121.757128.jpg\n",
      "Inferencing on: /content/House_price/satellite_images/SanJose/satellite_37.31181_-121.878804.jpg\n",
      "Saved predicted segmentation to: /content/SanJose/satellite_37.31181_-121.878804.jpg\n",
      "Inferencing on: /content/House_price/satellite_images/SanJose/satellite_37.293882_-121.879846.jpg\n"
     ]
    },
    {
     "output_type": "stream",
     "name": "stderr",
     "text": [
      "Processing Images:  89%|████████▉ | 2528/2837 [01:14<00:09, 33.59image/s]"
     ]
    },
    {
     "output_type": "stream",
     "name": "stdout",
     "text": [
      "Saved predicted segmentation to: /content/SanJose/satellite_37.293882_-121.879846.jpg\n",
      "Inferencing on: /content/House_price/satellite_images/SanJose/satellite_37.339169_-121.854927.jpg\n",
      "Saved predicted segmentation to: /content/SanJose/satellite_37.339169_-121.854927.jpg\n",
      "Inferencing on: /content/House_price/satellite_images/SanJose/satellite_37.294824_-121.753528.jpg\n",
      "Saved predicted segmentation to: /content/SanJose/satellite_37.294824_-121.753528.jpg\n",
      "Inferencing on: /content/House_price/satellite_images/SanJose/satellite_37.239866_-121.86648.jpg\n",
      "Saved predicted segmentation to: /content/SanJose/satellite_37.239866_-121.86648.jpg\n",
      "Inferencing on: /content/House_price/satellite_images/SanJose/satellite_37.33966_-121.778034.jpg\n",
      "Saved predicted segmentation to: /content/SanJose/satellite_37.33966_-121.778034.jpg\n",
      "Inferencing on: /content/House_price/satellite_images/SanJose/satellite_37.239923_-121.821503.jpg\n",
      "Saved predicted segmentation to: /content/SanJose/satellite_37.239923_-121.821503.jpg\n",
      "Inferencing on: /content/House_price/satellite_images/SanJose/satellite_37.303767_-121.842142.jpg\n",
      "Saved predicted segmentation to: /content/SanJose/satellite_37.303767_-121.842142.jpg\n",
      "Inferencing on: /content/House_price/satellite_images/SanJose/satellite_37.238148_-121.822768.jpg\n"
     ]
    },
    {
     "output_type": "stream",
     "name": "stderr",
     "text": [
      "Processing Images:  89%|████████▉ | 2536/2837 [01:14<00:08, 33.58image/s]"
     ]
    },
    {
     "output_type": "stream",
     "name": "stdout",
     "text": [
      "Saved predicted segmentation to: /content/SanJose/satellite_37.238148_-121.822768.jpg\n",
      "Inferencing on: /content/House_price/satellite_images/SanJose/satellite_37.304918_-122.014733.jpg\n",
      "Saved predicted segmentation to: /content/SanJose/satellite_37.304918_-122.014733.jpg\n",
      "Inferencing on: /content/House_price/satellite_images/SanJose/satellite_37.29441_-121.787454.jpg\n",
      "Saved predicted segmentation to: /content/SanJose/satellite_37.29441_-121.787454.jpg\n",
      "Inferencing on: /content/House_price/satellite_images/SanJose/satellite_37.283402_-121.836101.jpg\n",
      "Saved predicted segmentation to: /content/SanJose/satellite_37.283402_-121.836101.jpg\n",
      "Inferencing on: /content/House_price/satellite_images/SanJose/satellite_37.335261_-121.919773.jpg\n",
      "Saved predicted segmentation to: /content/SanJose/satellite_37.335261_-121.919773.jpg\n",
      "Inferencing on: /content/House_price/satellite_images/SanJose/satellite_37.240929_-121.894276.jpg\n",
      "Saved predicted segmentation to: /content/SanJose/satellite_37.240929_-121.894276.jpg\n",
      "Inferencing on: /content/House_price/satellite_images/SanJose/satellite_37.313267_-121.81341.jpg\n",
      "Saved predicted segmentation to: /content/SanJose/satellite_37.313267_-121.81341.jpg\n",
      "Inferencing on: /content/House_price/satellite_images/SanJose/satellite_37.21422_-121.856669.jpg\n"
     ]
    },
    {
     "output_type": "stream",
     "name": "stderr",
     "text": [
      "Processing Images:  90%|████████▉ | 2544/2837 [01:14<00:08, 33.59image/s]"
     ]
    },
    {
     "output_type": "stream",
     "name": "stdout",
     "text": [
      "Saved predicted segmentation to: /content/SanJose/satellite_37.21422_-121.856669.jpg\n",
      "Inferencing on: /content/House_price/satellite_images/SanJose/satellite_37.397038_-121.834942.jpg\n",
      "Saved predicted segmentation to: /content/SanJose/satellite_37.397038_-121.834942.jpg\n",
      "Inferencing on: /content/House_price/satellite_images/SanJose/satellite_37.257326_-121.815953.jpg\n",
      "Saved predicted segmentation to: /content/SanJose/satellite_37.257326_-121.815953.jpg\n",
      "Inferencing on: /content/House_price/satellite_images/SanJose/satellite_37.322674_-121.838367.jpg\n",
      "Saved predicted segmentation to: /content/SanJose/satellite_37.322674_-121.838367.jpg\n",
      "Inferencing on: /content/House_price/satellite_images/SanJose/satellite_37.344293_-121.866064.jpg\n",
      "Saved predicted segmentation to: /content/SanJose/satellite_37.344293_-121.866064.jpg\n",
      "Inferencing on: /content/House_price/satellite_images/SanJose/satellite_37.316445_-121.900778.jpg\n",
      "Saved predicted segmentation to: /content/SanJose/satellite_37.316445_-121.900778.jpg\n",
      "Inferencing on: /content/House_price/satellite_images/SanJose/satellite_37.299969_-122.016325.jpg\n",
      "Saved predicted segmentation to: /content/SanJose/satellite_37.299969_-122.016325.jpg\n",
      "Inferencing on: /content/House_price/satellite_images/SanJose/satellite_37.262047_-121.815979.jpg\n"
     ]
    },
    {
     "output_type": "stream",
     "name": "stderr",
     "text": [
      "\rProcessing Images:  90%|████████▉ | 2548/2837 [01:14<00:08, 33.47image/s]"
     ]
    },
    {
     "output_type": "stream",
     "name": "stdout",
     "text": [
      "Saved predicted segmentation to: /content/SanJose/satellite_37.262047_-121.815979.jpg\n",
      "Inferencing on: /content/House_price/satellite_images/SanJose/satellite_37.30676_-121.80741.jpg\n",
      "Saved predicted segmentation to: /content/SanJose/satellite_37.30676_-121.80741.jpg\n",
      "Inferencing on: /content/House_price/satellite_images/SanJose/satellite_37.324736_-121.853518.jpg\n",
      "Saved predicted segmentation to: /content/SanJose/satellite_37.324736_-121.853518.jpg\n",
      "Inferencing on: /content/House_price/satellite_images/SanJose/satellite_37.303291_-121.800299.jpg\n",
      "Saved predicted segmentation to: /content/SanJose/satellite_37.303291_-121.800299.jpg\n",
      "Inferencing on: /content/House_price/satellite_images/SanJose/satellite_37.296154_-121.838656.jpg\n",
      "Saved predicted segmentation to: /content/SanJose/satellite_37.296154_-121.838656.jpg\n",
      "Inferencing on: /content/House_price/satellite_images/SanJose/satellite_37.340006_-121.876905.jpg\n",
      "Saved predicted segmentation to: /content/SanJose/satellite_37.340006_-121.876905.jpg\n",
      "Inferencing on: /content/House_price/satellite_images/SanJose/satellite_37.388812_-121.899188.jpg\n",
      "Saved predicted segmentation to: /content/SanJose/satellite_37.388812_-121.899188.jpg\n",
      "Inferencing on: /content/House_price/satellite_images/SanJose/satellite_37.385599_-121.81916.jpg\n"
     ]
    },
    {
     "output_type": "stream",
     "name": "stderr",
     "text": [
      "Processing Images:  90%|█████████ | 2556/2837 [01:14<00:08, 33.30image/s]"
     ]
    },
    {
     "output_type": "stream",
     "name": "stdout",
     "text": [
      "Saved predicted segmentation to: /content/SanJose/satellite_37.385599_-121.81916.jpg\n",
      "Inferencing on: /content/House_price/satellite_images/SanJose/satellite_37.332046_-121.825701.jpg\n",
      "Saved predicted segmentation to: /content/SanJose/satellite_37.332046_-121.825701.jpg\n",
      "Inferencing on: /content/House_price/satellite_images/SanJose/satellite_37.285541_-121.902468.jpg\n",
      "Saved predicted segmentation to: /content/SanJose/satellite_37.285541_-121.902468.jpg\n",
      "Inferencing on: /content/House_price/satellite_images/SanJose/satellite_37.375822_-121.797226.jpg\n",
      "Saved predicted segmentation to: /content/SanJose/satellite_37.375822_-121.797226.jpg\n",
      "Inferencing on: /content/House_price/satellite_images/SanJose/satellite_37.271417_-121.887568.jpg\n",
      "Saved predicted segmentation to: /content/SanJose/satellite_37.271417_-121.887568.jpg\n",
      "Inferencing on: /content/House_price/satellite_images/SanJose/satellite_37.234941_-121.804936.jpg\n",
      "Saved predicted segmentation to: /content/SanJose/satellite_37.234941_-121.804936.jpg\n",
      "Inferencing on: /content/House_price/satellite_images/SanJose/satellite_37.315903_-121.808426.jpg\n",
      "Saved predicted segmentation to: /content/SanJose/satellite_37.315903_-121.808426.jpg\n",
      "Inferencing on: /content/House_price/satellite_images/SanJose/satellite_37.301929_-121.89488.jpg\n"
     ]
    },
    {
     "output_type": "stream",
     "name": "stderr",
     "text": [
      "Processing Images:  90%|█████████ | 2564/2837 [01:15<00:08, 33.38image/s]"
     ]
    },
    {
     "output_type": "stream",
     "name": "stdout",
     "text": [
      "Saved predicted segmentation to: /content/SanJose/satellite_37.301929_-121.89488.jpg\n",
      "Inferencing on: /content/House_price/satellite_images/SanJose/satellite_37.275106_-121.920919.jpg\n",
      "Saved predicted segmentation to: /content/SanJose/satellite_37.275106_-121.920919.jpg\n",
      "Inferencing on: /content/House_price/satellite_images/SanJose/satellite_37.238056_-121.85433.jpg\n",
      "Saved predicted segmentation to: /content/SanJose/satellite_37.238056_-121.85433.jpg\n",
      "Inferencing on: /content/House_price/satellite_images/SanJose/satellite_37.320549_-121.892554.jpg\n",
      "Saved predicted segmentation to: /content/SanJose/satellite_37.320549_-121.892554.jpg\n",
      "Inferencing on: /content/House_price/satellite_images/SanJose/satellite_37.294646_-121.89435.jpg\n",
      "Saved predicted segmentation to: /content/SanJose/satellite_37.294646_-121.89435.jpg\n",
      "Inferencing on: /content/House_price/satellite_images/SanJose/satellite_37.310409_-121.879675.jpg\n",
      "Saved predicted segmentation to: /content/SanJose/satellite_37.310409_-121.879675.jpg\n",
      "Inferencing on: /content/House_price/satellite_images/SanJose/satellite_37.397509_-121.875988.jpg\n",
      "Saved predicted segmentation to: /content/SanJose/satellite_37.397509_-121.875988.jpg\n",
      "Inferencing on: /content/House_price/satellite_images/SanJose/satellite_37.302935_-121.921639.jpg\n"
     ]
    },
    {
     "output_type": "stream",
     "name": "stderr",
     "text": [
      "Processing Images:  91%|█████████ | 2572/2837 [01:15<00:07, 33.28image/s]"
     ]
    },
    {
     "output_type": "stream",
     "name": "stdout",
     "text": [
      "Saved predicted segmentation to: /content/SanJose/satellite_37.302935_-121.921639.jpg\n",
      "Inferencing on: /content/House_price/satellite_images/SanJose/satellite_37.360566_-121.890629.jpg\n",
      "Saved predicted segmentation to: /content/SanJose/satellite_37.360566_-121.890629.jpg\n",
      "Inferencing on: /content/House_price/satellite_images/SanJose/satellite_37.3820721_-121.857326.jpg\n",
      "Saved predicted segmentation to: /content/SanJose/satellite_37.3820721_-121.857326.jpg\n",
      "Inferencing on: /content/House_price/satellite_images/SanJose/satellite_37.32189_-121.875494.jpg\n",
      "Saved predicted segmentation to: /content/SanJose/satellite_37.32189_-121.875494.jpg\n",
      "Inferencing on: /content/House_price/satellite_images/SanJose/satellite_37.271142_-121.933856.jpg\n",
      "Saved predicted segmentation to: /content/SanJose/satellite_37.271142_-121.933856.jpg\n",
      "Inferencing on: /content/House_price/satellite_images/SanJose/satellite_37.379774_-121.853611.jpg\n",
      "Saved predicted segmentation to: /content/SanJose/satellite_37.379774_-121.853611.jpg\n",
      "Inferencing on: /content/House_price/satellite_images/SanJose/satellite_37.30164_-121.870331.jpg\n",
      "Saved predicted segmentation to: /content/SanJose/satellite_37.30164_-121.870331.jpg\n",
      "Inferencing on: /content/House_price/satellite_images/SanJose/satellite_37.251629_-121.836245.jpg\n"
     ]
    },
    {
     "output_type": "stream",
     "name": "stderr",
     "text": [
      "\rProcessing Images:  91%|█████████ | 2576/2837 [01:15<00:07, 33.51image/s]"
     ]
    },
    {
     "output_type": "stream",
     "name": "stdout",
     "text": [
      "Saved predicted segmentation to: /content/SanJose/satellite_37.251629_-121.836245.jpg\n",
      "Inferencing on: /content/House_price/satellite_images/SanJose/satellite_37.317442_-121.795703.jpg\n",
      "Saved predicted segmentation to: /content/SanJose/satellite_37.317442_-121.795703.jpg\n",
      "Inferencing on: /content/House_price/satellite_images/SanJose/satellite_37.299975_-121.777805.jpg\n",
      "Saved predicted segmentation to: /content/SanJose/satellite_37.299975_-121.777805.jpg\n",
      "Inferencing on: /content/House_price/satellite_images/SanJose/satellite_37.393056_-121.857337.jpg\n",
      "Saved predicted segmentation to: /content/SanJose/satellite_37.393056_-121.857337.jpg\n",
      "Inferencing on: /content/House_price/satellite_images/SanJose/satellite_37.252672_-121.901054.jpg\n",
      "Saved predicted segmentation to: /content/SanJose/satellite_37.252672_-121.901054.jpg\n",
      "Inferencing on: /content/House_price/satellite_images/SanJose/satellite_37.311021_-121.796855.jpg\n",
      "Saved predicted segmentation to: /content/SanJose/satellite_37.311021_-121.796855.jpg\n",
      "Inferencing on: /content/House_price/satellite_images/SanJose/satellite_37.415344_-121.963539.jpg\n",
      "Saved predicted segmentation to: /content/SanJose/satellite_37.415344_-121.963539.jpg\n",
      "Inferencing on: /content/House_price/satellite_images/SanJose/satellite_37.232242_-121.816172.jpg\n"
     ]
    },
    {
     "output_type": "stream",
     "name": "stderr",
     "text": [
      "Processing Images:  91%|█████████ | 2584/2837 [01:15<00:07, 33.59image/s]"
     ]
    },
    {
     "output_type": "stream",
     "name": "stdout",
     "text": [
      "Saved predicted segmentation to: /content/SanJose/satellite_37.232242_-121.816172.jpg\n",
      "Inferencing on: /content/House_price/satellite_images/SanJose/satellite_37.324293_-121.776589.jpg\n",
      "Saved predicted segmentation to: /content/SanJose/satellite_37.324293_-121.776589.jpg\n",
      "Inferencing on: /content/House_price/satellite_images/SanJose/satellite_37.281369_-121.861628.jpg\n",
      "Saved predicted segmentation to: /content/SanJose/satellite_37.281369_-121.861628.jpg\n",
      "Inferencing on: /content/House_price/satellite_images/SanJose/satellite_37.217011_-121.881831.jpg\n",
      "Saved predicted segmentation to: /content/SanJose/satellite_37.217011_-121.881831.jpg\n",
      "Inferencing on: /content/House_price/satellite_images/SanJose/satellite_37.380164_-121.896261.jpg\n",
      "Saved predicted segmentation to: /content/SanJose/satellite_37.380164_-121.896261.jpg\n",
      "Inferencing on: /content/House_price/satellite_images/SanJose/satellite_37.322078_-121.916879.jpg\n",
      "Saved predicted segmentation to: /content/SanJose/satellite_37.322078_-121.916879.jpg\n",
      "Inferencing on: /content/House_price/satellite_images/SanJose/satellite_37.280548_-121.862968.jpg\n",
      "Saved predicted segmentation to: /content/SanJose/satellite_37.280548_-121.862968.jpg\n",
      "Inferencing on: /content/House_price/satellite_images/SanJose/satellite_37.239693_-121.796364.jpg\n"
     ]
    },
    {
     "output_type": "stream",
     "name": "stderr",
     "text": [
      "Processing Images:  91%|█████████▏| 2592/2837 [01:16<00:07, 33.90image/s]"
     ]
    },
    {
     "output_type": "stream",
     "name": "stdout",
     "text": [
      "Saved predicted segmentation to: /content/SanJose/satellite_37.239693_-121.796364.jpg\n",
      "Inferencing on: /content/House_price/satellite_images/SanJose/satellite_37.298925_-121.925951.jpg\n",
      "Saved predicted segmentation to: /content/SanJose/satellite_37.298925_-121.925951.jpg\n",
      "Inferencing on: /content/House_price/satellite_images/SanJose/satellite_37.310175_-121.944173.jpg\n",
      "Saved predicted segmentation to: /content/SanJose/satellite_37.310175_-121.944173.jpg\n",
      "Inferencing on: /content/House_price/satellite_images/SanJose/satellite_37.213813_-121.863591.jpg\n",
      "Saved predicted segmentation to: /content/SanJose/satellite_37.213813_-121.863591.jpg\n",
      "Inferencing on: /content/House_price/satellite_images/SanJose/satellite_37.409319_-121.863687.jpg\n",
      "Saved predicted segmentation to: /content/SanJose/satellite_37.409319_-121.863687.jpg\n",
      "Inferencing on: /content/House_price/satellite_images/SanJose/satellite_37.341526_-121.885502.jpg\n",
      "Saved predicted segmentation to: /content/SanJose/satellite_37.341526_-121.885502.jpg\n",
      "Inferencing on: /content/House_price/satellite_images/SanJose/satellite_37.370427_-121.813472.jpg\n",
      "Saved predicted segmentation to: /content/SanJose/satellite_37.370427_-121.813472.jpg\n",
      "Inferencing on: /content/House_price/satellite_images/SanJose/satellite_37.285335_-121.886988.jpg\n"
     ]
    },
    {
     "output_type": "stream",
     "name": "stderr",
     "text": [
      "Processing Images:  92%|█████████▏| 2600/2837 [01:16<00:06, 34.04image/s]"
     ]
    },
    {
     "output_type": "stream",
     "name": "stdout",
     "text": [
      "Saved predicted segmentation to: /content/SanJose/satellite_37.285335_-121.886988.jpg\n",
      "Inferencing on: /content/House_price/satellite_images/SanJose/satellite_37.307317_-121.826134.jpg\n",
      "Saved predicted segmentation to: /content/SanJose/satellite_37.307317_-121.826134.jpg\n",
      "Inferencing on: /content/House_price/satellite_images/SanJose/satellite_37.323319_-121.799417.jpg\n",
      "Saved predicted segmentation to: /content/SanJose/satellite_37.323319_-121.799417.jpg\n",
      "Inferencing on: /content/House_price/satellite_images/SanJose/satellite_37.376279_-121.880652.jpg\n",
      "Saved predicted segmentation to: /content/SanJose/satellite_37.376279_-121.880652.jpg\n",
      "Inferencing on: /content/House_price/satellite_images/SanJose/satellite_37.326089_-121.885933.jpg\n",
      "Saved predicted segmentation to: /content/SanJose/satellite_37.326089_-121.885933.jpg\n",
      "Inferencing on: /content/House_price/satellite_images/SanJose/satellite_37.260661_-121.855359.jpg\n",
      "Saved predicted segmentation to: /content/SanJose/satellite_37.260661_-121.855359.jpg\n",
      "Inferencing on: /content/House_price/satellite_images/SanJose/satellite_37.385513_-121.896882.jpg\n",
      "Saved predicted segmentation to: /content/SanJose/satellite_37.385513_-121.896882.jpg\n",
      "Inferencing on: /content/House_price/satellite_images/SanJose/satellite_37.330172_-121.934687.jpg\n"
     ]
    },
    {
     "output_type": "stream",
     "name": "stderr",
     "text": [
      "\rProcessing Images:  92%|█████████▏| 2604/2837 [01:16<00:06, 33.97image/s]"
     ]
    },
    {
     "output_type": "stream",
     "name": "stdout",
     "text": [
      "Saved predicted segmentation to: /content/SanJose/satellite_37.330172_-121.934687.jpg\n",
      "Inferencing on: /content/House_price/satellite_images/SanJose/satellite_37.35861_-121.90482.jpg\n",
      "Saved predicted segmentation to: /content/SanJose/satellite_37.35861_-121.90482.jpg\n",
      "Inferencing on: /content/House_price/satellite_images/SanJose/satellite_37.331155_-121.949505.jpg\n",
      "Saved predicted segmentation to: /content/SanJose/satellite_37.331155_-121.949505.jpg\n",
      "Inferencing on: /content/House_price/satellite_images/SanJose/satellite_37.318453_-121.932615.jpg\n",
      "Saved predicted segmentation to: /content/SanJose/satellite_37.318453_-121.932615.jpg\n",
      "Inferencing on: /content/House_price/satellite_images/SanJose/satellite_37.272959_-121.894535.jpg\n",
      "Saved predicted segmentation to: /content/SanJose/satellite_37.272959_-121.894535.jpg\n",
      "Inferencing on: /content/House_price/satellite_images/SanJose/satellite_37.380574_-121.818681.jpg\n",
      "Saved predicted segmentation to: /content/SanJose/satellite_37.380574_-121.818681.jpg\n",
      "Inferencing on: /content/House_price/satellite_images/SanJose/satellite_37.363358_-121.841777.jpg\n",
      "Saved predicted segmentation to: /content/SanJose/satellite_37.363358_-121.841777.jpg\n",
      "Inferencing on: /content/House_price/satellite_images/SanJose/satellite_37.238968_-121.811845.jpg\n"
     ]
    },
    {
     "output_type": "stream",
     "name": "stderr",
     "text": [
      "Processing Images:  92%|█████████▏| 2612/2837 [01:16<00:06, 33.92image/s]"
     ]
    },
    {
     "output_type": "stream",
     "name": "stdout",
     "text": [
      "Saved predicted segmentation to: /content/SanJose/satellite_37.238968_-121.811845.jpg\n",
      "Inferencing on: /content/House_price/satellite_images/SanJose/satellite_37.337144_-121.837302.jpg\n",
      "Saved predicted segmentation to: /content/SanJose/satellite_37.337144_-121.837302.jpg\n",
      "Inferencing on: /content/House_price/satellite_images/SanJose/satellite_37.35688_-121.854175.jpg\n",
      "Saved predicted segmentation to: /content/SanJose/satellite_37.35688_-121.854175.jpg\n",
      "Inferencing on: /content/House_price/satellite_images/SanJose/satellite_37.301326_-121.880059.jpg\n",
      "Saved predicted segmentation to: /content/SanJose/satellite_37.301326_-121.880059.jpg\n",
      "Inferencing on: /content/House_price/satellite_images/SanJose/satellite_37.332969_-121.929883.jpg\n",
      "Saved predicted segmentation to: /content/SanJose/satellite_37.332969_-121.929883.jpg\n",
      "Inferencing on: /content/House_price/satellite_images/SanJose/satellite_37.275997_-121.882858.jpg\n",
      "Saved predicted segmentation to: /content/SanJose/satellite_37.275997_-121.882858.jpg\n",
      "Inferencing on: /content/House_price/satellite_images/SanJose/satellite_37.258564_-121.825177.jpg\n",
      "Saved predicted segmentation to: /content/SanJose/satellite_37.258564_-121.825177.jpg\n",
      "Inferencing on: /content/House_price/satellite_images/SanJose/satellite_37.229516_-121.822589.jpg\n"
     ]
    },
    {
     "output_type": "stream",
     "name": "stderr",
     "text": [
      "Processing Images:  92%|█████████▏| 2620/2837 [01:16<00:06, 34.04image/s]"
     ]
    },
    {
     "output_type": "stream",
     "name": "stdout",
     "text": [
      "Saved predicted segmentation to: /content/SanJose/satellite_37.229516_-121.822589.jpg\n",
      "Inferencing on: /content/House_price/satellite_images/SanJose/satellite_37.269852_-121.851247.jpg\n",
      "Saved predicted segmentation to: /content/SanJose/satellite_37.269852_-121.851247.jpg\n",
      "Inferencing on: /content/House_price/satellite_images/SanJose/satellite_37.276089_-121.886699.jpg\n",
      "Saved predicted segmentation to: /content/SanJose/satellite_37.276089_-121.886699.jpg\n",
      "Inferencing on: /content/House_price/satellite_images/SanJose/satellite_37.327474_-121.769166.jpg\n",
      "Saved predicted segmentation to: /content/SanJose/satellite_37.327474_-121.769166.jpg\n",
      "Inferencing on: /content/House_price/satellite_images/SanJose/satellite_37.268012_-121.848953.jpg\n",
      "Saved predicted segmentation to: /content/SanJose/satellite_37.268012_-121.848953.jpg\n",
      "Inferencing on: /content/House_price/satellite_images/SanJose/satellite_37.17245_-121.820517.jpg\n",
      "Saved predicted segmentation to: /content/SanJose/satellite_37.17245_-121.820517.jpg\n",
      "Inferencing on: /content/House_price/satellite_images/SanJose/satellite_37.323035_-121.920842.jpg\n",
      "Saved predicted segmentation to: /content/SanJose/satellite_37.323035_-121.920842.jpg\n",
      "Inferencing on: /content/House_price/satellite_images/SanJose/satellite_37.417435_-121.961853.jpg\n"
     ]
    },
    {
     "output_type": "stream",
     "name": "stderr",
     "text": [
      "Processing Images:  93%|█████████▎| 2628/2837 [01:17<00:06, 33.82image/s]"
     ]
    },
    {
     "output_type": "stream",
     "name": "stdout",
     "text": [
      "Saved predicted segmentation to: /content/SanJose/satellite_37.417435_-121.961853.jpg\n",
      "Inferencing on: /content/House_price/satellite_images/SanJose/satellite_37.310065_-121.908491.jpg\n",
      "Saved predicted segmentation to: /content/SanJose/satellite_37.310065_-121.908491.jpg\n",
      "Inferencing on: /content/House_price/satellite_images/SanJose/satellite_37.322052_-121.934135.jpg\n",
      "Saved predicted segmentation to: /content/SanJose/satellite_37.322052_-121.934135.jpg\n",
      "Inferencing on: /content/House_price/satellite_images/SanJose/satellite_37.392161_-121.880034.jpg\n",
      "Saved predicted segmentation to: /content/SanJose/satellite_37.392161_-121.880034.jpg\n",
      "Inferencing on: /content/House_price/satellite_images/SanJose/satellite_37.256695_-121.842763.jpg\n",
      "Saved predicted segmentation to: /content/SanJose/satellite_37.256695_-121.842763.jpg\n",
      "Inferencing on: /content/House_price/satellite_images/SanJose/satellite_37.296976_-121.877638.jpg\n",
      "Saved predicted segmentation to: /content/SanJose/satellite_37.296976_-121.877638.jpg\n",
      "Inferencing on: /content/House_price/satellite_images/SanJose/satellite_37.229547_-121.793689.jpg\n",
      "Saved predicted segmentation to: /content/SanJose/satellite_37.229547_-121.793689.jpg\n",
      "Inferencing on: /content/House_price/satellite_images/SanJose/satellite_37.269824_-121.905093.jpg\n"
     ]
    },
    {
     "output_type": "stream",
     "name": "stderr",
     "text": [
      "\rProcessing Images:  93%|█████████▎| 2632/2837 [01:17<00:06, 34.01image/s]"
     ]
    },
    {
     "output_type": "stream",
     "name": "stdout",
     "text": [
      "Saved predicted segmentation to: /content/SanJose/satellite_37.269824_-121.905093.jpg\n",
      "Inferencing on: /content/House_price/satellite_images/SanJose/satellite_37.35864_-121.850493.jpg\n",
      "Saved predicted segmentation to: /content/SanJose/satellite_37.35864_-121.850493.jpg\n",
      "Inferencing on: /content/House_price/satellite_images/SanJose/satellite_37.256337_-121.834752.jpg\n",
      "Saved predicted segmentation to: /content/SanJose/satellite_37.256337_-121.834752.jpg\n",
      "Inferencing on: /content/House_price/satellite_images/SanJose/satellite_37.312633_-121.918824.jpg\n",
      "Saved predicted segmentation to: /content/SanJose/satellite_37.312633_-121.918824.jpg\n",
      "Inferencing on: /content/House_price/satellite_images/SanJose/satellite_37.289999_-121.738364.jpg\n",
      "Saved predicted segmentation to: /content/SanJose/satellite_37.289999_-121.738364.jpg\n",
      "Inferencing on: /content/House_price/satellite_images/SanJose/satellite_37.29471_-121.974269.jpg\n",
      "Saved predicted segmentation to: /content/SanJose/satellite_37.29471_-121.974269.jpg\n",
      "Inferencing on: /content/House_price/satellite_images/SanJose/satellite_37.274954_-121.847849.jpg\n",
      "Saved predicted segmentation to: /content/SanJose/satellite_37.274954_-121.847849.jpg\n",
      "Inferencing on: /content/House_price/satellite_images/SanJose/satellite_37.317056_-121.803063.jpg\n"
     ]
    },
    {
     "output_type": "stream",
     "name": "stderr",
     "text": [
      "Processing Images:  93%|█████████▎| 2640/2837 [01:17<00:05, 34.07image/s]"
     ]
    },
    {
     "output_type": "stream",
     "name": "stdout",
     "text": [
      "Saved predicted segmentation to: /content/SanJose/satellite_37.317056_-121.803063.jpg\n",
      "Inferencing on: /content/House_price/satellite_images/SanJose/satellite_37.421439_-121.861926.jpg\n",
      "Saved predicted segmentation to: /content/SanJose/satellite_37.421439_-121.861926.jpg\n",
      "Inferencing on: /content/House_price/satellite_images/SanJose/satellite_37.276754_-121.893529.jpg\n",
      "Saved predicted segmentation to: /content/SanJose/satellite_37.276754_-121.893529.jpg\n",
      "Inferencing on: /content/House_price/satellite_images/SanJose/satellite_37.379259_-121.796898.jpg\n",
      "Saved predicted segmentation to: /content/SanJose/satellite_37.379259_-121.796898.jpg\n",
      "Inferencing on: /content/House_price/satellite_images/SanJose/satellite_37.24687_-121.937017.jpg\n",
      "Saved predicted segmentation to: /content/SanJose/satellite_37.24687_-121.937017.jpg\n",
      "Inferencing on: /content/House_price/satellite_images/SanJose/satellite_37.295369_-122.023432.jpg\n",
      "Saved predicted segmentation to: /content/SanJose/satellite_37.295369_-122.023432.jpg\n",
      "Inferencing on: /content/House_price/satellite_images/SanJose/satellite_37.299502_-121.806631.jpg\n",
      "Saved predicted segmentation to: /content/SanJose/satellite_37.299502_-121.806631.jpg\n",
      "Inferencing on: /content/House_price/satellite_images/SanJose/satellite_37.32045_-121.955084.jpg\n"
     ]
    },
    {
     "output_type": "stream",
     "name": "stderr",
     "text": [
      "Processing Images:  93%|█████████▎| 2648/2837 [01:17<00:05, 34.17image/s]"
     ]
    },
    {
     "output_type": "stream",
     "name": "stdout",
     "text": [
      "Saved predicted segmentation to: /content/SanJose/satellite_37.32045_-121.955084.jpg\n",
      "Inferencing on: /content/House_price/satellite_images/SanJose/satellite_37.371256_-121.81206.jpg\n",
      "Saved predicted segmentation to: /content/SanJose/satellite_37.371256_-121.81206.jpg\n",
      "Inferencing on: /content/House_price/satellite_images/SanJose/satellite_37.319466_-121.981782.jpg\n",
      "Saved predicted segmentation to: /content/SanJose/satellite_37.319466_-121.981782.jpg\n",
      "Inferencing on: /content/House_price/satellite_images/SanJose/satellite_37.253638_-121.849352.jpg\n",
      "Saved predicted segmentation to: /content/SanJose/satellite_37.253638_-121.849352.jpg\n",
      "Inferencing on: /content/House_price/satellite_images/SanJose/satellite_37.395576_-121.860801.jpg\n",
      "Saved predicted segmentation to: /content/SanJose/satellite_37.395576_-121.860801.jpg\n",
      "Inferencing on: /content/House_price/satellite_images/SanJose/satellite_37.249589_-121.898721.jpg\n",
      "Saved predicted segmentation to: /content/SanJose/satellite_37.249589_-121.898721.jpg\n",
      "Inferencing on: /content/House_price/satellite_images/SanJose/satellite_37.270729_-121.863623.jpg\n",
      "Saved predicted segmentation to: /content/SanJose/satellite_37.270729_-121.863623.jpg\n",
      "Inferencing on: /content/House_price/satellite_images/SanJose/satellite_37.29576_-121.891495.jpg\n"
     ]
    },
    {
     "output_type": "stream",
     "name": "stderr",
     "text": [
      "Processing Images:  94%|█████████▎| 2656/2837 [01:17<00:05, 33.66image/s]"
     ]
    },
    {
     "output_type": "stream",
     "name": "stdout",
     "text": [
      "Saved predicted segmentation to: /content/SanJose/satellite_37.29576_-121.891495.jpg\n",
      "Inferencing on: /content/House_price/satellite_images/SanJose/satellite_37.302915_-121.919488.jpg\n",
      "Saved predicted segmentation to: /content/SanJose/satellite_37.302915_-121.919488.jpg\n",
      "Inferencing on: /content/House_price/satellite_images/SanJose/satellite_37.273091_-121.772774.jpg\n",
      "Saved predicted segmentation to: /content/SanJose/satellite_37.273091_-121.772774.jpg\n",
      "Inferencing on: /content/House_price/satellite_images/SanJose/satellite_37.330887_-121.822253.jpg\n",
      "Saved predicted segmentation to: /content/SanJose/satellite_37.330887_-121.822253.jpg\n",
      "Inferencing on: /content/House_price/satellite_images/SanJose/satellite_37.341325_-121.89677.jpg\n",
      "Saved predicted segmentation to: /content/SanJose/satellite_37.341325_-121.89677.jpg\n",
      "Inferencing on: /content/House_price/satellite_images/SanJose/satellite_37.306835_-121.797349.jpg\n",
      "Saved predicted segmentation to: /content/SanJose/satellite_37.306835_-121.797349.jpg\n",
      "Inferencing on: /content/House_price/satellite_images/SanJose/satellite_37.240783_-121.840818.jpg\n",
      "Saved predicted segmentation to: /content/SanJose/satellite_37.240783_-121.840818.jpg\n",
      "Inferencing on: /content/House_price/satellite_images/SanJose/satellite_37.279007_-121.875081.jpg\n"
     ]
    },
    {
     "output_type": "stream",
     "name": "stderr",
     "text": [
      "\rProcessing Images:  94%|█████████▍| 2660/2837 [01:18<00:05, 33.78image/s]"
     ]
    },
    {
     "output_type": "stream",
     "name": "stdout",
     "text": [
      "Saved predicted segmentation to: /content/SanJose/satellite_37.279007_-121.875081.jpg\n",
      "Inferencing on: /content/House_price/satellite_images/SanJose/satellite_37.236582_-121.822387.jpg\n",
      "Saved predicted segmentation to: /content/SanJose/satellite_37.236582_-121.822387.jpg\n",
      "Inferencing on: /content/House_price/satellite_images/SanJose/satellite_37.2615_-121.91669.jpg\n",
      "Saved predicted segmentation to: /content/SanJose/satellite_37.2615_-121.91669.jpg\n",
      "Inferencing on: /content/House_price/satellite_images/SanJose/satellite_37.324803_-121.933817.jpg\n",
      "Saved predicted segmentation to: /content/SanJose/satellite_37.324803_-121.933817.jpg\n",
      "Inferencing on: /content/House_price/satellite_images/SanJose/satellite_37.407342_-121.84559.jpg\n",
      "Saved predicted segmentation to: /content/SanJose/satellite_37.407342_-121.84559.jpg\n",
      "Inferencing on: /content/House_price/satellite_images/SanJose/satellite_37.347044_-121.842701.jpg\n",
      "Saved predicted segmentation to: /content/SanJose/satellite_37.347044_-121.842701.jpg\n",
      "Inferencing on: /content/House_price/satellite_images/SanJose/satellite_37.295671_-121.958921.jpg\n",
      "Saved predicted segmentation to: /content/SanJose/satellite_37.295671_-121.958921.jpg\n",
      "Inferencing on: /content/House_price/satellite_images/SanJose/satellite_37.287914_-121.760325.jpg\n"
     ]
    },
    {
     "output_type": "stream",
     "name": "stderr",
     "text": [
      "Processing Images:  94%|█████████▍| 2668/2837 [01:18<00:05, 33.34image/s]"
     ]
    },
    {
     "output_type": "stream",
     "name": "stdout",
     "text": [
      "Saved predicted segmentation to: /content/SanJose/satellite_37.287914_-121.760325.jpg\n",
      "Inferencing on: /content/House_price/satellite_images/SanJose/satellite_37.294879_-121.752655.jpg\n",
      "Saved predicted segmentation to: /content/SanJose/satellite_37.294879_-121.752655.jpg\n",
      "Inferencing on: /content/House_price/satellite_images/SanJose/satellite_37.313577_-121.899842.jpg\n",
      "Saved predicted segmentation to: /content/SanJose/satellite_37.313577_-121.899842.jpg\n",
      "Inferencing on: /content/House_price/satellite_images/SanJose/satellite_37.24729_-121.854717.jpg\n",
      "Saved predicted segmentation to: /content/SanJose/satellite_37.24729_-121.854717.jpg\n",
      "Inferencing on: /content/House_price/satellite_images/SanJose/satellite_37.311143_-121.985614.jpg\n",
      "Saved predicted segmentation to: /content/SanJose/satellite_37.311143_-121.985614.jpg\n",
      "Inferencing on: /content/House_price/satellite_images/SanJose/satellite_37.258607_-121.885563.jpg\n",
      "Saved predicted segmentation to: /content/SanJose/satellite_37.258607_-121.885563.jpg\n",
      "Inferencing on: /content/House_price/satellite_images/SanJose/satellite_37.312709_-121.78075.jpg\n",
      "Saved predicted segmentation to: /content/SanJose/satellite_37.312709_-121.78075.jpg\n",
      "Inferencing on: /content/House_price/satellite_images/SanJose/satellite_37.264241_-121.848864.jpg\n"
     ]
    },
    {
     "output_type": "stream",
     "name": "stderr",
     "text": [
      "Processing Images:  94%|█████████▍| 2676/2837 [01:18<00:04, 33.58image/s]"
     ]
    },
    {
     "output_type": "stream",
     "name": "stdout",
     "text": [
      "Saved predicted segmentation to: /content/SanJose/satellite_37.264241_-121.848864.jpg\n",
      "Inferencing on: /content/House_price/satellite_images/SanJose/satellite_37.232785_-121.90524.jpg\n",
      "Saved predicted segmentation to: /content/SanJose/satellite_37.232785_-121.90524.jpg\n",
      "Inferencing on: /content/House_price/satellite_images/SanJose/satellite_37.319294_-121.766616.jpg\n",
      "Saved predicted segmentation to: /content/SanJose/satellite_37.319294_-121.766616.jpg\n",
      "Inferencing on: /content/House_price/satellite_images/SanJose/satellite_37.301488_-121.879986.jpg\n",
      "Saved predicted segmentation to: /content/SanJose/satellite_37.301488_-121.879986.jpg\n",
      "Inferencing on: /content/House_price/satellite_images/SanJose/satellite_37.264347_-121.860497.jpg\n",
      "Saved predicted segmentation to: /content/SanJose/satellite_37.264347_-121.860497.jpg\n",
      "Inferencing on: /content/House_price/satellite_images/SanJose/satellite_37.309528_-121.871056.jpg\n",
      "Saved predicted segmentation to: /content/SanJose/satellite_37.309528_-121.871056.jpg\n",
      "Inferencing on: /content/House_price/satellite_images/SanJose/satellite_37.270266_-121.841909.jpg\n",
      "Saved predicted segmentation to: /content/SanJose/satellite_37.270266_-121.841909.jpg\n",
      "Inferencing on: /content/House_price/satellite_images/SanJose/satellite_37.189994_-121.819815.jpg\n"
     ]
    },
    {
     "output_type": "stream",
     "name": "stderr",
     "text": [
      "Processing Images:  95%|█████████▍| 2684/2837 [01:18<00:04, 33.97image/s]"
     ]
    },
    {
     "output_type": "stream",
     "name": "stdout",
     "text": [
      "Saved predicted segmentation to: /content/SanJose/satellite_37.189994_-121.819815.jpg\n",
      "Inferencing on: /content/House_price/satellite_images/SanJose/satellite_37.284504_-121.856826.jpg\n",
      "Saved predicted segmentation to: /content/SanJose/satellite_37.284504_-121.856826.jpg\n",
      "Inferencing on: /content/House_price/satellite_images/SanJose/satellite_37.240553_-121.908609.jpg\n",
      "Saved predicted segmentation to: /content/SanJose/satellite_37.240553_-121.908609.jpg\n",
      "Inferencing on: /content/House_price/satellite_images/SanJose/satellite_37.306579_-121.924479.jpg\n",
      "Saved predicted segmentation to: /content/SanJose/satellite_37.306579_-121.924479.jpg\n",
      "Inferencing on: /content/House_price/satellite_images/SanJose/satellite_37.342247_-121.891831.jpg\n",
      "Saved predicted segmentation to: /content/SanJose/satellite_37.342247_-121.891831.jpg\n",
      "Inferencing on: /content/House_price/satellite_images/SanJose/satellite_37.293515_-121.74565.jpg\n",
      "Saved predicted segmentation to: /content/SanJose/satellite_37.293515_-121.74565.jpg\n",
      "Inferencing on: /content/House_price/satellite_images/SanJose/satellite_37.349148_-121.882976.jpg\n",
      "Saved predicted segmentation to: /content/SanJose/satellite_37.349148_-121.882976.jpg\n",
      "Inferencing on: /content/House_price/satellite_images/SanJose/satellite_37.243702_-121.833045.jpg\n"
     ]
    },
    {
     "output_type": "stream",
     "name": "stderr",
     "text": [
      "\rProcessing Images:  95%|█████████▍| 2688/2837 [01:18<00:04, 33.82image/s]"
     ]
    },
    {
     "output_type": "stream",
     "name": "stdout",
     "text": [
      "Saved predicted segmentation to: /content/SanJose/satellite_37.243702_-121.833045.jpg\n",
      "Inferencing on: /content/House_price/satellite_images/SanJose/satellite_37.253327_-121.835025.jpg\n",
      "Saved predicted segmentation to: /content/SanJose/satellite_37.253327_-121.835025.jpg\n",
      "Inferencing on: /content/House_price/satellite_images/SanJose/satellite_37.262361_-121.795225.jpg\n",
      "Saved predicted segmentation to: /content/SanJose/satellite_37.262361_-121.795225.jpg\n",
      "Inferencing on: /content/House_price/satellite_images/SanJose/satellite_37.416943_-121.94368.jpg\n",
      "Saved predicted segmentation to: /content/SanJose/satellite_37.416943_-121.94368.jpg\n",
      "Inferencing on: /content/House_price/satellite_images/SanJose/satellite_37.403243_-121.844418.jpg\n",
      "Saved predicted segmentation to: /content/SanJose/satellite_37.403243_-121.844418.jpg\n",
      "Inferencing on: /content/House_price/satellite_images/SanJose/satellite_37.230502_-121.819604.jpg\n",
      "Saved predicted segmentation to: /content/SanJose/satellite_37.230502_-121.819604.jpg\n",
      "Inferencing on: /content/House_price/satellite_images/SanJose/satellite_37.316215_-121.788239.jpg\n",
      "Saved predicted segmentation to: /content/SanJose/satellite_37.316215_-121.788239.jpg\n",
      "Inferencing on: /content/House_price/satellite_images/SanJose/satellite_37.331747_-121.802749.jpg\n"
     ]
    },
    {
     "output_type": "stream",
     "name": "stderr",
     "text": [
      "Processing Images:  95%|█████████▌| 2696/2837 [01:19<00:04, 33.65image/s]"
     ]
    },
    {
     "output_type": "stream",
     "name": "stdout",
     "text": [
      "Saved predicted segmentation to: /content/SanJose/satellite_37.331747_-121.802749.jpg\n",
      "Inferencing on: /content/House_price/satellite_images/SanJose/satellite_37.301676_-121.898511.jpg\n",
      "Saved predicted segmentation to: /content/SanJose/satellite_37.301676_-121.898511.jpg\n",
      "Inferencing on: /content/House_price/satellite_images/SanJose/satellite_37.271504_-121.907656.jpg\n",
      "Saved predicted segmentation to: /content/SanJose/satellite_37.271504_-121.907656.jpg\n",
      "Inferencing on: /content/House_price/satellite_images/SanJose/satellite_37.346904_-121.879973.jpg\n",
      "Saved predicted segmentation to: /content/SanJose/satellite_37.346904_-121.879973.jpg\n",
      "Inferencing on: /content/House_price/satellite_images/SanJose/satellite_37.39612_-121.852355.jpg\n",
      "Saved predicted segmentation to: /content/SanJose/satellite_37.39612_-121.852355.jpg\n",
      "Inferencing on: /content/House_price/satellite_images/SanJose/satellite_37.24148_-121.789155.jpg\n",
      "Saved predicted segmentation to: /content/SanJose/satellite_37.24148_-121.789155.jpg\n",
      "Inferencing on: /content/House_price/satellite_images/SanJose/satellite_37.313577_-121.881932.jpg\n",
      "Saved predicted segmentation to: /content/SanJose/satellite_37.313577_-121.881932.jpg\n",
      "Inferencing on: /content/House_price/satellite_images/SanJose/satellite_37.264819_-121.747924.jpg\n"
     ]
    },
    {
     "output_type": "stream",
     "name": "stderr",
     "text": [
      "Processing Images:  95%|█████████▌| 2704/2837 [01:19<00:03, 33.85image/s]"
     ]
    },
    {
     "output_type": "stream",
     "name": "stdout",
     "text": [
      "Saved predicted segmentation to: /content/SanJose/satellite_37.264819_-121.747924.jpg\n",
      "Inferencing on: /content/House_price/satellite_images/SanJose/satellite_37.358179_-121.816629.jpg\n",
      "Saved predicted segmentation to: /content/SanJose/satellite_37.358179_-121.816629.jpg\n",
      "Inferencing on: /content/House_price/satellite_images/SanJose/satellite_37.2548_-121.842316.jpg\n",
      "Saved predicted segmentation to: /content/SanJose/satellite_37.2548_-121.842316.jpg\n",
      "Inferencing on: /content/House_price/satellite_images/SanJose/satellite_37.250961_-121.942525.jpg\n",
      "Saved predicted segmentation to: /content/SanJose/satellite_37.250961_-121.942525.jpg\n",
      "Inferencing on: /content/House_price/satellite_images/SanJose/satellite_37.29124_-121.747391.jpg\n",
      "Saved predicted segmentation to: /content/SanJose/satellite_37.29124_-121.747391.jpg\n",
      "Inferencing on: /content/House_price/satellite_images/SanJose/satellite_37.372569_-121.818534.jpg\n",
      "Saved predicted segmentation to: /content/SanJose/satellite_37.372569_-121.818534.jpg\n",
      "Inferencing on: /content/House_price/satellite_images/SanJose/satellite_37.264229_-121.814572.jpg\n",
      "Saved predicted segmentation to: /content/SanJose/satellite_37.264229_-121.814572.jpg\n",
      "Inferencing on: /content/House_price/satellite_images/SanJose/satellite_37.232618_-121.817802.jpg\n"
     ]
    },
    {
     "output_type": "stream",
     "name": "stderr",
     "text": [
      "Processing Images:  96%|█████████▌| 2712/2837 [01:19<00:03, 33.99image/s]"
     ]
    },
    {
     "output_type": "stream",
     "name": "stdout",
     "text": [
      "Saved predicted segmentation to: /content/SanJose/satellite_37.232618_-121.817802.jpg\n",
      "Inferencing on: /content/House_price/satellite_images/SanJose/satellite_37.325056_-121.794274.jpg\n",
      "Saved predicted segmentation to: /content/SanJose/satellite_37.325056_-121.794274.jpg\n",
      "Inferencing on: /content/House_price/satellite_images/SanJose/satellite_37.362951_-121.845791.jpg\n",
      "Saved predicted segmentation to: /content/SanJose/satellite_37.362951_-121.845791.jpg\n",
      "Inferencing on: /content/House_price/satellite_images/SanJose/satellite_37.239278_-121.868481.jpg\n",
      "Saved predicted segmentation to: /content/SanJose/satellite_37.239278_-121.868481.jpg\n",
      "Inferencing on: /content/House_price/satellite_images/SanJose/satellite_37.223306_-121.86766.jpg\n",
      "Saved predicted segmentation to: /content/SanJose/satellite_37.223306_-121.86766.jpg\n",
      "Inferencing on: /content/House_price/satellite_images/SanJose/satellite_37.277874_-121.846715.jpg\n",
      "Saved predicted segmentation to: /content/SanJose/satellite_37.277874_-121.846715.jpg\n",
      "Inferencing on: /content/House_price/satellite_images/SanJose/satellite_37.307575_-121.815552.jpg\n",
      "Saved predicted segmentation to: /content/SanJose/satellite_37.307575_-121.815552.jpg\n",
      "Inferencing on: /content/House_price/satellite_images/SanJose/satellite_37.391939_-121.859866.jpg\n"
     ]
    },
    {
     "output_type": "stream",
     "name": "stderr",
     "text": [
      "\rProcessing Images:  96%|█████████▌| 2716/2837 [01:19<00:03, 33.70image/s]"
     ]
    },
    {
     "output_type": "stream",
     "name": "stdout",
     "text": [
      "Saved predicted segmentation to: /content/SanJose/satellite_37.391939_-121.859866.jpg\n",
      "Inferencing on: /content/House_price/satellite_images/SanJose/satellite_37.256505_-121.927248.jpg\n",
      "Saved predicted segmentation to: /content/SanJose/satellite_37.256505_-121.927248.jpg\n",
      "Inferencing on: /content/House_price/satellite_images/SanJose/satellite_37.288057_-121.891345.jpg\n",
      "Saved predicted segmentation to: /content/SanJose/satellite_37.288057_-121.891345.jpg\n",
      "Inferencing on: /content/House_price/satellite_images/SanJose/satellite_37.325448_-121.924124.jpg\n",
      "Saved predicted segmentation to: /content/SanJose/satellite_37.325448_-121.924124.jpg\n",
      "Inferencing on: /content/House_price/satellite_images/SanJose/satellite_37.255733_-121.829923.jpg\n",
      "Saved predicted segmentation to: /content/SanJose/satellite_37.255733_-121.829923.jpg\n",
      "Inferencing on: /content/House_price/satellite_images/SanJose/satellite_37.373966_-121.851357.jpg\n",
      "Saved predicted segmentation to: /content/SanJose/satellite_37.373966_-121.851357.jpg\n",
      "Inferencing on: /content/House_price/satellite_images/SanJose/satellite_37.256008_-121.814355.jpg\n",
      "Saved predicted segmentation to: /content/SanJose/satellite_37.256008_-121.814355.jpg\n",
      "Inferencing on: /content/House_price/satellite_images/SanJose/satellite_37.274025_-121.840134.jpg\n"
     ]
    },
    {
     "output_type": "stream",
     "name": "stderr",
     "text": [
      "Processing Images:  96%|█████████▌| 2724/2837 [01:19<00:03, 33.32image/s]"
     ]
    },
    {
     "output_type": "stream",
     "name": "stdout",
     "text": [
      "Saved predicted segmentation to: /content/SanJose/satellite_37.274025_-121.840134.jpg\n",
      "Inferencing on: /content/House_price/satellite_images/SanJose/satellite_37.240707_-121.785912.jpg\n",
      "Saved predicted segmentation to: /content/SanJose/satellite_37.240707_-121.785912.jpg\n",
      "Inferencing on: /content/House_price/satellite_images/SanJose/satellite_37.294227_-121.880006.jpg\n",
      "Saved predicted segmentation to: /content/SanJose/satellite_37.294227_-121.880006.jpg\n",
      "Inferencing on: /content/House_price/satellite_images/SanJose/satellite_37.291322_-121.906726.jpg\n",
      "Saved predicted segmentation to: /content/SanJose/satellite_37.291322_-121.906726.jpg\n",
      "Inferencing on: /content/House_price/satellite_images/SanJose/satellite_37.337723_-121.860051.jpg\n",
      "Saved predicted segmentation to: /content/SanJose/satellite_37.337723_-121.860051.jpg\n",
      "Inferencing on: /content/House_price/satellite_images/SanJose/satellite_37.330048_-121.869978.jpg\n",
      "Saved predicted segmentation to: /content/SanJose/satellite_37.330048_-121.869978.jpg\n",
      "Inferencing on: /content/House_price/satellite_images/SanJose/satellite_37.250355_-121.79663.jpg\n",
      "Saved predicted segmentation to: /content/SanJose/satellite_37.250355_-121.79663.jpg\n",
      "Inferencing on: /content/House_price/satellite_images/SanJose/satellite_37.240766_-121.785551.jpg\n"
     ]
    },
    {
     "output_type": "stream",
     "name": "stderr",
     "text": [
      "Processing Images:  96%|█████████▋| 2732/2837 [01:20<00:03, 33.70image/s]"
     ]
    },
    {
     "output_type": "stream",
     "name": "stdout",
     "text": [
      "Saved predicted segmentation to: /content/SanJose/satellite_37.240766_-121.785551.jpg\n",
      "Inferencing on: /content/House_price/satellite_images/SanJose/satellite_37.357149_-121.854186.jpg\n",
      "Saved predicted segmentation to: /content/SanJose/satellite_37.357149_-121.854186.jpg\n",
      "Inferencing on: /content/House_price/satellite_images/SanJose/satellite_37.258693_-121.806692.jpg\n",
      "Saved predicted segmentation to: /content/SanJose/satellite_37.258693_-121.806692.jpg\n",
      "Inferencing on: /content/House_price/satellite_images/SanJose/satellite_37.366828_-121.865293.jpg\n",
      "Saved predicted segmentation to: /content/SanJose/satellite_37.366828_-121.865293.jpg\n",
      "Inferencing on: /content/House_price/satellite_images/SanJose/satellite_37.340277_-121.931305.jpg\n",
      "Saved predicted segmentation to: /content/SanJose/satellite_37.340277_-121.931305.jpg\n",
      "Inferencing on: /content/House_price/satellite_images/SanJose/satellite_37.236966_-121.820607.jpg\n",
      "Saved predicted segmentation to: /content/SanJose/satellite_37.236966_-121.820607.jpg\n",
      "Inferencing on: /content/House_price/satellite_images/SanJose/satellite_37.26457_-121.927358.jpg\n",
      "Saved predicted segmentation to: /content/SanJose/satellite_37.26457_-121.927358.jpg\n",
      "Inferencing on: /content/House_price/satellite_images/SanJose/satellite_37.313521_-121.956182.jpg\n"
     ]
    },
    {
     "output_type": "stream",
     "name": "stderr",
     "text": [
      "Processing Images:  97%|█████████▋| 2740/2837 [01:20<00:02, 33.16image/s]"
     ]
    },
    {
     "output_type": "stream",
     "name": "stdout",
     "text": [
      "Saved predicted segmentation to: /content/SanJose/satellite_37.313521_-121.956182.jpg\n",
      "Inferencing on: /content/House_price/satellite_images/SanJose/satellite_37.280724_-121.988516.jpg\n",
      "Saved predicted segmentation to: /content/SanJose/satellite_37.280724_-121.988516.jpg\n",
      "Inferencing on: /content/House_price/satellite_images/SanJose/satellite_37.362045_-121.800708.jpg\n",
      "Saved predicted segmentation to: /content/SanJose/satellite_37.362045_-121.800708.jpg\n",
      "Inferencing on: /content/House_price/satellite_images/SanJose/satellite_37.349028_-121.884911.jpg\n",
      "Saved predicted segmentation to: /content/SanJose/satellite_37.349028_-121.884911.jpg\n",
      "Inferencing on: /content/House_price/satellite_images/SanJose/satellite_37.312221_-121.756867.jpg\n",
      "Saved predicted segmentation to: /content/SanJose/satellite_37.312221_-121.756867.jpg\n",
      "Inferencing on: /content/House_price/satellite_images/SanJose/satellite_37.287756_-121.760946.jpg\n",
      "Saved predicted segmentation to: /content/SanJose/satellite_37.287756_-121.760946.jpg\n",
      "Inferencing on: /content/House_price/satellite_images/SanJose/satellite_37.290889_-121.855599.jpg\n",
      "Saved predicted segmentation to: /content/SanJose/satellite_37.290889_-121.855599.jpg\n",
      "Inferencing on: /content/House_price/satellite_images/SanJose/satellite_37.37229_-121.882.jpg\n"
     ]
    },
    {
     "output_type": "stream",
     "name": "stderr",
     "text": [
      "\rProcessing Images:  97%|█████████▋| 2744/2837 [01:20<00:02, 33.06image/s]"
     ]
    },
    {
     "output_type": "stream",
     "name": "stdout",
     "text": [
      "Saved predicted segmentation to: /content/SanJose/satellite_37.37229_-121.882.jpg\n",
      "Inferencing on: /content/House_price/satellite_images/SanJose/satellite_37.333885_-121.885774.jpg\n",
      "Saved predicted segmentation to: /content/SanJose/satellite_37.333885_-121.885774.jpg\n",
      "Inferencing on: /content/House_price/satellite_images/SanJose/satellite_37.407475_-121.883209.jpg\n",
      "Saved predicted segmentation to: /content/SanJose/satellite_37.407475_-121.883209.jpg\n",
      "Inferencing on: /content/House_price/satellite_images/SanJose/satellite_37.308698_-121.798808.jpg\n",
      "Saved predicted segmentation to: /content/SanJose/satellite_37.308698_-121.798808.jpg\n",
      "Inferencing on: /content/House_price/satellite_images/SanJose/satellite_37.291124_-121.741228.jpg\n",
      "Saved predicted segmentation to: /content/SanJose/satellite_37.291124_-121.741228.jpg\n",
      "Inferencing on: /content/House_price/satellite_images/SanJose/satellite_37.260048_-121.81527.jpg\n",
      "Saved predicted segmentation to: /content/SanJose/satellite_37.260048_-121.81527.jpg\n",
      "Inferencing on: /content/House_price/satellite_images/SanJose/satellite_37.271603_-121.897865.jpg\n",
      "Saved predicted segmentation to: /content/SanJose/satellite_37.271603_-121.897865.jpg\n",
      "Inferencing on: /content/House_price/satellite_images/SanJose/satellite_37.362188_-121.829422.jpg\n"
     ]
    },
    {
     "output_type": "stream",
     "name": "stderr",
     "text": [
      "Processing Images:  97%|█████████▋| 2752/2837 [01:20<00:02, 33.02image/s]"
     ]
    },
    {
     "output_type": "stream",
     "name": "stdout",
     "text": [
      "Saved predicted segmentation to: /content/SanJose/satellite_37.362188_-121.829422.jpg\n",
      "Inferencing on: /content/House_price/satellite_images/SanJose/satellite_37.318782_-121.966505.jpg\n",
      "Saved predicted segmentation to: /content/SanJose/satellite_37.318782_-121.966505.jpg\n",
      "Inferencing on: /content/House_price/satellite_images/SanJose/satellite_37.302709_-121.884044.jpg\n",
      "Saved predicted segmentation to: /content/SanJose/satellite_37.302709_-121.884044.jpg\n",
      "Inferencing on: /content/House_price/satellite_images/SanJose/satellite_37.28812_-121.831449.jpg\n",
      "Saved predicted segmentation to: /content/SanJose/satellite_37.28812_-121.831449.jpg\n",
      "Inferencing on: /content/House_price/satellite_images/SanJose/satellite_37.269643_-121.91487.jpg\n",
      "Saved predicted segmentation to: /content/SanJose/satellite_37.269643_-121.91487.jpg\n",
      "Inferencing on: /content/House_price/satellite_images/SanJose/satellite_37.31274_-121.95598.jpg\n",
      "Saved predicted segmentation to: /content/SanJose/satellite_37.31274_-121.95598.jpg\n",
      "Inferencing on: /content/House_price/satellite_images/SanJose/satellite_37.387379_-121.881349.jpg\n",
      "Saved predicted segmentation to: /content/SanJose/satellite_37.387379_-121.881349.jpg\n",
      "Inferencing on: /content/House_price/satellite_images/SanJose/satellite_37.273526_-121.859286.jpg\n"
     ]
    },
    {
     "output_type": "stream",
     "name": "stderr",
     "text": [
      "Processing Images:  97%|█████████▋| 2760/2837 [01:21<00:02, 32.51image/s]"
     ]
    },
    {
     "output_type": "stream",
     "name": "stdout",
     "text": [
      "Saved predicted segmentation to: /content/SanJose/satellite_37.273526_-121.859286.jpg\n",
      "Inferencing on: /content/House_price/satellite_images/SanJose/satellite_37.277298_-121.807022.jpg\n",
      "Saved predicted segmentation to: /content/SanJose/satellite_37.277298_-121.807022.jpg\n",
      "Inferencing on: /content/House_price/satellite_images/SanJose/satellite_37.372307_-121.846748.jpg\n",
      "Saved predicted segmentation to: /content/SanJose/satellite_37.372307_-121.846748.jpg\n",
      "Inferencing on: /content/House_price/satellite_images/SanJose/satellite_37.251174_-121.919252.jpg\n",
      "Saved predicted segmentation to: /content/SanJose/satellite_37.251174_-121.919252.jpg\n",
      "Inferencing on: /content/House_price/satellite_images/SanJose/satellite_37.324917_-121.87143.jpg\n",
      "Saved predicted segmentation to: /content/SanJose/satellite_37.324917_-121.87143.jpg\n",
      "Inferencing on: /content/House_price/satellite_images/SanJose/satellite_37.37783_-121.804682.jpg\n",
      "Saved predicted segmentation to: /content/SanJose/satellite_37.37783_-121.804682.jpg\n",
      "Inferencing on: /content/House_price/satellite_images/SanJose/satellite_37.238426_-121.768738.jpg\n",
      "Saved predicted segmentation to: /content/SanJose/satellite_37.238426_-121.768738.jpg\n",
      "Inferencing on: /content/House_price/satellite_images/SanJose/satellite_37.285112_-121.853364.jpg\n"
     ]
    },
    {
     "output_type": "stream",
     "name": "stderr",
     "text": [
      "Processing Images:  98%|█████████▊| 2768/2837 [01:21<00:02, 32.81image/s]"
     ]
    },
    {
     "output_type": "stream",
     "name": "stdout",
     "text": [
      "Saved predicted segmentation to: /content/SanJose/satellite_37.285112_-121.853364.jpg\n",
      "Inferencing on: /content/House_price/satellite_images/SanJose/satellite_37.296535_-121.93576.jpg\n",
      "Saved predicted segmentation to: /content/SanJose/satellite_37.296535_-121.93576.jpg\n",
      "Inferencing on: /content/House_price/satellite_images/SanJose/satellite_37.25644_-121.90019.jpg\n",
      "Saved predicted segmentation to: /content/SanJose/satellite_37.25644_-121.90019.jpg\n",
      "Inferencing on: /content/House_price/satellite_images/SanJose/satellite_37.244032_-121.893954.jpg\n",
      "Saved predicted segmentation to: /content/SanJose/satellite_37.244032_-121.893954.jpg\n",
      "Inferencing on: /content/House_price/satellite_images/SanJose/satellite_37.367141_-121.807063.jpg\n",
      "Saved predicted segmentation to: /content/SanJose/satellite_37.367141_-121.807063.jpg\n",
      "Inferencing on: /content/House_price/satellite_images/SanJose/satellite_37.332356_-121.94483.jpg\n",
      "Saved predicted segmentation to: /content/SanJose/satellite_37.332356_-121.94483.jpg\n",
      "Inferencing on: /content/House_price/satellite_images/SanJose/satellite_37.36499_-121.814102.jpg\n",
      "Saved predicted segmentation to: /content/SanJose/satellite_37.36499_-121.814102.jpg\n",
      "Inferencing on: /content/House_price/satellite_images/SanJose/satellite_37.374527_-121.8918.jpg\n"
     ]
    },
    {
     "output_type": "stream",
     "name": "stderr",
     "text": [
      "\rProcessing Images:  98%|█████████▊| 2772/2837 [01:21<00:01, 32.95image/s]"
     ]
    },
    {
     "output_type": "stream",
     "name": "stdout",
     "text": [
      "Saved predicted segmentation to: /content/SanJose/satellite_37.374527_-121.8918.jpg\n",
      "Inferencing on: /content/House_price/satellite_images/SanJose/satellite_37.403672_-121.839151.jpg\n",
      "Saved predicted segmentation to: /content/SanJose/satellite_37.403672_-121.839151.jpg\n",
      "Inferencing on: /content/House_price/satellite_images/SanJose/satellite_37.305106_-121.844088.jpg\n",
      "Saved predicted segmentation to: /content/SanJose/satellite_37.305106_-121.844088.jpg\n",
      "Inferencing on: /content/House_price/satellite_images/SanJose/satellite_37.370565_-121.837529.jpg\n",
      "Saved predicted segmentation to: /content/SanJose/satellite_37.370565_-121.837529.jpg\n",
      "Inferencing on: /content/House_price/satellite_images/SanJose/satellite_37.329478_-121.906138.jpg\n",
      "Saved predicted segmentation to: /content/SanJose/satellite_37.329478_-121.906138.jpg\n",
      "Inferencing on: /content/House_price/satellite_images/SanJose/satellite_37.358503_-121.834751.jpg\n",
      "Saved predicted segmentation to: /content/SanJose/satellite_37.358503_-121.834751.jpg\n",
      "Inferencing on: /content/House_price/satellite_images/SanJose/satellite_37.371647_-121.802125.jpg\n",
      "Saved predicted segmentation to: /content/SanJose/satellite_37.371647_-121.802125.jpg\n",
      "Inferencing on: /content/House_price/satellite_images/SanJose/satellite_37.348186_-121.890642.jpg\n"
     ]
    },
    {
     "output_type": "stream",
     "name": "stderr",
     "text": [
      "Processing Images:  98%|█████████▊| 2780/2837 [01:21<00:01, 32.36image/s]"
     ]
    },
    {
     "output_type": "stream",
     "name": "stdout",
     "text": [
      "Saved predicted segmentation to: /content/SanJose/satellite_37.348186_-121.890642.jpg\n",
      "Inferencing on: /content/House_price/satellite_images/SanJose/satellite_37.384981_-121.859713.jpg\n",
      "Saved predicted segmentation to: /content/SanJose/satellite_37.384981_-121.859713.jpg\n",
      "Inferencing on: /content/House_price/satellite_images/SanJose/satellite_37.249152_-121.852352.jpg\n",
      "Saved predicted segmentation to: /content/SanJose/satellite_37.249152_-121.852352.jpg\n",
      "Inferencing on: /content/House_price/satellite_images/SanJose/satellite_37.263258_-121.808891.jpg\n",
      "Saved predicted segmentation to: /content/SanJose/satellite_37.263258_-121.808891.jpg\n",
      "Inferencing on: /content/House_price/satellite_images/SanJose/satellite_37.35071_-121.79832.jpg\n",
      "Saved predicted segmentation to: /content/SanJose/satellite_37.35071_-121.79832.jpg\n",
      "Inferencing on: /content/House_price/satellite_images/SanJose/satellite_37.234233_-121.867427.jpg\n",
      "Saved predicted segmentation to: /content/SanJose/satellite_37.234233_-121.867427.jpg\n",
      "Inferencing on: /content/House_price/satellite_images/SanJose/satellite_37.322121_-121.791323.jpg\n",
      "Saved predicted segmentation to: /content/SanJose/satellite_37.322121_-121.791323.jpg\n",
      "Inferencing on: /content/House_price/satellite_images/SanJose/satellite_37.326567_-121.879785.jpg\n"
     ]
    },
    {
     "output_type": "stream",
     "name": "stderr",
     "text": [
      "Processing Images:  98%|█████████▊| 2788/2837 [01:21<00:01, 32.95image/s]"
     ]
    },
    {
     "output_type": "stream",
     "name": "stdout",
     "text": [
      "Saved predicted segmentation to: /content/SanJose/satellite_37.326567_-121.879785.jpg\n",
      "Inferencing on: /content/House_price/satellite_images/SanJose/satellite_37.371039_-121.882744.jpg\n",
      "Saved predicted segmentation to: /content/SanJose/satellite_37.371039_-121.882744.jpg\n",
      "Inferencing on: /content/House_price/satellite_images/SanJose/satellite_37.284665_-121.856792.jpg\n",
      "Saved predicted segmentation to: /content/SanJose/satellite_37.284665_-121.856792.jpg\n",
      "Inferencing on: /content/House_price/satellite_images/SanJose/satellite_37.381458_-121.839335.jpg\n",
      "Saved predicted segmentation to: /content/SanJose/satellite_37.381458_-121.839335.jpg\n",
      "Inferencing on: /content/House_price/satellite_images/SanJose/satellite_37.259972_-121.937926.jpg\n",
      "Saved predicted segmentation to: /content/SanJose/satellite_37.259972_-121.937926.jpg\n",
      "Inferencing on: /content/House_price/satellite_images/SanJose/satellite_37.300971_-121.929672.jpg\n",
      "Saved predicted segmentation to: /content/SanJose/satellite_37.300971_-121.929672.jpg\n",
      "Inferencing on: /content/House_price/satellite_images/SanJose/satellite_37.31717_-121.894564.jpg\n",
      "Saved predicted segmentation to: /content/SanJose/satellite_37.31717_-121.894564.jpg\n",
      "Inferencing on: /content/House_price/satellite_images/SanJose/satellite_37.298729_-121.934547.jpg\n"
     ]
    },
    {
     "output_type": "stream",
     "name": "stderr",
     "text": [
      "Processing Images:  99%|█████████▊| 2796/2837 [01:22<00:01, 32.94image/s]"
     ]
    },
    {
     "output_type": "stream",
     "name": "stdout",
     "text": [
      "Saved predicted segmentation to: /content/SanJose/satellite_37.298729_-121.934547.jpg\n",
      "Inferencing on: /content/House_price/satellite_images/SanJose/satellite_37.232032_-121.882667.jpg\n",
      "Saved predicted segmentation to: /content/SanJose/satellite_37.232032_-121.882667.jpg\n",
      "Inferencing on: /content/House_price/satellite_images/SanJose/satellite_37.38425_-121.85885.jpg\n",
      "Saved predicted segmentation to: /content/SanJose/satellite_37.38425_-121.85885.jpg\n",
      "Inferencing on: /content/House_price/satellite_images/SanJose/satellite_37.388907_-121.837212.jpg\n",
      "Saved predicted segmentation to: /content/SanJose/satellite_37.388907_-121.837212.jpg\n",
      "Inferencing on: /content/House_price/satellite_images/SanJose/satellite_37.23136_-121.889679.jpg\n",
      "Saved predicted segmentation to: /content/SanJose/satellite_37.23136_-121.889679.jpg\n",
      "Inferencing on: /content/House_price/satellite_images/SanJose/satellite_37.238936_-121.797791.jpg\n",
      "Saved predicted segmentation to: /content/SanJose/satellite_37.238936_-121.797791.jpg\n",
      "Inferencing on: /content/House_price/satellite_images/SanJose/satellite_37.336252_-121.927536.jpg\n",
      "Saved predicted segmentation to: /content/SanJose/satellite_37.336252_-121.927536.jpg\n",
      "Inferencing on: /content/House_price/satellite_images/SanJose/satellite_37.300185_-121.776357.jpg\n"
     ]
    },
    {
     "output_type": "stream",
     "name": "stderr",
     "text": [
      "\rProcessing Images:  99%|█████████▊| 2800/2837 [01:22<00:01, 33.07image/s]"
     ]
    },
    {
     "output_type": "stream",
     "name": "stdout",
     "text": [
      "Saved predicted segmentation to: /content/SanJose/satellite_37.300185_-121.776357.jpg\n",
      "Inferencing on: /content/House_price/satellite_images/SanJose/satellite_37.416689_-121.960969.jpg\n",
      "Saved predicted segmentation to: /content/SanJose/satellite_37.416689_-121.960969.jpg\n",
      "Inferencing on: /content/House_price/satellite_images/SanJose/satellite_37.291714_-121.917846.jpg\n",
      "Saved predicted segmentation to: /content/SanJose/satellite_37.291714_-121.917846.jpg\n",
      "Inferencing on: /content/House_price/satellite_images/SanJose/satellite_37.347091_-121.87954.jpg\n",
      "Saved predicted segmentation to: /content/SanJose/satellite_37.347091_-121.87954.jpg\n",
      "Inferencing on: /content/House_price/satellite_images/SanJose/satellite_37.273091_-121.837114.jpg\n",
      "Saved predicted segmentation to: /content/SanJose/satellite_37.273091_-121.837114.jpg\n",
      "Inferencing on: /content/House_price/satellite_images/SanJose/satellite_37.372104_-121.878748.jpg\n",
      "Saved predicted segmentation to: /content/SanJose/satellite_37.372104_-121.878748.jpg\n",
      "Inferencing on: /content/House_price/satellite_images/SanJose/satellite_37.273531_-121.841086.jpg\n",
      "Saved predicted segmentation to: /content/SanJose/satellite_37.273531_-121.841086.jpg\n",
      "Inferencing on: /content/House_price/satellite_images/SanJose/satellite_37.249823_-121.789398.jpg\n"
     ]
    },
    {
     "output_type": "stream",
     "name": "stderr",
     "text": [
      "Processing Images:  99%|█████████▉| 2808/2837 [01:22<00:00, 33.38image/s]"
     ]
    },
    {
     "output_type": "stream",
     "name": "stdout",
     "text": [
      "Saved predicted segmentation to: /content/SanJose/satellite_37.249823_-121.789398.jpg\n",
      "Inferencing on: /content/House_price/satellite_images/SanJose/satellite_37.285335_-121.856325.jpg\n",
      "Saved predicted segmentation to: /content/SanJose/satellite_37.285335_-121.856325.jpg\n",
      "Inferencing on: /content/House_price/satellite_images/SanJose/satellite_37.302202_-121.83918.jpg\n",
      "Saved predicted segmentation to: /content/SanJose/satellite_37.302202_-121.83918.jpg\n",
      "Inferencing on: /content/House_price/satellite_images/SanJose/satellite_37.307679_-121.803452.jpg\n",
      "Saved predicted segmentation to: /content/SanJose/satellite_37.307679_-121.803452.jpg\n",
      "Inferencing on: /content/House_price/satellite_images/SanJose/satellite_37.391662_-121.814779.jpg\n",
      "Saved predicted segmentation to: /content/SanJose/satellite_37.391662_-121.814779.jpg\n",
      "Inferencing on: /content/House_price/satellite_images/SanJose/satellite_37.333878_-121.872322.jpg\n",
      "Saved predicted segmentation to: /content/SanJose/satellite_37.333878_-121.872322.jpg\n",
      "Inferencing on: /content/House_price/satellite_images/SanJose/satellite_37.301509_-121.880106.jpg\n",
      "Saved predicted segmentation to: /content/SanJose/satellite_37.301509_-121.880106.jpg\n",
      "Inferencing on: /content/House_price/satellite_images/SanJose/satellite_37.360744_-121.890802.jpg\n"
     ]
    },
    {
     "output_type": "stream",
     "name": "stderr",
     "text": [
      "Processing Images:  99%|█████████▉| 2816/2837 [01:22<00:00, 33.63image/s]"
     ]
    },
    {
     "output_type": "stream",
     "name": "stdout",
     "text": [
      "Saved predicted segmentation to: /content/SanJose/satellite_37.360744_-121.890802.jpg\n",
      "Inferencing on: /content/House_price/satellite_images/SanJose/satellite_37.22522_-121.90216.jpg\n",
      "Saved predicted segmentation to: /content/SanJose/satellite_37.22522_-121.90216.jpg\n",
      "Inferencing on: /content/House_price/satellite_images/SanJose/satellite_37.231716_-121.839658.jpg\n",
      "Saved predicted segmentation to: /content/SanJose/satellite_37.231716_-121.839658.jpg\n",
      "Inferencing on: /content/House_price/satellite_images/SanJose/satellite_37.274469_-121.841074.jpg\n",
      "Saved predicted segmentation to: /content/SanJose/satellite_37.274469_-121.841074.jpg\n",
      "Inferencing on: /content/House_price/satellite_images/SanJose/satellite_37.304177_-122.019862.jpg\n",
      "Saved predicted segmentation to: /content/SanJose/satellite_37.304177_-122.019862.jpg\n",
      "Inferencing on: /content/House_price/satellite_images/SanJose/satellite_37.228631_-121.797042.jpg\n",
      "Saved predicted segmentation to: /content/SanJose/satellite_37.228631_-121.797042.jpg\n",
      "Inferencing on: /content/House_price/satellite_images/SanJose/satellite_37.28278_-121.990735.jpg\n",
      "Saved predicted segmentation to: /content/SanJose/satellite_37.28278_-121.990735.jpg\n",
      "Inferencing on: /content/House_price/satellite_images/SanJose/satellite_37.314503_-121.902522.jpg\n"
     ]
    },
    {
     "output_type": "stream",
     "name": "stderr",
     "text": [
      "Processing Images: 100%|█████████▉| 2824/2837 [01:22<00:00, 33.34image/s]"
     ]
    },
    {
     "output_type": "stream",
     "name": "stdout",
     "text": [
      "Saved predicted segmentation to: /content/SanJose/satellite_37.314503_-121.902522.jpg\n",
      "Inferencing on: /content/House_price/satellite_images/SanJose/satellite_37.342457_-121.83875.jpg\n",
      "Saved predicted segmentation to: /content/SanJose/satellite_37.342457_-121.83875.jpg\n",
      "Inferencing on: /content/House_price/satellite_images/SanJose/satellite_37.271414_-121.847668.jpg\n",
      "Saved predicted segmentation to: /content/SanJose/satellite_37.271414_-121.847668.jpg\n",
      "Inferencing on: /content/House_price/satellite_images/SanJose/satellite_37.262844_-121.828906.jpg\n",
      "Saved predicted segmentation to: /content/SanJose/satellite_37.262844_-121.828906.jpg\n",
      "Inferencing on: /content/House_price/satellite_images/SanJose/satellite_37.314677_-121.794686.jpg\n",
      "Saved predicted segmentation to: /content/SanJose/satellite_37.314677_-121.794686.jpg\n",
      "Inferencing on: /content/House_price/satellite_images/SanJose/satellite_37.31632_-121.891636.jpg\n",
      "Saved predicted segmentation to: /content/SanJose/satellite_37.31632_-121.891636.jpg\n",
      "Inferencing on: /content/House_price/satellite_images/SanJose/satellite_37.255163_-121.89093.jpg\n",
      "Saved predicted segmentation to: /content/SanJose/satellite_37.255163_-121.89093.jpg\n",
      "Inferencing on: /content/House_price/satellite_images/SanJose/satellite_37.316975_-121.983489.jpg\n"
     ]
    },
    {
     "output_type": "stream",
     "name": "stderr",
     "text": [
      "\rProcessing Images: 100%|█████████▉| 2828/2837 [01:23<00:00, 33.39image/s]"
     ]
    },
    {
     "output_type": "stream",
     "name": "stdout",
     "text": [
      "Saved predicted segmentation to: /content/SanJose/satellite_37.316975_-121.983489.jpg\n",
      "Inferencing on: /content/House_price/satellite_images/SanJose/satellite_37.259998_-121.851277.jpg\n",
      "Saved predicted segmentation to: /content/SanJose/satellite_37.259998_-121.851277.jpg\n",
      "Inferencing on: /content/House_price/satellite_images/SanJose/satellite_37.194261_-121.829916.jpg\n",
      "Saved predicted segmentation to: /content/SanJose/satellite_37.194261_-121.829916.jpg\n",
      "Inferencing on: /content/House_price/satellite_images/SanJose/satellite_37.293567_-121.883408.jpg\n",
      "Saved predicted segmentation to: /content/SanJose/satellite_37.293567_-121.883408.jpg\n",
      "Inferencing on: /content/House_price/satellite_images/SanJose/satellite_37.38761_-121.878024.jpg\n",
      "Saved predicted segmentation to: /content/SanJose/satellite_37.38761_-121.878024.jpg\n",
      "Inferencing on: /content/House_price/satellite_images/SanJose/satellite_37.255536_-121.841821.jpg\n",
      "Saved predicted segmentation to: /content/SanJose/satellite_37.255536_-121.841821.jpg\n",
      "Inferencing on: /content/House_price/satellite_images/SanJose/satellite_37.218175_-121.761797.jpg\n",
      "Saved predicted segmentation to: /content/SanJose/satellite_37.218175_-121.761797.jpg\n",
      "Inferencing on: /content/House_price/satellite_images/SanJose/satellite_37.264321_-121.796397.jpg\n"
     ]
    },
    {
     "output_type": "stream",
     "name": "stderr",
     "text": [
      "Processing Images: 100%|██████████| 2837/2837 [01:23<00:00, 34.05image/s]"
     ]
    },
    {
     "output_type": "stream",
     "name": "stdout",
     "text": [
      "Saved predicted segmentation to: /content/SanJose/satellite_37.264321_-121.796397.jpg\n",
      "Inferencing on: /content/House_price/satellite_images/SanJose/satellite_37.350554_-121.80087.jpg\n",
      "Saved predicted segmentation to: /content/SanJose/satellite_37.350554_-121.80087.jpg\n",
      "Inferencing on: /content/House_price/satellite_images/SanJose/satellite_37.276373_-121.808562.jpg\n",
      "Saved predicted segmentation to: /content/SanJose/satellite_37.276373_-121.808562.jpg\n",
      "Inferencing on: /content/House_price/satellite_images/SanJose/satellite_37.322058_-121.814459.jpg\n",
      "Saved predicted segmentation to: /content/SanJose/satellite_37.322058_-121.814459.jpg\n",
      "Inferencing on: /content/House_price/satellite_images/SanJose/satellite_37.415863_-121.863665.jpg\n",
      "Saved predicted segmentation to: /content/SanJose/satellite_37.415863_-121.863665.jpg\n",
      "Inferencing on: /content/House_price/satellite_images/SanJose/satellite_37.258794_-121.806536.jpg\n",
      "Saved predicted segmentation to: /content/SanJose/satellite_37.258794_-121.806536.jpg\n"
     ]
    },
    {
     "output_type": "stream",
     "name": "stderr",
     "text": [
      "\n"
     ]
    }
   ]
  },
  {
   "cell_type": "code",
   "source": [
    "!git clone https://huggingface.co/datasets/Zongrong/House_price"
   ],
   "metadata": {
    "colab": {
     "base_uri": "https://localhost:8080/"
    },
    "id": "1orW9R9al22w",
    "executionInfo": {
     "status": "ok",
     "timestamp": 1736989713811,
     "user_tz": 480,
     "elapsed": 1057755,
     "user": {
      "displayName": "Zongrong Li",
      "userId": "01886082322528664220"
     }
    },
    "outputId": "5eb09f6f-33e3-44c6-94c5-02da05711322"
   },
   "execution_count": 9,
   "outputs": [
    {
     "output_type": "stream",
     "name": "stdout",
     "text": [
      "Cloning into 'House_price'...\n",
      "remote: Enumerating objects: 29510, done.\u001B[K\n",
      "remote: Counting objects: 100% (29507/29507), done.\u001B[K\n",
      "remote: Compressing objects: 100% (29500/29500), done.\u001B[K\n",
      "remote: Total 29510 (delta 20), reused 29482 (delta 5), pack-reused 3 (from 1)\u001B[K\n",
      "Receiving objects: 100% (29510/29510), 4.77 MiB | 7.12 MiB/s, done.\n",
      "Resolving deltas: 100% (20/20), done.\n",
      "Updating files: 100% (29468/29468), done.\n",
      "Filtering content: 100% (29460/29460), 2.67 GiB | 2.61 MiB/s, done.\n"
     ]
    }
   ]
  },
  {
   "cell_type": "code",
   "source": [
    "import os\n",
    "import zipfile\n",
    "\n",
    "def zip_folder(folder_path, output_zip_path):\n",
    "    \"\"\"\n",
    "    Compress a folder into a .zip file.\n",
    "\n",
    "    :param folder_path: Path to the folder to be compressed.\n",
    "    :param output_zip_path: Path where the .zip file will be saved.\n",
    "    \"\"\"\n",
    "    # Create a ZipFile object in write mode\n",
    "    with zipfile.ZipFile(output_zip_path, 'w', zipfile.ZIP_DEFLATED) as zipf:\n",
    "        for root, dirs, files in os.walk(folder_path):\n",
    "            for file in files:\n",
    "                # Get the full path of the file\n",
    "                file_path = os.path.join(root, file)\n",
    "                # Get the relative path to avoid storing absolute paths in the zip\n",
    "                arcname = os.path.relpath(file_path, folder_path)\n",
    "                # Add the file to the zip\n",
    "                zipf.write(file_path, arcname)\n",
    "\n",
    "# Example usage\n",
    "folder_to_zip = \"./SanJose\"  # Replace with the folder you want to zip\n",
    "output_zip_file = \"SanJose.zip\"  # Replace with the desired output .zip file name\n",
    "\n",
    "zip_folder(folder_to_zip, output_zip_file)\n",
    "\n",
    "print(f\"Folder '{folder_to_zip}' has been compressed into '{output_zip_file}'.\")\n"
   ],
   "metadata": {
    "colab": {
     "base_uri": "https://localhost:8080/"
    },
    "id": "OogTa0VRqwvC",
    "executionInfo": {
     "status": "ok",
     "timestamp": 1736990622124,
     "user_tz": 480,
     "elapsed": 6514,
     "user": {
      "displayName": "Zongrong Li",
      "userId": "01886082322528664220"
     }
    },
    "outputId": "b086224b-7617-4e38-b08d-2beb05bfe81f"
   },
   "execution_count": 27,
   "outputs": [
    {
     "output_type": "stream",
     "name": "stdout",
     "text": [
      "Folder '/content/SanJose' has been compressed into 'SanJose.zip'.\n"
     ]
    }
   ]
  }
 ]
}
